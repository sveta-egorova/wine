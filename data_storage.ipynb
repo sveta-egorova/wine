{
 "cells": [
  {
   "cell_type": "markdown",
   "metadata": {},
   "source": [
    "### Writing data to SQL database"
   ]
  },
  {
   "cell_type": "markdown",
   "metadata": {},
   "source": [
    "Initially, it was considered to use SQLite in order to store data within a local file, however, to achieve up-to-date state of the database for both team members, it was decided to move the database to MariaDB on Amazon AWS. "
   ]
  },
  {
   "cell_type": "code",
   "execution_count": 1,
   "metadata": {},
   "outputs": [],
   "source": [
    "# Using SQLite within Jupyter notebooks - option 1\n",
    "\n",
    "# %%capture\n",
    "# %load_ext sql\n",
    "# %sql sqlite:///vivino.db\n",
    "# %sql SELECT * FROM wine"
   ]
  },
  {
   "cell_type": "code",
   "execution_count": 2,
   "metadata": {},
   "outputs": [
    {
     "name": "stdout",
     "output_type": "stream",
     "text": [
      "[(1105374, 'Alandra Tinto', 'alandra-tinto', 1, 0, 0, 1395, 3155, 3.1399224, None, 3.7395344, 1.8591489, 2.9908836, 540, 184, 2, 'Normal', 18112, 3.2, 128391, 51, 1), (1706071, 'Alentejano Monte das Ânforas Tinto', 'alentejano-monte-das-anforas-tinto', 1, 0, 0, 1394, 4107, 3.0573564, None, 3.7483184, 1.799455, 2.8970287, 171, 38, 2, 'Normal', 5176, 3.4, 30372, 38, 1), (4269600, 'Vinea Tinto', 'vinea-tinto', 1, 0, 0, 1394, 10992, 3.0659487, None, 3.2864575, 2.008701, 2.8928797, 435, 31, 2, 'Normal', 5827, 3.3, 37482, 39, 1), (1200770, 'Lisboa Tinto', 'lisboa-tinto', 1, 0, 0, 834, 26708, 3.042016, None, 3.4385235, 1.8823165, 2.7859948, 69, 59, 210, 'Normal', 2153, 3.4, 11457, 34, 1), (4269602, 'Vinea Branco', 'vinea-branco', 2, 0, 0, 1394, 10992, 2.8494768, None, 2.7141547, 1.6764449, None, 68, 9, 211, 'Normal', 1186, 3.3, 6375, 25, 1)]\n"
     ]
    }
   ],
   "source": [
    "# Using SQLite within Jupyter notebooks - option 2\n",
    "\n",
    "import sqlite3\n",
    "conn = sqlite3.connect('vivino.db')\n",
    "test_query = 'SELECT * FROM wine LIMIT 5'\n",
    "print(conn.execute(test_query).fetchall())\n",
    "conn.close()"
   ]
  },
  {
   "cell_type": "code",
   "execution_count": 47,
   "metadata": {},
   "outputs": [],
   "source": [
    "import mariadb"
   ]
  },
  {
   "cell_type": "code",
   "execution_count": 48,
   "metadata": {},
   "outputs": [],
   "source": [
    "import sys\n",
    "sys.path.append('..')\n",
    "import settings"
   ]
  },
  {
   "cell_type": "code",
   "execution_count": 49,
   "metadata": {},
   "outputs": [],
   "source": [
    "def connect_to_vivino_db():\n",
    "    \"\"\"\n",
    "    connect to vivino db and return a connection instance\n",
    "    \"\"\"\n",
    "    try:\n",
    "        conn =  mariadb.connect(\n",
    "                user=\"admin\",\n",
    "                password=settings.db_pass,\n",
    "                host=settings.db_url,\n",
    "                port=3306,\n",
    "                database=\"vivino\")\n",
    "    except mariadb.Error as e:\n",
    "        print(f\"Error connecting to MariaDB Platform: {e}\")\n",
    "        sys.exit(1)\n",
    "    return conn"
   ]
  },
  {
   "cell_type": "code",
   "execution_count": 50,
   "metadata": {},
   "outputs": [],
   "source": [
    "conn = connect_to_vivino_db()"
   ]
  },
  {
   "cell_type": "markdown",
   "metadata": {},
   "source": [
    "Database schema was created separately based on the data structure, and looks as follows: \n",
    "\n",
    "![](vivino-schema.png)"
   ]
  },
  {
   "cell_type": "markdown",
   "metadata": {},
   "source": [
    "Insertion to the database should be done in the following order (in order to avoid problems with foreign keys):\n",
    "* wine type\n",
    "* winery\n",
    "* country\n",
    "* region\n",
    "* style\n",
    "* food\n",
    "* facts\n",
    "* style_food\n",
    "* grape\n",
    "* style_grape\n",
    "* grape_country\n",
    "* wine\n",
    "* price\n",
    "* vintage\n",
    "* toplist\n",
    "* vintage_toplist\n",
    "* keyword - **not loaded yet**\n",
    "* wine_keyword - **not loaded yet**\n",
    "* wine_flavor_group - **not loaded yet**"
   ]
  },
  {
   "cell_type": "markdown",
   "metadata": {},
   "source": [
    "Once the database schema and the name of the columns is fixed, we can run functions that insert data to each table by extracting information from JSON file. \n",
    "\n",
    "Since we need only specific data from JSON, we need to specify the path to such data for each column in each table. For convenience, such path will be formed using a forward slash (for example, `vintage/wine/region/name`). \n",
    "\n",
    "The function extracts data found at a given path inside a given record (making one step of the path at a time), and returns the resulting value. If any of the path steps is missing for a given record, it returns the value at the latest step available. "
   ]
  },
  {
   "cell_type": "markdown",
   "metadata": {},
   "source": [
    "In order to generate the path, here is the full list of columns in the dataframe which mimics the structure of JSON:\n",
    "\n",
    "['vintage_grapes', 'vintage_has_valid_ratings', 'vintage_id',\n",
    "       'vintage_image', 'vintage_name', 'vintage_seo_name',\n",
    "       'vintage_statistics', 'vintage_wine', 'vintage_year',\n",
    "       'vintage_top_list_rankings', 'status', 'ratings_count',\n",
    "       'ratings_average', 'labels_count', 'id', 'name', 'seo_name', 'type_id',\n",
    "       'vintage_type', 'is_natural', 'has_valid_ratings', 'region.id',\n",
    "       'region.name', 'region.name_en', 'region.seo_name',\n",
    "       'region.country.code', 'region.country.name',\n",
    "       'region.country.native_name', 'region.country.seo_name',\n",
    "       'region.country.currency.code', 'region.country.currency.name',\n",
    "       'region.country.currency.prefix', 'region.country.currency.suffix',\n",
    "       'region.country.regions_count', 'region.country.users_count',\n",
    "       'region.country.wines_count', 'region.country.wineries_count',\n",
    "       'region.country.most_used_grapes', 'region.background_image.location',\n",
    "       'region.background_image.variations.large',\n",
    "       'region.background_image.variations.medium', 'winery.id', 'winery.name',\n",
    "       'winery.seo_name', 'winery.status', 'taste.structure.acidity',\n",
    "       'taste.structure.fizziness', 'taste.structure.intensity',\n",
    "       'taste.structure.sweetness', 'taste.structure.tannin', \n",
    "       'taste.structure.user_structure_count',\n",
    "       'taste.structure.calculated_structure_count', 'taste.flavor',\n",
    "       'statistics.status', 'statistics.ratings_count',\n",
    "       'statistics.ratings_average', 'statistics.labels_count',\n",
    "       'statistics.vintages_count', 'style.id', 'style.seo_name',\n",
    "       'style.regional_name', 'style.varietal_name', 'style.name',\n",
    "       'style.image', 'style.background_image.location',\n",
    "       'style.background_image.variations.small', 'style.description',\n",
    "       'style.blurb', 'style.interesting_facts', 'style.body',\n",
    "       'style.body_description', 'style.acidity', 'style.acidity_description',\n",
    "       'style.country.code', 'style.country.name', 'style.country.native_name',\n",
    "       'style.country.seo_name', 'style.country.currency.code',\n",
    "       'style.country.currency.name', 'style.country.currency.prefix',\n",
    "       'style.country.currency.suffix', 'style.country.regions_count',\n",
    "       'style.country.users_count', 'style.country.wines_count',\n",
    "       'style.country.wineries_count', 'style.country.most_used_grapes',\n",
    "       'style.wine_type_id', 'style.food', 'style.grapes', 'style.region',\n",
    "       'style.region.id', 'style.region.name', 'style.region.name_en',\n",
    "       'style.region.seo_name', 'style.region.country.code',\n",
    "       'style.region.country.name', 'style.region.country.native_name',\n",
    "       'style.region.country.seo_name', 'style.region.country.currency.code',\n",
    "       'style.region.country.currency.name',\n",
    "       'style.region.country.currency.prefix',\n",
    "       'style.region.country.currency.suffix',\n",
    "       'style.region.country.regions_count',\n",
    "       'style.region.country.users_count', 'style.region.country.wines_count',\n",
    "       'style.region.country.wineries_count',\n",
    "       'style.region.country.most_used_grapes',\n",
    "       'style.region.background_image.location',\n",
    "       'style.region.background_image.variations.large',\n",
    "       'style.region.background_image.variations.medium', 'region', 'winery',\n",
    "       'style', 'taste.structure', 'region.background_image',\n",
    "       'style.background_image', 'style.region.background_image']\n"
   ]
  },
  {
   "cell_type": "code",
   "execution_count": 236,
   "metadata": {},
   "outputs": [],
   "source": [
    "def get_value(match_entry, path0):\n",
    "    \"\"\"\n",
    "    Function that returns a value found at a given path inside a given JSON record \n",
    "    \"\"\"\n",
    "    if path0 is None:\n",
    "        current_el = match_entry\n",
    "    else:\n",
    "        path = path0.split('/')\n",
    "        current_el = match_entry\n",
    "        for p in path:\n",
    "            if current_el is None:\n",
    "                break\n",
    "            current_el = current_el.get(p)\n",
    "    return current_el"
   ]
  },
  {
   "cell_type": "code",
   "execution_count": 237,
   "metadata": {},
   "outputs": [
    {
     "data": {
      "text/plain": [
       "55819"
      ]
     },
     "execution_count": 237,
     "metadata": {},
     "output_type": "execute_result"
    }
   ],
   "source": [
    "# load data from a backup file\n",
    "\n",
    "import pickle\n",
    "\n",
    "with open(f\"backup_data/full_match_list\", 'rb') as f:\n",
    "    recovered_data = pickle.load(f)\n",
    "    \n",
    "def remove_wine_duplicates(json_data):\n",
    "    distinct_dict = {entry['vintage']['id']: entry for entry in json_data}\n",
    "    recovered_data_distinct = distinct_dict.values()\n",
    "    return list(recovered_data_distinct)\n",
    "\n",
    "recovered_data_distinct = remove_wine_duplicates(recovered_data)\n",
    "len(recovered_data_distinct)"
   ]
  },
  {
   "cell_type": "code",
   "execution_count": 238,
   "metadata": {},
   "outputs": [],
   "source": [
    "# entry = (5, 7)\n",
    "# print(len(entry))\n",
    "# [entry[0]] + [entry[1] for i in range(3)]"
   ]
  },
  {
   "cell_type": "code",
   "execution_count": 239,
   "metadata": {},
   "outputs": [],
   "source": [
    "# insert data to sql\n",
    "import time\n",
    "\n",
    "def extract_json_to_sql(conn, matches_list, table_name, paths, pk_sql=[], first_entry=True, from_json_list_with_id = False):\n",
    "    \"\"\"\n",
    "    Function that accepts the folowing arguments:\n",
    "    * conn: active connection to a database\n",
    "    * matches list: JSON list with data, \n",
    "    * table_name: name of SQL table to include data,  \n",
    "    * paths: the paths leading to data in JSON corresponding to each column in SQL table,\n",
    "    * pk_sql: the names of primary key columns in SQL (to check for uniqueness condition),\n",
    "    * first_entry: boolean indicating whether it's the first time data is written to the table\n",
    "    \n",
    "    Function inserts data and (for the first entry) checks whether the resulting number of unique records in SQL\n",
    "    matches the number of unique records in JSON.\n",
    "    \n",
    "    \"\"\"\n",
    "    cur = conn.cursor()\n",
    "\n",
    "    timepoint_1 = time.time()\n",
    "\n",
    "    all_args = {}\n",
    "\n",
    "    for entry in matches_list:\n",
    "        if from_json_list_with_id:\n",
    "            # if data is passed from json list, entry contains a tuple (id, relevant_data), which need to be flattened in a single arg list\n",
    "            values_entry = [entry[0]] + [int_to_float(get_value(entry[1], path)) for path in paths]\n",
    "            if paths == []:\n",
    "                for record in entry[1:]: \n",
    "                    all_args[(entry[0], record)] = (entry[0], record)\n",
    "        else:\n",
    "            values_entry = [int_to_float(get_value(entry, path)) for path in paths]\n",
    "        pk_values = values_entry[:len(pk_sql)]\n",
    "#         if entry == matches_list[0]:\n",
    "#             print(entry)\n",
    "#             print(values_entry)\n",
    "#             print(pk_values)\n",
    "            \n",
    "        if all(pk_value is not None for pk_value in pk_values) and paths != []:\n",
    "            all_args[tuple(pk_values)] = tuple(values_entry)\n",
    "\n",
    "#     print(all_args)\n",
    "            \n",
    "    if len(pk_sql) == 0:\n",
    "        if_duplicates_do_nothing = \"\"\n",
    "    if len(pk_sql) == 1:\n",
    "        if_duplicates_do_nothing = f\" ON DUPLICATE KEY UPDATE {pk_sql[0]} = {pk_sql[0]}\"\n",
    "    if len(pk_sql) == 2:\n",
    "        if_duplicates_do_nothing = f\" ON DUPLICATE KEY UPDATE {pk_sql[0]} = {pk_sql[0]}, {pk_sql[1]} = {pk_sql[1]}\"\n",
    "\n",
    "    fields_num = len(paths)\n",
    "    if from_json_list_with_id and paths != []:\n",
    "        fields_num += 1\n",
    "    elif paths == []:\n",
    "        fields_num = 2\n",
    "    \n",
    "    query = f\"\"\"\n",
    "        INSERT INTO {table_name} VALUES ({', '.join('?' * fields_num)})\n",
    "        {if_duplicates_do_nothing};\n",
    "    \"\"\".strip()\n",
    "    cur.executemany(query, list(all_args.values()))\n",
    "    conn.commit()\n",
    "\n",
    "    timepoint_2 = time.time()\n",
    "    print('Insertion complete and took {} s.'.format(timepoint_2 - timepoint_1))\n",
    "\n",
    "    if first_entry:\n",
    "        cur = conn.cursor()\n",
    "        cur.execute('SELECT COUNT(*) FROM {};'.format(table_name))\n",
    "        unique_sql = cur.fetchall()[0][0]\n",
    "        unique_python = len(list(all_args.values()))\n",
    "        if unique_python == unique_sql:\n",
    "            print('Number of unique records is accurate')\n",
    "        else:\n",
    "            print('Something went wrong')"
   ]
  },
  {
   "cell_type": "code",
   "execution_count": 240,
   "metadata": {},
   "outputs": [],
   "source": [
    "def extract_json_list_to_sql(conn, matches_list, table_name, path_to_list, paths_from_list, path_to_id_outside_list=\"\", \\\n",
    "                             pk_sql=[], first_entry=True):\n",
    "    \"\"\"\n",
    "    converts list stored inside json to a normal list\n",
    "    \"\"\"\n",
    "    results = [] \n",
    "    for entry in matches_list:\n",
    "        if get_value(entry, path_to_list) is not None:\n",
    "            for element in get_value(entry, path_to_list):\n",
    "                if path_to_id_outside_list == \"\":\n",
    "                    results.append(element)\n",
    "                else:\n",
    "                    results.append((get_value(entry, path_to_id_outside_list), element))\n",
    "    if path_to_id_outside_list == \"\":\n",
    "        from_json_list_with_id = False\n",
    "    else: \n",
    "        from_json_list_with_id = True\n",
    "    extract_json_to_sql(conn, results, table_name, paths_from_list, pk_sql, first_entry, from_json_list_with_id)"
   ]
  },
  {
   "cell_type": "code",
   "execution_count": 241,
   "metadata": {},
   "outputs": [],
   "source": [
    "def clean_sql_table(conn, table_name):\n",
    "    \"\"\"\n",
    "    delete all records from a given table in a given database\n",
    "    \"\"\"\n",
    "    cur = conn.cursor()\n",
    "    cur.execute(f'DELETE FROM {table_name}')"
   ]
  },
  {
   "cell_type": "code",
   "execution_count": 242,
   "metadata": {},
   "outputs": [],
   "source": [
    "def count_unique_records_sql(conn, table_name):\n",
    "    \"\"\"\n",
    "    checks the number of unique records in a given table\n",
    "    \"\"\"\n",
    "    cur = conn.cursor()\n",
    "    cur.execute(f\"SELECT COUNT(*) FROM {table_name};\")\n",
    "    print(cur.fetchall()[0][0])"
   ]
  },
  {
   "cell_type": "code",
   "execution_count": 243,
   "metadata": {},
   "outputs": [],
   "source": [
    "def int_to_float(smth):\n",
    "    \"\"\"\n",
    "    converts integers to floats\n",
    "    \"\"\"\n",
    "    if isinstance(smth, int):\n",
    "        return float(smth)\n",
    "    elif smth == 'N.V.':\n",
    "        return 0.0    # meaning, wine is of type 'non-vintage' and is made of grapes from more than one harvest\n",
    "    else:\n",
    "        return smth"
   ]
  },
  {
   "cell_type": "markdown",
   "metadata": {},
   "source": [
    "Before writing into MariaDB we need to make sure that the data is cleaned."
   ]
  },
  {
   "cell_type": "code",
   "execution_count": 244,
   "metadata": {},
   "outputs": [],
   "source": [
    "# tables = ['wine_flavor_group', 'wine_keyword', 'keyword', 'vintage_toplist', 'toplist', 'vintage', 'wine', 'grape_country', 'style_grape', \\\n",
    "#           'style_food', 'grape', 'food', 'facts', 'style', 'region', 'country', 'price', 'winery', 'type']\n",
    "\n",
    "# conn = connect_to_vivino_db()\n",
    "# for table in tables: \n",
    "#     clean_sql_table(conn, table)\n",
    "#     print(f\"{table} cleaned\")"
   ]
  },
  {
   "cell_type": "markdown",
   "metadata": {},
   "source": [
    "Make sure correct encoding (since MariaDB may reject certain text values which take 4 bytes)"
   ]
  },
  {
   "cell_type": "code",
   "execution_count": 246,
   "metadata": {},
   "outputs": [],
   "source": [
    "conn = connect_to_vivino_db()\n",
    "try:\n",
    "    conn.cursor().execute(\"ALTER DATABASE vivino CHARACTER SET = utf8mb4 COLLATE = utf8mb4_unicode_ci;\")\n",
    "finally:\n",
    "    conn.close()"
   ]
  },
  {
   "cell_type": "code",
   "execution_count": 248,
   "metadata": {},
   "outputs": [
    {
     "name": "stdout",
     "output_type": "stream",
     "text": [
      "enconding of table wine_flavor_group converted\n",
      "enconding of table wine_keyword converted\n",
      "enconding of table keyword converted\n",
      "enconding of table vintage_toplist converted\n",
      "enconding of table toplist converted\n",
      "enconding of table vintage converted\n",
      "enconding of table wine converted\n",
      "enconding of table style_grape converted\n",
      "enconding of table style_food converted\n",
      "enconding of table grape converted\n",
      "enconding of table food converted\n",
      "enconding of table facts converted\n",
      "enconding of table price converted\n",
      "enconding of table winery converted\n",
      "enconding of table type converted\n",
      "enconding of table country converted\n",
      "enconding of table style converted\n",
      "enconding of table region converted\n",
      "enconding of table country_grape converted\n"
     ]
    }
   ],
   "source": [
    "tables = ['wine_flavor_group', 'wine_keyword', 'keyword', 'vintage_toplist', 'toplist', 'vintage', 'wine', 'style_grape', \\\n",
    "          'style_food', 'grape', 'food', 'facts', 'price', 'winery', 'type', 'country', 'style', 'region', 'country_grape']\n",
    "\n",
    "conn = connect_to_vivino_db()\n",
    "cur = conn.cursor()\n",
    "\n",
    "try:\n",
    "    for table in tables:\n",
    "        cur.execute(f\"ALTER TABLE {table} CONVERT TO CHARACTER SET utf8mb4 COLLATE utf8mb4_unicode_ci;\")\n",
    "        print(f\"enconding of table {table} converted\")\n",
    "finally: \n",
    "    conn.close()"
   ]
  },
  {
   "cell_type": "markdown",
   "metadata": {},
   "source": [
    "#### Insert wine types"
   ]
  },
  {
   "cell_type": "code",
   "execution_count": 249,
   "metadata": {},
   "outputs": [],
   "source": [
    "def insert_to_wine_types(conn, table_name='type'):\n",
    "    \"\"\"\n",
    "    manually inserts all wine types to SQL table\n",
    "    \"\"\"\n",
    "    cur = conn.cursor()\n",
    "    cur.execute(f\"INSERT INTO {table_name} VALUES (1, 'Red'), (2, 'White'), (3, 'Sparkling'), (4, 'Rose'), (7, 'Dessert'), \\\n",
    "    (24, 'Fortified'), (25, 'Other');\")"
   ]
  },
  {
   "cell_type": "code",
   "execution_count": 253,
   "metadata": {},
   "outputs": [
    {
     "ename": "IntegrityError",
     "evalue": "Duplicate entry '1' for key 'PRIMARY'",
     "output_type": "error",
     "traceback": [
      "\u001b[0;31m---------------------------------------------------------------------------\u001b[0m",
      "\u001b[0;31mIntegrityError\u001b[0m                            Traceback (most recent call last)",
      "\u001b[0;32m<ipython-input-253-02e85888d09f>\u001b[0m in \u001b[0;36m<module>\u001b[0;34m\u001b[0m\n\u001b[1;32m      2\u001b[0m \u001b[0;32mtry\u001b[0m\u001b[0;34m:\u001b[0m\u001b[0;34m\u001b[0m\u001b[0;34m\u001b[0m\u001b[0m\n\u001b[1;32m      3\u001b[0m \u001b[0;31m#     clean_sql_table(conn, 'type')\u001b[0m\u001b[0;34m\u001b[0m\u001b[0;34m\u001b[0m\u001b[0;34m\u001b[0m\u001b[0m\n\u001b[0;32m----> 4\u001b[0;31m     \u001b[0minsert_to_wine_types\u001b[0m\u001b[0;34m(\u001b[0m\u001b[0mconn\u001b[0m\u001b[0;34m)\u001b[0m\u001b[0;34m\u001b[0m\u001b[0;34m\u001b[0m\u001b[0m\n\u001b[0m\u001b[1;32m      5\u001b[0m \u001b[0;32mfinally\u001b[0m\u001b[0;34m:\u001b[0m\u001b[0;34m\u001b[0m\u001b[0;34m\u001b[0m\u001b[0m\n\u001b[1;32m      6\u001b[0m     \u001b[0mconn\u001b[0m\u001b[0;34m.\u001b[0m\u001b[0mclose\u001b[0m\u001b[0;34m(\u001b[0m\u001b[0;34m)\u001b[0m\u001b[0;34m\u001b[0m\u001b[0;34m\u001b[0m\u001b[0m\n",
      "\u001b[0;32m<ipython-input-249-9ce8ab57dc03>\u001b[0m in \u001b[0;36minsert_to_wine_types\u001b[0;34m(conn, table_name)\u001b[0m\n\u001b[1;32m      4\u001b[0m     \"\"\"\n\u001b[1;32m      5\u001b[0m     \u001b[0mcur\u001b[0m \u001b[0;34m=\u001b[0m \u001b[0mconn\u001b[0m\u001b[0;34m.\u001b[0m\u001b[0mcursor\u001b[0m\u001b[0;34m(\u001b[0m\u001b[0;34m)\u001b[0m\u001b[0;34m\u001b[0m\u001b[0;34m\u001b[0m\u001b[0m\n\u001b[0;32m----> 6\u001b[0;31m     cur.execute(f\"INSERT INTO {table_name} VALUES (1, 'Red'), (2, 'White'), (3, 'Sparkling'), (4, 'Rose'), (7, 'Dessert'), \\\n\u001b[0m\u001b[1;32m      7\u001b[0m     (24, 'Fortified'), (25, 'Other');\")\n",
      "\u001b[0;31mIntegrityError\u001b[0m: Duplicate entry '1' for key 'PRIMARY'"
     ]
    }
   ],
   "source": [
    "# conn = connect_to_vivino_db()\n",
    "# try:\n",
    "#     clean_sql_table(conn, 'type')\n",
    "#     insert_to_wine_types(conn)\n",
    "# finally:\n",
    "#     conn.close()"
   ]
  },
  {
   "cell_type": "code",
   "execution_count": 254,
   "metadata": {},
   "outputs": [
    {
     "name": "stdout",
     "output_type": "stream",
     "text": [
      "[(1, 'Red'), (2, 'White'), (3, 'Sparkling'), (4, 'Rose'), (7, 'Dessert'), (24, 'Fortified'), (25, 'Other')]\n"
     ]
    }
   ],
   "source": [
    "conn = connect_to_vivino_db()\n",
    "cur = conn.cursor()\n",
    "cur.execute(\"SELECT * FROM type\")\n",
    "print(cur.fetchall())"
   ]
  },
  {
   "cell_type": "markdown",
   "metadata": {},
   "source": [
    "#### Insert wineries"
   ]
  },
  {
   "cell_type": "code",
   "execution_count": 255,
   "metadata": {},
   "outputs": [],
   "source": [
    "#insert wineries\n",
    "\n",
    "def insert_to_wineries(conn, matches, first_entry=True):\n",
    "    \"\"\"\n",
    "    inserts data to correct fields in the wine table\n",
    "    \"\"\"\n",
    "    table = 'winery'\n",
    "    main = 'vintage/wine/winery/'\n",
    "    paths = [main + 'id', main + 'name', main + 'seo_name', main + 'status']\n",
    "    pk_sql = ['id']\n",
    "    extract_json_to_sql(conn, matches, table, paths, pk_sql, first_entry)"
   ]
  },
  {
   "cell_type": "code",
   "execution_count": 257,
   "metadata": {},
   "outputs": [
    {
     "name": "stdout",
     "output_type": "stream",
     "text": [
      "Insertion complete and took 1.2071480751037598 s.\n",
      "Number of unique records is accurate\n"
     ]
    }
   ],
   "source": [
    "conn = connect_to_vivino_db()\n",
    "try:\n",
    "#     clean_sql_table(conn, 'winery')\n",
    "    insert_to_wineries(conn, recovered_data_distinct, True)\n",
    "finally:\n",
    "    conn.close()"
   ]
  },
  {
   "cell_type": "markdown",
   "metadata": {},
   "source": [
    "#### Insert countries"
   ]
  },
  {
   "cell_type": "code",
   "execution_count": 258,
   "metadata": {},
   "outputs": [],
   "source": [
    "def insert_to_countries(db, matches, first_entry=True):\n",
    "    \"\"\"\n",
    "    inserts data to correct fields in the country table\n",
    "    \"\"\"\n",
    "    table = 'country'\n",
    "    main = 'vintage/wine/region/country/'\n",
    "    paths = [main + 'code', main + 'name', main + 'native_name', main + 'seo_name', main + 'currency/code', main + 'regions_count',\\\n",
    "            main + 'users_count', main + 'wines_count', main + 'wineries_count']\n",
    "    pk_sql = ['code']\n",
    "    extract_json_to_sql(conn, matches, table, paths, pk_sql, first_entry)"
   ]
  },
  {
   "cell_type": "code",
   "execution_count": 259,
   "metadata": {},
   "outputs": [
    {
     "name": "stdout",
     "output_type": "stream",
     "text": [
      "Insertion complete and took 0.8709571361541748 s.\n",
      "Number of unique records is accurate\n"
     ]
    }
   ],
   "source": [
    "conn = connect_to_vivino_db()\n",
    "try:\n",
    "#     clean_sql_table(conn, 'country')\n",
    "    insert_to_countries(conn, recovered_data_distinct, True)\n",
    "finally:\n",
    "    conn.close()"
   ]
  },
  {
   "cell_type": "markdown",
   "metadata": {},
   "source": [
    "#### Insert regions"
   ]
  },
  {
   "cell_type": "code",
   "execution_count": 260,
   "metadata": {},
   "outputs": [],
   "source": [
    "def insert_to_regions(db, matches, first_entry=True):\n",
    "    \"\"\"\n",
    "    inserts data to correct fields in the region table\n",
    "    \"\"\"\n",
    "    table = 'region'\n",
    "    main = 'vintage/wine/region/'\n",
    "    paths = [main + 'id', main + 'name', main + 'name_en', main + 'seo_name', main + 'country/code']\n",
    "    pk_sql = ['id']\n",
    "    extract_json_to_sql(conn, matches, table, paths, pk_sql, first_entry)"
   ]
  },
  {
   "cell_type": "code",
   "execution_count": 261,
   "metadata": {},
   "outputs": [
    {
     "name": "stdout",
     "output_type": "stream",
     "text": [
      "Insertion complete and took 0.9717741012573242 s.\n",
      "Number of unique records is accurate\n"
     ]
    }
   ],
   "source": [
    "conn = connect_to_vivino_db()\n",
    "try:\n",
    "#     clean_sql_table(conn, 'region')\n",
    "    insert_to_regions(conn, recovered_data_distinct, True)\n",
    "finally:\n",
    "    conn.close()"
   ]
  },
  {
   "cell_type": "markdown",
   "metadata": {},
   "source": [
    "#### Insert style"
   ]
  },
  {
   "cell_type": "code",
   "execution_count": 262,
   "metadata": {},
   "outputs": [],
   "source": [
    "def insert_to_style(conn, matches, first_entry=True):\n",
    "    \"\"\"\n",
    "    inserts data to correct fields in the style table\n",
    "    \"\"\"\n",
    "    table = 'style'\n",
    "    main = 'vintage/wine/style/'\n",
    "    paths = [main + 'id', main + 'seo_name', main + 'regional_name', main + 'varietal_name', main + 'name',\\\n",
    "            main + 'description', main + 'blurb', main + 'body', main + 'body_description', main + 'acidity',\\\n",
    "            main + 'acidity_description', main + 'country/code', main + 'wine_type_id']\n",
    "    pk_sql = ['id']\n",
    "    extract_json_to_sql(conn, matches, table, paths, pk_sql, first_entry)"
   ]
  },
  {
   "cell_type": "code",
   "execution_count": 263,
   "metadata": {},
   "outputs": [
    {
     "name": "stdout",
     "output_type": "stream",
     "text": [
      "Insertion complete and took 1.4676568508148193 s.\n",
      "Number of unique records is accurate\n"
     ]
    }
   ],
   "source": [
    "conn = connect_to_vivino_db()\n",
    "try:\n",
    "#     clean_sql_table(conn, 'style')\n",
    "    insert_to_style(conn, recovered_data_distinct, True)\n",
    "finally:\n",
    "    conn.close()"
   ]
  },
  {
   "cell_type": "markdown",
   "metadata": {},
   "source": [
    "#### Insert food"
   ]
  },
  {
   "cell_type": "code",
   "execution_count": 264,
   "metadata": {},
   "outputs": [],
   "source": [
    "def insert_to_food(conn, matches, first_entry=True):\n",
    "    \"\"\"\n",
    "    inserts data to correct fields in the food table\n",
    "    \"\"\"\n",
    "    table = 'food'\n",
    "    path_to_list = 'vintage/wine/style/food'\n",
    "    paths_from_list = ['id', 'name', 'seo_name']\n",
    "    pk_sql = ['id']\n",
    "    extract_json_list_to_sql(conn, matches, table, path_to_list, paths_from_list, pk_sql=pk_sql, first_entry=first_entry)"
   ]
  },
  {
   "cell_type": "code",
   "execution_count": 265,
   "metadata": {},
   "outputs": [
    {
     "name": "stdout",
     "output_type": "stream",
     "text": [
      "Insertion complete and took 0.7559759616851807 s.\n",
      "Number of unique records is accurate\n"
     ]
    }
   ],
   "source": [
    "conn = connect_to_vivino_db()\n",
    "try:\n",
    "#     clean_sql_table(conn, 'food')\n",
    "    insert_to_food(conn, recovered_data_distinct, True)\n",
    "finally:\n",
    "    conn.close()"
   ]
  },
  {
   "cell_type": "code",
   "execution_count": 266,
   "metadata": {},
   "outputs": [
    {
     "name": "stdout",
     "output_type": "stream",
     "text": [
      "22\n"
     ]
    }
   ],
   "source": [
    "conn = connect_to_vivino_db()\n",
    "try: \n",
    "    count_unique_records_sql(conn, 'food')\n",
    "finally:\n",
    "    conn.close()"
   ]
  },
  {
   "cell_type": "markdown",
   "metadata": {},
   "source": [
    "#### Insert facts"
   ]
  },
  {
   "cell_type": "code",
   "execution_count": 267,
   "metadata": {},
   "outputs": [],
   "source": [
    "def insert_to_facts(conn, matches, first_entry=True):\n",
    "    \"\"\"\n",
    "    inserts data to correct fields in the facts table\n",
    "    \"\"\"\n",
    "    table = 'facts'\n",
    "    path_to_list = 'vintage/wine/style/interesting_facts'\n",
    "    paths_from_list = []\n",
    "    path_to_id_outside_list = 'vintage/wine/style/id'\n",
    "    pk_sql = []\n",
    "    extract_json_list_to_sql(conn, matches, table, path_to_list, paths_from_list, path_to_id_outside_list, pk_sql, first_entry)"
   ]
  },
  {
   "cell_type": "code",
   "execution_count": 270,
   "metadata": {},
   "outputs": [
    {
     "name": "stdout",
     "output_type": "stream",
     "text": [
      "Insertion complete and took 0.627943754196167 s.\n",
      "Number of unique records is accurate\n"
     ]
    }
   ],
   "source": [
    "conn = connect_to_vivino_db()\n",
    "try:\n",
    "    clean_sql_table(conn, 'facts')\n",
    "    insert_to_facts(conn, recovered_data_distinct, True)\n",
    "finally:\n",
    "    conn.close()"
   ]
  },
  {
   "cell_type": "code",
   "execution_count": 271,
   "metadata": {},
   "outputs": [
    {
     "name": "stdout",
     "output_type": "stream",
     "text": [
      "502\n"
     ]
    }
   ],
   "source": [
    "conn = connect_to_vivino_db()\n",
    "try: \n",
    "    count_unique_records_sql(conn, 'facts')\n",
    "finally:\n",
    "    conn.close()"
   ]
  },
  {
   "cell_type": "markdown",
   "metadata": {},
   "source": [
    "#### Insert style_food"
   ]
  },
  {
   "cell_type": "code",
   "execution_count": 272,
   "metadata": {},
   "outputs": [],
   "source": [
    "def insert_to_style_food(conn, matches, first_entry=True):\n",
    "    \"\"\"\n",
    "    inserts data to correct fields in the style-food table\n",
    "    \"\"\"\n",
    "    table = 'style_food'\n",
    "    path_to_list = 'vintage/wine/style/food'\n",
    "    paths_from_list = ['id']\n",
    "    path_to_id_outside_list = 'vintage/wine/style/id'\n",
    "    pk_sql = ['style_id', 'food_id']\n",
    "    extract_json_list_to_sql(conn, matches, table, path_to_list, paths_from_list, path_to_id_outside_list, pk_sql, first_entry)"
   ]
  },
  {
   "cell_type": "code",
   "execution_count": 273,
   "metadata": {},
   "outputs": [
    {
     "name": "stdout",
     "output_type": "stream",
     "text": [
      "Insertion complete and took 0.6490700244903564 s.\n",
      "Number of unique records is accurate\n"
     ]
    }
   ],
   "source": [
    "conn = connect_to_vivino_db()\n",
    "try:\n",
    "#     clean_sql_table(conn, 'style_food')\n",
    "    insert_to_style_food(conn, recovered_data_distinct, True)\n",
    "finally:\n",
    "    conn.close()"
   ]
  },
  {
   "cell_type": "code",
   "execution_count": 274,
   "metadata": {},
   "outputs": [
    {
     "name": "stdout",
     "output_type": "stream",
     "text": [
      "1063\n"
     ]
    }
   ],
   "source": [
    "conn = connect_to_vivino_db()\n",
    "try: \n",
    "    count_unique_records_sql(conn, 'style_food')\n",
    "finally:\n",
    "    conn.close()"
   ]
  },
  {
   "cell_type": "markdown",
   "metadata": {},
   "source": [
    "#### Insert grapes"
   ]
  },
  {
   "cell_type": "code",
   "execution_count": 275,
   "metadata": {},
   "outputs": [],
   "source": [
    "def insert_to_grape(conn, matches, first_entry=True):\n",
    "    \"\"\"\n",
    "    inserts data to correct fields in the grape table\n",
    "    \"\"\"\n",
    "    table = 'grape'\n",
    "    path_to_list = 'vintage/wine/style/grapes'\n",
    "    paths_from_list = ['id', 'name', 'seo_name', 'has_detailed_info', 'wines_count']\n",
    "    path_to_id_outside_list = ''\n",
    "    pk_sql = ['id']\n",
    "    extract_json_list_to_sql(conn, matches, table, path_to_list, paths_from_list, path_to_id_outside_list, pk_sql, first_entry)"
   ]
  },
  {
   "cell_type": "code",
   "execution_count": 276,
   "metadata": {},
   "outputs": [
    {
     "name": "stdout",
     "output_type": "stream",
     "text": [
      "Insertion complete and took 0.8053209781646729 s.\n",
      "Number of unique records is accurate\n"
     ]
    }
   ],
   "source": [
    "conn = connect_to_vivino_db()\n",
    "try:\n",
    "#     clean_sql_table(conn, 'grape')\n",
    "    insert_to_grape(conn, recovered_data_distinct, True)\n",
    "finally:\n",
    "    conn.close()"
   ]
  },
  {
   "cell_type": "code",
   "execution_count": 277,
   "metadata": {},
   "outputs": [
    {
     "name": "stdout",
     "output_type": "stream",
     "text": [
      "128\n"
     ]
    }
   ],
   "source": [
    "conn = connect_to_vivino_db()\n",
    "try: \n",
    "    count_unique_records_sql(conn, 'grape')\n",
    "finally:\n",
    "    conn.close()"
   ]
  },
  {
   "cell_type": "markdown",
   "metadata": {},
   "source": [
    "#### Insert style_grape"
   ]
  },
  {
   "cell_type": "code",
   "execution_count": 278,
   "metadata": {},
   "outputs": [],
   "source": [
    "def insert_to_style_grape(conn, matches, first_entry=True):\n",
    "    \"\"\"\n",
    "    inserts data to correct fields in the style-grape table\n",
    "    \"\"\"\n",
    "    table = 'style_grape'\n",
    "    path_to_list = 'vintage/wine/style/grapes'\n",
    "    paths_from_list = ['id']\n",
    "    path_to_id_outside_list = 'vintage/wine/style/id'\n",
    "    pk_sql = ['style_id', 'grape_id']\n",
    "    extract_json_list_to_sql(conn, matches, table, path_to_list, paths_from_list, path_to_id_outside_list, pk_sql, first_entry)"
   ]
  },
  {
   "cell_type": "code",
   "execution_count": 279,
   "metadata": {},
   "outputs": [
    {
     "name": "stdout",
     "output_type": "stream",
     "text": [
      "Insertion complete and took 0.5234789848327637 s.\n",
      "Number of unique records is accurate\n"
     ]
    }
   ],
   "source": [
    "conn = connect_to_vivino_db()\n",
    "try:\n",
    "#     clean_sql_table(conn, 'style_grape')\n",
    "    insert_to_style_grape(conn, recovered_data_distinct, True)\n",
    "finally:\n",
    "    conn.close()"
   ]
  },
  {
   "cell_type": "code",
   "execution_count": 280,
   "metadata": {},
   "outputs": [
    {
     "name": "stdout",
     "output_type": "stream",
     "text": [
      "551\n"
     ]
    }
   ],
   "source": [
    "conn = connect_to_vivino_db()\n",
    "try: \n",
    "    count_unique_records_sql(conn, 'style_grape')\n",
    "finally:\n",
    "    conn.close()"
   ]
  },
  {
   "cell_type": "markdown",
   "metadata": {},
   "source": [
    "#### Insert country_grape"
   ]
  },
  {
   "cell_type": "code",
   "execution_count": 281,
   "metadata": {},
   "outputs": [],
   "source": [
    "def insert_to_country_grape(conn, matches, first_entry=True):\n",
    "    \"\"\"\n",
    "    inserts data to correct fields in the country-grape table\n",
    "    \"\"\"\n",
    "    table = 'country_grape'\n",
    "    path_to_list = 'vintage/wine/style/grapes'\n",
    "    paths_from_list = ['id']\n",
    "    path_to_id_outside_list = 'vintage/wine/style/country/code'\n",
    "    pk_sql = ['country_code', 'grape_id']\n",
    "    extract_json_list_to_sql(conn, matches, table, path_to_list, paths_from_list, path_to_id_outside_list, pk_sql, first_entry)"
   ]
  },
  {
   "cell_type": "code",
   "execution_count": 282,
   "metadata": {},
   "outputs": [
    {
     "name": "stdout",
     "output_type": "stream",
     "text": [
      "Insertion complete and took 0.4409778118133545 s.\n",
      "Number of unique records is accurate\n"
     ]
    }
   ],
   "source": [
    "conn = connect_to_vivino_db()\n",
    "try:\n",
    "#     clean_sql_table(conn, 'country_grape')\n",
    "    insert_to_country_grape(conn, recovered_data_distinct, True)\n",
    "finally:\n",
    "    conn.close()"
   ]
  },
  {
   "cell_type": "code",
   "execution_count": 283,
   "metadata": {},
   "outputs": [
    {
     "name": "stdout",
     "output_type": "stream",
     "text": [
      "283\n"
     ]
    }
   ],
   "source": [
    "conn = connect_to_vivino_db()\n",
    "try: \n",
    "    count_unique_records_sql(conn, 'country_grape')\n",
    "finally:\n",
    "    conn.close()"
   ]
  },
  {
   "cell_type": "markdown",
   "metadata": {},
   "source": [
    "#### Insert wine"
   ]
  },
  {
   "cell_type": "code",
   "execution_count": 284,
   "metadata": {},
   "outputs": [],
   "source": [
    "def insert_to_wine(conn, matches, first_entry=True):\n",
    "    \"\"\"\n",
    "    inserts data to correct fields in the wine table\n",
    "    \"\"\"\n",
    "    table = 'wine'\n",
    "    main = 'vintage/wine/'\n",
    "    paths = [main + 'id', main + 'name', main + 'seo_name', main + 'type_id', main + 'vintage_type', main + 'is_natural',\\\n",
    "             main + 'region/id', main + 'winery/id', main + 'taste/structure/acidity', main + 'taste/structure/fizziness',\\\n",
    "             main + 'taste/structure/intensity', main + 'taste/structure/sweetness', main + 'taste/structure/tannin',\\\n",
    "             main + 'taste/structure/user_structure_count', main + 'taste/structure/calculated_structure_count', \\\n",
    "             main + 'style/id', main + 'statistics/status', main + 'statistics/ratings_count', main + 'statistics/ratings_average',\\\n",
    "             main + 'statistics/labels_count', main + 'statistics/vintages_count', main + 'has_valid_ratings']\n",
    "    pk_sql = ['id']\n",
    "    extract_json_to_sql(conn, matches, table, paths, pk_sql, first_entry, False)"
   ]
  },
  {
   "cell_type": "code",
   "execution_count": 285,
   "metadata": {},
   "outputs": [
    {
     "name": "stdout",
     "output_type": "stream",
     "text": [
      "Insertion complete and took 2.957200050354004 s.\n",
      "Number of unique records is accurate\n"
     ]
    }
   ],
   "source": [
    "conn = connect_to_vivino_db()\n",
    "try:\n",
    "#     clean_sql_table(conn, 'wine')\n",
    "    insert_to_wine(conn, recovered_data_distinct, True)\n",
    "finally:\n",
    "    conn.close()"
   ]
  },
  {
   "cell_type": "code",
   "execution_count": 286,
   "metadata": {},
   "outputs": [
    {
     "name": "stdout",
     "output_type": "stream",
     "text": [
      "29811\n"
     ]
    }
   ],
   "source": [
    "conn = connect_to_vivino_db()\n",
    "try: \n",
    "    count_unique_records_sql(conn, 'wine')\n",
    "finally:\n",
    "    conn.close()"
   ]
  },
  {
   "cell_type": "markdown",
   "metadata": {},
   "source": [
    "#### Insert price"
   ]
  },
  {
   "cell_type": "code",
   "execution_count": 287,
   "metadata": {},
   "outputs": [],
   "source": [
    "def insert_to_price(conn, matches, first_entry=True):\n",
    "    \"\"\"\n",
    "    inserts data to correct fields in the price table\n",
    "    \"\"\"\n",
    "    table = 'price'\n",
    "    main = 'price/'\n",
    "    paths = [main + 'id', main + 'amount', main + 'discounted_from', main + 'type', main + 'visibility',\\\n",
    "            main + 'currency/code', main + 'bottle_type/name']\n",
    "    pk_sql = ['id']\n",
    "    extract_json_to_sql(conn, matches, table, paths, pk_sql, first_entry)"
   ]
  },
  {
   "cell_type": "code",
   "execution_count": 288,
   "metadata": {},
   "outputs": [
    {
     "name": "stdout",
     "output_type": "stream",
     "text": [
      "Insertion complete and took 1.6994068622589111 s.\n",
      "Number of unique records is accurate\n"
     ]
    }
   ],
   "source": [
    "conn = connect_to_vivino_db()\n",
    "try:\n",
    "#     clean_sql_table(conn, 'price')\n",
    "    insert_to_price(conn, recovered_data_distinct, True)\n",
    "finally:\n",
    "    conn.close()"
   ]
  },
  {
   "cell_type": "code",
   "execution_count": 289,
   "metadata": {},
   "outputs": [
    {
     "name": "stdout",
     "output_type": "stream",
     "text": [
      "55819\n"
     ]
    }
   ],
   "source": [
    "conn = connect_to_vivino_db()\n",
    "try: \n",
    "    count_unique_records_sql(conn, 'price')\n",
    "finally:\n",
    "    conn.close()"
   ]
  },
  {
   "cell_type": "markdown",
   "metadata": {},
   "source": [
    "#### Insert vintage"
   ]
  },
  {
   "cell_type": "code",
   "execution_count": 290,
   "metadata": {},
   "outputs": [],
   "source": [
    "def insert_to_vintage(conn, matches, first_entry=True):\n",
    "    \"\"\"\n",
    "    inserts data to correct fields in the vintage table\n",
    "    \"\"\"\n",
    "    table = 'vintage'\n",
    "    main = 'vintage/'\n",
    "    paths = [main + 'id', main + 'seo_name', main + 'name', main + 'wine/id', main + 'year', main + 'has_valid_ratings',\\\n",
    "             main + 'statistics/status', main + 'statistics/ratings_count', main + 'statistics/ratings_average',\\\n",
    "             main + 'statistics/labels_count', 'price/id']\n",
    "    pk_sql = ['id']\n",
    "    extract_json_to_sql(conn, matches, table, paths, pk_sql, first_entry, False)"
   ]
  },
  {
   "cell_type": "code",
   "execution_count": 291,
   "metadata": {},
   "outputs": [
    {
     "name": "stdout",
     "output_type": "stream",
     "text": [
      "Insertion complete and took 2.4885811805725098 s.\n",
      "Number of unique records is accurate\n"
     ]
    }
   ],
   "source": [
    "conn = connect_to_vivino_db()\n",
    "try:\n",
    "#     clean_sql_table(conn, 'vintage')\n",
    "    insert_to_vintage(conn, recovered_data_distinct, True)\n",
    "finally:\n",
    "    conn.close()"
   ]
  },
  {
   "cell_type": "code",
   "execution_count": 292,
   "metadata": {},
   "outputs": [
    {
     "name": "stdout",
     "output_type": "stream",
     "text": [
      "55819\n"
     ]
    }
   ],
   "source": [
    "conn = connect_to_vivino_db()\n",
    "try: \n",
    "    count_unique_records_sql(conn, 'vintage')\n",
    "finally:\n",
    "    conn.close()"
   ]
  },
  {
   "cell_type": "markdown",
   "metadata": {},
   "source": [
    "#### Insert toplist"
   ]
  },
  {
   "cell_type": "code",
   "execution_count": 293,
   "metadata": {},
   "outputs": [],
   "source": [
    "def insert_to_toplist(conn, matches, first_entry=True):\n",
    "    \"\"\"\n",
    "    inserts data to correct fields in the toplist table\n",
    "    \"\"\"\n",
    "    table = 'toplist'\n",
    "    path_to_list = 'vintage/top_list_rankings'\n",
    "    paths_from_list = ['top_list/id', 'top_list/location', 'top_list/name', 'top_list/seo_name', 'top_list/type', 'top_list/year']\n",
    "    pk_sql = ['id']\n",
    "    extract_json_list_to_sql(conn, matches, table, path_to_list, paths_from_list, pk_sql=pk_sql, first_entry=first_entry)"
   ]
  },
  {
   "cell_type": "code",
   "execution_count": 294,
   "metadata": {},
   "outputs": [
    {
     "name": "stdout",
     "output_type": "stream",
     "text": [
      "Insertion complete and took 0.5344991683959961 s.\n",
      "Number of unique records is accurate\n"
     ]
    }
   ],
   "source": [
    "conn = connect_to_vivino_db()\n",
    "try:\n",
    "#     clean_sql_table(conn, 'toplist')\n",
    "    insert_to_toplist(conn, recovered_data_distinct, True)\n",
    "finally:\n",
    "    conn.close()"
   ]
  },
  {
   "cell_type": "code",
   "execution_count": 295,
   "metadata": {},
   "outputs": [
    {
     "name": "stdout",
     "output_type": "stream",
     "text": [
      "533\n"
     ]
    }
   ],
   "source": [
    "conn = connect_to_vivino_db()\n",
    "try: \n",
    "    count_unique_records_sql(conn, 'toplist')\n",
    "finally:\n",
    "    conn.close()"
   ]
  },
  {
   "cell_type": "markdown",
   "metadata": {},
   "source": [
    "#### Insert vintage_toplist"
   ]
  },
  {
   "cell_type": "code",
   "execution_count": 296,
   "metadata": {},
   "outputs": [],
   "source": [
    "def insert_to_vintage_toplist(conn, matches, first_entry=True):\n",
    "    \"\"\"\n",
    "    inserts data to correct fields in the vintage-toplist table\n",
    "    \"\"\"\n",
    "    table = 'vintage_toplist'\n",
    "    path_to_list = 'vintage/top_list_rankings'\n",
    "    paths_from_list = ['top_list/id', 'top_list/rank', 'top_list/previous_rank', 'top_list/description']\n",
    "    path_to_id_outside_list = 'vintage/id'\n",
    "    pk_sql = ['vintage_id', 'toplist_id']\n",
    "    extract_json_list_to_sql(conn, matches, table, path_to_list, paths_from_list, path_to_id_outside_list, pk_sql, first_entry)"
   ]
  },
  {
   "cell_type": "code",
   "execution_count": 297,
   "metadata": {},
   "outputs": [
    {
     "name": "stdout",
     "output_type": "stream",
     "text": [
      "Insertion complete and took 0.4511551856994629 s.\n",
      "Number of unique records is accurate\n"
     ]
    }
   ],
   "source": [
    "conn = connect_to_vivino_db()\n",
    "try:\n",
    "#     clean_sql_table(conn, 'vintage_toplist')\n",
    "    insert_to_vintage_toplist(conn, recovered_data_distinct, True)\n",
    "finally:\n",
    "    conn.close()"
   ]
  },
  {
   "cell_type": "code",
   "execution_count": 298,
   "metadata": {},
   "outputs": [
    {
     "name": "stdout",
     "output_type": "stream",
     "text": [
      "1900\n"
     ]
    }
   ],
   "source": [
    "conn = connect_to_vivino_db()\n",
    "try: \n",
    "    count_unique_records_sql(conn, 'vintage_toplist')\n",
    "finally:\n",
    "    conn.close()"
   ]
  },
  {
   "cell_type": "code",
   "execution_count": null,
   "metadata": {},
   "outputs": [],
   "source": []
  }
 ],
 "metadata": {
  "kernelspec": {
   "display_name": "Python 3",
   "language": "python",
   "name": "python3"
  },
  "language_info": {
   "codemirror_mode": {
    "name": "ipython",
    "version": 3
   },
   "file_extension": ".py",
   "mimetype": "text/x-python",
   "name": "python",
   "nbconvert_exporter": "python",
   "pygments_lexer": "ipython3",
   "version": "3.9.0"
  }
 },
 "nbformat": 4,
 "nbformat_minor": 4
}
