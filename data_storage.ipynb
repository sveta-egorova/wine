{
 "cells": [
  {
   "cell_type": "markdown",
   "metadata": {},
   "source": [
    "### Writing data to SQL database"
   ]
  },
  {
   "cell_type": "markdown",
   "metadata": {},
   "source": [
    "Initially, it was considered to use SQLite in order to store data within a local file, however, to achieve up-to-date state of the database for both team members, it was decided to move the database to MariaDB on Amazon AWS. "
   ]
  },
  {
   "cell_type": "code",
   "execution_count": 1,
   "metadata": {},
   "outputs": [],
   "source": [
    "# Using SQLite within Jupyter notebooks - option 1\n",
    "\n",
    "# %%capture\n",
    "# %load_ext sql\n",
    "# %sql sqlite:///vivino.db\n",
    "# %sql SELECT * FROM wine"
   ]
  },
  {
   "cell_type": "code",
   "execution_count": 2,
   "metadata": {},
   "outputs": [],
   "source": [
    "import pickle\n",
    "import sqlite3\n",
    "import math\n",
    "import mariadb\n",
    "import os\n",
    "import sys\n",
    "import pandas as pd"
   ]
  },
  {
   "cell_type": "code",
   "execution_count": 2,
   "metadata": {},
   "outputs": [
    {
     "name": "stdout",
     "output_type": "stream",
     "text": [
      "[(1105374, 'Alandra Tinto', 'alandra-tinto', 1, 0, 0, 1395, 3155, 3.1399224, None, 3.7395344, 1.8591489, 2.9908836, 540, 184, 2, 'Normal', 18112, 3.2, 128391, 51, 1), (1706071, 'Alentejano Monte das Ânforas Tinto', 'alentejano-monte-das-anforas-tinto', 1, 0, 0, 1394, 4107, 3.0573564, None, 3.7483184, 1.799455, 2.8970287, 171, 38, 2, 'Normal', 5176, 3.4, 30372, 38, 1), (4269600, 'Vinea Tinto', 'vinea-tinto', 1, 0, 0, 1394, 10992, 3.0659487, None, 3.2864575, 2.008701, 2.8928797, 435, 31, 2, 'Normal', 5827, 3.3, 37482, 39, 1), (1200770, 'Lisboa Tinto', 'lisboa-tinto', 1, 0, 0, 834, 26708, 3.042016, None, 3.4385235, 1.8823165, 2.7859948, 69, 59, 210, 'Normal', 2153, 3.4, 11457, 34, 1), (4269602, 'Vinea Branco', 'vinea-branco', 2, 0, 0, 1394, 10992, 2.8494768, None, 2.7141547, 1.6764449, None, 68, 9, 211, 'Normal', 1186, 3.3, 6375, 25, 1)]\n"
     ]
    }
   ],
   "source": [
    "# Using SQLite within Jupyter notebooks - option 2\n",
    "\n",
    "conn = sqlite3.connect('vivino.db')\n",
    "test_query = 'SELECT * FROM wine LIMIT 5'\n",
    "print(conn.execute(test_query).fetchall())\n",
    "conn.close()"
   ]
  },
  {
   "cell_type": "code",
   "execution_count": 2,
   "metadata": {},
   "outputs": [],
   "source": [
    "# directory = 'backup_data/reviews'\n",
    "# for filename in os.listdir(directory):\n",
    "#     print(filename)"
   ]
  },
  {
   "cell_type": "code",
   "execution_count": 3,
   "metadata": {},
   "outputs": [],
   "source": [
    "# all_reviews_it = []\n",
    "\n",
    "# directory = 'backup_data/reviews'\n",
    "# for filename in os.listdir(directory):\n",
    "# #     print(filename)\n",
    "#     if filename != \".DS_Store\":\n",
    "#         with open(f'{directory}/{filename}', 'rb') as f:\n",
    "#             cur_reviews = pickle.load(f)\n",
    "#             all_reviews_it.extend(cur_reviews)\n",
    "#             print(f\"{len(cur_reviews)} reviews added from file {filename}\")"
   ]
  },
  {
   "cell_type": "code",
   "execution_count": 3,
   "metadata": {},
   "outputs": [],
   "source": [
    "import sys\n",
    "sys.path.append('..')\n",
    "import settings"
   ]
  },
  {
   "cell_type": "code",
   "execution_count": 4,
   "metadata": {},
   "outputs": [],
   "source": [
    "def connect_to_vivino_db():\n",
    "    \"\"\"\n",
    "    connect to vivino db and return a connection instance\n",
    "    \"\"\"\n",
    "    try:\n",
    "        conn =  mariadb.connect(\n",
    "                user=\"admin\",\n",
    "                password=settings.db_pass,\n",
    "                host=settings.db_url,\n",
    "                port=3306,\n",
    "                database=\"vivino\")\n",
    "    except mariadb.Error as e:\n",
    "        print(f\"Error connecting to MariaDB Platform: {e}\")\n",
    "        sys.exit(1)\n",
    "    return conn"
   ]
  },
  {
   "cell_type": "code",
   "execution_count": 9,
   "metadata": {},
   "outputs": [],
   "source": [
    "conn = connect_to_vivino_db()"
   ]
  },
  {
   "cell_type": "markdown",
   "metadata": {},
   "source": [
    "Database schema was created separately based on the data structure, and looks as follows: \n",
    "\n",
    "![](vivino-schema.png)"
   ]
  },
  {
   "cell_type": "markdown",
   "metadata": {},
   "source": [
    "Insertion to the database should be done in the following order (in order to avoid problems with foreign keys):\n",
    "* wine type\n",
    "* winery\n",
    "* country\n",
    "* region\n",
    "* style\n",
    "* food\n",
    "* facts\n",
    "* style_food\n",
    "* grape\n",
    "* style_grape\n",
    "* grape_country\n",
    "* wine\n",
    "* price\n",
    "* vintage\n",
    "* toplist\n",
    "* vintage_toplist\n",
    "* keyword - **not loaded yet**\n",
    "* wine_keyword - **not loaded yet**\n",
    "* wine_flavor_group - **not loaded yet**"
   ]
  },
  {
   "cell_type": "markdown",
   "metadata": {},
   "source": [
    "Once the database schema and the name of the columns is fixed, we can run functions that insert data to each table by extracting information from JSON file. \n",
    "\n",
    "Since we need only specific data from JSON, we need to specify the path to such data for each column in each table. For convenience, such path will be formed using a forward slash (for example, `vintage/wine/region/name`). \n",
    "\n",
    "The function extracts data found at a given path inside a given record (making one step of the path at a time), and returns the resulting value. If any of the path steps is missing for a given record, it returns the value at the latest step available. "
   ]
  },
  {
   "cell_type": "markdown",
   "metadata": {},
   "source": [
    "In order to generate the path, here is the full list of columns in the dataframe which mimics the structure of JSON:\n",
    "\n",
    "['vintage_grapes', 'vintage_has_valid_ratings', 'vintage_id',\n",
    "       'vintage_image', 'vintage_name', 'vintage_seo_name',\n",
    "       'vintage_statistics', 'vintage_wine', 'vintage_year',\n",
    "       'vintage_top_list_rankings', 'status', 'ratings_count',\n",
    "       'ratings_average', 'labels_count', 'id', 'name', 'seo_name', 'type_id',\n",
    "       'vintage_type', 'is_natural', 'has_valid_ratings', 'region.id',\n",
    "       'region.name', 'region.name_en', 'region.seo_name',\n",
    "       'region.country.code', 'region.country.name',\n",
    "       'region.country.native_name', 'region.country.seo_name',\n",
    "       'region.country.currency.code', 'region.country.currency.name',\n",
    "       'region.country.currency.prefix', 'region.country.currency.suffix',\n",
    "       'region.country.regions_count', 'region.country.users_count',\n",
    "       'region.country.wines_count', 'region.country.wineries_count',\n",
    "       'region.country.most_used_grapes', 'region.background_image.location',\n",
    "       'region.background_image.variations.large',\n",
    "       'region.background_image.variations.medium', 'winery.id', 'winery.name',\n",
    "       'winery.seo_name', 'winery.status', 'taste.structure.acidity',\n",
    "       'taste.structure.fizziness', 'taste.structure.intensity',\n",
    "       'taste.structure.sweetness', 'taste.structure.tannin', \n",
    "       'taste.structure.user_structure_count',\n",
    "       'taste.structure.calculated_structure_count', 'taste.flavor',\n",
    "       'statistics.status', 'statistics.ratings_count',\n",
    "       'statistics.ratings_average', 'statistics.labels_count',\n",
    "       'statistics.vintages_count', 'style.id', 'style.seo_name',\n",
    "       'style.regional_name', 'style.varietal_name', 'style.name',\n",
    "       'style.image', 'style.background_image.location',\n",
    "       'style.background_image.variations.small', 'style.description',\n",
    "       'style.blurb', 'style.interesting_facts', 'style.body',\n",
    "       'style.body_description', 'style.acidity', 'style.acidity_description',\n",
    "       'style.country.code', 'style.country.name', 'style.country.native_name',\n",
    "       'style.country.seo_name', 'style.country.currency.code',\n",
    "       'style.country.currency.name', 'style.country.currency.prefix',\n",
    "       'style.country.currency.suffix', 'style.country.regions_count',\n",
    "       'style.country.users_count', 'style.country.wines_count',\n",
    "       'style.country.wineries_count', 'style.country.most_used_grapes',\n",
    "       'style.wine_type_id', 'style.food', 'style.grapes', 'style.region',\n",
    "       'style.region.id', 'style.region.name', 'style.region.name_en',\n",
    "       'style.region.seo_name', 'style.region.country.code',\n",
    "       'style.region.country.name', 'style.region.country.native_name',\n",
    "       'style.region.country.seo_name', 'style.region.country.currency.code',\n",
    "       'style.region.country.currency.name',\n",
    "       'style.region.country.currency.prefix',\n",
    "       'style.region.country.currency.suffix',\n",
    "       'style.region.country.regions_count',\n",
    "       'style.region.country.users_count', 'style.region.country.wines_count',\n",
    "       'style.region.country.wineries_count',\n",
    "       'style.region.country.most_used_grapes',\n",
    "       'style.region.background_image.location',\n",
    "       'style.region.background_image.variations.large',\n",
    "       'style.region.background_image.variations.medium', 'region', 'winery',\n",
    "       'style', 'taste.structure', 'region.background_image',\n",
    "       'style.background_image', 'style.region.background_image']\n"
   ]
  },
  {
   "cell_type": "code",
   "execution_count": 5,
   "metadata": {},
   "outputs": [],
   "source": [
    "def get_value(match_entry, path0):\n",
    "    \"\"\"\n",
    "    Function that returns a value found at a given path inside a given JSON record \n",
    "    \"\"\"\n",
    "    if path0 is None:\n",
    "        current_el = match_entry\n",
    "    else:\n",
    "        path = path0.split('/')\n",
    "        current_el = match_entry\n",
    "        for p in path:\n",
    "            if current_el is None:\n",
    "                break\n",
    "            current_el = current_el.get(p)\n",
    "    return current_el"
   ]
  },
  {
   "cell_type": "code",
   "execution_count": 51,
   "metadata": {},
   "outputs": [
    {
     "data": {
      "text/plain": [
       "55819"
      ]
     },
     "execution_count": 51,
     "metadata": {},
     "output_type": "execute_result"
    }
   ],
   "source": [
    "# load data from a backup file\n",
    "\n",
    "import pickle\n",
    "\n",
    "with open(f\"backup_data/full_match_list\", 'rb') as f:\n",
    "    recovered_data = pickle.load(f)\n",
    "    \n",
    "def remove_wine_duplicates(json_data):\n",
    "    distinct_dict = {entry['vintage']['id']: entry for entry in json_data}\n",
    "    recovered_data_distinct = distinct_dict.values()\n",
    "    return list(recovered_data_distinct)\n",
    "\n",
    "recovered_data_distinct = remove_wine_duplicates(recovered_data)\n",
    "len(recovered_data_distinct)"
   ]
  },
  {
   "cell_type": "code",
   "execution_count": 238,
   "metadata": {},
   "outputs": [],
   "source": [
    "# entry = (5, 7)\n",
    "# print(len(entry))\n",
    "# [entry[0]] + [entry[1] for i in range(3)]"
   ]
  },
  {
   "cell_type": "code",
   "execution_count": 6,
   "metadata": {},
   "outputs": [],
   "source": [
    "# insert data to sql\n",
    "import time\n",
    "\n",
    "def extract_json_to_sql(conn, matches_list, table_name, paths, pk_sql=[], first_entry=True, from_json_list_with_id = False, verbose=True):\n",
    "    \"\"\"\n",
    "    Function that accepts the folowing arguments:\n",
    "    * conn: active connection to a database\n",
    "    * matches list: JSON list with data, \n",
    "    * table_name: name of SQL table to include data,  \n",
    "    * paths: the paths leading to data in JSON corresponding to each column in SQL table,\n",
    "    * pk_sql: the names of primary key columns in SQL (to check for uniqueness condition),\n",
    "    * first_entry: boolean indicating whether it's the first time data is written to the table\n",
    "    \n",
    "    Function inserts data and (for the first entry) checks whether the resulting number of unique records in SQL\n",
    "    matches the number of unique records in JSON.\n",
    "    \n",
    "    \"\"\"\n",
    "    cur = conn.cursor()\n",
    "\n",
    "    timepoint_1 = time.time()\n",
    "\n",
    "    all_args = {}\n",
    "\n",
    "    for entry in matches_list:\n",
    "        if from_json_list_with_id:\n",
    "            # if data is passed from json list, entry contains a tuple (id, relevant_data), which need to be flattened in a single arg list\n",
    "            values_entry = [entry[0]] + [int_to_float(get_value(entry[1], path)) for path in paths]\n",
    "            if paths == []:\n",
    "                for record in entry[1:]: \n",
    "                    all_args[(entry[0], record)] = (entry[0], record)\n",
    "        else:\n",
    "            values_entry = [int_to_float(get_value(entry, path)) for path in paths]\n",
    "        pk_values = values_entry[:len(pk_sql)]\n",
    "#         if entry == matches_list[0]:\n",
    "#             print(entry)\n",
    "#             print(values_entry)\n",
    "#             print(pk_values)\n",
    "            \n",
    "        if all(pk_value is not None for pk_value in pk_values) and paths != []:\n",
    "            all_args[tuple(pk_values)] = tuple(values_entry)\n",
    "\n",
    "#     print(all_args)\n",
    "            \n",
    "    if len(pk_sql) == 0:\n",
    "        if_duplicates_do_nothing = \"\"\n",
    "    if len(pk_sql) == 1:\n",
    "        if_duplicates_do_nothing = f\" ON DUPLICATE KEY UPDATE {pk_sql[0]} = {pk_sql[0]}\"\n",
    "    if len(pk_sql) == 2:\n",
    "        if_duplicates_do_nothing = f\" ON DUPLICATE KEY UPDATE {pk_sql[0]} = {pk_sql[0]}, {pk_sql[1]} = {pk_sql[1]}\"\n",
    "\n",
    "    fields_num = len(paths)\n",
    "    if from_json_list_with_id and paths != []:\n",
    "        fields_num += 1\n",
    "    elif paths == []:\n",
    "        fields_num = 2\n",
    "    \n",
    "    query = f\"\"\"\n",
    "        INSERT INTO {table_name} VALUES ({', '.join('?' * fields_num)})\n",
    "        {if_duplicates_do_nothing};\n",
    "    \"\"\".strip()\n",
    "    cur.executemany(query, list(all_args.values()))\n",
    "    conn.commit()\n",
    "\n",
    "    timepoint_2 = time.time()\n",
    "    if verbose:\n",
    "        print('Insertion complete and took {} s.'.format(timepoint_2 - timepoint_1))\n",
    "\n",
    "    if first_entry:\n",
    "        cur = conn.cursor()\n",
    "        cur.execute('SELECT COUNT(*) FROM {};'.format(table_name))\n",
    "        unique_sql = cur.fetchall()[0][0]\n",
    "        unique_python = len(list(all_args.values()))\n",
    "        if unique_python == unique_sql:\n",
    "            print('Number of unique records is accurate')\n",
    "        else:\n",
    "            print('Something went wrong')"
   ]
  },
  {
   "cell_type": "code",
   "execution_count": 7,
   "metadata": {},
   "outputs": [],
   "source": [
    "def extract_json_list_to_sql(conn, matches_list, table_name, path_to_list, paths_from_list, path_to_id_outside_list=\"\", \\\n",
    "                             pk_sql=[], first_entry=True):\n",
    "    \"\"\"\n",
    "    converts list stored inside json to a normal list\n",
    "    \"\"\"\n",
    "    results = [] \n",
    "    for entry in matches_list:\n",
    "        if get_value(entry, path_to_list) is not None:\n",
    "            for element in get_value(entry, path_to_list):\n",
    "                if path_to_id_outside_list == \"\":\n",
    "                    results.append(element)\n",
    "                else:\n",
    "                    results.append((get_value(entry, path_to_id_outside_list), element))\n",
    "    if path_to_id_outside_list == \"\":\n",
    "        from_json_list_with_id = False\n",
    "    else: \n",
    "        from_json_list_with_id = True\n",
    "    extract_json_to_sql(conn, results, table_name, paths_from_list, pk_sql, first_entry, from_json_list_with_id)"
   ]
  },
  {
   "cell_type": "code",
   "execution_count": 8,
   "metadata": {},
   "outputs": [],
   "source": [
    "def clean_sql_table(conn, table_name):\n",
    "    \"\"\"\n",
    "    delete all records from a given table in a given database\n",
    "    \"\"\"\n",
    "    cur = conn.cursor()\n",
    "    cur.execute(f'DELETE FROM {table_name}')"
   ]
  },
  {
   "cell_type": "code",
   "execution_count": 9,
   "metadata": {},
   "outputs": [],
   "source": [
    "def count_unique_records_sql(conn, table_name):\n",
    "    \"\"\"\n",
    "    checks the number of unique records in a given table\n",
    "    \"\"\"\n",
    "    cur = conn.cursor()\n",
    "    cur.execute(f\"SELECT COUNT(*) FROM {table_name};\")\n",
    "    print(cur.fetchall()[0][0])"
   ]
  },
  {
   "cell_type": "code",
   "execution_count": 10,
   "metadata": {},
   "outputs": [],
   "source": [
    "def int_to_float(smth):\n",
    "    \"\"\"\n",
    "    converts integers to floats\n",
    "    \"\"\"\n",
    "    if isinstance(smth, int):\n",
    "        return float(smth)\n",
    "    elif smth == 'N.V.':\n",
    "        return 0.0    # meaning, wine is of type 'non-vintage' and is made of grapes from more than one harvest\n",
    "    else:\n",
    "        return smth"
   ]
  },
  {
   "cell_type": "markdown",
   "metadata": {},
   "source": [
    "Before writing into MariaDB we need to make sure that the data is cleaned."
   ]
  },
  {
   "cell_type": "code",
   "execution_count": 244,
   "metadata": {},
   "outputs": [],
   "source": [
    "# tables = ['wine_flavor_group', 'wine_keyword', 'keyword', 'vintage_toplist', 'toplist', 'vintage', 'wine', 'grape_country', 'style_grape', \\\n",
    "#           'style_food', 'grape', 'food', 'facts', 'style', 'region', 'country', 'price', 'winery', 'type']\n",
    "\n",
    "# conn = connect_to_vivino_db()\n",
    "# for table in tables: \n",
    "#     clean_sql_table(conn, table)\n",
    "#     print(f\"{table} cleaned\")"
   ]
  },
  {
   "cell_type": "markdown",
   "metadata": {},
   "source": [
    "Make sure correct encoding (since MariaDB may reject certain text values which take 4 bytes)"
   ]
  },
  {
   "cell_type": "code",
   "execution_count": 46,
   "metadata": {},
   "outputs": [],
   "source": [
    "conn = connect_to_vivino_db()\n",
    "try:\n",
    "    conn.cursor().execute(\"ALTER DATABASE vivino CHARACTER SET = utf8mb4 COLLATE = utf8mb4_unicode_ci;\")\n",
    "finally:\n",
    "    conn.close()"
   ]
  },
  {
   "cell_type": "code",
   "execution_count": 47,
   "metadata": {},
   "outputs": [
    {
     "name": "stdout",
     "output_type": "stream",
     "text": [
      "enconding of table wine_flavor_group converted\n",
      "enconding of table wine_keyword converted\n",
      "enconding of table keyword converted\n",
      "enconding of table vintage_toplist converted\n",
      "enconding of table toplist converted\n",
      "enconding of table vintage converted\n",
      "enconding of table wine converted\n",
      "enconding of table style_grape converted\n",
      "enconding of table style_food converted\n",
      "enconding of table grape converted\n",
      "enconding of table food converted\n",
      "enconding of table facts converted\n",
      "enconding of table price converted\n",
      "enconding of table winery converted\n",
      "enconding of table type converted\n",
      "enconding of table country converted\n",
      "enconding of table style converted\n",
      "enconding of table region converted\n",
      "enconding of table country_grape converted\n",
      "enconding of table user converted\n",
      "enconding of table review converted\n"
     ]
    }
   ],
   "source": [
    "tables = ['wine_flavor_group', 'wine_keyword', 'keyword', 'vintage_toplist', 'toplist', 'vintage', 'wine', 'style_grape', \\\n",
    "          'style_food', 'grape', 'food', 'facts', 'price', 'winery', 'type', 'country', 'style', 'region', 'country_grape',\\\n",
    "         'user', 'review']\n",
    "\n",
    "conn = connect_to_vivino_db()\n",
    "cur = conn.cursor()\n",
    "\n",
    "try:\n",
    "    for table in tables:\n",
    "        cur.execute(f\"ALTER TABLE {table} CONVERT TO CHARACTER SET utf8mb4 COLLATE utf8mb4_unicode_ci;\")\n",
    "        print(f\"enconding of table {table} converted\")\n",
    "finally: \n",
    "    conn.close()"
   ]
  },
  {
   "cell_type": "markdown",
   "metadata": {},
   "source": [
    "#### Insert wine types"
   ]
  },
  {
   "cell_type": "code",
   "execution_count": 249,
   "metadata": {},
   "outputs": [],
   "source": [
    "def insert_to_wine_types(conn, table_name='type'):\n",
    "    \"\"\"\n",
    "    manually inserts all wine types to SQL table\n",
    "    \"\"\"\n",
    "    cur = conn.cursor()\n",
    "    cur.execute(f\"INSERT INTO {table_name} VALUES (1, 'Red'), (2, 'White'), (3, 'Sparkling'), (4, 'Rose'), (7, 'Dessert'), \\\n",
    "    (24, 'Fortified'), (25, 'Other');\")"
   ]
  },
  {
   "cell_type": "code",
   "execution_count": 299,
   "metadata": {},
   "outputs": [],
   "source": [
    "# conn = connect_to_vivino_db()\n",
    "# try:\n",
    "#     clean_sql_table(conn, 'type')\n",
    "#     insert_to_wine_types(conn)\n",
    "# finally:\n",
    "#     conn.close()"
   ]
  },
  {
   "cell_type": "code",
   "execution_count": 254,
   "metadata": {},
   "outputs": [
    {
     "name": "stdout",
     "output_type": "stream",
     "text": [
      "[(1, 'Red'), (2, 'White'), (3, 'Sparkling'), (4, 'Rose'), (7, 'Dessert'), (24, 'Fortified'), (25, 'Other')]\n"
     ]
    }
   ],
   "source": [
    "conn = connect_to_vivino_db()\n",
    "cur = conn.cursor()\n",
    "cur.execute(\"SELECT * FROM type\")\n",
    "print(cur.fetchall())"
   ]
  },
  {
   "cell_type": "markdown",
   "metadata": {},
   "source": [
    "#### Insert wineries"
   ]
  },
  {
   "cell_type": "code",
   "execution_count": 255,
   "metadata": {},
   "outputs": [],
   "source": [
    "#insert wineries\n",
    "\n",
    "def insert_to_wineries(conn, matches, first_entry=True):\n",
    "    \"\"\"\n",
    "    inserts data to correct fields in the wine table\n",
    "    \"\"\"\n",
    "    table = 'winery'\n",
    "    main = 'vintage/wine/winery/'\n",
    "    paths = [main + 'id', main + 'name', main + 'seo_name', main + 'status']\n",
    "    pk_sql = ['id']\n",
    "    extract_json_to_sql(conn, matches, table, paths, pk_sql, first_entry)"
   ]
  },
  {
   "cell_type": "code",
   "execution_count": 257,
   "metadata": {},
   "outputs": [
    {
     "name": "stdout",
     "output_type": "stream",
     "text": [
      "Insertion complete and took 1.2071480751037598 s.\n",
      "Number of unique records is accurate\n"
     ]
    }
   ],
   "source": [
    "conn = connect_to_vivino_db()\n",
    "try:\n",
    "#     clean_sql_table(conn, 'winery')\n",
    "    insert_to_wineries(conn, recovered_data_distinct, True)\n",
    "finally:\n",
    "    conn.close()"
   ]
  },
  {
   "cell_type": "markdown",
   "metadata": {},
   "source": [
    "#### Insert countries"
   ]
  },
  {
   "cell_type": "code",
   "execution_count": 53,
   "metadata": {},
   "outputs": [],
   "source": [
    "def insert_to_countries(conn, matches, first_entry=True):\n",
    "    \"\"\"\n",
    "    inserts data to correct fields in the country table\n",
    "    \"\"\"\n",
    "    table = 'country'\n",
    "    main = 'vintage/wine/region/country/'\n",
    "    paths = [main + 'code', main + 'name', main + 'native_name', main + 'seo_name', main + 'currency/code', main + 'regions_count',\\\n",
    "            main + 'users_count', main + 'wines_count', main + 'wineries_count']\n",
    "    pk_sql = ['code']\n",
    "    extract_json_to_sql(conn, matches, table, paths, pk_sql, first_entry)"
   ]
  },
  {
   "cell_type": "code",
   "execution_count": 54,
   "metadata": {},
   "outputs": [
    {
     "name": "stdout",
     "output_type": "stream",
     "text": [
      "Insertion complete and took 0.9568181037902832 s.\n",
      "Number of unique records is accurate\n"
     ]
    }
   ],
   "source": [
    "conn = connect_to_vivino_db()\n",
    "try:\n",
    "#     clean_sql_table(conn, 'country')\n",
    "    insert_to_countries(conn, recovered_data_distinct, True)\n",
    "finally:\n",
    "    conn.close()"
   ]
  },
  {
   "cell_type": "markdown",
   "metadata": {},
   "source": [
    "#### Insert regions"
   ]
  },
  {
   "cell_type": "code",
   "execution_count": 55,
   "metadata": {},
   "outputs": [],
   "source": [
    "def insert_to_regions(conn, matches, first_entry=True):\n",
    "    \"\"\"\n",
    "    inserts data to correct fields in the region table\n",
    "    \"\"\"\n",
    "    table = 'region'\n",
    "    main = 'vintage/wine/region/'\n",
    "    paths = [main + 'id', main + 'name', main + 'name_en', main + 'seo_name', main + 'country/code']\n",
    "    pk_sql = ['id']\n",
    "    extract_json_to_sql(conn, matches, table, paths, pk_sql, first_entry)"
   ]
  },
  {
   "cell_type": "code",
   "execution_count": 56,
   "metadata": {},
   "outputs": [
    {
     "name": "stdout",
     "output_type": "stream",
     "text": [
      "Insertion complete and took 1.153214931488037 s.\n",
      "Number of unique records is accurate\n"
     ]
    }
   ],
   "source": [
    "conn = connect_to_vivino_db()\n",
    "try:\n",
    "#     clean_sql_table(conn, 'region')\n",
    "    insert_to_regions(conn, recovered_data_distinct, True)\n",
    "finally:\n",
    "    conn.close()"
   ]
  },
  {
   "cell_type": "markdown",
   "metadata": {},
   "source": [
    "#### Insert style"
   ]
  },
  {
   "cell_type": "code",
   "execution_count": 262,
   "metadata": {},
   "outputs": [],
   "source": [
    "def insert_to_style(conn, matches, first_entry=True):\n",
    "    \"\"\"\n",
    "    inserts data to correct fields in the style table\n",
    "    \"\"\"\n",
    "    table = 'style'\n",
    "    main = 'vintage/wine/style/'\n",
    "    paths = [main + 'id', main + 'seo_name', main + 'regional_name', main + 'varietal_name', main + 'name',\\\n",
    "            main + 'description', main + 'blurb', main + 'body', main + 'body_description', main + 'acidity',\\\n",
    "            main + 'acidity_description', main + 'country/code', main + 'wine_type_id']\n",
    "    pk_sql = ['id']\n",
    "    extract_json_to_sql(conn, matches, table, paths, pk_sql, first_entry)"
   ]
  },
  {
   "cell_type": "code",
   "execution_count": 263,
   "metadata": {},
   "outputs": [
    {
     "name": "stdout",
     "output_type": "stream",
     "text": [
      "Insertion complete and took 1.4676568508148193 s.\n",
      "Number of unique records is accurate\n"
     ]
    }
   ],
   "source": [
    "conn = connect_to_vivino_db()\n",
    "try:\n",
    "#     clean_sql_table(conn, 'style')\n",
    "    insert_to_style(conn, recovered_data_distinct, True)\n",
    "finally:\n",
    "    conn.close()"
   ]
  },
  {
   "cell_type": "markdown",
   "metadata": {},
   "source": [
    "#### Insert food"
   ]
  },
  {
   "cell_type": "code",
   "execution_count": 264,
   "metadata": {},
   "outputs": [],
   "source": [
    "def insert_to_food(conn, matches, first_entry=True):\n",
    "    \"\"\"\n",
    "    inserts data to correct fields in the food table\n",
    "    \"\"\"\n",
    "    table = 'food'\n",
    "    path_to_list = 'vintage/wine/style/food'\n",
    "    paths_from_list = ['id', 'name', 'seo_name']\n",
    "    pk_sql = ['id']\n",
    "    extract_json_list_to_sql(conn, matches, table, path_to_list, paths_from_list, pk_sql=pk_sql, first_entry=first_entry)"
   ]
  },
  {
   "cell_type": "code",
   "execution_count": 265,
   "metadata": {},
   "outputs": [
    {
     "name": "stdout",
     "output_type": "stream",
     "text": [
      "Insertion complete and took 0.7559759616851807 s.\n",
      "Number of unique records is accurate\n"
     ]
    }
   ],
   "source": [
    "conn = connect_to_vivino_db()\n",
    "try:\n",
    "#     clean_sql_table(conn, 'food')\n",
    "    insert_to_food(conn, recovered_data_distinct, True)\n",
    "finally:\n",
    "    conn.close()"
   ]
  },
  {
   "cell_type": "code",
   "execution_count": 266,
   "metadata": {},
   "outputs": [
    {
     "name": "stdout",
     "output_type": "stream",
     "text": [
      "22\n"
     ]
    }
   ],
   "source": [
    "conn = connect_to_vivino_db()\n",
    "try: \n",
    "    count_unique_records_sql(conn, 'food')\n",
    "finally:\n",
    "    conn.close()"
   ]
  },
  {
   "cell_type": "markdown",
   "metadata": {},
   "source": [
    "#### Insert facts"
   ]
  },
  {
   "cell_type": "code",
   "execution_count": 267,
   "metadata": {},
   "outputs": [],
   "source": [
    "def insert_to_facts(conn, matches, first_entry=True):\n",
    "    \"\"\"\n",
    "    inserts data to correct fields in the facts table\n",
    "    \"\"\"\n",
    "    table = 'facts'\n",
    "    path_to_list = 'vintage/wine/style/interesting_facts'\n",
    "    paths_from_list = []\n",
    "    path_to_id_outside_list = 'vintage/wine/style/id'\n",
    "    pk_sql = []\n",
    "    extract_json_list_to_sql(conn, matches, table, path_to_list, paths_from_list, path_to_id_outside_list, pk_sql, first_entry)"
   ]
  },
  {
   "cell_type": "code",
   "execution_count": 270,
   "metadata": {},
   "outputs": [
    {
     "name": "stdout",
     "output_type": "stream",
     "text": [
      "Insertion complete and took 0.627943754196167 s.\n",
      "Number of unique records is accurate\n"
     ]
    }
   ],
   "source": [
    "conn = connect_to_vivino_db()\n",
    "try:\n",
    "    clean_sql_table(conn, 'facts')\n",
    "    insert_to_facts(conn, recovered_data_distinct, True)\n",
    "finally:\n",
    "    conn.close()"
   ]
  },
  {
   "cell_type": "code",
   "execution_count": 271,
   "metadata": {},
   "outputs": [
    {
     "name": "stdout",
     "output_type": "stream",
     "text": [
      "502\n"
     ]
    }
   ],
   "source": [
    "conn = connect_to_vivino_db()\n",
    "try: \n",
    "    count_unique_records_sql(conn, 'facts')\n",
    "finally:\n",
    "    conn.close()"
   ]
  },
  {
   "cell_type": "markdown",
   "metadata": {},
   "source": [
    "#### Insert style_food"
   ]
  },
  {
   "cell_type": "code",
   "execution_count": 272,
   "metadata": {},
   "outputs": [],
   "source": [
    "def insert_to_style_food(conn, matches, first_entry=True):\n",
    "    \"\"\"\n",
    "    inserts data to correct fields in the style-food table\n",
    "    \"\"\"\n",
    "    table = 'style_food'\n",
    "    path_to_list = 'vintage/wine/style/food'\n",
    "    paths_from_list = ['id']\n",
    "    path_to_id_outside_list = 'vintage/wine/style/id'\n",
    "    pk_sql = ['style_id', 'food_id']\n",
    "    extract_json_list_to_sql(conn, matches, table, path_to_list, paths_from_list, path_to_id_outside_list, pk_sql, first_entry)"
   ]
  },
  {
   "cell_type": "code",
   "execution_count": 273,
   "metadata": {},
   "outputs": [
    {
     "name": "stdout",
     "output_type": "stream",
     "text": [
      "Insertion complete and took 0.6490700244903564 s.\n",
      "Number of unique records is accurate\n"
     ]
    }
   ],
   "source": [
    "conn = connect_to_vivino_db()\n",
    "try:\n",
    "#     clean_sql_table(conn, 'style_food')\n",
    "    insert_to_style_food(conn, recovered_data_distinct, True)\n",
    "finally:\n",
    "    conn.close()"
   ]
  },
  {
   "cell_type": "code",
   "execution_count": 274,
   "metadata": {},
   "outputs": [
    {
     "name": "stdout",
     "output_type": "stream",
     "text": [
      "1063\n"
     ]
    }
   ],
   "source": [
    "conn = connect_to_vivino_db()\n",
    "try: \n",
    "    count_unique_records_sql(conn, 'style_food')\n",
    "finally:\n",
    "    conn.close()"
   ]
  },
  {
   "cell_type": "markdown",
   "metadata": {},
   "source": [
    "#### Insert grapes"
   ]
  },
  {
   "cell_type": "code",
   "execution_count": 275,
   "metadata": {},
   "outputs": [],
   "source": [
    "def insert_to_grape(conn, matches, first_entry=True):\n",
    "    \"\"\"\n",
    "    inserts data to correct fields in the grape table\n",
    "    \"\"\"\n",
    "    table = 'grape'\n",
    "    path_to_list = 'vintage/wine/style/grapes'\n",
    "    paths_from_list = ['id', 'name', 'seo_name', 'has_detailed_info', 'wines_count']\n",
    "    path_to_id_outside_list = ''\n",
    "    pk_sql = ['id']\n",
    "    extract_json_list_to_sql(conn, matches, table, path_to_list, paths_from_list, path_to_id_outside_list, pk_sql, first_entry)"
   ]
  },
  {
   "cell_type": "code",
   "execution_count": 276,
   "metadata": {},
   "outputs": [
    {
     "name": "stdout",
     "output_type": "stream",
     "text": [
      "Insertion complete and took 0.8053209781646729 s.\n",
      "Number of unique records is accurate\n"
     ]
    }
   ],
   "source": [
    "conn = connect_to_vivino_db()\n",
    "try:\n",
    "#     clean_sql_table(conn, 'grape')\n",
    "    insert_to_grape(conn, recovered_data_distinct, True)\n",
    "finally:\n",
    "    conn.close()"
   ]
  },
  {
   "cell_type": "code",
   "execution_count": 277,
   "metadata": {},
   "outputs": [
    {
     "name": "stdout",
     "output_type": "stream",
     "text": [
      "128\n"
     ]
    }
   ],
   "source": [
    "conn = connect_to_vivino_db()\n",
    "try: \n",
    "    count_unique_records_sql(conn, 'grape')\n",
    "finally:\n",
    "    conn.close()"
   ]
  },
  {
   "cell_type": "markdown",
   "metadata": {},
   "source": [
    "#### Insert style_grape"
   ]
  },
  {
   "cell_type": "code",
   "execution_count": 278,
   "metadata": {},
   "outputs": [],
   "source": [
    "def insert_to_style_grape(conn, matches, first_entry=True):\n",
    "    \"\"\"\n",
    "    inserts data to correct fields in the style-grape table\n",
    "    \"\"\"\n",
    "    table = 'style_grape'\n",
    "    path_to_list = 'vintage/wine/style/grapes'\n",
    "    paths_from_list = ['id']\n",
    "    path_to_id_outside_list = 'vintage/wine/style/id'\n",
    "    pk_sql = ['style_id', 'grape_id']\n",
    "    extract_json_list_to_sql(conn, matches, table, path_to_list, paths_from_list, path_to_id_outside_list, pk_sql, first_entry)"
   ]
  },
  {
   "cell_type": "code",
   "execution_count": 279,
   "metadata": {},
   "outputs": [
    {
     "name": "stdout",
     "output_type": "stream",
     "text": [
      "Insertion complete and took 0.5234789848327637 s.\n",
      "Number of unique records is accurate\n"
     ]
    }
   ],
   "source": [
    "conn = connect_to_vivino_db()\n",
    "try:\n",
    "#     clean_sql_table(conn, 'style_grape')\n",
    "    insert_to_style_grape(conn, recovered_data_distinct, True)\n",
    "finally:\n",
    "    conn.close()"
   ]
  },
  {
   "cell_type": "code",
   "execution_count": 280,
   "metadata": {},
   "outputs": [
    {
     "name": "stdout",
     "output_type": "stream",
     "text": [
      "551\n"
     ]
    }
   ],
   "source": [
    "conn = connect_to_vivino_db()\n",
    "try: \n",
    "    count_unique_records_sql(conn, 'style_grape')\n",
    "finally:\n",
    "    conn.close()"
   ]
  },
  {
   "cell_type": "markdown",
   "metadata": {},
   "source": [
    "#### Insert country_grape"
   ]
  },
  {
   "cell_type": "code",
   "execution_count": 281,
   "metadata": {},
   "outputs": [],
   "source": [
    "def insert_to_country_grape(conn, matches, first_entry=True):\n",
    "    \"\"\"\n",
    "    inserts data to correct fields in the country-grape table\n",
    "    \"\"\"\n",
    "    table = 'country_grape'\n",
    "    path_to_list = 'vintage/wine/style/grapes'\n",
    "    paths_from_list = ['id']\n",
    "    path_to_id_outside_list = 'vintage/wine/style/country/code'\n",
    "    pk_sql = ['country_code', 'grape_id']\n",
    "    extract_json_list_to_sql(conn, matches, table, path_to_list, paths_from_list, path_to_id_outside_list, pk_sql, first_entry)"
   ]
  },
  {
   "cell_type": "code",
   "execution_count": 282,
   "metadata": {},
   "outputs": [
    {
     "name": "stdout",
     "output_type": "stream",
     "text": [
      "Insertion complete and took 0.4409778118133545 s.\n",
      "Number of unique records is accurate\n"
     ]
    }
   ],
   "source": [
    "conn = connect_to_vivino_db()\n",
    "try:\n",
    "#     clean_sql_table(conn, 'country_grape')\n",
    "    insert_to_country_grape(conn, recovered_data_distinct, True)\n",
    "finally:\n",
    "    conn.close()"
   ]
  },
  {
   "cell_type": "code",
   "execution_count": 283,
   "metadata": {},
   "outputs": [
    {
     "name": "stdout",
     "output_type": "stream",
     "text": [
      "283\n"
     ]
    }
   ],
   "source": [
    "conn = connect_to_vivino_db()\n",
    "try: \n",
    "    count_unique_records_sql(conn, 'country_grape')\n",
    "finally:\n",
    "    conn.close()"
   ]
  },
  {
   "cell_type": "markdown",
   "metadata": {},
   "source": [
    "#### Insert wine"
   ]
  },
  {
   "cell_type": "code",
   "execution_count": 284,
   "metadata": {},
   "outputs": [],
   "source": [
    "def insert_to_wine(conn, matches, first_entry=True):\n",
    "    \"\"\"\n",
    "    inserts data to correct fields in the wine table\n",
    "    \"\"\"\n",
    "    table = 'wine'\n",
    "    main = 'vintage/wine/'\n",
    "    paths = [main + 'id', main + 'name', main + 'seo_name', main + 'type_id', main + 'vintage_type', main + 'is_natural',\\\n",
    "             main + 'region/id', main + 'winery/id', main + 'taste/structure/acidity', main + 'taste/structure/fizziness',\\\n",
    "             main + 'taste/structure/intensity', main + 'taste/structure/sweetness', main + 'taste/structure/tannin',\\\n",
    "             main + 'taste/structure/user_structure_count', main + 'taste/structure/calculated_structure_count', \\\n",
    "             main + 'style/id', main + 'statistics/status', main + 'statistics/ratings_count', main + 'statistics/ratings_average',\\\n",
    "             main + 'statistics/labels_count', main + 'statistics/vintages_count', main + 'has_valid_ratings']\n",
    "    pk_sql = ['id']\n",
    "    extract_json_to_sql(conn, matches, table, paths, pk_sql, first_entry, False)"
   ]
  },
  {
   "cell_type": "code",
   "execution_count": 285,
   "metadata": {},
   "outputs": [
    {
     "name": "stdout",
     "output_type": "stream",
     "text": [
      "Insertion complete and took 2.957200050354004 s.\n",
      "Number of unique records is accurate\n"
     ]
    }
   ],
   "source": [
    "conn = connect_to_vivino_db()\n",
    "try:\n",
    "#     clean_sql_table(conn, 'wine')\n",
    "    insert_to_wine(conn, recovered_data_distinct, True)\n",
    "finally:\n",
    "    conn.close()"
   ]
  },
  {
   "cell_type": "code",
   "execution_count": 286,
   "metadata": {},
   "outputs": [
    {
     "name": "stdout",
     "output_type": "stream",
     "text": [
      "29811\n"
     ]
    }
   ],
   "source": [
    "conn = connect_to_vivino_db()\n",
    "try: \n",
    "    count_unique_records_sql(conn, 'wine')\n",
    "finally:\n",
    "    conn.close()"
   ]
  },
  {
   "cell_type": "markdown",
   "metadata": {},
   "source": [
    "#### Insert price"
   ]
  },
  {
   "cell_type": "code",
   "execution_count": 287,
   "metadata": {},
   "outputs": [],
   "source": [
    "def insert_to_price(conn, matches, first_entry=True):\n",
    "    \"\"\"\n",
    "    inserts data to correct fields in the price table\n",
    "    \"\"\"\n",
    "    table = 'price'\n",
    "    main = 'price/'\n",
    "    paths = [main + 'id', main + 'amount', main + 'discounted_from', main + 'type', main + 'visibility',\\\n",
    "            main + 'currency/code', main + 'bottle_type/name']\n",
    "    pk_sql = ['id']\n",
    "    extract_json_to_sql(conn, matches, table, paths, pk_sql, first_entry)"
   ]
  },
  {
   "cell_type": "code",
   "execution_count": 288,
   "metadata": {},
   "outputs": [
    {
     "name": "stdout",
     "output_type": "stream",
     "text": [
      "Insertion complete and took 1.6994068622589111 s.\n",
      "Number of unique records is accurate\n"
     ]
    }
   ],
   "source": [
    "conn = connect_to_vivino_db()\n",
    "try:\n",
    "#     clean_sql_table(conn, 'price')\n",
    "    insert_to_price(conn, recovered_data_distinct, True)\n",
    "finally:\n",
    "    conn.close()"
   ]
  },
  {
   "cell_type": "code",
   "execution_count": 289,
   "metadata": {},
   "outputs": [
    {
     "name": "stdout",
     "output_type": "stream",
     "text": [
      "55819\n"
     ]
    }
   ],
   "source": [
    "conn = connect_to_vivino_db()\n",
    "try: \n",
    "    count_unique_records_sql(conn, 'price')\n",
    "finally:\n",
    "    conn.close()"
   ]
  },
  {
   "cell_type": "markdown",
   "metadata": {},
   "source": [
    "#### Insert vintage"
   ]
  },
  {
   "cell_type": "code",
   "execution_count": 290,
   "metadata": {},
   "outputs": [],
   "source": [
    "def insert_to_vintage(conn, matches, first_entry=True):\n",
    "    \"\"\"\n",
    "    inserts data to correct fields in the vintage table\n",
    "    \"\"\"\n",
    "    table = 'vintage'\n",
    "    main = 'vintage/'\n",
    "    paths = [main + 'id', main + 'seo_name', main + 'name', main + 'wine/id', main + 'year', main + 'has_valid_ratings',\\\n",
    "             main + 'statistics/status', main + 'statistics/ratings_count', main + 'statistics/ratings_average',\\\n",
    "             main + 'statistics/labels_count', 'price/id']\n",
    "    pk_sql = ['id']\n",
    "    extract_json_to_sql(conn, matches, table, paths, pk_sql, first_entry, False)"
   ]
  },
  {
   "cell_type": "code",
   "execution_count": 291,
   "metadata": {},
   "outputs": [
    {
     "name": "stdout",
     "output_type": "stream",
     "text": [
      "Insertion complete and took 2.4885811805725098 s.\n",
      "Number of unique records is accurate\n"
     ]
    }
   ],
   "source": [
    "conn = connect_to_vivino_db()\n",
    "try:\n",
    "#     clean_sql_table(conn, 'vintage')\n",
    "    insert_to_vintage(conn, recovered_data_distinct, True)\n",
    "finally:\n",
    "    conn.close()"
   ]
  },
  {
   "cell_type": "code",
   "execution_count": 292,
   "metadata": {},
   "outputs": [
    {
     "name": "stdout",
     "output_type": "stream",
     "text": [
      "55819\n"
     ]
    }
   ],
   "source": [
    "conn = connect_to_vivino_db()\n",
    "try: \n",
    "    count_unique_records_sql(conn, 'vintage')\n",
    "finally:\n",
    "    conn.close()"
   ]
  },
  {
   "cell_type": "markdown",
   "metadata": {},
   "source": [
    "#### Insert toplist"
   ]
  },
  {
   "cell_type": "code",
   "execution_count": 293,
   "metadata": {},
   "outputs": [],
   "source": [
    "def insert_to_toplist(conn, matches, first_entry=True):\n",
    "    \"\"\"\n",
    "    inserts data to correct fields in the toplist table\n",
    "    \"\"\"\n",
    "    table = 'toplist'\n",
    "    path_to_list = 'vintage/top_list_rankings'\n",
    "    paths_from_list = ['top_list/id', 'top_list/location', 'top_list/name', 'top_list/seo_name', 'top_list/type', 'top_list/year']\n",
    "    pk_sql = ['id']\n",
    "    extract_json_list_to_sql(conn, matches, table, path_to_list, paths_from_list, pk_sql=pk_sql, first_entry=first_entry)"
   ]
  },
  {
   "cell_type": "code",
   "execution_count": 294,
   "metadata": {},
   "outputs": [
    {
     "name": "stdout",
     "output_type": "stream",
     "text": [
      "Insertion complete and took 0.5344991683959961 s.\n",
      "Number of unique records is accurate\n"
     ]
    }
   ],
   "source": [
    "conn = connect_to_vivino_db()\n",
    "try:\n",
    "#     clean_sql_table(conn, 'toplist')\n",
    "    insert_to_toplist(conn, recovered_data_distinct, True)\n",
    "finally:\n",
    "    conn.close()"
   ]
  },
  {
   "cell_type": "code",
   "execution_count": 295,
   "metadata": {},
   "outputs": [
    {
     "name": "stdout",
     "output_type": "stream",
     "text": [
      "533\n"
     ]
    }
   ],
   "source": [
    "conn = connect_to_vivino_db()\n",
    "try: \n",
    "    count_unique_records_sql(conn, 'toplist')\n",
    "finally:\n",
    "    conn.close()"
   ]
  },
  {
   "cell_type": "markdown",
   "metadata": {},
   "source": [
    "#### Insert vintage_toplist"
   ]
  },
  {
   "cell_type": "code",
   "execution_count": 296,
   "metadata": {},
   "outputs": [],
   "source": [
    "def insert_to_vintage_toplist(conn, matches, first_entry=True):\n",
    "    \"\"\"\n",
    "    inserts data to correct fields in the vintage-toplist table\n",
    "    \"\"\"\n",
    "    table = 'vintage_toplist'\n",
    "    path_to_list = 'vintage/top_list_rankings'\n",
    "    paths_from_list = ['top_list/id', 'top_list/rank', 'top_list/previous_rank', 'top_list/description']\n",
    "    path_to_id_outside_list = 'vintage/id'\n",
    "    pk_sql = ['vintage_id', 'toplist_id']\n",
    "    extract_json_list_to_sql(conn, matches, table, path_to_list, paths_from_list, path_to_id_outside_list, pk_sql, first_entry)"
   ]
  },
  {
   "cell_type": "code",
   "execution_count": 297,
   "metadata": {},
   "outputs": [
    {
     "name": "stdout",
     "output_type": "stream",
     "text": [
      "Insertion complete and took 0.4511551856994629 s.\n",
      "Number of unique records is accurate\n"
     ]
    }
   ],
   "source": [
    "conn = connect_to_vivino_db()\n",
    "try:\n",
    "#     clean_sql_table(conn, 'vintage_toplist')\n",
    "    insert_to_vintage_toplist(conn, recovered_data_distinct, True)\n",
    "finally:\n",
    "    conn.close()"
   ]
  },
  {
   "cell_type": "code",
   "execution_count": 298,
   "metadata": {},
   "outputs": [
    {
     "name": "stdout",
     "output_type": "stream",
     "text": [
      "1900\n"
     ]
    }
   ],
   "source": [
    "conn = connect_to_vivino_db()\n",
    "try: \n",
    "    count_unique_records_sql(conn, 'vintage_toplist')\n",
    "finally:\n",
    "    conn.close()"
   ]
  },
  {
   "cell_type": "markdown",
   "metadata": {},
   "source": [
    "#### Understanding reviews"
   ]
  },
  {
   "cell_type": "code",
   "execution_count": 12,
   "metadata": {},
   "outputs": [],
   "source": [
    "#check the format of reviews data\n",
    "\n",
    "with open ('backup_data/reviews/Italy_2017', 'rb') as f:\n",
    "    cur_reviews = pickle.load(f)"
   ]
  },
  {
   "cell_type": "code",
   "execution_count": 15,
   "metadata": {},
   "outputs": [],
   "source": [
    "reviews_df = pd.json_normalize(cur_reviews)"
   ]
  },
  {
   "cell_type": "code",
   "execution_count": 16,
   "metadata": {},
   "outputs": [
    {
     "data": {
      "text/html": [
       "<div>\n",
       "<style scoped>\n",
       "    .dataframe tbody tr th:only-of-type {\n",
       "        vertical-align: middle;\n",
       "    }\n",
       "\n",
       "    .dataframe tbody tr th {\n",
       "        vertical-align: top;\n",
       "    }\n",
       "\n",
       "    .dataframe thead th {\n",
       "        text-align: right;\n",
       "    }\n",
       "</style>\n",
       "<table border=\"1\" class=\"dataframe\">\n",
       "  <thead>\n",
       "    <tr style=\"text-align: right;\">\n",
       "      <th></th>\n",
       "      <th>id</th>\n",
       "      <th>rating</th>\n",
       "      <th>note</th>\n",
       "      <th>language</th>\n",
       "      <th>created_at</th>\n",
       "      <th>aggregated</th>\n",
       "      <th>tagged_note</th>\n",
       "      <th>user.id</th>\n",
       "      <th>user.seo_name</th>\n",
       "      <th>user.alias</th>\n",
       "      <th>...</th>\n",
       "      <th>vintage.image.variations.label_medium_square</th>\n",
       "      <th>vintage.image.variations.label_small_square</th>\n",
       "      <th>vintage.wine.statistics.status</th>\n",
       "      <th>vintage.wine.statistics.ratings_count</th>\n",
       "      <th>vintage.wine.statistics.ratings_average</th>\n",
       "      <th>vintage.wine.statistics.labels_count</th>\n",
       "      <th>vintage.wine.statistics.vintages_count</th>\n",
       "      <th>vintage.wine.vintage_mask</th>\n",
       "      <th>vintage.wine.region.background_image</th>\n",
       "      <th>user.image</th>\n",
       "    </tr>\n",
       "  </thead>\n",
       "  <tbody>\n",
       "    <tr>\n",
       "      <th>0</th>\n",
       "      <td>184007538</td>\n",
       "      <td>3.5</td>\n",
       "      <td>Fruity. Smooth. Good</td>\n",
       "      <td>en</td>\n",
       "      <td>2020-11-20T22:19:35.000Z</td>\n",
       "      <td>True</td>\n",
       "      <td>Fruity. Smooth. Good</td>\n",
       "      <td>10577601</td>\n",
       "      <td>davidlowe10</td>\n",
       "      <td>David Lowe</td>\n",
       "      <td>...</td>\n",
       "      <td>NaN</td>\n",
       "      <td>NaN</td>\n",
       "      <td>NaN</td>\n",
       "      <td>NaN</td>\n",
       "      <td>NaN</td>\n",
       "      <td>NaN</td>\n",
       "      <td>NaN</td>\n",
       "      <td>NaN</td>\n",
       "      <td>NaN</td>\n",
       "      <td>NaN</td>\n",
       "    </tr>\n",
       "    <tr>\n",
       "      <th>1</th>\n",
       "      <td>183998245</td>\n",
       "      <td>3.5</td>\n",
       "      <td>Un Primitivo distinto, al olfato mucha compota...</td>\n",
       "      <td>es</td>\n",
       "      <td>2020-11-20T21:13:25.000Z</td>\n",
       "      <td>True</td>\n",
       "      <td>Un Primitivo distinto, al olfato mucha compota...</td>\n",
       "      <td>6827219</td>\n",
       "      <td>luis-abb</td>\n",
       "      <td>Luis Abbate</td>\n",
       "      <td>...</td>\n",
       "      <td>NaN</td>\n",
       "      <td>NaN</td>\n",
       "      <td>NaN</td>\n",
       "      <td>NaN</td>\n",
       "      <td>NaN</td>\n",
       "      <td>NaN</td>\n",
       "      <td>NaN</td>\n",
       "      <td>NaN</td>\n",
       "      <td>NaN</td>\n",
       "      <td>NaN</td>\n",
       "    </tr>\n",
       "    <tr>\n",
       "      <th>2</th>\n",
       "      <td>183989953</td>\n",
       "      <td>3.5</td>\n",
       "      <td>Mto bom</td>\n",
       "      <td>un</td>\n",
       "      <td>2020-11-20T20:27:01.000Z</td>\n",
       "      <td>True</td>\n",
       "      <td>Mto bom</td>\n",
       "      <td>27070871</td>\n",
       "      <td>georgia_gomes</td>\n",
       "      <td>Georgia Gomes</td>\n",
       "      <td>...</td>\n",
       "      <td>NaN</td>\n",
       "      <td>NaN</td>\n",
       "      <td>NaN</td>\n",
       "      <td>NaN</td>\n",
       "      <td>NaN</td>\n",
       "      <td>NaN</td>\n",
       "      <td>NaN</td>\n",
       "      <td>NaN</td>\n",
       "      <td>NaN</td>\n",
       "      <td>NaN</td>\n",
       "    </tr>\n",
       "    <tr>\n",
       "      <th>3</th>\n",
       "      <td>183980214</td>\n",
       "      <td>4.0</td>\n",
       "      <td>Pretty understated. \\n\\nCherries and tannin on...</td>\n",
       "      <td>en</td>\n",
       "      <td>2020-11-20T19:41:00.000Z</td>\n",
       "      <td>True</td>\n",
       "      <td>Pretty understated. \\n\\nCherries and tannin on...</td>\n",
       "      <td>16065993</td>\n",
       "      <td>matthew.sara</td>\n",
       "      <td>Matthew Sarabadu</td>\n",
       "      <td>...</td>\n",
       "      <td>//images.vivino.com/thumbs/OdLLerA1RQ2bAO8xVWR...</td>\n",
       "      <td>//images.vivino.com/thumbs/OdLLerA1RQ2bAO8xVWR...</td>\n",
       "      <td>NaN</td>\n",
       "      <td>NaN</td>\n",
       "      <td>NaN</td>\n",
       "      <td>NaN</td>\n",
       "      <td>NaN</td>\n",
       "      <td>NaN</td>\n",
       "      <td>NaN</td>\n",
       "      <td>NaN</td>\n",
       "    </tr>\n",
       "    <tr>\n",
       "      <th>4</th>\n",
       "      <td>183975832</td>\n",
       "      <td>4.5</td>\n",
       "      <td>Good wine, rianne liked</td>\n",
       "      <td>en</td>\n",
       "      <td>2020-11-20T19:22:50.000Z</td>\n",
       "      <td>True</td>\n",
       "      <td>Good wine, rianne liked</td>\n",
       "      <td>34087491</td>\n",
       "      <td>josef.saliba</td>\n",
       "      <td>Josef Saliba</td>\n",
       "      <td>...</td>\n",
       "      <td>NaN</td>\n",
       "      <td>NaN</td>\n",
       "      <td>NaN</td>\n",
       "      <td>NaN</td>\n",
       "      <td>NaN</td>\n",
       "      <td>NaN</td>\n",
       "      <td>NaN</td>\n",
       "      <td>NaN</td>\n",
       "      <td>NaN</td>\n",
       "      <td>NaN</td>\n",
       "    </tr>\n",
       "  </tbody>\n",
       "</table>\n",
       "<p>5 rows × 100 columns</p>\n",
       "</div>"
      ],
      "text/plain": [
       "          id  rating                                               note  \\\n",
       "0  184007538     3.5                               Fruity. Smooth. Good   \n",
       "1  183998245     3.5  Un Primitivo distinto, al olfato mucha compota...   \n",
       "2  183989953     3.5                                           Mto bom    \n",
       "3  183980214     4.0  Pretty understated. \\n\\nCherries and tannin on...   \n",
       "4  183975832     4.5                            Good wine, rianne liked   \n",
       "\n",
       "  language                created_at  aggregated  \\\n",
       "0       en  2020-11-20T22:19:35.000Z        True   \n",
       "1       es  2020-11-20T21:13:25.000Z        True   \n",
       "2       un  2020-11-20T20:27:01.000Z        True   \n",
       "3       en  2020-11-20T19:41:00.000Z        True   \n",
       "4       en  2020-11-20T19:22:50.000Z        True   \n",
       "\n",
       "                                         tagged_note   user.id  user.seo_name  \\\n",
       "0                               Fruity. Smooth. Good  10577601    davidlowe10   \n",
       "1  Un Primitivo distinto, al olfato mucha compota...   6827219       luis-abb   \n",
       "2                                           Mto bom   27070871  georgia_gomes   \n",
       "3  Pretty understated. \\n\\nCherries and tannin on...  16065993   matthew.sara   \n",
       "4                            Good wine, rianne liked  34087491   josef.saliba   \n",
       "\n",
       "         user.alias  ...       vintage.image.variations.label_medium_square  \\\n",
       "0        David Lowe  ...                                                NaN   \n",
       "1       Luis Abbate  ...                                                NaN   \n",
       "2     Georgia Gomes  ...                                                NaN   \n",
       "3  Matthew Sarabadu  ...  //images.vivino.com/thumbs/OdLLerA1RQ2bAO8xVWR...   \n",
       "4      Josef Saliba  ...                                                NaN   \n",
       "\n",
       "         vintage.image.variations.label_small_square  \\\n",
       "0                                                NaN   \n",
       "1                                                NaN   \n",
       "2                                                NaN   \n",
       "3  //images.vivino.com/thumbs/OdLLerA1RQ2bAO8xVWR...   \n",
       "4                                                NaN   \n",
       "\n",
       "  vintage.wine.statistics.status vintage.wine.statistics.ratings_count  \\\n",
       "0                            NaN                                   NaN   \n",
       "1                            NaN                                   NaN   \n",
       "2                            NaN                                   NaN   \n",
       "3                            NaN                                   NaN   \n",
       "4                            NaN                                   NaN   \n",
       "\n",
       "  vintage.wine.statistics.ratings_average  \\\n",
       "0                                     NaN   \n",
       "1                                     NaN   \n",
       "2                                     NaN   \n",
       "3                                     NaN   \n",
       "4                                     NaN   \n",
       "\n",
       "   vintage.wine.statistics.labels_count  \\\n",
       "0                                   NaN   \n",
       "1                                   NaN   \n",
       "2                                   NaN   \n",
       "3                                   NaN   \n",
       "4                                   NaN   \n",
       "\n",
       "   vintage.wine.statistics.vintages_count  vintage.wine.vintage_mask  \\\n",
       "0                                     NaN                        NaN   \n",
       "1                                     NaN                        NaN   \n",
       "2                                     NaN                        NaN   \n",
       "3                                     NaN                        NaN   \n",
       "4                                     NaN                        NaN   \n",
       "\n",
       "   vintage.wine.region.background_image  user.image  \n",
       "0                                   NaN         NaN  \n",
       "1                                   NaN         NaN  \n",
       "2                                   NaN         NaN  \n",
       "3                                   NaN         NaN  \n",
       "4                                   NaN         NaN  \n",
       "\n",
       "[5 rows x 100 columns]"
      ]
     },
     "execution_count": 16,
     "metadata": {},
     "output_type": "execute_result"
    }
   ],
   "source": [
    "reviews_df.head()"
   ]
  },
  {
   "cell_type": "code",
   "execution_count": 48,
   "metadata": {},
   "outputs": [],
   "source": [
    "# reviews_df.columns"
   ]
  },
  {
   "cell_type": "code",
   "execution_count": 22,
   "metadata": {},
   "outputs": [],
   "source": [
    "reviews_df_main = reviews_df[['id', 'rating', 'note', 'language', 'created_at', 'aggregated',\n",
    "       'tagged_note', 'user.id', 'user.seo_name', 'user.alias',\n",
    "       'user.is_featured', 'user.visibility',\n",
    "       'user.statistics.followers_count', 'user.statistics.followings_count',\n",
    "       'user.statistics.ratings_count', 'user.statistics.ratings_sum',\n",
    "       'user.statistics.reviews_count', 'user.background_image', 'vintage.id']]"
   ]
  },
  {
   "cell_type": "code",
   "execution_count": 24,
   "metadata": {},
   "outputs": [
    {
     "data": {
      "text/html": [
       "<div>\n",
       "<style scoped>\n",
       "    .dataframe tbody tr th:only-of-type {\n",
       "        vertical-align: middle;\n",
       "    }\n",
       "\n",
       "    .dataframe tbody tr th {\n",
       "        vertical-align: top;\n",
       "    }\n",
       "\n",
       "    .dataframe thead th {\n",
       "        text-align: right;\n",
       "    }\n",
       "</style>\n",
       "<table border=\"1\" class=\"dataframe\">\n",
       "  <thead>\n",
       "    <tr style=\"text-align: right;\">\n",
       "      <th></th>\n",
       "      <th>id</th>\n",
       "      <th>rating</th>\n",
       "      <th>note</th>\n",
       "      <th>language</th>\n",
       "      <th>created_at</th>\n",
       "      <th>aggregated</th>\n",
       "      <th>tagged_note</th>\n",
       "      <th>user.id</th>\n",
       "      <th>user.seo_name</th>\n",
       "      <th>user.alias</th>\n",
       "      <th>user.is_featured</th>\n",
       "      <th>user.visibility</th>\n",
       "      <th>user.statistics.followers_count</th>\n",
       "      <th>user.statistics.followings_count</th>\n",
       "      <th>user.statistics.ratings_count</th>\n",
       "      <th>user.statistics.ratings_sum</th>\n",
       "      <th>user.statistics.reviews_count</th>\n",
       "      <th>user.background_image</th>\n",
       "      <th>vintage.id</th>\n",
       "    </tr>\n",
       "  </thead>\n",
       "  <tbody>\n",
       "    <tr>\n",
       "      <th>0</th>\n",
       "      <td>184007538</td>\n",
       "      <td>3.5</td>\n",
       "      <td>Fruity. Smooth. Good</td>\n",
       "      <td>en</td>\n",
       "      <td>2020-11-20T22:19:35.000Z</td>\n",
       "      <td>True</td>\n",
       "      <td>Fruity. Smooth. Good</td>\n",
       "      <td>10577601</td>\n",
       "      <td>davidlowe10</td>\n",
       "      <td>David Lowe</td>\n",
       "      <td>False</td>\n",
       "      <td>all</td>\n",
       "      <td>2.0</td>\n",
       "      <td>0.0</td>\n",
       "      <td>17.0</td>\n",
       "      <td>66.5</td>\n",
       "      <td>11.0</td>\n",
       "      <td>None</td>\n",
       "      <td>150367266</td>\n",
       "    </tr>\n",
       "    <tr>\n",
       "      <th>1</th>\n",
       "      <td>183998245</td>\n",
       "      <td>3.5</td>\n",
       "      <td>Un Primitivo distinto, al olfato mucha compota...</td>\n",
       "      <td>es</td>\n",
       "      <td>2020-11-20T21:13:25.000Z</td>\n",
       "      <td>True</td>\n",
       "      <td>Un Primitivo distinto, al olfato mucha compota...</td>\n",
       "      <td>6827219</td>\n",
       "      <td>luis-abb</td>\n",
       "      <td>Luis Abbate</td>\n",
       "      <td>False</td>\n",
       "      <td>all</td>\n",
       "      <td>13.0</td>\n",
       "      <td>15.0</td>\n",
       "      <td>286.0</td>\n",
       "      <td>1184.0</td>\n",
       "      <td>272.0</td>\n",
       "      <td>None</td>\n",
       "      <td>150367266</td>\n",
       "    </tr>\n",
       "    <tr>\n",
       "      <th>2</th>\n",
       "      <td>183989953</td>\n",
       "      <td>3.5</td>\n",
       "      <td>Mto bom</td>\n",
       "      <td>un</td>\n",
       "      <td>2020-11-20T20:27:01.000Z</td>\n",
       "      <td>True</td>\n",
       "      <td>Mto bom</td>\n",
       "      <td>27070871</td>\n",
       "      <td>georgia_gomes</td>\n",
       "      <td>Georgia Gomes</td>\n",
       "      <td>False</td>\n",
       "      <td>all</td>\n",
       "      <td>0.0</td>\n",
       "      <td>0.0</td>\n",
       "      <td>20.0</td>\n",
       "      <td>76.5</td>\n",
       "      <td>4.0</td>\n",
       "      <td>None</td>\n",
       "      <td>150367266</td>\n",
       "    </tr>\n",
       "    <tr>\n",
       "      <th>3</th>\n",
       "      <td>183980214</td>\n",
       "      <td>4.0</td>\n",
       "      <td>Pretty understated. \\n\\nCherries and tannin on...</td>\n",
       "      <td>en</td>\n",
       "      <td>2020-11-20T19:41:00.000Z</td>\n",
       "      <td>True</td>\n",
       "      <td>Pretty understated. \\n\\nCherries and tannin on...</td>\n",
       "      <td>16065993</td>\n",
       "      <td>matthew.sara</td>\n",
       "      <td>Matthew Sarabadu</td>\n",
       "      <td>False</td>\n",
       "      <td>all</td>\n",
       "      <td>5.0</td>\n",
       "      <td>7.0</td>\n",
       "      <td>891.0</td>\n",
       "      <td>3440.5</td>\n",
       "      <td>656.0</td>\n",
       "      <td>None</td>\n",
       "      <td>150367266</td>\n",
       "    </tr>\n",
       "    <tr>\n",
       "      <th>4</th>\n",
       "      <td>183975832</td>\n",
       "      <td>4.5</td>\n",
       "      <td>Good wine, rianne liked</td>\n",
       "      <td>en</td>\n",
       "      <td>2020-11-20T19:22:50.000Z</td>\n",
       "      <td>True</td>\n",
       "      <td>Good wine, rianne liked</td>\n",
       "      <td>34087491</td>\n",
       "      <td>josef.saliba</td>\n",
       "      <td>Josef Saliba</td>\n",
       "      <td>False</td>\n",
       "      <td>all</td>\n",
       "      <td>0.0</td>\n",
       "      <td>0.0</td>\n",
       "      <td>80.0</td>\n",
       "      <td>297.0</td>\n",
       "      <td>65.0</td>\n",
       "      <td>None</td>\n",
       "      <td>150367266</td>\n",
       "    </tr>\n",
       "  </tbody>\n",
       "</table>\n",
       "</div>"
      ],
      "text/plain": [
       "          id  rating                                               note  \\\n",
       "0  184007538     3.5                               Fruity. Smooth. Good   \n",
       "1  183998245     3.5  Un Primitivo distinto, al olfato mucha compota...   \n",
       "2  183989953     3.5                                           Mto bom    \n",
       "3  183980214     4.0  Pretty understated. \\n\\nCherries and tannin on...   \n",
       "4  183975832     4.5                            Good wine, rianne liked   \n",
       "\n",
       "  language                created_at  aggregated  \\\n",
       "0       en  2020-11-20T22:19:35.000Z        True   \n",
       "1       es  2020-11-20T21:13:25.000Z        True   \n",
       "2       un  2020-11-20T20:27:01.000Z        True   \n",
       "3       en  2020-11-20T19:41:00.000Z        True   \n",
       "4       en  2020-11-20T19:22:50.000Z        True   \n",
       "\n",
       "                                         tagged_note   user.id  user.seo_name  \\\n",
       "0                               Fruity. Smooth. Good  10577601    davidlowe10   \n",
       "1  Un Primitivo distinto, al olfato mucha compota...   6827219       luis-abb   \n",
       "2                                           Mto bom   27070871  georgia_gomes   \n",
       "3  Pretty understated. \\n\\nCherries and tannin on...  16065993   matthew.sara   \n",
       "4                            Good wine, rianne liked  34087491   josef.saliba   \n",
       "\n",
       "         user.alias  user.is_featured user.visibility  \\\n",
       "0        David Lowe             False             all   \n",
       "1       Luis Abbate             False             all   \n",
       "2     Georgia Gomes             False             all   \n",
       "3  Matthew Sarabadu             False             all   \n",
       "4      Josef Saliba             False             all   \n",
       "\n",
       "   user.statistics.followers_count  user.statistics.followings_count  \\\n",
       "0                              2.0                               0.0   \n",
       "1                             13.0                              15.0   \n",
       "2                              0.0                               0.0   \n",
       "3                              5.0                               7.0   \n",
       "4                              0.0                               0.0   \n",
       "\n",
       "   user.statistics.ratings_count  user.statistics.ratings_sum  \\\n",
       "0                           17.0                         66.5   \n",
       "1                          286.0                       1184.0   \n",
       "2                           20.0                         76.5   \n",
       "3                          891.0                       3440.5   \n",
       "4                           80.0                        297.0   \n",
       "\n",
       "   user.statistics.reviews_count user.background_image  vintage.id  \n",
       "0                           11.0                  None   150367266  \n",
       "1                          272.0                  None   150367266  \n",
       "2                            4.0                  None   150367266  \n",
       "3                          656.0                  None   150367266  \n",
       "4                           65.0                  None   150367266  "
      ]
     },
     "execution_count": 24,
     "metadata": {},
     "output_type": "execute_result"
    }
   ],
   "source": [
    "reviews_df_main.head()"
   ]
  },
  {
   "cell_type": "code",
   "execution_count": 25,
   "metadata": {},
   "outputs": [
    {
     "data": {
      "text/plain": [
       "47171858"
      ]
     },
     "execution_count": 25,
     "metadata": {},
     "output_type": "execute_result"
    }
   ],
   "source": [
    "reviews_df_main['user.id'].max()"
   ]
  },
  {
   "cell_type": "code",
   "execution_count": 35,
   "metadata": {},
   "outputs": [
    {
     "data": {
      "text/plain": [
       "353696"
      ]
     },
     "execution_count": 35,
     "metadata": {},
     "output_type": "execute_result"
    }
   ],
   "source": [
    "reviews_df_main.shape[0]"
   ]
  },
  {
   "cell_type": "code",
   "execution_count": 39,
   "metadata": {},
   "outputs": [
    {
     "data": {
      "text/html": [
       "<div>\n",
       "<style scoped>\n",
       "    .dataframe tbody tr th:only-of-type {\n",
       "        vertical-align: middle;\n",
       "    }\n",
       "\n",
       "    .dataframe tbody tr th {\n",
       "        vertical-align: top;\n",
       "    }\n",
       "\n",
       "    .dataframe thead th {\n",
       "        text-align: right;\n",
       "    }\n",
       "</style>\n",
       "<table border=\"1\" class=\"dataframe\">\n",
       "  <thead>\n",
       "    <tr style=\"text-align: right;\">\n",
       "      <th></th>\n",
       "      <th>id</th>\n",
       "      <th>percentage</th>\n",
       "    </tr>\n",
       "    <tr>\n",
       "      <th>language</th>\n",
       "      <th></th>\n",
       "      <th></th>\n",
       "    </tr>\n",
       "  </thead>\n",
       "  <tbody>\n",
       "    <tr>\n",
       "      <th>en</th>\n",
       "      <td>127475</td>\n",
       "      <td>0.360408</td>\n",
       "    </tr>\n",
       "    <tr>\n",
       "      <th>un</th>\n",
       "      <td>95740</td>\n",
       "      <td>0.270684</td>\n",
       "    </tr>\n",
       "    <tr>\n",
       "      <th>it</th>\n",
       "      <td>32507</td>\n",
       "      <td>0.091907</td>\n",
       "    </tr>\n",
       "    <tr>\n",
       "      <th>de</th>\n",
       "      <td>19994</td>\n",
       "      <td>0.056529</td>\n",
       "    </tr>\n",
       "    <tr>\n",
       "      <th>ru</th>\n",
       "      <td>17721</td>\n",
       "      <td>0.050102</td>\n",
       "    </tr>\n",
       "    <tr>\n",
       "      <th>pt</th>\n",
       "      <td>15642</td>\n",
       "      <td>0.044224</td>\n",
       "    </tr>\n",
       "    <tr>\n",
       "      <th>nl</th>\n",
       "      <td>12708</td>\n",
       "      <td>0.035929</td>\n",
       "    </tr>\n",
       "    <tr>\n",
       "      <th>fr</th>\n",
       "      <td>6537</td>\n",
       "      <td>0.018482</td>\n",
       "    </tr>\n",
       "    <tr>\n",
       "      <th>da</th>\n",
       "      <td>5427</td>\n",
       "      <td>0.015344</td>\n",
       "    </tr>\n",
       "    <tr>\n",
       "      <th>sv</th>\n",
       "      <td>4598</td>\n",
       "      <td>0.013000</td>\n",
       "    </tr>\n",
       "  </tbody>\n",
       "</table>\n",
       "</div>"
      ],
      "text/plain": [
       "              id  percentage\n",
       "language                    \n",
       "en        127475    0.360408\n",
       "un         95740    0.270684\n",
       "it         32507    0.091907\n",
       "de         19994    0.056529\n",
       "ru         17721    0.050102\n",
       "pt         15642    0.044224\n",
       "nl         12708    0.035929\n",
       "fr          6537    0.018482\n",
       "da          5427    0.015344\n",
       "sv          4598    0.013000"
      ]
     },
     "execution_count": 39,
     "metadata": {},
     "output_type": "execute_result"
    }
   ],
   "source": [
    "language_groups = reviews_df_main.groupby('language').agg('count')\n",
    "language_groups['percentage'] = language_groups['id']/reviews_df_main.shape[0]\n",
    "language_groups[['id','percentage']].sort_values(by='id', ascending=False).head(10)\n",
    "# language_groups['id'].sum()"
   ]
  },
  {
   "cell_type": "markdown",
   "metadata": {},
   "source": [
    "#### Insert users"
   ]
  },
  {
   "cell_type": "code",
   "execution_count": 50,
   "metadata": {},
   "outputs": [
    {
     "name": "stdout",
     "output_type": "stream",
     "text": [
      "0\n"
     ]
    }
   ],
   "source": [
    "conn = connect_to_vivino_db()\n",
    "try:\n",
    "    count_unique_records_sql(conn, 'review')\n",
    "finally:\n",
    "    conn.close()"
   ]
  },
  {
   "cell_type": "code",
   "execution_count": 61,
   "metadata": {},
   "outputs": [
    {
     "data": {
      "text/plain": [
       "353696"
      ]
     },
     "execution_count": 61,
     "metadata": {},
     "output_type": "execute_result"
    }
   ],
   "source": [
    "len(cur_reviews)"
   ]
  },
  {
   "cell_type": "code",
   "execution_count": 11,
   "metadata": {},
   "outputs": [],
   "source": [
    "def batching(func, batch_size):\n",
    "    \"\"\"\n",
    "    performs a function with a big list broken down into batches of certain siz\n",
    "    \"\"\"\n",
    "    def do_smth_by_batches(conn, big_list, first_entry=False, verbose=False):\n",
    "        num_batches = len(big_list) // batch_size\n",
    "        for i in range(num_batches + 1):\n",
    "            if i < num_batches + 1:\n",
    "                cur_batch = big_list[i*batch_size : (i+1)*batch_size]\n",
    "            elif i == num_batches + 1:\n",
    "                cur_batch = big_list[ - (len(big_list) - num_batches * batch_size):]\n",
    "            func(conn, cur_batch, first_entry, verbose)\n",
    "    return do_smth_by_batches"
   ]
  },
  {
   "cell_type": "code",
   "execution_count": 12,
   "metadata": {},
   "outputs": [],
   "source": [
    "# def my_func(cur_list, name):\n",
    "#     print(f\"Hi, {name}!\")\n",
    "#     print(len(cur_list))\n",
    "    \n",
    "# the_func = batching(my_func, 50000)\n",
    "# the_func(cur_reviews, 'Sveta')"
   ]
  },
  {
   "cell_type": "code",
   "execution_count": 13,
   "metadata": {},
   "outputs": [],
   "source": [
    "def insert_to_users(conn, matches, first_entry=True, verbose=False):\n",
    "    \"\"\"\n",
    "    inserts data to correct fields in the user table\n",
    "    \"\"\"\n",
    "    table = 'user'\n",
    "    main = 'user/'\n",
    "    paths = [main + 'id', main + 'seo_name', main + 'alias', main + 'is_featured', main + 'visibility', \\\n",
    "            main + 'statistics/followers_count', main + 'statistics/followings_count', main + 'statistics/ratings_count',\\\n",
    "            main + 'statistics/ratings_sum', main + 'statistics/reviews_count']\n",
    "    pk_sql = ['id']\n",
    "    extract_json_to_sql(conn, matches, table, paths, pk_sql, first_entry, verbose)\n",
    "    \n",
    "insert_by_batch = batching(insert_to_users, 50000)"
   ]
  },
  {
   "cell_type": "code",
   "execution_count": 148,
   "metadata": {},
   "outputs": [],
   "source": [
    "conn = connect_to_vivino_db()"
   ]
  },
  {
   "cell_type": "code",
   "execution_count": 149,
   "metadata": {},
   "outputs": [],
   "source": [
    "conn.close()"
   ]
  },
  {
   "cell_type": "code",
   "execution_count": 14,
   "metadata": {},
   "outputs": [
    {
     "name": "stdout",
     "output_type": "stream",
     "text": [
      "Insertion complete and took 0.26203179359436035 s.\n",
      "100 records loaded to database from file Italy_1965...\n",
      "Insertion complete and took 0.7711689472198486 s.\n",
      "3900 records loaded to database from file Italy_1996...\n",
      "Insertion complete and took 0.26262712478637695 s.\n",
      "100 records loaded to database from file Italy_1962...\n",
      "Insertion complete and took 0.9157259464263916 s.\n",
      "8084 records loaded to database from file Italy_1998...\n",
      "Insertion complete and took 0.9384458065032959 s.\n",
      "9487 records loaded to database from file Italy_1999...\n",
      "Insertion complete and took 0.9219310283660889 s.\n",
      "8050 records loaded to database from file Italy_1997...\n",
      "Insertion complete and took 0.6491949558258057 s.\n",
      "1850 records loaded to database from file Italy_1990...\n",
      "Insertion complete and took 0.5482079982757568 s.\n",
      "1000 records loaded to database from file Italy_1964...\n",
      "Insertion complete and took 0.9979979991912842 s.\n",
      "10684 records loaded to database from file Italy_2003...\n",
      "Insertion complete and took 1.198720932006836 s.\n",
      "21845 records loaded to database from file Italy_2004...\n",
      "Insertion complete and took 1.1230850219726562 s.\n",
      "15820 records loaded to database from file Italy_2005...\n",
      "Insertion complete and took 0.6698591709136963 s.\n",
      "2800 records loaded to database from file Italy_2002...\n",
      "Insertion complete and took 3.1275370121002197 s.\n",
      "Insertion complete and took 1.9106266498565674 s.\n",
      "95543 records loaded to database from file Italy_NV...\n",
      "Insertion complete and took 1.8155512809753418 s.\n",
      "Insertion complete and took 1.7604467868804932 s.\n",
      "Insertion complete and took 0.9376990795135498 s.\n",
      "138436 records loaded to database from file Italy_2011...\n",
      "Insertion complete and took 1.8143579959869385 s.\n",
      "Insertion complete and took 1.7370131015777588 s.\n",
      "Insertion complete and took 1.2376599311828613 s.\n",
      "Insertion complete and took 1.5655848979949951 s.\n",
      "Insertion complete and took 1.8999810218811035 s.\n",
      "Insertion complete and took 1.3193161487579346 s.\n",
      "Insertion complete and took 1.3012149333953857 s.\n",
      "Insertion complete and took 1.2911028861999512 s.\n",
      "Insertion complete and took 1.228694200515747 s.\n",
      "Insertion complete and took 0.5164821147918701 s.\n",
      "465756 records loaded to database from file Italy_2016...\n",
      "Insertion complete and took 0.2644038200378418 s.\n",
      "100 records loaded to database from file Italy_2020...\n",
      "Insertion complete and took 2.0074751377105713 s.\n",
      "Insertion complete and took 1.1508009433746338 s.\n",
      "Insertion complete and took 1.840928077697754 s.\n",
      "Insertion complete and took 1.170727252960205 s.\n",
      "Insertion complete and took 1.1752057075500488 s.\n",
      "Insertion complete and took 1.1612160205841064 s.\n",
      "Insertion complete and took 1.1392292976379395 s.\n",
      "Insertion complete and took 1.1947262287139893 s.\n",
      "398819 records loaded to database from file Italy_2018...\n",
      "Insertion complete and took 1.8388161659240723 s.\n",
      "Insertion complete and took 1.2285571098327637 s.\n",
      "Insertion complete and took 0.5586259365081787 s.\n",
      "116938 records loaded to database from file Italy_2019...\n",
      "Insertion complete and took 1.8695261478424072 s.\n",
      "Insertion complete and took 1.9077129364013672 s.\n",
      "Insertion complete and took 1.4113640785217285 s.\n",
      "Insertion complete and took 1.3597021102905273 s.\n",
      "Insertion complete and took 1.4486632347106934 s.\n",
      "Insertion complete and took 1.764092206954956 s.\n",
      "Insertion complete and took 1.694338083267212 s.\n",
      "Insertion complete and took 0.24660801887512207 s.\n",
      "353696 records loaded to database from file Italy_2017...\n",
      "Insertion complete and took 1.846825122833252 s.\n",
      "Insertion complete and took 1.7758078575134277 s.\n",
      "Insertion complete and took 0.9877128601074219 s.\n",
      "140535 records loaded to database from file Italy_2010...\n",
      "Insertion complete and took 0.4481050968170166 s.\n",
      "500 records loaded to database from file Italy_1983...\n",
      "Insertion complete and took 0.35350990295410156 s.\n",
      "300 records loaded to database from file Italy_1970...\n",
      "Insertion complete and took 0.44310998916625977 s.\n",
      "350 records loaded to database from file Italy_1971...\n",
      "Insertion complete and took 0.5579051971435547 s.\n",
      "1300 records loaded to database from file Italy_1985...\n",
      "Insertion complete and took 0.3531970977783203 s.\n",
      "200 records loaded to database from file Italy_1982...\n",
      "Insertion complete and took 0.3499290943145752 s.\n",
      "200 records loaded to database from file Italy_1978...\n",
      "Insertion complete and took 0.6767721176147461 s.\n",
      "3172 records loaded to database from file Italy_1995...\n",
      "Insertion complete and took 0.546746015548706 s.\n",
      "950 records loaded to database from file Italy_1961...\n",
      "Insertion complete and took 0.25816893577575684 s.\n",
      "99 records loaded to database from file Italy_1959...\n",
      "Insertion complete and took 0.43592023849487305 s.\n",
      "350 records loaded to database from file Italy_1992...\n",
      "Insertion complete and took 0.3482508659362793 s.\n",
      "150 records loaded to database from file Italy_1968...\n",
      "Insertion complete and took 0.17258381843566895 s.\n",
      "15 records loaded to database from file Italy_1932...\n",
      "Insertion complete and took 0.3471720218658447 s.\n",
      "150 records loaded to database from file Italy_1969...\n",
      "Insertion complete and took 0.3476448059082031 s.\n",
      "200 records loaded to database from file Italy_1958...\n",
      "Insertion complete and took 0.5401408672332764 s.\n",
      "1100 records loaded to database from file Italy_1993...\n",
      "Insertion complete and took 0.5465989112854004 s.\n",
      "900 records loaded to database from file Italy_1967...\n",
      "Insertion complete and took 0.5513272285461426 s.\n",
      "1200 records loaded to database from file Italy_1994...\n",
      "Insertion complete and took 1.7628498077392578 s.\n",
      "Insertion complete and took 0.5740478038787842 s.\n",
      "72270 records loaded to database from file Italy_2009...\n",
      "Insertion complete and took 1.720386028289795 s.\n",
      "Insertion complete and took 0.1920027732849121 s.\n",
      "50761 records loaded to database from file Italy_2007...\n",
      "Insertion complete and took 0.9476120471954346 s.\n",
      "9650 records loaded to database from file Italy_2000...\n",
      "Insertion complete and took 1.072493076324463 s.\n",
      "11250 records loaded to database from file Italy_2001...\n",
      "Insertion complete and took 1.5005970001220703 s.\n",
      "34057 records loaded to database from file Italy_2006...\n",
      "Insertion complete and took 1.8310799598693848 s.\n",
      "48943 records loaded to database from file Italy_2008...\n",
      "Insertion complete and took 1.9239351749420166 s.\n",
      "Insertion complete and took 1.9289391040802002 s.\n",
      "Insertion complete and took 1.2623279094696045 s.\n",
      "Insertion complete and took 1.384080171585083 s.\n",
      "Insertion complete and took 1.2913098335266113 s.\n",
      "Insertion complete and took 1.335315227508545 s.\n",
      "Insertion complete and took 1.2636537551879883 s.\n",
      "Insertion complete and took 1.418760061264038 s.\n",
      "Insertion complete and took 1.3018157482147217 s.\n",
      "Insertion complete and took 1.3821640014648438 s.\n",
      "Insertion complete and took 0.29619503021240234 s.\n",
      "504717 records loaded to database from file Italy_2015...\n",
      "Insertion complete and took 2.0434749126434326 s.\n",
      "Insertion complete and took 2.436387062072754 s.\n",
      "Insertion complete and took 2.138929843902588 s.\n",
      "Insertion complete and took 1.7207999229431152 s.\n",
      "Insertion complete and took 0.4793052673339844 s.\n",
      "210597 records loaded to database from file Italy_2012...\n",
      "Insertion complete and took 2.0037970542907715 s.\n",
      "Insertion complete and took 1.2783763408660889 s.\n",
      "Insertion complete and took 1.3156840801239014 s.\n",
      "Insertion complete and took 1.2682068347930908 s.\n",
      "Insertion complete and took 1.9295449256896973 s.\n",
      "Insertion complete and took 1.3552320003509521 s.\n",
      "Insertion complete and took 0.8328759670257568 s.\n",
      "332355 records loaded to database from file Italy_2013...\n",
      "Insertion complete and took 2.122702121734619 s.\n",
      "Insertion complete and took 1.8633739948272705 s.\n",
      "Insertion complete and took 1.4764549732208252 s.\n",
      "Insertion complete and took 1.4460041522979736 s.\n",
      "Insertion complete and took 1.944749116897583 s.\n",
      "Insertion complete and took 1.3587570190429688 s.\n",
      "Insertion complete and took 0.22983694076538086 s.\n",
      "301430 records loaded to database from file Italy_2014...\n",
      "Insertion complete and took 0.26906704902648926 s.\n",
      "96 records loaded to database from file Italy_1929...\n",
      "Insertion complete and took 0.2706170082092285 s.\n",
      "132 records loaded to database from file Italy_1987...\n",
      "Insertion complete and took 0.2638249397277832 s.\n",
      "50 records loaded to database from file Italy_1974...\n",
      "Insertion complete and took 0.35440516471862793 s.\n",
      "200 records loaded to database from file Italy_1980...\n",
      "Insertion complete and took 0.446674108505249 s.\n",
      "350 records loaded to database from file Italy_1928...\n",
      "Insertion complete and took 0.35124826431274414 s.\n",
      "150 records loaded to database from file Italy_1981...\n",
      "Insertion complete and took 0.44689011573791504 s.\n",
      "400 records loaded to database from file Italy_1986...\n",
      "Insertion complete and took 0.5587761402130127 s.\n",
      "1434 records loaded to database from file Italy_1988...\n",
      "Loading complete.\n"
     ]
    }
   ],
   "source": [
    "directory = 'backup_data/reviews'\n",
    "for filename in os.listdir(directory):\n",
    "    if filename != \".DS_Store\":\n",
    "        with open(f'{directory}/{filename}', 'rb') as f:  # startswith instead of !=\n",
    "            cur_reviews = pickle.load(f)\n",
    "            \n",
    "            conn = connect_to_vivino_db()\n",
    "            try:\n",
    "                insert_by_batch(conn, cur_reviews, False, False)\n",
    "            finally:\n",
    "                conn.close()\n",
    "                \n",
    "            print(f\"{len(cur_reviews)} records loaded to database from file {filename}...\")\n",
    "print(\"Loading complete.\")"
   ]
  },
  {
   "cell_type": "code",
   "execution_count": 1,
   "metadata": {},
   "outputs": [],
   "source": [
    "# def insert_to_users(conn, matches, first_entry=True):\n",
    "#     \"\"\"\n",
    "#     inserts data to correct fields in the user table\n",
    "#     \"\"\"\n",
    "#     table = 'user'\n",
    "#     main = 'user/'\n",
    "#     paths = [main + 'id', main + 'seo_name', main + 'alias', main + 'is_featured', main + 'visibility', \\\n",
    "#             main + 'statistics/followers_count', main + 'statistics/followings_count', main + 'statistics/ratings_count',\\\n",
    "#             main + 'statistics/ratings_sum', main + 'statistics/reviews_count']\n",
    "#     pk_sql = ['id']\n",
    "#     extract_json_to_sql(conn, matches, table, paths, pk_sql, first_entry)"
   ]
  },
  {
   "cell_type": "code",
   "execution_count": null,
   "metadata": {},
   "outputs": [],
   "source": [
    "# conn = connect_to_vivino_db()\n",
    "\n",
    "# batch_size = 50000\n",
    "# num_batches = len(cur_reviews) // batch_size\n",
    "\n",
    "# try:\n",
    "#     insert_to_users(conn, cur_reviews, True)\n",
    "# finally:\n",
    "#     conn.close()"
   ]
  },
  {
   "cell_type": "code",
   "execution_count": null,
   "metadata": {},
   "outputs": [],
   "source": []
  }
 ],
 "metadata": {
  "kernelspec": {
   "display_name": "venv",
   "language": "python",
   "name": "venv"
  },
  "language_info": {
   "codemirror_mode": {
    "name": "ipython",
    "version": 3
   },
   "file_extension": ".py",
   "mimetype": "text/x-python",
   "name": "python",
   "nbconvert_exporter": "python",
   "pygments_lexer": "ipython3",
   "version": "3.9.0"
  }
 },
 "nbformat": 4,
 "nbformat_minor": 4
}
