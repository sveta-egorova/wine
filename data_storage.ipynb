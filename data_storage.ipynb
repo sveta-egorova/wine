{
 "cells": [
  {
   "cell_type": "markdown",
   "metadata": {},
   "source": [
    "### Writing data to SQL database"
   ]
  },
  {
   "cell_type": "markdown",
   "metadata": {},
   "source": [
    "Initially, it was considered to use SQLite in order to store data within a local file, however, to achieve up-to-date state of the database for both team members, it was decided to move the database to MariaDB on Amazon AWS. "
   ]
  },
  {
   "cell_type": "code",
   "execution_count": 1,
   "metadata": {},
   "outputs": [],
   "source": [
    "# Using SQLite within Jupyter notebooks - option 1\n",
    "\n",
    "# %%capture\n",
    "# %load_ext sql\n",
    "# %sql sqlite:///vivino.db\n",
    "# %sql SELECT * FROM wine"
   ]
  },
  {
   "cell_type": "code",
   "execution_count": 2,
   "metadata": {},
   "outputs": [
    {
     "name": "stdout",
     "output_type": "stream",
     "text": [
      "[(1105374, 'Alandra Tinto', 'alandra-tinto', 1, 0, 0, 1395, 3155, 3.1399224, None, 3.7395344, 1.8591489, 2.9908836, 540, 184, 2, 'Normal', 18112, 3.2, 128391, 51, 1), (1706071, 'Alentejano Monte das Ânforas Tinto', 'alentejano-monte-das-anforas-tinto', 1, 0, 0, 1394, 4107, 3.0573564, None, 3.7483184, 1.799455, 2.8970287, 171, 38, 2, 'Normal', 5176, 3.4, 30372, 38, 1), (4269600, 'Vinea Tinto', 'vinea-tinto', 1, 0, 0, 1394, 10992, 3.0659487, None, 3.2864575, 2.008701, 2.8928797, 435, 31, 2, 'Normal', 5827, 3.3, 37482, 39, 1), (1200770, 'Lisboa Tinto', 'lisboa-tinto', 1, 0, 0, 834, 26708, 3.042016, None, 3.4385235, 1.8823165, 2.7859948, 69, 59, 210, 'Normal', 2153, 3.4, 11457, 34, 1), (4269602, 'Vinea Branco', 'vinea-branco', 2, 0, 0, 1394, 10992, 2.8494768, None, 2.7141547, 1.6764449, None, 68, 9, 211, 'Normal', 1186, 3.3, 6375, 25, 1)]\n"
     ]
    }
   ],
   "source": [
    "# Using SQLite within Jupyter notebooks - option 2\n",
    "\n",
    "import sqlite3\n",
    "conn = sqlite3.connect('vivino.db')\n",
    "test_query = 'SELECT * FROM wine LIMIT 5'\n",
    "print(conn.execute(test_query).fetchall())\n",
    "conn.close()"
   ]
  },
  {
   "cell_type": "code",
   "execution_count": 3,
   "metadata": {},
   "outputs": [],
   "source": [
    "import mariadb"
   ]
  },
  {
   "cell_type": "code",
   "execution_count": 4,
   "metadata": {},
   "outputs": [],
   "source": [
    "import sys\n",
    "sys.path.append('..')\n",
    "import settings"
   ]
  },
  {
   "cell_type": "code",
   "execution_count": 7,
   "metadata": {},
   "outputs": [],
   "source": [
    "def connect_to_vivino_db():\n",
    "    \"\"\"\n",
    "    connect to vivino db and return a connection instance\n",
    "    \"\"\"\n",
    "    try:\n",
    "        conn =  mariadb.connect(\n",
    "                user=\"admin\",\n",
    "                password=settings.db_pass,\n",
    "                host=settings.db_url,\n",
    "                port=3306,\n",
    "                database=\"vivino\")\n",
    "    except mariadb.Error as e:\n",
    "        print(f\"Error connecting to MariaDB Platform: {e}\")\n",
    "        sys.exit(1)\n",
    "    return conn"
   ]
  },
  {
   "cell_type": "code",
   "execution_count": 8,
   "metadata": {},
   "outputs": [],
   "source": [
    "conn = connect_to_vivino_db()"
   ]
  },
  {
   "cell_type": "markdown",
   "metadata": {},
   "source": [
    "Database schema was created separately based on the data structure, and looks as follows: \n",
    "\n",
    "![](vivino-schema.png)"
   ]
  },
  {
   "cell_type": "markdown",
   "metadata": {},
   "source": [
    "Insertion to the database should be done in the following order (in order to avoid problems with foreign keys):\n",
    "* wine type\n",
    "* winery\n",
    "* country\n",
    "* region\n",
    "* style\n",
    "* food\n",
    "* facts\n",
    "* style_food\n",
    "* grape\n",
    "* style_grape\n",
    "* grape_country\n",
    "* wine\n",
    "* vintage\n",
    "* toplist\n",
    "* vintage_toplist\n",
    "* keyword\n",
    "* wine_keyword\n",
    "* wine_flavor_group"
   ]
  },
  {
   "cell_type": "markdown",
   "metadata": {},
   "source": [
    "Once the database schema and the name of the columns is fixed, we can run functions that insert data to each table by extracting information from JSON file. \n",
    "\n",
    "Since we need only specific data from JSON, we need to specify the path to such data for each column in each table. For convenience, such path will be formed using a forward slash (for example, `vintage/wine/region/name`). \n",
    "\n",
    "The function extracts data found at a given path inside a given record (making one step of the path at a time), and returns the resulting value. If any of the path steps is missing for a given record, it returns the value at the latest step available. "
   ]
  },
  {
   "cell_type": "markdown",
   "metadata": {},
   "source": [
    "In order to generate the path, here is the full list of columns in the dataframe which mimics the structure of JSON:\n",
    "\n",
    "['vintage_grapes', 'vintage_has_valid_ratings', 'vintage_id',\n",
    "       'vintage_image', 'vintage_name', 'vintage_seo_name',\n",
    "       'vintage_statistics', 'vintage_wine', 'vintage_year',\n",
    "       'vintage_top_list_rankings', 'status', 'ratings_count',\n",
    "       'ratings_average', 'labels_count', 'id', 'name', 'seo_name', 'type_id',\n",
    "       'vintage_type', 'is_natural', 'has_valid_ratings', 'region.id',\n",
    "       'region.name', 'region.name_en', 'region.seo_name',\n",
    "       'region.country.code', 'region.country.name',\n",
    "       'region.country.native_name', 'region.country.seo_name',\n",
    "       'region.country.currency.code', 'region.country.currency.name',\n",
    "       'region.country.currency.prefix', 'region.country.currency.suffix',\n",
    "       'region.country.regions_count', 'region.country.users_count',\n",
    "       'region.country.wines_count', 'region.country.wineries_count',\n",
    "       'region.country.most_used_grapes', 'region.background_image.location',\n",
    "       'region.background_image.variations.large',\n",
    "       'region.background_image.variations.medium', 'winery.id', 'winery.name',\n",
    "       'winery.seo_name', 'winery.status', 'taste.structure.acidity',\n",
    "       'taste.structure.fizziness', 'taste.structure.intensity',\n",
    "       'taste.structure.sweetness', 'taste.structure.tannin', \n",
    "       'taste.structure.user_structure_count',\n",
    "       'taste.structure.calculated_structure_count', 'taste.flavor',\n",
    "       'statistics.status', 'statistics.ratings_count',\n",
    "       'statistics.ratings_average', 'statistics.labels_count',\n",
    "       'statistics.vintages_count', 'style.id', 'style.seo_name',\n",
    "       'style.regional_name', 'style.varietal_name', 'style.name',\n",
    "       'style.image', 'style.background_image.location',\n",
    "       'style.background_image.variations.small', 'style.description',\n",
    "       'style.blurb', 'style.interesting_facts', 'style.body',\n",
    "       'style.body_description', 'style.acidity', 'style.acidity_description',\n",
    "       'style.country.code', 'style.country.name', 'style.country.native_name',\n",
    "       'style.country.seo_name', 'style.country.currency.code',\n",
    "       'style.country.currency.name', 'style.country.currency.prefix',\n",
    "       'style.country.currency.suffix', 'style.country.regions_count',\n",
    "       'style.country.users_count', 'style.country.wines_count',\n",
    "       'style.country.wineries_count', 'style.country.most_used_grapes',\n",
    "       'style.wine_type_id', 'style.food', 'style.grapes', 'style.region',\n",
    "       'style.region.id', 'style.region.name', 'style.region.name_en',\n",
    "       'style.region.seo_name', 'style.region.country.code',\n",
    "       'style.region.country.name', 'style.region.country.native_name',\n",
    "       'style.region.country.seo_name', 'style.region.country.currency.code',\n",
    "       'style.region.country.currency.name',\n",
    "       'style.region.country.currency.prefix',\n",
    "       'style.region.country.currency.suffix',\n",
    "       'style.region.country.regions_count',\n",
    "       'style.region.country.users_count', 'style.region.country.wines_count',\n",
    "       'style.region.country.wineries_count',\n",
    "       'style.region.country.most_used_grapes',\n",
    "       'style.region.background_image.location',\n",
    "       'style.region.background_image.variations.large',\n",
    "       'style.region.background_image.variations.medium', 'region', 'winery',\n",
    "       'style', 'taste.structure', 'region.background_image',\n",
    "       'style.background_image', 'style.region.background_image']\n"
   ]
  },
  {
   "cell_type": "code",
   "execution_count": 10,
   "metadata": {},
   "outputs": [],
   "source": [
    "def get_value(match_entry, path0):\n",
    "    \"\"\"\n",
    "    Function that returns a value found at a given path inside a given JSON record \n",
    "    \"\"\"\n",
    "    path = path0.split('/')\n",
    "    current_el = match_entry\n",
    "    for p in path:\n",
    "        if current_el is None:\n",
    "            break\n",
    "        current_el = current_el.get(p)\n",
    "    return current_el"
   ]
  },
  {
   "cell_type": "code",
   "execution_count": 12,
   "metadata": {},
   "outputs": [
    {
     "data": {
      "text/plain": [
       "55819"
      ]
     },
     "execution_count": 12,
     "metadata": {},
     "output_type": "execute_result"
    }
   ],
   "source": [
    "# load data from a backup file\n",
    "\n",
    "import pickle\n",
    "\n",
    "with open(f\"backup_data/full_match_list\", 'rb') as f:\n",
    "    recovered_data = pickle.load(f)\n",
    "    \n",
    "def remove_wine_duplicates(json_data):\n",
    "    distinct_dict = {entry['vintage']['id']: entry for entry in json_data}\n",
    "    recovered_data_distinct = distinct_dict.values()\n",
    "    return list(recovered_data_distinct)\n",
    "\n",
    "recovered_data_distinct = remove_wine_duplicates(recovered_data)\n",
    "len(recovered_data_distinct)"
   ]
  },
  {
   "cell_type": "code",
   "execution_count": 26,
   "metadata": {},
   "outputs": [],
   "source": [
    "# insert data to sql\n",
    "import time\n",
    "\n",
    "def extract_json_to_sql(matches_list, table_name, paths, pk_sql, conn, first_entry=True):\n",
    "    \"\"\"\n",
    "    Function that accepts the folowing arguments:\n",
    "    * matches list: JSON list with data, \n",
    "    * table_name: name of SQL table to include data,  \n",
    "    * paths: the paths leading to data in JSON corresponding to each column in SQL table,\n",
    "    * pk_sql: the names of primary key columns in SQL (to check for uniqueness condition),\n",
    "    * conn: active connection to a database\n",
    "    * first_entry: boolean indicating whether it's the first time data is written to the table\n",
    "    \n",
    "    Function inserts data and (for the first entry) checks whether the resulting number of unique records in SQL\n",
    "    matches the number of unique records in JSON.\n",
    "    \n",
    "    \"\"\"\n",
    "    cur = conn.cursor()\n",
    "    \n",
    "    # check if primary key(s) already exist in a db. \n",
    "    # Primary key column names are inserted to the string using format method, and '?' are used as placeholders for the actual values. \n",
    "    conditional_statement = \"WHERE \" + \" AND \".join([\"{} = ?\"] * len(pk_sql)).format(*pk_sql) \n",
    "\n",
    "    timepoint_1 = time.time()\n",
    "    \n",
    "    # returns JSON paths to primary keys assuming that primary key(s) always come first in columns of each SQL table \n",
    "    pk_paths = [paths[i] for i in range(len(pk_sql))]         \n",
    "\n",
    "    for entry in matches_list:\n",
    "        # for each primary key check whether value in JSON exists (if any of the primary keys is missing, move to the next record)\n",
    "        if any([get_value(entry, path) is None for path in pk_paths]):\n",
    "            continue\n",
    "        else:\n",
    "            # insert all values extracted from JSON using '?' as placeholders, provided current primary keys are not yet in the db\n",
    "            query = f\"\"\"\n",
    "              INSERT INTO {table_name} SELECT {', '.join('?' * len(paths))}     \n",
    "              WHERE NOT EXISTS (SELECT * FROM {table_name} {conditional_statement})\n",
    "            \"\"\"\n",
    "            values_entry = [get_value(entry, path) for path in paths]\n",
    "            # filling in all SQL placeholders (a value for each column, and then a value for each primary key column (assuming they come first))\n",
    "            args = tuple(values_entry + values_entry[:len(pk_sql)]) \n",
    "            cur.execute(query, args)\n",
    "        \n",
    "    timepoint_2 = time.time()\n",
    "    print('Insertion complete and took {} s.'.format(timepoint_2 - timepoint_1))\n",
    "\n",
    "    if first_entry: \n",
    "        unique_keys = set()\n",
    "        for entry in matches_list:\n",
    "            unique_key = []\n",
    "            for path in pk_paths:\n",
    "                unique_key.append(get_value(entry, path))\n",
    "            if None in unique_key:\n",
    "                # do nothing\n",
    "                pass\n",
    "            else:\n",
    "                unique_keys.add(tuple(unique_key))\n",
    "        unique_pk_original = len(unique_keys)\n",
    "    \n",
    "#         print(unique_pk_original)\n",
    "        if unique_pk_original == cur.execute('SELECT COUNT(*) FROM {}'.format(table_name)).fetchall()[0][0]:\n",
    "            print('Number of unique records is accurate')\n",
    "        else:\n",
    "            print('Something went wrong')"
   ]
  },
  {
   "cell_type": "code",
   "execution_count": 14,
   "metadata": {},
   "outputs": [],
   "source": [
    "def clean_sql_table(conn, table_name):\n",
    "    \"\"\"\n",
    "    delete all records from a given table in a given database\n",
    "    \"\"\"\n",
    "    cur = conn.cursor()\n",
    "    cur.execute(f'DELETE FROM {table_name}')"
   ]
  },
  {
   "cell_type": "code",
   "execution_count": 15,
   "metadata": {},
   "outputs": [],
   "source": [
    "def count_unique_records_sql(conn, table_name):\n",
    "    \"\"\"\n",
    "    checks the number of unique records in a given table\n",
    "    \"\"\"\n",
    "    cur = conn.cursor()\n",
    "    cur.execute(f\"SELECT COUNT(*) FROM {table_name};\")\n",
    "    print(cur.fetchall())"
   ]
  },
  {
   "cell_type": "markdown",
   "metadata": {},
   "source": [
    "Before writing into MariaDB we need to make sure that the data is cleaned."
   ]
  },
  {
   "cell_type": "code",
   "execution_count": 16,
   "metadata": {},
   "outputs": [
    {
     "name": "stdout",
     "output_type": "stream",
     "text": [
      "wine_flavor_group cleaned\n",
      "wine_keyword cleaned\n",
      "keyword cleaned\n",
      "vintage_toplist cleaned\n",
      "toplist cleaned\n",
      "vintage cleaned\n",
      "wine cleaned\n",
      "grape_country cleaned\n",
      "style_grape cleaned\n",
      "style_food cleaned\n",
      "grape cleaned\n",
      "food cleaned\n",
      "facts cleaned\n",
      "style cleaned\n",
      "region cleaned\n",
      "country cleaned\n",
      "price cleaned\n",
      "winery cleaned\n",
      "type cleaned\n"
     ]
    }
   ],
   "source": [
    "tables = ['wine_flavor_group', 'wine_keyword', 'keyword', 'vintage_toplist', 'toplist', 'vintage', 'wine', 'grape_country', 'style_grape', \\\n",
    "          'style_food', 'grape', 'food', 'facts', 'style', 'region', 'country', 'price', 'winery', 'type']\n",
    "\n",
    "conn = connect_to_vivino_db()\n",
    "for table in tables: \n",
    "    clean_sql_table(conn, table)\n",
    "    print(f\"{table} cleaned\")"
   ]
  },
  {
   "cell_type": "markdown",
   "metadata": {},
   "source": [
    "#### Insert wine types"
   ]
  },
  {
   "cell_type": "code",
   "execution_count": 17,
   "metadata": {},
   "outputs": [],
   "source": [
    "def insert_to_wine_types(conn, table_name='type'):\n",
    "    \"\"\"\n",
    "    manually inserts all wine types to SQL table\n",
    "    \"\"\"\n",
    "    cur = conn.cursor()\n",
    "    cur.execute(f\"INSERT INTO {table_name} VALUES (1, 'Red'), (2, 'White'), (3, 'Sparkling'), (4, 'Rose'), (7, 'Dessert'), (24, 'Fortified');\")"
   ]
  },
  {
   "cell_type": "code",
   "execution_count": 20,
   "metadata": {},
   "outputs": [
    {
     "name": "stdout",
     "output_type": "stream",
     "text": [
      "[(1, 'Red'), (2, 'White'), (3, 'Sparkling'), (4, 'Rose'), (7, 'Dessert'), (24, 'Fortified')]\n"
     ]
    }
   ],
   "source": [
    "insert_to_wine_types(conn)\n",
    "cur.execute(\"SELECT * FROM type\")\n",
    "print(cur.fetchall())"
   ]
  },
  {
   "cell_type": "markdown",
   "metadata": {},
   "source": [
    "#### Insert wineries"
   ]
  },
  {
   "cell_type": "code",
   "execution_count": 27,
   "metadata": {},
   "outputs": [],
   "source": [
    "#insert wineries\n",
    "\n",
    "def insert_to_wineries(conn, matches):\n",
    "    \"\"\"\n",
    "    inserts data to correct fields in the wine table\n",
    "    \"\"\"\n",
    "    table = 'winery'\n",
    "    main = 'vintage/wine/winery/'\n",
    "    paths = [main + 'id', main + 'name', main + 'seo_name', main + 'status']\n",
    "    pk_sql = ['id']\n",
    "    extract_json_to_sql(matches, table, paths, pk_sql, conn, first_entry=True)"
   ]
  },
  {
   "cell_type": "code",
   "execution_count": 31,
   "metadata": {},
   "outputs": [],
   "source": [
    "conn.cursor().execute(\"ALTER DATABASE vivino CHARACTER SET = utf8mb4 COLLATE = utf8mb4_unicode_ci;\")"
   ]
  },
  {
   "cell_type": "code",
   "execution_count": 33,
   "metadata": {},
   "outputs": [],
   "source": [
    "conn.cursor().execute(\"ALTER TABLE winery CONVERT TO CHARACTER SET utf8mb4 COLLATE utf8mb4_unicode_ci;\")"
   ]
  },
  {
   "cell_type": "code",
   "execution_count": 36,
   "metadata": {},
   "outputs": [],
   "source": [
    "conn = connect_to_vivino_db()\n",
    "clean_sql_table(conn, 'winery')"
   ]
  },
  {
   "cell_type": "code",
   "execution_count": 40,
   "metadata": {},
   "outputs": [
    {
     "ename": "InterfaceError",
     "evalue": "Lost connection to MySQL server during query",
     "output_type": "error",
     "traceback": [
      "\u001b[0;31m---------------------------------------------------------------------------\u001b[0m",
      "\u001b[0;31mInterfaceError\u001b[0m                            Traceback (most recent call last)",
      "\u001b[0;32m<ipython-input-40-8da731d0f459>\u001b[0m in \u001b[0;36m<module>\u001b[0;34m\u001b[0m\n\u001b[0;32m----> 1\u001b[0;31m \u001b[0minsert_to_wineries\u001b[0m\u001b[0;34m(\u001b[0m\u001b[0mconn\u001b[0m\u001b[0;34m,\u001b[0m \u001b[0mrecovered_data_distinct\u001b[0m\u001b[0;34m)\u001b[0m\u001b[0;34m\u001b[0m\u001b[0;34m\u001b[0m\u001b[0m\n\u001b[0m",
      "\u001b[0;32m<ipython-input-27-ceb28c2f8a1b>\u001b[0m in \u001b[0;36minsert_to_wineries\u001b[0;34m(conn, matches)\u001b[0m\n\u001b[1;32m      9\u001b[0m     \u001b[0mpaths\u001b[0m \u001b[0;34m=\u001b[0m \u001b[0;34m[\u001b[0m\u001b[0mmain\u001b[0m \u001b[0;34m+\u001b[0m \u001b[0;34m'id'\u001b[0m\u001b[0;34m,\u001b[0m \u001b[0mmain\u001b[0m \u001b[0;34m+\u001b[0m \u001b[0;34m'name'\u001b[0m\u001b[0;34m,\u001b[0m \u001b[0mmain\u001b[0m \u001b[0;34m+\u001b[0m \u001b[0;34m'seo_name'\u001b[0m\u001b[0;34m,\u001b[0m \u001b[0mmain\u001b[0m \u001b[0;34m+\u001b[0m \u001b[0;34m'status'\u001b[0m\u001b[0;34m]\u001b[0m\u001b[0;34m\u001b[0m\u001b[0;34m\u001b[0m\u001b[0m\n\u001b[1;32m     10\u001b[0m     \u001b[0mpk_sql\u001b[0m \u001b[0;34m=\u001b[0m \u001b[0;34m[\u001b[0m\u001b[0;34m'id'\u001b[0m\u001b[0;34m]\u001b[0m\u001b[0;34m\u001b[0m\u001b[0;34m\u001b[0m\u001b[0m\n\u001b[0;32m---> 11\u001b[0;31m     \u001b[0mextract_json_to_sql\u001b[0m\u001b[0;34m(\u001b[0m\u001b[0mmatches\u001b[0m\u001b[0;34m,\u001b[0m \u001b[0mtable\u001b[0m\u001b[0;34m,\u001b[0m \u001b[0mpaths\u001b[0m\u001b[0;34m,\u001b[0m \u001b[0mpk_sql\u001b[0m\u001b[0;34m,\u001b[0m \u001b[0mconn\u001b[0m\u001b[0;34m,\u001b[0m \u001b[0mfirst_entry\u001b[0m\u001b[0;34m=\u001b[0m\u001b[0;32mTrue\u001b[0m\u001b[0;34m)\u001b[0m\u001b[0;34m\u001b[0m\u001b[0;34m\u001b[0m\u001b[0m\n\u001b[0m",
      "\u001b[0;32m<ipython-input-26-dbb671c17005>\u001b[0m in \u001b[0;36mextract_json_to_sql\u001b[0;34m(matches_list, table_name, paths, pk_sql, conn, first_entry)\u001b[0m\n\u001b[1;32m     40\u001b[0m             \u001b[0;31m# filling in all SQL placeholders (a value for each column, and then a value for each primary key column (assuming they come first))\u001b[0m\u001b[0;34m\u001b[0m\u001b[0;34m\u001b[0m\u001b[0;34m\u001b[0m\u001b[0m\n\u001b[1;32m     41\u001b[0m             \u001b[0margs\u001b[0m \u001b[0;34m=\u001b[0m \u001b[0mtuple\u001b[0m\u001b[0;34m(\u001b[0m\u001b[0mvalues_entry\u001b[0m \u001b[0;34m+\u001b[0m \u001b[0mvalues_entry\u001b[0m\u001b[0;34m[\u001b[0m\u001b[0;34m:\u001b[0m\u001b[0mlen\u001b[0m\u001b[0;34m(\u001b[0m\u001b[0mpk_sql\u001b[0m\u001b[0;34m)\u001b[0m\u001b[0;34m]\u001b[0m\u001b[0;34m)\u001b[0m\u001b[0;34m\u001b[0m\u001b[0;34m\u001b[0m\u001b[0m\n\u001b[0;32m---> 42\u001b[0;31m             \u001b[0mcur\u001b[0m\u001b[0;34m.\u001b[0m\u001b[0mexecute\u001b[0m\u001b[0;34m(\u001b[0m\u001b[0mquery\u001b[0m\u001b[0;34m,\u001b[0m \u001b[0margs\u001b[0m\u001b[0;34m)\u001b[0m\u001b[0;34m\u001b[0m\u001b[0;34m\u001b[0m\u001b[0m\n\u001b[0m\u001b[1;32m     43\u001b[0m \u001b[0;34m\u001b[0m\u001b[0m\n\u001b[1;32m     44\u001b[0m     \u001b[0mtimepoint_2\u001b[0m \u001b[0;34m=\u001b[0m \u001b[0mtime\u001b[0m\u001b[0;34m.\u001b[0m\u001b[0mtime\u001b[0m\u001b[0;34m(\u001b[0m\u001b[0;34m)\u001b[0m\u001b[0;34m\u001b[0m\u001b[0;34m\u001b[0m\u001b[0m\n",
      "\u001b[0;31mInterfaceError\u001b[0m: Lost connection to MySQL server during query"
     ]
    }
   ],
   "source": [
    "insert_to_wineries(conn, recovered_data_distinct)"
   ]
  },
  {
   "cell_type": "code",
   "execution_count": 39,
   "metadata": {},
   "outputs": [
    {
     "data": {
      "text/plain": [
       "{'id': 4067, 'name': 'McGuigan', 'seo_name': 'mcguigan', 'status': 0}"
      ]
     },
     "execution_count": 39,
     "metadata": {},
     "output_type": "execute_result"
    }
   ],
   "source": [
    "recovered_data_distinct[709]['vintage']['wine']['winery']"
   ]
  },
  {
   "cell_type": "code",
   "execution_count": 35,
   "metadata": {},
   "outputs": [],
   "source": [
    "conn.close()"
   ]
  },
  {
   "cell_type": "code",
   "execution_count": null,
   "metadata": {},
   "outputs": [],
   "source": []
  }
 ],
 "metadata": {
  "kernelspec": {
   "display_name": "Python 3",
   "language": "python",
   "name": "python3"
  },
  "language_info": {
   "codemirror_mode": {
    "name": "ipython",
    "version": 3
   },
   "file_extension": ".py",
   "mimetype": "text/x-python",
   "name": "python",
   "nbconvert_exporter": "python",
   "pygments_lexer": "ipython3",
   "version": "3.9.0"
  }
 },
 "nbformat": 4,
 "nbformat_minor": 4
}
