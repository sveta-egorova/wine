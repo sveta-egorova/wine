{
 "cells": [
  {
   "cell_type": "code",
   "execution_count": 1,
   "metadata": {
    "collapsed": true
   },
   "outputs": [],
   "source": [
    "import pickle\n",
    "import pandas as pd\n",
    "\n",
    "with open(f\"backup_data/full_match_list\", 'rb') as f:\n",
    "    recovered_data = pickle.load(f)\n",
    "\n",
    "def remove_wine_duplicates(json_data):\n",
    "    distinct_dict = {entry['vintage']['id']: entry for entry in json_data}\n",
    "    recovered_data_distinct = distinct_dict.values()\n",
    "    return list(recovered_data_distinct)\n",
    "\n",
    "recovered_data_distinct = remove_wine_duplicates(recovered_data)\n",
    "\n",
    "full_df = pd.DataFrame(recovered_data_distinct)\n",
    "full_df_normalized = pd.json_normalize(full_df['vintage'])\n",
    "\n",
    "review_filtering_df = full_df_normalized[['id', 'year', 'has_valid_ratings', 'statistics.ratings_count', 'wine.id', 'wine.region.country.name']]\n",
    "\n",
    "filter_df = review_filtering_df.loc[review_filtering_df['has_valid_ratings']==True, ['id', 'year', 'statistics.ratings_count',\n",
    "       'wine.id', 'wine.region.country.name']]\n",
    "\n",
    "filter_df.columns = ['id', 'year', 'reviews_count', 'wine_id', 'country']\n",
    "\n",
    "data_Italy_2015 = filter_df[(filter_df['country'] == 'Italy') & (filter_df['year'] == 2015)].sort_values('reviews_count', ascending=False)"
   ]
  },
  {
   "cell_type": "code",
   "execution_count": 9,
   "outputs": [
    {
     "data": {
      "text/plain": "487043"
     },
     "execution_count": 9,
     "metadata": {},
     "output_type": "execute_result"
    }
   ],
   "source": [
    "data_Italy_2015['reviews_count'].sum()"
   ],
   "metadata": {
    "collapsed": false,
    "pycharm": {
     "name": "#%%\n"
    }
   }
  }
 ],
 "metadata": {
  "kernelspec": {
   "display_name": "Python 3",
   "language": "python",
   "name": "python3"
  },
  "language_info": {
   "codemirror_mode": {
    "name": "ipython",
    "version": 2
   },
   "file_extension": ".py",
   "mimetype": "text/x-python",
   "name": "python",
   "nbconvert_exporter": "python",
   "pygments_lexer": "ipython2",
   "version": "2.7.6"
  }
 },
 "nbformat": 4,
 "nbformat_minor": 0
}