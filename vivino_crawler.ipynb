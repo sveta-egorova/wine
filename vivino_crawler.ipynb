{
 "cells": [
  {
   "cell_type": "markdown",
   "metadata": {},
   "source": [
    "# Project: Wine"
   ]
  },
  {
   "cell_type": "markdown",
   "metadata": {},
   "source": [
    "## Идеи\n",
    "* Опять же, посмотреть облако слов, которыми описывают вина, сделать словарик для тех, кто хочет блеснуть в приличном обществе. \n",
    "* всего 20 уникльных тестеров, можно посомтреть, кто лучше предсказывает цену\n",
    "* связь цены и оценок. Интересно, будет ли расти variance с ростом цены (типа, с дешевыми винами всё понятно, а вот дорогие более противоречивые) \n",
    "* description облако слов по вообще любым срезаам: по тестерам, по сортаам, регионам.\n",
    "* цены по регионам"
   ]
  },
  {
   "cell_type": "code",
   "execution_count": 1,
   "metadata": {},
   "outputs": [],
   "source": [
    "# main requirements\n",
    "\n",
    "import pandas as pd\n",
    "import numpy as np"
   ]
  },
  {
   "cell_type": "markdown",
   "metadata": {},
   "source": [
    "### A. Working with ready datasets"
   ]
  },
  {
   "cell_type": "code",
   "execution_count": 2,
   "metadata": {},
   "outputs": [],
   "source": [
    "data1 = pd.read_csv('winemag-data_first150k.csv')\n",
    "data2 = pd.read_csv('winemag-data-130k-v2.csv')\n",
    "data = [data1, data2]"
   ]
  },
  {
   "cell_type": "code",
   "execution_count": 3,
   "metadata": {},
   "outputs": [
    {
     "name": "stdout",
     "output_type": "stream",
     "text": [
      "Index(['Unnamed: 0', 'country', 'description', 'designation', 'points',\n",
      "       'price', 'province', 'region_1', 'region_2', 'variety', 'winery'],\n",
      "      dtype='object')\n"
     ]
    },
    {
     "data": {
      "text/html": [
       "<div>\n",
       "<style scoped>\n",
       "    .dataframe tbody tr th:only-of-type {\n",
       "        vertical-align: middle;\n",
       "    }\n",
       "\n",
       "    .dataframe tbody tr th {\n",
       "        vertical-align: top;\n",
       "    }\n",
       "\n",
       "    .dataframe thead th {\n",
       "        text-align: right;\n",
       "    }\n",
       "</style>\n",
       "<table border=\"1\" class=\"dataframe\">\n",
       "  <thead>\n",
       "    <tr style=\"text-align: right;\">\n",
       "      <th></th>\n",
       "      <th>Unnamed: 0</th>\n",
       "      <th>country</th>\n",
       "      <th>description</th>\n",
       "      <th>designation</th>\n",
       "      <th>points</th>\n",
       "      <th>price</th>\n",
       "      <th>province</th>\n",
       "      <th>region_1</th>\n",
       "      <th>region_2</th>\n",
       "      <th>variety</th>\n",
       "      <th>winery</th>\n",
       "    </tr>\n",
       "  </thead>\n",
       "  <tbody>\n",
       "    <tr>\n",
       "      <th>0</th>\n",
       "      <td>0</td>\n",
       "      <td>US</td>\n",
       "      <td>This tremendous 100% varietal wine hails from ...</td>\n",
       "      <td>Martha's Vineyard</td>\n",
       "      <td>96</td>\n",
       "      <td>235.0</td>\n",
       "      <td>California</td>\n",
       "      <td>Napa Valley</td>\n",
       "      <td>Napa</td>\n",
       "      <td>Cabernet Sauvignon</td>\n",
       "      <td>Heitz</td>\n",
       "    </tr>\n",
       "    <tr>\n",
       "      <th>1</th>\n",
       "      <td>1</td>\n",
       "      <td>Spain</td>\n",
       "      <td>Ripe aromas of fig, blackberry and cassis are ...</td>\n",
       "      <td>Carodorum Selección Especial Reserva</td>\n",
       "      <td>96</td>\n",
       "      <td>110.0</td>\n",
       "      <td>Northern Spain</td>\n",
       "      <td>Toro</td>\n",
       "      <td>NaN</td>\n",
       "      <td>Tinta de Toro</td>\n",
       "      <td>Bodega Carmen Rodríguez</td>\n",
       "    </tr>\n",
       "    <tr>\n",
       "      <th>2</th>\n",
       "      <td>2</td>\n",
       "      <td>US</td>\n",
       "      <td>Mac Watson honors the memory of a wine once ma...</td>\n",
       "      <td>Special Selected Late Harvest</td>\n",
       "      <td>96</td>\n",
       "      <td>90.0</td>\n",
       "      <td>California</td>\n",
       "      <td>Knights Valley</td>\n",
       "      <td>Sonoma</td>\n",
       "      <td>Sauvignon Blanc</td>\n",
       "      <td>Macauley</td>\n",
       "    </tr>\n",
       "    <tr>\n",
       "      <th>3</th>\n",
       "      <td>3</td>\n",
       "      <td>US</td>\n",
       "      <td>This spent 20 months in 30% new French oak, an...</td>\n",
       "      <td>Reserve</td>\n",
       "      <td>96</td>\n",
       "      <td>65.0</td>\n",
       "      <td>Oregon</td>\n",
       "      <td>Willamette Valley</td>\n",
       "      <td>Willamette Valley</td>\n",
       "      <td>Pinot Noir</td>\n",
       "      <td>Ponzi</td>\n",
       "    </tr>\n",
       "    <tr>\n",
       "      <th>4</th>\n",
       "      <td>4</td>\n",
       "      <td>France</td>\n",
       "      <td>This is the top wine from La Bégude, named aft...</td>\n",
       "      <td>La Brûlade</td>\n",
       "      <td>95</td>\n",
       "      <td>66.0</td>\n",
       "      <td>Provence</td>\n",
       "      <td>Bandol</td>\n",
       "      <td>NaN</td>\n",
       "      <td>Provence red blend</td>\n",
       "      <td>Domaine de la Bégude</td>\n",
       "    </tr>\n",
       "  </tbody>\n",
       "</table>\n",
       "</div>"
      ],
      "text/plain": [
       "   Unnamed: 0 country                                        description  \\\n",
       "0           0      US  This tremendous 100% varietal wine hails from ...   \n",
       "1           1   Spain  Ripe aromas of fig, blackberry and cassis are ...   \n",
       "2           2      US  Mac Watson honors the memory of a wine once ma...   \n",
       "3           3      US  This spent 20 months in 30% new French oak, an...   \n",
       "4           4  France  This is the top wine from La Bégude, named aft...   \n",
       "\n",
       "                            designation  points  price        province  \\\n",
       "0                     Martha's Vineyard      96  235.0      California   \n",
       "1  Carodorum Selección Especial Reserva      96  110.0  Northern Spain   \n",
       "2         Special Selected Late Harvest      96   90.0      California   \n",
       "3                               Reserve      96   65.0          Oregon   \n",
       "4                            La Brûlade      95   66.0        Provence   \n",
       "\n",
       "            region_1           region_2             variety  \\\n",
       "0        Napa Valley               Napa  Cabernet Sauvignon   \n",
       "1               Toro                NaN       Tinta de Toro   \n",
       "2     Knights Valley             Sonoma     Sauvignon Blanc   \n",
       "3  Willamette Valley  Willamette Valley          Pinot Noir   \n",
       "4             Bandol                NaN  Provence red blend   \n",
       "\n",
       "                    winery  \n",
       "0                    Heitz  \n",
       "1  Bodega Carmen Rodríguez  \n",
       "2                 Macauley  \n",
       "3                    Ponzi  \n",
       "4     Domaine de la Bégude  "
      ]
     },
     "metadata": {},
     "output_type": "display_data"
    },
    {
     "name": "stdout",
     "output_type": "stream",
     "text": [
      "Index(['Unnamed: 0', 'country', 'description', 'designation', 'points',\n",
      "       'price', 'province', 'region_1', 'region_2', 'taster_name',\n",
      "       'taster_twitter_handle', 'title', 'variety', 'winery'],\n",
      "      dtype='object')\n"
     ]
    },
    {
     "data": {
      "text/html": [
       "<div>\n",
       "<style scoped>\n",
       "    .dataframe tbody tr th:only-of-type {\n",
       "        vertical-align: middle;\n",
       "    }\n",
       "\n",
       "    .dataframe tbody tr th {\n",
       "        vertical-align: top;\n",
       "    }\n",
       "\n",
       "    .dataframe thead th {\n",
       "        text-align: right;\n",
       "    }\n",
       "</style>\n",
       "<table border=\"1\" class=\"dataframe\">\n",
       "  <thead>\n",
       "    <tr style=\"text-align: right;\">\n",
       "      <th></th>\n",
       "      <th>Unnamed: 0</th>\n",
       "      <th>country</th>\n",
       "      <th>description</th>\n",
       "      <th>designation</th>\n",
       "      <th>points</th>\n",
       "      <th>price</th>\n",
       "      <th>province</th>\n",
       "      <th>region_1</th>\n",
       "      <th>region_2</th>\n",
       "      <th>taster_name</th>\n",
       "      <th>taster_twitter_handle</th>\n",
       "      <th>title</th>\n",
       "      <th>variety</th>\n",
       "      <th>winery</th>\n",
       "    </tr>\n",
       "  </thead>\n",
       "  <tbody>\n",
       "    <tr>\n",
       "      <th>0</th>\n",
       "      <td>0</td>\n",
       "      <td>Italy</td>\n",
       "      <td>Aromas include tropical fruit, broom, brimston...</td>\n",
       "      <td>Vulkà Bianco</td>\n",
       "      <td>87</td>\n",
       "      <td>NaN</td>\n",
       "      <td>Sicily &amp; Sardinia</td>\n",
       "      <td>Etna</td>\n",
       "      <td>NaN</td>\n",
       "      <td>Kerin O’Keefe</td>\n",
       "      <td>@kerinokeefe</td>\n",
       "      <td>Nicosia 2013 Vulkà Bianco  (Etna)</td>\n",
       "      <td>White Blend</td>\n",
       "      <td>Nicosia</td>\n",
       "    </tr>\n",
       "    <tr>\n",
       "      <th>1</th>\n",
       "      <td>1</td>\n",
       "      <td>Portugal</td>\n",
       "      <td>This is ripe and fruity, a wine that is smooth...</td>\n",
       "      <td>Avidagos</td>\n",
       "      <td>87</td>\n",
       "      <td>15.0</td>\n",
       "      <td>Douro</td>\n",
       "      <td>NaN</td>\n",
       "      <td>NaN</td>\n",
       "      <td>Roger Voss</td>\n",
       "      <td>@vossroger</td>\n",
       "      <td>Quinta dos Avidagos 2011 Avidagos Red (Douro)</td>\n",
       "      <td>Portuguese Red</td>\n",
       "      <td>Quinta dos Avidagos</td>\n",
       "    </tr>\n",
       "    <tr>\n",
       "      <th>2</th>\n",
       "      <td>2</td>\n",
       "      <td>US</td>\n",
       "      <td>Tart and snappy, the flavors of lime flesh and...</td>\n",
       "      <td>NaN</td>\n",
       "      <td>87</td>\n",
       "      <td>14.0</td>\n",
       "      <td>Oregon</td>\n",
       "      <td>Willamette Valley</td>\n",
       "      <td>Willamette Valley</td>\n",
       "      <td>Paul Gregutt</td>\n",
       "      <td>@paulgwine</td>\n",
       "      <td>Rainstorm 2013 Pinot Gris (Willamette Valley)</td>\n",
       "      <td>Pinot Gris</td>\n",
       "      <td>Rainstorm</td>\n",
       "    </tr>\n",
       "    <tr>\n",
       "      <th>3</th>\n",
       "      <td>3</td>\n",
       "      <td>US</td>\n",
       "      <td>Pineapple rind, lemon pith and orange blossom ...</td>\n",
       "      <td>Reserve Late Harvest</td>\n",
       "      <td>87</td>\n",
       "      <td>13.0</td>\n",
       "      <td>Michigan</td>\n",
       "      <td>Lake Michigan Shore</td>\n",
       "      <td>NaN</td>\n",
       "      <td>Alexander Peartree</td>\n",
       "      <td>NaN</td>\n",
       "      <td>St. Julian 2013 Reserve Late Harvest Riesling ...</td>\n",
       "      <td>Riesling</td>\n",
       "      <td>St. Julian</td>\n",
       "    </tr>\n",
       "    <tr>\n",
       "      <th>4</th>\n",
       "      <td>4</td>\n",
       "      <td>US</td>\n",
       "      <td>Much like the regular bottling from 2012, this...</td>\n",
       "      <td>Vintner's Reserve Wild Child Block</td>\n",
       "      <td>87</td>\n",
       "      <td>65.0</td>\n",
       "      <td>Oregon</td>\n",
       "      <td>Willamette Valley</td>\n",
       "      <td>Willamette Valley</td>\n",
       "      <td>Paul Gregutt</td>\n",
       "      <td>@paulgwine</td>\n",
       "      <td>Sweet Cheeks 2012 Vintner's Reserve Wild Child...</td>\n",
       "      <td>Pinot Noir</td>\n",
       "      <td>Sweet Cheeks</td>\n",
       "    </tr>\n",
       "  </tbody>\n",
       "</table>\n",
       "</div>"
      ],
      "text/plain": [
       "   Unnamed: 0   country                                        description  \\\n",
       "0           0     Italy  Aromas include tropical fruit, broom, brimston...   \n",
       "1           1  Portugal  This is ripe and fruity, a wine that is smooth...   \n",
       "2           2        US  Tart and snappy, the flavors of lime flesh and...   \n",
       "3           3        US  Pineapple rind, lemon pith and orange blossom ...   \n",
       "4           4        US  Much like the regular bottling from 2012, this...   \n",
       "\n",
       "                          designation  points  price           province  \\\n",
       "0                        Vulkà Bianco      87    NaN  Sicily & Sardinia   \n",
       "1                            Avidagos      87   15.0              Douro   \n",
       "2                                 NaN      87   14.0             Oregon   \n",
       "3                Reserve Late Harvest      87   13.0           Michigan   \n",
       "4  Vintner's Reserve Wild Child Block      87   65.0             Oregon   \n",
       "\n",
       "              region_1           region_2         taster_name  \\\n",
       "0                 Etna                NaN       Kerin O’Keefe   \n",
       "1                  NaN                NaN          Roger Voss   \n",
       "2    Willamette Valley  Willamette Valley        Paul Gregutt   \n",
       "3  Lake Michigan Shore                NaN  Alexander Peartree   \n",
       "4    Willamette Valley  Willamette Valley        Paul Gregutt   \n",
       "\n",
       "  taster_twitter_handle                                              title  \\\n",
       "0          @kerinokeefe                  Nicosia 2013 Vulkà Bianco  (Etna)   \n",
       "1            @vossroger      Quinta dos Avidagos 2011 Avidagos Red (Douro)   \n",
       "2           @paulgwine       Rainstorm 2013 Pinot Gris (Willamette Valley)   \n",
       "3                   NaN  St. Julian 2013 Reserve Late Harvest Riesling ...   \n",
       "4           @paulgwine   Sweet Cheeks 2012 Vintner's Reserve Wild Child...   \n",
       "\n",
       "          variety               winery  \n",
       "0     White Blend              Nicosia  \n",
       "1  Portuguese Red  Quinta dos Avidagos  \n",
       "2      Pinot Gris            Rainstorm  \n",
       "3        Riesling           St. Julian  \n",
       "4      Pinot Noir         Sweet Cheeks  "
      ]
     },
     "metadata": {},
     "output_type": "display_data"
    }
   ],
   "source": [
    "for d in data:\n",
    "    print(d.columns)\n",
    "    display(d.head())"
   ]
  },
  {
   "cell_type": "code",
   "execution_count": 4,
   "metadata": {},
   "outputs": [
    {
     "data": {
      "text/plain": [
       "array(['Kerin O’Keefe', 'Roger Voss', 'Paul Gregutt',\n",
       "       'Alexander Peartree', 'Michael Schachner', 'Anna Lee C. Iijima',\n",
       "       'Virginie Boone', 'Matt Kettmann', nan, 'Sean P. Sullivan',\n",
       "       'Jim Gordon', 'Joe Czerwinski', 'Anne Krebiehl\\xa0MW',\n",
       "       'Lauren Buzzeo', 'Mike DeSimone', 'Jeff Jenssen',\n",
       "       'Susan Kostrzewa', 'Carrie Dykes', 'Fiona Adams',\n",
       "       'Christina Pickard'], dtype=object)"
      ]
     },
     "execution_count": 4,
     "metadata": {},
     "output_type": "execute_result"
    }
   ],
   "source": [
    "data2.taster_name.unique()"
   ]
  },
  {
   "cell_type": "markdown",
   "metadata": {},
   "source": [
    "### B. Manually parsing vivino.com\n",
    "\n",
    "### 1. Beautiful Soup\n",
    "\n",
    "We are trying to drill down to see individual wine properties in the explore page. The HTML tree classes of the original page include:\n",
    "* `body class=\"inner-page\"`\n",
    "* `div class=\"wrap\"`\n",
    "* `div id=\"explore-page-app\"`\n",
    "* `div class=\"explorerPage__explorePage--26aGH layout__outer--S05yQ\"`\n",
    "* `div class=\"layout__inner--3JC-x\"`\n",
    "* `div class=\"explorerPage__columns--1TTaK\"`\n",
    "* `div class=\"explorerPage__results--3wqLw\"`\n",
    "* `div class=\"explorerCard__explorerCard--3Q7_0 explorerPageResults__explorerCard--3q6Qe\"`\n",
    "* etc\n",
    "\n",
    "Eventually, we need the following element: `\"anchor__anchor--2QZvA\"` visible in order to get the link to the page of each wine"
   ]
  },
  {
   "cell_type": "code",
   "execution_count": 5,
   "metadata": {},
   "outputs": [],
   "source": [
    "import requests\n",
    "# from bs4 import BeautifulSoup\n",
    "\n",
    "\n",
    "# headers = {\n",
    "#     \"Accept\": \"text/html,application/xhtml+xml,application/xml;q=0.9,*/*;q=0.8\",\n",
    "#     \"Host\": \"www.vivino.com\",\n",
    "#     \"User-Agent\": \"Mozilla/5.0 (Macintosh; Intel Mac OS X 10_15_7) AppleWebKit/605.1.15 (KHTML, like Gecko) Version/14.0 Safari/605.1.15\",\n",
    "#     \"Accept-Language\": \"en-gb\",\n",
    "#     \"Accept-Encoding\": \"gzip, deflate, br\",\n",
    "#     \"Connection\": \"keep-alive\"    \n",
    "# }\n",
    "\n",
    "# response = requests.get(\"https://www.vivino.com/explore?e=eJwNyb0KgCAYBdC3ubNB611aWtsj4stMBH9CzertaznLCZkdgotUCPKwVwr65ThA_0w4_22a8fIe9mCT7EwVj7QxS3XRllWayWINEndTNO46L-w-zyUdWg==\", headers=headers)\n",
    "# content = response.content\n",
    "\n",
    "# parser = BeautifulSoup(content, 'html.parser')\n",
    "# body = parser.body\n",
    "# # print(body)\n",
    "# wine_titles = body.find_all(class_=\"vintageTitle__wine--U7t9G\")\n",
    "# for title in wine_titles:\n",
    "#     type(title.text)\n",
    "# # type(wine_titles)\n",
    "# wine_titles"
   ]
  },
  {
   "cell_type": "markdown",
   "metadata": {},
   "source": [
    "#### Observation on Beautiful Soup\n",
    "\n",
    "Apparently, simple BeautifulSoup does not work since vivino.com is using JavaScript to generate dynamic web pages, therefore, individual elements of the wine list can not be parsed without JavaScript. \n",
    "\n",
    "The deepest element of HTML page that can be achieved with Beautiful soup is the container with id `\"explore-page-app\"`."
   ]
  },
  {
   "cell_type": "markdown",
   "metadata": {},
   "source": [
    "### 2. Selenium web driver\n",
    "\n",
    "First, I considered using PhantomJS to generate web pages with datascript, see details [here](https://stackoverflow.com/questions/8049520/web-scraping-javascript-page-with-python).\n",
    "However, after some attempts it appears that PhantomJS has been depricated, and developers of Selenium suggest using headless versions of Chrome or Firefox instead \n",
    "(see details [here](https://stackoverflow.com/questions/50416538/python-phantomjs-says-i-am-not-using-headless))\n"
   ]
  },
  {
   "cell_type": "code",
   "execution_count": 6,
   "metadata": {},
   "outputs": [],
   "source": [
    "# from selenium import webdriver"
   ]
  },
  {
   "cell_type": "code",
   "execution_count": 7,
   "metadata": {},
   "outputs": [],
   "source": [
    "# driver = webdriver.PhantomJS(\"/Users/sveta/Downloads/phantomjs-2.1.1-macosx/bin/phantomjs\")\n",
    "# response_selenium = driver.get(\"https://www.vivino.com/explore?e=eJwNyb0KgCAYBdC3ubNB611aWtsj4stMBH9CzertaznLCZkdgotUCPKwVwr65ThA_0w4_22a8fIe9mCT7EwVj7QxS3XRllWayWINEndTNO46L-w-zyUdWg==\")\n",
    "# response_selenium\n",
    "# a_elements = response_selenium.find_elements_by_tag_name(\"a\")\n",
    "# for el in a_elements:\n",
    "#     print(el)"
   ]
  },
  {
   "cell_type": "markdown",
   "metadata": {},
   "source": [
    "Below is the code required to initialize a web driver.\n",
    "\n",
    "Basically, everything is done on the WebDriver instance object. The `find_element(By)` or `find_element_by_id` methods return another object type, the WebElement.\n",
    "See documentation [here](https://www.selenium.dev/documentation/en/getting_started_with_webdriver/locating_elements/)."
   ]
  },
  {
   "cell_type": "code",
   "execution_count": 8,
   "metadata": {},
   "outputs": [],
   "source": [
    "# Initialize web driver\n",
    "\n",
    "# def initialize_chrome_driver(long_screen=False):\n",
    "#     options = webdriver.ChromeOptions()\n",
    "#     options.add_argument('--headless')\n",
    "#     options.add_argument('--user-agent=Mozilla/5.0 (Macintosh; Intel Mac OS X 10_15_7) AppleWebKit/605.1.15 (KHTML, like Gecko) Version/14.0 Safari/605.1.15')\n",
    "#     options.add_argument(\"start-maximized\")\n",
    "#     if long_screen:\n",
    "#         options.add_argument(\"--window-size=1920x10800\")\n",
    "#     else:\n",
    "#         options.add_argument(\"--window-size=1920x1080\")\n",
    "#     # options.add_argument(\"disable-infobars\")\n",
    "#     # options.add_argument(\"--no-sandbox\")\n",
    "#     # options.add_argument(\"--disable-extensions\")\n",
    "#     # options.add_argument(\"--disable-dev-shm-usage\")\n",
    "#     # options.add_argument('--lang=en')\n",
    "#     # options.add_argument('--incognito')\n",
    "\n",
    "#     browser = webdriver.Chrome(\"/Users/sveta/Documents/Data analysis/Vivino-project/lib/chromedriver.uu\", options=options)\n",
    "#     return browser"
   ]
  },
  {
   "cell_type": "markdown",
   "metadata": {},
   "source": [
    "### Parsing the wine list (no scroll)"
   ]
  },
  {
   "cell_type": "code",
   "execution_count": 9,
   "metadata": {},
   "outputs": [],
   "source": [
    "# script to check functionality of google.com\n",
    "# browser.get('http://www.google.com/xhtml')\n",
    "# res = browser.find_element_by_id(\"SIvCob\")"
   ]
  },
  {
   "cell_type": "markdown",
   "metadata": {},
   "source": [
    "In order to see whether the explore page is loaded correctly, the screenshot is saved to the folder. \n",
    "\n",
    "After several attempts to load the webpage I get the response that my IP has been temporarily blocked for exceeding bulk request limits. Therefore, I added some properties to the Web Driver, such as setting a **User agent** that does not reveal headless nature of Chrome"
   ]
  },
  {
   "cell_type": "code",
   "execution_count": 10,
   "metadata": {},
   "outputs": [],
   "source": [
    "# get the screenshot of the explore page\n",
    "\n",
    "# browser = initialize_chrome_driver()\n",
    "# test_explore_page = \"https://www.vivino.com/explore?e=eJzLLbI1VMvNzLM1UMtNrLA1MTBQS660dXdSSwYSAWoFQNn0NNuyxKLM1JLEHLX8JNuixJLMvPTi-MSy1KLE9FS1fNuU1OJktfKS6FhbQwDu-xpj\"\n",
    "# browser.get(test_explore_page)\n",
    "# # res = browser.find_element_by_class_name(\"inner-page\")\n",
    "# browser.get_screenshot_as_file('test_screenshot.png')\n",
    "# # browser.text"
   ]
  },
  {
   "cell_type": "markdown",
   "metadata": {},
   "source": [
    "Once the page is loaded correctly, we are trying to get the individual wine properties.\n",
    "\n",
    "Those can be found within the class `\"anchor__anchor--2QZvA\"`\n",
    "The property of each wine has the link that leads to the individual web page of that wine. \n",
    "\n",
    "We are saving each link to a Pyhon list.\n",
    "However, the page contains some other links unnecessary for our study (such as wine-regions, wine-sountries, etc). Those are specifically excluded. "
   ]
  },
  {
   "cell_type": "code",
   "execution_count": 11,
   "metadata": {},
   "outputs": [],
   "source": [
    "# def get_list_no_scroll(browser, page, class_name=\"anchor__anchor--2QZvA\"):\n",
    "#     browser.get(page)\n",
    "#     results_list = browser.find_elements_by_class_name(class_name)\n",
    "#     wine_pages_list = []\n",
    "#     for el in results_list:\n",
    "#         cur_link = el.get_property(\"href\")\n",
    "#         if cur_link.startswith('https://www.vivino.com/wine-countries/')\\\n",
    "#         or cur_link.startswith('https://www.vivino.com/wine-regions/')\\\n",
    "#         or cur_link.startswith('https://www.vivino.com/redirect/')\\\n",
    "#         or cur_link.startswith('https://instagram')\\\n",
    "#         or cur_link.startswith('https://facebook')\\\n",
    "#         or cur_link.startswith('https://twitter'):\n",
    "#             continue\n",
    "#         else:\n",
    "#             wine_pages_list.append(cur_link)\n",
    "#     return wine_pages_list"
   ]
  },
  {
   "cell_type": "code",
   "execution_count": 12,
   "metadata": {},
   "outputs": [],
   "source": [
    "# browser = initialize_chrome_driver(long_screen=True)\n",
    "# wine_pages_list_v2 = get_list_no_scroll(browser, test_explore_page)\n",
    "# len(wine_pages_list_v2)"
   ]
  },
  {
   "cell_type": "code",
   "execution_count": 13,
   "metadata": {},
   "outputs": [],
   "source": [
    "# This is a temporary solution to get the first 25 links, since sometimes the page is not loading fast enough and does not gain any useful links, so we use results that we already had before\n",
    "# wine_pages_list_v2 = wine_pages_list\n",
    "# len(wine_pages_list_v2)"
   ]
  },
  {
   "cell_type": "markdown",
   "metadata": {},
   "source": [
    "We can see that even with JavaScript-enabled web driver, the wines are not all loaded simultaneously, and the search results in just a few elements. Therefore, we need to implement scrolling. "
   ]
  },
  {
   "cell_type": "markdown",
   "metadata": {},
   "source": [
    "### Parsing a wine list (with JavaScript scrolling)"
   ]
  },
  {
   "cell_type": "markdown",
   "metadata": {},
   "source": [
    "It appears that we need a scroller to get the whole list of wines, since they are not all loaded simultaneously.\n",
    "\n",
    "First, to implement a scroller, we need find an element that is located in the bottom of the page, and run a script until such element becomes visible.\n",
    "\n",
    "We are trying to find an element with a class `\"addWidgetLink__addWidgetLink--aPZ_V\"` to indicate the page bottom, and see if the scrolling works"
   ]
  },
  {
   "cell_type": "code",
   "execution_count": 14,
   "metadata": {},
   "outputs": [],
   "source": [
    "# # scroll until the end of a specific wine page \n",
    "\n",
    "# from selenium.webdriver.common.by import By\n",
    "# from selenium.webdriver.support.ui import WebDriverWait\n",
    "# from selenium.webdriver.support import expected_conditions as EC\n",
    "# from selenium.common.exceptions import TimeoutException\n",
    "\n",
    "# def scroll_until_page_bottom(browser, page, page_end_class=\"addWidgetLink__addWidgetLink--aPZ_V\"):\n",
    "#     browser.get(page)\n",
    "#     browser.execute_script(\"window.scrollTo(0, document.body.scrollHeight);\")\n",
    "#     try:\n",
    "#         WebDriverWait(browser, 50).until(EC.visibility_of_element_located((By.CLASS_NAME, page_end_class)))\n",
    "#     except TimeoutException:\n",
    "#         print(\"exception raised\")"
   ]
  },
  {
   "cell_type": "code",
   "execution_count": 15,
   "metadata": {},
   "outputs": [],
   "source": [
    "# trying to extract more wines \n",
    "\n",
    "# # red wines with ratings of 4.5+ and price above 400 \n",
    "# explore_link_1 = \"https://www.vivino.com/explore?e=eJzLLbI10TNVy83MszUxMFDLTawA08mVtu5OaslAIkCtwNZQLT3NtiyxKDO1JDFHLT_JtiixJDMvvTg-sSy1KDE9VS3fNiW1OFmtvCQ61tYQADLIGy0=\"\n",
    "# # desert wines with ratings of 4.5+ and price above 25 \n",
    "# explore_link_2 = \"https://www.vivino.com/explore?e=eJwNxbEKgCAUBdC_eWNYGE13aWltj4iXmQipoWL197mc4yJk05OzHl2NX0ghSH2YRlKVmW60ZE4UjlZnvijsiJytN2njoiMbTQGHToqevKwYfiK_GwY=\"\n",
    "\n",
    "# # scroll_until_page_bottom(browser, explore_link_1)\n",
    "# # results_list_1 = browser.find_elements_by_class_name(\"anchor__anchor--2QZvA\")\n",
    "\n",
    "# scroll_until_page_bottom(browser, explore_link_2)\n",
    "# results_list_2 = browser.find_elements_by_class_name(\"anchor__anchor--2QZvA\")\n",
    "\n",
    "# wine_count_1 = len(results_list_1)\n",
    "# wine_count_2 = len(results_list_2)\n",
    "# print(wine_count_1)\n",
    "# print(wine_count_2)"
   ]
  },
  {
   "cell_type": "code",
   "execution_count": 16,
   "metadata": {},
   "outputs": [],
   "source": [
    "# browser.get_screenshot_as_file('scroll_screen.png')"
   ]
  },
  {
   "cell_type": "markdown",
   "metadata": {},
   "source": [
    "Scrolling until certain element is located does not seem to work properly. \n",
    "Therefore, the next try is to scroll a page down certain number of times, and wait a bit after each scroll (to allow the page to load more wines). This solution is ispired by [this article](https://dev.to/mr_h/python-selenium-infinite-scrolling-3o12)\n",
    "\n",
    "Therefore, we write a function that scrolls down with a certain sleep timer (2 sec) after each scroll, loads the web elements that have a certain class (`\"anchor__anchor--2QZvA\"`), and returns a list with such elements. \n",
    "\n",
    "In order to limit the desired number of elements, we can either manually restrict the length of the resulting list (using a variable `total_wine_num`, or target the overall number of existing wines, as can be seen in the top of the explorer page.\n",
    "\n",
    "Also, since the page loads only a few new elements with each scroll, in order to increase efficiency, we check web elements every 10 scrolls (therefore, the iteration counter is required)."
   ]
  },
  {
   "cell_type": "code",
   "execution_count": 17,
   "metadata": {},
   "outputs": [],
   "source": [
    "import time \n",
    "\n",
    "# def scroll_load_scroll(driver, page, timeout=2, class_name=\"anchor__anchor--2QZvA\"):\n",
    "    \n",
    "#     # Open the explore page\n",
    "#     driver.get(page)\n",
    "    \n",
    "#     # extract the total number of wines with a given search criteria\n",
    "# #     time.sleep(timeout)\n",
    "# #     total_wine_string = browser.find_element_by_class_name(\"querySummary__querySummary--39WP2\").text\n",
    "# #     total_wine_num = int(total_wine_string.split()[1])\n",
    "\n",
    "#     total_wine_num = 50\n",
    "    \n",
    "#     results_list = []\n",
    "#     count_iter = 0\n",
    "\n",
    "#     while len(results_list) < total_wine_num:\n",
    "        \n",
    "# #         browser.get_screenshot_as_file('scroll_screen_' + str(count_iter) +'.png')\n",
    "# #         print(\"gotcha!\")\n",
    "\n",
    "#         if count_iter % 10 == 0:\n",
    "\n",
    "#             timepoint_1 = time.time()\n",
    "\n",
    "#             all_results = browser.find_elements_by_class_name(class_name)\n",
    "\n",
    "#             timepoint_2 = time.time()\n",
    "#             print(\"time to parse elements: \" + str(timepoint_2 - timepoint_1))\n",
    "\n",
    "#             # get the link and check whether it meets the required criteria in order to be included to the list \n",
    "#             for el in all_results:\n",
    "#                 cur_link = el.get_property(\"href\")\n",
    "#                 if cur_link.startswith('https://www.vivino.com/wine-countries/')\\\n",
    "#                 or cur_link.startswith('https://www.vivino.com/wine-regions/')\\\n",
    "#                 or cur_link.startswith('https://www.vivino.com/redirect/')\\\n",
    "#                 or cur_link.startswith('https://instagram')\\\n",
    "#                 or cur_link.startswith('https://facebook')\\\n",
    "#                 or cur_link.startswith('https://twitter')\\\n",
    "#                 or cur_link in results_list:\n",
    "#                     continue\n",
    "#                 else:\n",
    "#                     results_list.append(cur_link)\n",
    "        \n",
    "#         timepoint_3 = time.time()\n",
    "#         print(\"time to update list of links: \" + str(timepoint_3 - timepoint_2))\n",
    "        \n",
    "#         # Scroll down to bottom\n",
    "#         driver.execute_script(\"window.scrollTo(0, document.body.scrollHeight);\")\n",
    "\n",
    "#         # Wait to load page\n",
    "#         time.sleep(timeout)\n",
    "        \n",
    "#         timepoint_4 = time.time()\n",
    "#         print(\"time to scroll and wait: \" + str(timepoint_4 - timepoint_3))\n",
    "        \n",
    "#         count_iter += 1\n",
    "        \n",
    "#     print(\"list has {} elements\".format(len(results_list)))\n",
    "#     return results_list"
   ]
  },
  {
   "cell_type": "markdown",
   "metadata": {},
   "source": [
    "The above solution `scroll_load_scroll` that loads after each scroll (or each 10 scrolls) seems pretty slow, so, alternatively `scroll_and_load` function takes a given number of scrolls as an argument, and performs this number of scrolls before loading the page."
   ]
  },
  {
   "cell_type": "code",
   "execution_count": 18,
   "metadata": {},
   "outputs": [],
   "source": [
    "# def scroll_and_load(driver, page, timeout=1, scrolls=60, class_name=\"anchor__anchor--2QZvA\"):\n",
    "#     timepoint_0 = time.time()\n",
    "#     results_list = []\n",
    "#     driver.get(page)\n",
    "#     timepoint_1 = time.time()\n",
    "#     for i in range (scrolls):\n",
    "#         driver.execute_script(\"window.scrollTo(0, document.body.scrollHeight);\")\n",
    "#         time.sleep(timeout)\n",
    "#     timepoint_2 = time.time()\n",
    "# #     print(\"time to scroll and wait: {} s.\".format(timepoint_2 - timepoint_1))\n",
    "#     loaded_elements = browser.find_elements_by_class_name(class_name)\n",
    "#     timepoint_3 = time.time()\n",
    "# #     print(\"time to load elements: {} s.\".format(timepoint_3 - timepoint_2))\n",
    "#     for el in loaded_elements:\n",
    "#         cur_link = el.get_property(\"href\")\n",
    "#         if cur_link.startswith('https://www.vivino.com/wine-countries/')\\\n",
    "#         or cur_link.startswith('https://www.vivino.com/wine-regions/')\\\n",
    "#         or cur_link.startswith('https://www.vivino.com/redirect/')\\\n",
    "#         or cur_link.startswith('https://instagram')\\\n",
    "#         or cur_link.startswith('https://facebook')\\\n",
    "#         or cur_link.startswith('https://twitter')\\\n",
    "#         or cur_link in results_list:\n",
    "#             continue\n",
    "#         else:\n",
    "#             results_list.append(cur_link)\n",
    "#     timepoint_4 = time.time()\n",
    "# #     print(\"time to extract the list of links: {} s.\".format(timepoint_4 - timepoint_3))\n",
    "#     print(\"total time elapsed: {} s.\".format(timepoint_4 - timepoint_0))\n",
    "#     print(\"list has {} elements\".format(len(results_list)))\n",
    "#     print(\"average time per element is {} s\".format((timepoint_4 - timepoint_0)/len(results_list)))\n",
    "#     return results_list"
   ]
  },
  {
   "cell_type": "code",
   "execution_count": 19,
   "metadata": {},
   "outputs": [],
   "source": [
    "# browser = initialize_chrome_driver(long_screen=False)"
   ]
  },
  {
   "cell_type": "code",
   "execution_count": 20,
   "metadata": {},
   "outputs": [],
   "source": [
    "# some other links for testing\n",
    "\n",
    "# # all fortified wines with a rating above 4.5 (the overal result should be 423)\n",
    "# explore_link_3 = \"https://www.vivino.com/explore?e=eJwNxL0KgCAYBdC3uWNY2HiXltb2iPgyEyE1TPp5-zrDCZm6ahF8pEKQh1opmJd9B_M34GANt_GS7G2RHWlhluKjO2e5bBZnkbja0-Au48RGfyshGv4=\"\n",
    "# # all red wines, sorted by rating\n",
    "# explore_link_4 = \"https://www.vivino.com/explore?e=eJzLLbI1VMvNzLM1UMtNrLA1MTBQS660dXdSSwYSAWoFQNn0NNuyxKLM1JLEHLX8JNuixJLMvPTi-MSy1KLE9FS1fNuU1OJktfKS6FhbQwDu-xpj\"\n",
    "# # all red wines, sorted by popularity\n",
    "# explore_link_5 = \"https://www.vivino.com/explore?e=eJzLLbI1VMvNzLM1UMtNrLA1MTBQS660dXdSSwYSAWoFQNn0NNuyxKLM1JLEHLX8JNuixJLMvPTi-OT80rwStXzblNTiZLXykuhYW0MAulcZsQ==\""
   ]
  },
  {
   "cell_type": "code",
   "execution_count": 21,
   "metadata": {},
   "outputs": [],
   "source": [
    "# list_with_scroll = scroll_and_load(browser, explore_link_5)"
   ]
  },
  {
   "cell_type": "code",
   "execution_count": 22,
   "metadata": {},
   "outputs": [],
   "source": [
    "# list_with_scroll[-1]"
   ]
  },
  {
   "cell_type": "markdown",
   "metadata": {},
   "source": [
    "The above strategy (60 scrolls, each with 1s timeout) gained 1425 elements. We should experiment with a number of scrolls and/or the value of timeout to see if it helps to increase the speed of loading of new elements. Experiments performed below. Since the timing and the list size differ in different experiments, one should look to the average loading time per element to see whether a strategy is efficient or not. "
   ]
  },
  {
   "cell_type": "code",
   "execution_count": 23,
   "metadata": {},
   "outputs": [],
   "source": [
    "# browser = initialize_chrome_driver()\n",
    "# list_with_scroll = scroll_and_load(browser, explore_link_5, scrolls=100)"
   ]
  },
  {
   "cell_type": "code",
   "execution_count": 24,
   "metadata": {},
   "outputs": [],
   "source": [
    "# browser = initialize_chrome_driver()\n",
    "# list_with_scroll = scroll_and_load(browser, explore_link_5, timeout=0.5)"
   ]
  },
  {
   "cell_type": "code",
   "execution_count": 25,
   "metadata": {},
   "outputs": [],
   "source": [
    "# browser = initialize_chrome_driver()\n",
    "# list_with_scroll = scroll_and_load(browser, explore_link_5, timeout=0.5, scrolls=100)"
   ]
  },
  {
   "cell_type": "markdown",
   "metadata": {},
   "source": [
    "We can see that timeout of 0.5s and 100 scrolls gains relatively high speed of loading and achievs relatively more results. We will use the strategy of 0.5s and 200 scrolls further on, and apply it to various wine groups (red vs. white, and also divided by country).\n",
    "\n",
    "To use this approach we feed individual web pages per each country and wine type to our program (sorted inthe order of descending popularity), and run a web crawler through each of them. The results are saved in a list. "
   ]
  },
  {
   "cell_type": "code",
   "execution_count": 26,
   "metadata": {},
   "outputs": [],
   "source": [
    "# argentina_red = \"https://www.vivino.com/explore?e=eJwNirsOgCAMAP-mMyauXVxc3Y0xtSIhETClPvh7u9wNd0mwgxQzOkj0Ye8ccMNxADZMcFkNBz4k0SudUDYU0phDXbncWaHg7ivDq_NiK7dqJvkBsTQc7g==\"\n",
    "# australia_red = \"https://www.vivino.com/explore?e=eJwNijsKgDAQBW_z6gi229jY2ovIumoImETyUXN7t5kpZnyiDt4FMvD8UW8MpNE4QBQTbq32pIeTOwpfiBslLi7YvEqsoSDSfmTBW-ZFV2lZzfUHsTcc8Q==\"\n",
    "# austria_red = \"https://www.vivino.com/explore?e=eJwNijsOgCAQBW_zakxst7GxtTfGrCsSEgED64fbSzNTzIRMHYKPZBD4o94YSKVxgDRMuFp1Bz2cvVU-kTbKrD66skq6oyLRbovg1Xlpq9TSzPoDsTYc8A==\"\n",
    "# chile_red = \"https://www.vivino.com/explore?e=eJwNijsKgDAQBW_z6gi229jY2otIXGMI5CPJ-ru928wUM6lShxQyGST7Um8M-KNxACsmnFr9QbetwYmNKBtVKyH7tnK5sqDQ7hrjkXnRlb-m5vgDsTIc6g==\"\n",
    "# france_red = \"https://www.vivino.com/explore?e=eJwNirsOgCAMAP-mMyauXVxc3Y0xtQIhETClvv7eLnfDXRbsIKeCDjK92DsH_OE4ABsmOK3GgDdJ8koH1A2FNJXYVq5XUai4-8bw6LzYyl8zB_kBsT4c8w==\"\n",
    "# germany_red = \"https://www.vivino.com/explore?e=eJwNijsOgCAQBW_zakxst7GxtTfG4IqERMDA-uH2bjNTzMRCHWJIZBDtR70x4EbjAFZMuLT6gx5bghN7Im9UrITk68r5ToJMu6uMV-ZFV25VvbsfsS0c5A==\"\n",
    "# italy_red = \"https://www.vivino.com/explore?e=eJwNirsOgCAMAP-mMyauXVxc3Y0xtSJpImCgPvh7u9wNd7FgB1ESOoj0Ye8ccMNxADZMcFkNBz5UxCudkDcspJJCXTnfSSHj7ivDq_NiK7dqFv0BsUYc-A==\"\n",
    "# portugal_red = \"https://www.vivino.com/explore?e=eJwNijsKgDAQBW_z6gi229jY2otIXGMImA_J-ru928wUM7FShxgSGUT7Um8M-KNxACsmFK3-oNvW4MSeyBtVKyH5tnK-kiDT7hrjkXnRlb-mLvIDsVQc_w==\"\n",
    "# spain_red = \"https://www.vivino.com/explore?e=eJwNirsOgCAMAP-mMyauXVxc3Y0xtSIhETC0Pvh7u9wNd6liBylmdJDow9454IbjAGyY4LIaDnyoRq90QtmwksYcZOVyZ4WCuxeGV-fFVm5i9vIDsT0c8w==\"\n",
    "# usa_red = \"https://www.vivino.com/explore?e=eJwNijEOgCAMAH_TGRPXLi6u7saYWpWQCBhaVH5vl7vhLhbsIIaEDiJ92DsH3HAcgA0T3Fb9iQ-VcChdkDcspCF5WTnXpJBxP4Th1XmxlZuYq_yxXR0D\"\n",
    "\n",
    "# full_red_list = []\n",
    "# length_list = []\n",
    "\n",
    "# browser = initialize_chrome_driver()\n",
    "# country_pages = [argentina_red, australia_red, austria_red, chile_red, france_red, germany_red, italy_red, portugal_red, spain_red, usa_red]\n",
    "# for page in country_pages:\n",
    "#     country_list = scroll_and_load(browser, page, timeout=0.5, scrolls=200)\n",
    "#     length_list.append(len(country_list))\n",
    "#     full_red_list.append(country_list)\n",
    "#     print(\"{} finished and gained {} links\".format(page, len(country_list)))"
   ]
  },
  {
   "cell_type": "code",
   "execution_count": 27,
   "metadata": {},
   "outputs": [],
   "source": [
    "# argentina_white = \"https://www.vivino.com/explore?e=eJwNi7sKgDAMAP8mcxXXLC6u7iISYy0F20oaX39vlrvhuCTYQIoZHSR6sXMO-MOhBzaMcFoNO94k0SsdUFYU0phDXbhcWaHg5ivDo9OMra3VTPIDsT4c7w==\"\n",
    "# australia_white = \"https://www.vivino.com/explore?e=eJwNizsOgCAQBW_zajS229jY2htj1lUJiYCBxc_tpZkpJuMTNfAukIHnlzpjIB8NPaRixFWrPejm5HblE3GlxOqCzYvEEhSRtj0LHp1mauuaq7n8sUEc8g==\"\n",
    "# austria_white = \"https://www.vivino.com/explore?e=eJwNizsOgCAQBW_zajS229jY2htj1hUJiYCB9Xd7aWaKyYRMDYKPZBD4pc4YyEdDD6kYcdbqdro5e6t8IK2UWX10ZZF0RUWizRbBo9NMbV1LNesPsUAc8Q==\"\n",
    "# chile_white = \"https://www.vivino.com/explore?e=eJwNizsKgDAQBW_z6ii229jY2ovIumoI5CPJ-ru9aWaKYUKmBsFFMgj8UmcM5KOhh1SMOGu1B92c3a7skVbKrC7aski6oiLRthfBo9NMbV1LtfgfsTwc6w==\"\n",
    "# france_white = \"https://www.vivino.com/explore?e=eJwNi7sKgDAMAP8mcxXXLC6u7iISoy0F20oaX39vlrvhuCTYQIoZHSR6sXMO-MOhBzaMcFoNHm-SuCsdUFYU0phDXbhcWaHgtleGR6cZW1ur2csPsUgc9A==\"\n",
    "# germany_white = \"https://www.vivino.com/explore?e=eJwNizsOgCAQBW_zajS229jY2htj1hUJiYCB9Xd7aWaKyYRMDYKPZBD4pc4YyEdDD6kYcdbqdro5e6t8IK2UWX10ZZF0RUWizRbBo9NMbV1L9WZ_sTcc5Q==\"\n",
    "# italy_white = \"https://www.vivino.com/explore?e=eJwNi7sKgDAMAP8mcxXXLC6u7iISYy0B20obX39vlrvhuFiwgSgJHUR6sXMO-MOhBzaMcFoNO95UxCsdkFcspJJCXThfSSHj5ivDo9OMra3VLPoDsVAc-Q==\"\n",
    "# portugal_white = \"https://www.vivino.com/explore?e=eJwNizsKgDAQBW-zdRTb19jY2ovIumoImA_J-ru9aWaKYXxGQ94FGPL8ojOG5MPQk1SMlGq1B27Oblc-Ka7IrC7Yski8glLEthehR6cZbV1LddIfsV4dAA==\"\n",
    "# spain_white = \"https://www.vivino.com/explore?e=eJwNi7sKgDAMAP8mcxXXLC6u7iISYy0F20oTX39vlrvhuFSxgRQzOkj0Yucc8IdDD2wY4bQadrypRq90QFmxksYcZOFyZYWCmxeGR6cZW1vF7OUHsUcc9A==\"\n",
    "# usa_white = \"https://www.vivino.com/explore?e=eJwNi7sKgDAMAP8mcxXXLC6u7iISo5aCbaVJffy9We6G42LBBmJI6CDSi51zwB8OPbBhhMuqP_CmEnalE_KKhTQkLwvnmhQybrswPDrN2Noq5io_sWcdBA==\"\n",
    "\n",
    "# full_white_list = []\n",
    "# white_length_list = []\n",
    "\n",
    "# browser = initialize_chrome_driver()\n",
    "# country_white_pages = [argentina_white, australia_white, austria_white, chile_white, france_white, germany_white, italy_white, portugal_white, spain_white, usa_white]\n",
    "# for page in country_white_pages:\n",
    "#     country_list = scroll_and_load(browser, page, timeout=1, scrolls=150)\n",
    "#     white_length_list.append(len(country_list))\n",
    "#     full_white_list.append(country_list)\n",
    "#     print(\"{} finished and gained {} links\".format(page, len(country_list)))"
   ]
  },
  {
   "cell_type": "markdown",
   "metadata": {},
   "source": [
    "Check the resulting sample size for red and white wines:"
   ]
  },
  {
   "cell_type": "code",
   "execution_count": 28,
   "metadata": {},
   "outputs": [],
   "source": [
    "# records = 0\n",
    "# for i in full_red_list:\n",
    "#     records += len(i)\n",
    "# print('our search gained {} red wine records'.format(records))"
   ]
  },
  {
   "cell_type": "code",
   "execution_count": 29,
   "metadata": {},
   "outputs": [],
   "source": [
    "# records = 0\n",
    "# for i in full_white_list:\n",
    "#     records += len(i)\n",
    "# print('our search gained {} white wine records'.format(records))"
   ]
  },
  {
   "cell_type": "markdown",
   "metadata": {},
   "source": [
    "Save results to a file (for convenience, using [pickle library](https://docs.python.org/3/library/pickle.html))"
   ]
  },
  {
   "cell_type": "code",
   "execution_count": 30,
   "metadata": {},
   "outputs": [],
   "source": [
    "# import pickle\n",
    "# with open(\"popular_reds_sample\", 'wb') as f:\n",
    "#     pickle.dump(full_red_list, f)"
   ]
  },
  {
   "cell_type": "code",
   "execution_count": 31,
   "metadata": {},
   "outputs": [],
   "source": [
    "# with open(\"popular_whites_sample\", 'wb') as f:\n",
    "#     pickle.dump(full_white_list, f)"
   ]
  },
  {
   "cell_type": "markdown",
   "metadata": {},
   "source": [
    "### Parsing the properties of each wine from the list "
   ]
  },
  {
   "cell_type": "markdown",
   "metadata": {},
   "source": [
    "Trying to get interesting information per each wine, such as: \n",
    "- id:\n",
    "    * wine name (this usualy includes also the year) (`class=\"wine\"`)\n",
    "- properties:\n",
    "    * winery (`class=\"winery\"`)\n",
    "    * wine type (`class=\"wineLocationHeader__wineType--14nrC\"`)\n",
    "    * grapes (`class=\"wineFacts__fact--3BAsi\"`) \n",
    "    * wine style (`class=\"wineFacts__fact--3BAsi\"`) \n",
    "    * region (`class=\"anchor__anchor--3DOSm\"`)\n",
    "    * country (`class=\"wineLocationHeader__country--1RcW2\"`)\n",
    "- quality information:\n",
    "    * number of reviews (`class=\"vivinoRatingWide__basedOn--s6y0t\"`)\n",
    "    * average price (`class=\"purchaseAvailabilityPPC__amount--2_4GT\"`)\n",
    "    * rating score (`class=\"vivinoRatingWide__averageValue--1zL_5\"`)\n",
    "    * 3 random community reviews (`class=\"reviewCard__reviewNote--fbIdd\"`)\n",
    "- taste structure:\n",
    "    * there are 4 progress bars: light/bold, smooth/tannic, dry/sweet, soft/acidic \n",
    "    * each taste progressbar has the following class: `class=\"indicatorBar__progress--3aXLX\"` with the following style properties identifying the bar location: `style=\"width: 15%; left: 85%;\"` \n",
    "    * notes mention (`class=\"tasteNote__popularKeywords--1q7RG\"`) \n",
    "    \n",
    "Some of these elements are not visible until the page is scrolled down till the end. Therefore, just as with the wine list, we might need to scroll down, but this time without a pause. Instead, we will scroll until the specific element in the bottom becomes visible. This will ensure that all other elements are visible too. The bottom element chosen for this purposes has a class `addWidgetLink__addWidgetLink--aPZ_V`. "
   ]
  },
  {
   "cell_type": "code",
   "execution_count": 32,
   "metadata": {},
   "outputs": [],
   "source": [
    "# scroll until the end of a specific wine page \n",
    "\n",
    "# def scroll_until_the_end_of_wine_page(browser, page, page_end_class=\"addWidgetLink__addWidgetLink--aPZ_V\"):\n",
    "#     browser.get(page)\n",
    "#     browser.execute_script(\"window.scrollTo(0, document.body.scrollHeight);\")\n",
    "#     try:\n",
    "#         WebDriverWait(browser, 50).until(EC.visibility_of_element_located((By.CLASS_NAME, page_end_class)))\n",
    "#     except TimeoutException:\n",
    "#         print(\"exception raised\")"
   ]
  },
  {
   "cell_type": "markdown",
   "metadata": {},
   "source": [
    "Once the whole wine page is loaded, we will need to check existence of each item that we need for analysis. \n",
    "\n",
    "To parse the data, important to note that each of page items has either a unique class name (in this case a single element can be extracted using a method `browser.find_element_by_class_name()`), or a generic class name that applies to more than one element (and therefore the list of elements can be extracted using a method `browser.find_elements_by_class_name()` and then indexed to get the desired data). \n",
    "\n",
    "Generally, we are interested in the text property of a given web element, however, in specific cases (eg. for the wine taste structure that is represented as a slidebar on vivino web page) we are interested in web element attributes instead.  \n",
    "\n",
    "Some of the required information may be missing on a wine page, in such cases no exception should be raised. Instead, the program should consider `np.nan` as the correct data input. \n",
    "\n",
    "In order to consider the above specifics, we introduce a function `extract_data_with_exceptions` that takes several optional boolean arguments (`multiple_elements` tells whether a given class has more than one elements on a page, `get_style` tells whether we need attribute of a web element instead of text)\n"
   ]
  },
  {
   "cell_type": "code",
   "execution_count": 33,
   "metadata": {},
   "outputs": [],
   "source": [
    "# extract either a single element, or a list of multiple elements\n",
    "# def extract_data_with_exceptions(browser, class_name, multiple_elements=False, get_style=False):\n",
    "#     if multiple_elements:\n",
    "#         try:\n",
    "#             list_with_data = []\n",
    "#             data_list = browser.find_elements_by_class_name(class_name)\n",
    "#             for element in data_list:\n",
    "#                 if get_style:\n",
    "#                     list_with_data.append(element.get_attribute(\"style\"))\n",
    "#                 else:\n",
    "#                     list_with_data.append(element.text)\n",
    "#         except:\n",
    "#             list_with_data = \"Not available\"\n",
    "#         return list_with_data\n",
    "#     else:\n",
    "#         try:\n",
    "#             if get_style:\n",
    "#                 data = browser.find_element_by_class_name(class_name).get_attribute(\"style\")\n",
    "#             else:\n",
    "#                 data = browser.find_element_by_class_name(class_name).text\n",
    "#         except:\n",
    "#             data = np.nan\n",
    "#         return data"
   ]
  },
  {
   "cell_type": "markdown",
   "metadata": {},
   "source": [
    "The data will be stored in a pandas DataFrame. Therefore, for convenience, it was chosen to extract individual wine data in the form of a Python dictionary, that will be appended to the target DataFrame one by one. "
   ]
  },
  {
   "cell_type": "code",
   "execution_count": 34,
   "metadata": {},
   "outputs": [],
   "source": [
    "# def extract_data_as_dict(browser):\n",
    "#     data_dict = {}\n",
    "#     # extract wine name - OK text\n",
    "#     data_dict[\"wine_name\"] = extract_data_with_exceptions(browser, \"vintage\") \n",
    "#     # extract winery - OK text\n",
    "#     data_dict[\"winery\"] = extract_data_with_exceptions(browser, \"winery\")\n",
    "#     # extract wine type - OK text\n",
    "#     data_dict[\"wine_type\"] = extract_data_with_exceptions(browser, \"wineLocationHeader__wineType--14nrC\")\n",
    "#     # extract grapes - OK text list element\n",
    "#     facts_list = extract_data_with_exceptions(browser, \"wineFacts__fact--3BAsi\", multiple_elements=True)\n",
    "#     data_dict[\"grapes\"] = facts_list[1] if len(facts_list) > 1 else np.nan\n",
    "#     # extract wine style - OK text list element\n",
    "#     data_dict[\"wine_style\"] = facts_list[3] if len(facts_list) > 3 else np.nan\n",
    "#     # extract region - OK text \n",
    "#     data_dict[\"region\"] = extract_data_with_exceptions(browser, \"anchor__anchor--3DOSm\")\n",
    "#     # extract country - OK text\n",
    "#     data_dict[\"country\"] = extract_data_with_exceptions(browser, \"wineLocationHeader__country--1RcW2\")\n",
    "#     # extract the number of reviews - OK text \n",
    "#     data_dict[\"reviews\"] = extract_data_with_exceptions(browser, \"vivinoRatingWide__basedOn--s6y0t\")\n",
    "#     # extract the average price - OK text\n",
    "#     data_dict[\"price\"] = extract_data_with_exceptions(browser, \"purchaseAvailabilityPPC__amount--2_4GT\")\n",
    "#     # extract the rating score - OK text\n",
    "#     data_dict[\"score\"] = extract_data_with_exceptions(browser, \"vivinoRatingWide__averageValue--1zL_5\")\n",
    "#     # extract 3 reviews - OK text list\n",
    "#     reviews_list = extract_data_with_exceptions(browser, \"reviewCard__reviewNote--fbIdd\", multiple_elements=True)\n",
    "#     data_dict[\"review_1\"] = reviews_list[0] if len(reviews_list) > 0 else np.nan\n",
    "#     data_dict[\"review_2\"] = reviews_list[1] if len(reviews_list) > 1 else np.nan\n",
    "#     data_dict[\"review_3\"] = reviews_list[2] if len(reviews_list) > 2 else np.nan\n",
    "#     # extract taste bar\n",
    "#     taste_list = extract_data_with_exceptions(browser, \"indicatorBar__progress--3aXLX\", multiple_elements=True, get_style=True)\n",
    "#     data_dict[\"taste_light_bold\"] = taste_list[0] if len(taste_list) > 0 else np.nan\n",
    "#     data_dict[\"taste_smooth_tannic\"] = taste_list[1] if len(taste_list) > 1 else np.nan\n",
    "#     data_dict[\"taste_dry_sweet\"] = taste_list[2] if len(taste_list) > 2 else np.nan\n",
    "#     data_dict[\"taste_soft_acidic\"] = taste_list[3] if len(taste_list) > 3 else np.nan\n",
    "#     # extract keywords\n",
    "#     keyword_list = extract_data_with_exceptions(browser, \"tasteNote__popularKeywords--1q7RG\", multiple_elements=True)\n",
    "#     data_dict[\"keywords_1\"] = keyword_list[0] if len(keyword_list) > 0 else np.nan\n",
    "#     data_dict[\"keywords_2\"] = keyword_list[1] if len(keyword_list) > 1 else np.nan\n",
    "#     data_dict[\"keywords_3\"] = keyword_list[2] if len(keyword_list) > 2 else np.nan\n",
    "#     return data_dict"
   ]
  },
  {
   "cell_type": "code",
   "execution_count": 35,
   "metadata": {},
   "outputs": [],
   "source": [
    "# df_25_wines = pd.DataFrame()\n",
    "\n",
    "# for page in wine_pages_list:\n",
    "#     scroll_until_the_end_of_wine_page(browser, page, page_end_class=\"addWidgetLink__addWidgetLink--aPZ_V\")\n",
    "#     cur_wine_data = extract_data_as_dict(browser)\n",
    "#     df_25_wines = df_25_wines.append(cur_wine_data, ignore_index=True)"
   ]
  },
  {
   "cell_type": "code",
   "execution_count": 36,
   "metadata": {},
   "outputs": [],
   "source": [
    "# df_25_wines.head()"
   ]
  },
  {
   "cell_type": "markdown",
   "metadata": {},
   "source": [
    "Now when we know that the web scraper works correctly, we might want to apply it to a bigger subset of wines at the same time (eg. about 20k red wines that were saved in the script above).\n",
    "\n",
    "However, once the script was run, it managed to load data about app. 340 wines before it triggered the bulk request limits on vivino.com.\n",
    "\n",
    "The following message was thrown: \n",
    "*Your IP address (185.192.69.14) has been temporarily blocked for exceeding bulk request limits. If you believe this was done in error or you have legitimate needs to access our pages and data above and beyond these limits please contact admin@vivino.com with the subject 'Requests Blocked' and we'll try and resolve the issue.*\n",
    "\n",
    "Still, for documentation purposes, the below code is kept here, and might be un-commented if needed. "
   ]
  },
  {
   "cell_type": "code",
   "execution_count": 37,
   "metadata": {},
   "outputs": [],
   "source": [
    "# wine_df_new = pd.DataFrame()\n",
    "\n",
    "# browser = initialize_chrome_driver()\n",
    "\n",
    "# start_time = time.time()\n",
    "# for page in list_with_scroll:\n",
    "#     scroll_until_the_end_of_wine_page(browser, page, page_end_class=\"addWidgetLink__addWidgetLink--aPZ_V\")\n",
    "#     cur_wine_data = extract_data_as_dict(browser)\n",
    "#     wine_df_new = wine_df_new.append(cur_wine_data, ignore_index=True)\n",
    "# end_time = time.time()\n",
    "\n",
    "# print(wine_df_new)\n",
    "# print(\"time elapsed: \" + str(end_time - start_time) + \" s.\")\n",
    "\n",
    "# wine_df_new.to_csv('red_wine_highest_score.csv')"
   ]
  },
  {
   "cell_type": "markdown",
   "metadata": {},
   "source": [
    "### 3. Using Vivino API\n",
    "\n",
    "##### Wine data\n",
    "\n",
    "During a more detailed review of vivino request/response pairs, it was discovered that vivino has its own API not shown to the users, it returns a structured JSON string. The JavaString request to explore page looks as follows:\n",
    "https://www.vivino.com/api/explore/explore?country_code=GB&currency_code=GBP&grape_filter=varietal&min_rating=1&order_by=ratings_average&order=desc&page=4&price_range_max=400&price_range_min=0&wine_type_ids[]=1\n",
    "\n",
    "From the format of the request sent to vivino servers, it can be seen that the following arguments are passed to the request to explore page: \n",
    "* `country_code`\n",
    "* `currency_code`\n",
    "* `grape_filter`\n",
    "* `min_rating`\n",
    "* `order_by`\n",
    "* `order`\n",
    "* `page`\n",
    "* `price_range_max`\n",
    "* `price_range_min`\n",
    "* `wine_type_ids[]`\n",
    "\n",
    "Here, in order to ensure that all wines are included to the request, we might expand the search criteria by setting the wide price range. Further, since the data is loaded by pages, we can iterate by page number until the whole database is loaded.\n",
    "\n",
    "But first, we check which data can be retrieved (wine data & reviews) using this method.\n",
    "\n",
    "We will simply use `requests` library and pass the headers specifying that json is expected in return (otherwise, the request might throw IP blocking for bulk request)"
   ]
  },
  {
   "cell_type": "code",
   "execution_count": 38,
   "metadata": {},
   "outputs": [],
   "source": [
    "# test_page = \"https://www.vivino.com/api/explore/explore?country_code=GB&currency_code=GBP&grape_filter=varietal&min_rating=1&order_by=ratings_average&order=desc&page=4&price_range_max=400&price_range_min=0&wine_type_ids[]=1\"\n",
    "\n",
    "# headers_api = {\n",
    "#     'Accept': 'application/json',\n",
    "#     'Content-Type': 'application/json',\n",
    "#     'User-Agent': 'python/requests',\n",
    "# }\n",
    "\n",
    "# response = requests.get(test_page, headers=headers_api)\n",
    "# test_result = response.content"
   ]
  },
  {
   "cell_type": "markdown",
   "metadata": {},
   "source": [
    "Since vivino.com server returns a JSON string, we might want to convert it to a Python-readable format. We will use `json` library for this task that converts string into a Python dictionary. "
   ]
  },
  {
   "cell_type": "code",
   "execution_count": 39,
   "metadata": {},
   "outputs": [],
   "source": [
    "import json \n",
    "# json_obj = json.loads(test_result)"
   ]
  },
  {
   "cell_type": "code",
   "execution_count": 40,
   "metadata": {},
   "outputs": [],
   "source": [
    "# test_df = pd.DataFrame(json_obj['explore_vintage']['matches'])\n",
    "# test_df.shape"
   ]
  },
  {
   "cell_type": "markdown",
   "metadata": {},
   "source": [
    "We can see that a single page request yields 25 wined. We need to 'unroll' the vintage column which is by itself a dictionary. The results are stored in the `new_test_df`."
   ]
  },
  {
   "cell_type": "code",
   "execution_count": 41,
   "metadata": {},
   "outputs": [],
   "source": [
    "# new_test_df = pd.DataFrame()\n",
    "# for row in range(len(test_df)):\n",
    "# #     print(row)\n",
    "#     new_test_df = new_test_df.append(test_df['vintage'][row], ignore_index=True)"
   ]
  },
  {
   "cell_type": "code",
   "execution_count": 42,
   "metadata": {},
   "outputs": [],
   "source": [
    "# new_test_df.head(2)"
   ]
  },
  {
   "cell_type": "markdown",
   "metadata": {},
   "source": [
    "We can see that a bunch of useful data is stored in 'wine' and 'statistics' columns that might be unrolled further. "
   ]
  },
  {
   "cell_type": "code",
   "execution_count": 43,
   "metadata": {},
   "outputs": [],
   "source": [
    "# def extract_wine_info(df):\n",
    "#     for stat_field in ['ratings_count', 'ratings_average', 'labels_count']:\n",
    "#         df[stat_field] = df['statistics'].apply(lambda x: x[stat_field]) \n",
    "#     df['wine_id'] = df['wine'].apply(lambda x: x['id'])\n",
    "#     df['wine_name'] = df['wine'].apply(lambda x: x['name'])\n",
    "#     df['type'] = df['wine'].apply(lambda x: x['type_id'])\n",
    "#     df['vintage_type'] = df['wine'].apply(lambda x: x['vintage_type'])\n",
    "#     df['country'] = df['wine'].apply(lambda x: x['style']['country']['name'])\n",
    "#     df['region'] = df['wine'].apply(lambda x: x['region']['name'])\n",
    "#     df['winery'] = df['wine'].apply(lambda x: x['winery']['name'])\n",
    "#     for taste in ['acidity', 'fizziness', 'intensity', 'sweetness', 'tannin']:\n",
    "#         df[taste] = df['wine'].apply(lambda x: x['taste']['structure'][taste])\n",
    "#     for style_char in ['id', 'regional_name', 'varietal_name', 'body', 'body_description', \\\n",
    "#                   'acidity', 'acidity_description', 'grapes']:    \n",
    "#         df['style_' + style_char] = df['wine'].apply(lambda x: x['style'][style_char])\n",
    "#     df['flavor'] = df['wine'].apply(lambda x: x['taste']['flavor'])\n",
    "#     return df"
   ]
  },
  {
   "cell_type": "code",
   "execution_count": 44,
   "metadata": {},
   "outputs": [],
   "source": [
    "# test_df_extended = extract_wine_info(new_test_df)"
   ]
  },
  {
   "cell_type": "code",
   "execution_count": 45,
   "metadata": {},
   "outputs": [],
   "source": [
    "# test_df_extended.columns"
   ]
  },
  {
   "cell_type": "markdown",
   "metadata": {},
   "source": [
    "Once the necessary columns are extracted, we can drop some columns that are not required any longer"
   ]
  },
  {
   "cell_type": "code",
   "execution_count": 46,
   "metadata": {},
   "outputs": [],
   "source": [
    "# test_df_extended.drop(['grapes', 'image', 'seo_name', 'statistics', 'top_list_rankings', 'wine']\\\n",
    "#                               , inplace=True, axis=1)"
   ]
  },
  {
   "cell_type": "code",
   "execution_count": 47,
   "metadata": {},
   "outputs": [],
   "source": [
    "# test_df_extended.head(2)"
   ]
  },
  {
   "cell_type": "markdown",
   "metadata": {},
   "source": [
    "#### Reviews data\n",
    "\n",
    "From the looks of the API request we can see that it takes the following arguments:\n",
    "* wine ID\n",
    "* year\n",
    "* number of reviews per page\n",
    "\n",
    "We test sending request to reviews API, and it also results in a JSON string with requested information."
   ]
  },
  {
   "cell_type": "code",
   "execution_count": 48,
   "metadata": {},
   "outputs": [],
   "source": [
    "# test_reviews_page = \"https://www.vivino.com/api/wines/83496/reviews?year=2016&per_page=15\"\n",
    "# response = requests.get(test_reviews_page, headers=headers_api)\n",
    "# reviews_test_result = response.content"
   ]
  },
  {
   "cell_type": "code",
   "execution_count": 49,
   "metadata": {},
   "outputs": [],
   "source": [
    "# json_obj = json.loads(reviews_test_result)\n",
    "# reviews_test_df = pd.DataFrame(json_obj['reviews'])"
   ]
  },
  {
   "cell_type": "code",
   "execution_count": 50,
   "metadata": {},
   "outputs": [],
   "source": [
    "# reviews_test_df.head(2)"
   ]
  },
  {
   "cell_type": "markdown",
   "metadata": {},
   "source": [
    "According to the email from Birkir Barkarson (the CTO of vivino), the requests should be limited to 1000 per 10 minute window in order to avoid major interrution to their servers and resulting IP blockerage. \n",
    "\n",
    "Therefore, the `ratelimiter` is set accordingly. It will respect the limit of 1 request per second."
   ]
  },
  {
   "cell_type": "code",
   "execution_count": 51,
   "metadata": {},
   "outputs": [],
   "source": [
    "# all preprocessing steps to get from JSON string to a row in a DataFrame\n",
    "\n",
    "def extract_json_to_df(df, json_str):\n",
    "    json_obj = json.loads(json_str)\n",
    "    for wine in json_obj['explore_vintage']['matches']:\n",
    "#         print(type(wine))\n",
    "        df = df.append(wine['vintage'], ignore_index=True)\n",
    "    return df\n",
    "        \n",
    "# my_df = pd.DataFrame()\n",
    "# my_df = extract_json_to_df(my_df, test_result)\n",
    "# my_df.head(2)"
   ]
  },
  {
   "cell_type": "code",
   "execution_count": 52,
   "metadata": {},
   "outputs": [],
   "source": [
    "from ratelimiter import RateLimiter"
   ]
  },
  {
   "cell_type": "code",
   "execution_count": 426,
   "metadata": {},
   "outputs": [],
   "source": [
    "test_page = \"https://www.vivino.com/api/explore/explore?country_code=GB&currency_code=GBP&grape_filter=varietal&min_rating=1&order_by=ratings_average&order=desc&\\\n",
    "page=4&price_range_max=400&price_range_min=0&wine_type_ids[]=1\"\n",
    "\n",
    "headers_api = {\n",
    "    'Accept': 'application/json',\n",
    "    'Content-Type': 'application/json',\n",
    "    'User-Agent': 'python/requests',\n",
    "}\n",
    "\n",
    "@RateLimiter(max_calls=1, period=1)\n",
    "def get_wine_df(page, headers, df):\n",
    "    response = requests.get(page, headers=headers)\n",
    "    json_str = response.content\n",
    "#     print(json_str)\n",
    "    df = extract_json_to_df(df, json_str)\n",
    "    return df\n",
    "\n",
    "@RateLimiter(max_calls=1, period=1)\n",
    "def get_wine_json(page, headers, matches):\n",
    "    response = requests.get(page, headers=headers)\n",
    "    json_str = response.content\n",
    "    json_obj = json.loads(json_str)\n",
    "    records_num = json_obj['explore_vintage']['records_matched']\n",
    "#     print(records_num)\n",
    "#     records.append(records_num)\n",
    "    for match in json_obj['explore_vintage']['matches']:\n",
    "        matches.append(match)\n",
    "    return records_num, matches\n",
    "#     print(time.time())\n"
   ]
  },
  {
   "cell_type": "code",
   "execution_count": 198,
   "metadata": {},
   "outputs": [],
   "source": [
    "subset_red_df = pd.DataFrame()\n",
    "subset_red_list = []\n",
    "price_list = []\n",
    "\n",
    "for i in range(1,60):\n",
    "#     print(i)\n",
    "    page = \"https://www.vivino.com/api/explore/explore?country_code=GB&currency_code=GBP&grape_filter=varietal&min_rating=1&\\\n",
    "    order_by=ratings_average&order=desc&\\\n",
    "page={}&price_range_max=400&price_range_min=0&wine_type_ids[]=1\".format(i)\n",
    "    subset_red_df = get_wine_df(page, headers_api, subset_red_df)\n",
    "    subset_red_list, price_list = get_wine_json(page, headers_api, subset_red_list, price_list)"
   ]
  },
  {
   "cell_type": "code",
   "execution_count": 235,
   "metadata": {},
   "outputs": [],
   "source": [
    "import math\n",
    "# print(math.ceil(4.2))"
   ]
  },
  {
   "cell_type": "code",
   "execution_count": null,
   "metadata": {},
   "outputs": [],
   "source": [
    "1, iter_total + 1"
   ]
  },
  {
   "cell_type": "code",
   "execution_count": 429,
   "metadata": {},
   "outputs": [
    {
     "name": "stdout",
     "output_type": "stream",
     "text": [
      "The program recognized app.55846 unique records and will run for app. 559 iterations in total\n",
      "Bunch of records with price up to 11 uploaded and took 8.327962017059326 minutes. Next, running prices from 11...\n",
      "Bunch of records with price up to 21 uploaded and took 23.20164774656296 minutes. Next, running prices from 21...\n",
      "Bunch of records with price up to 31 uploaded and took 16.013602952162426 minutes. Next, running prices from 31...\n",
      "Bunch of records with price up to 41 uploaded and took 11.71570899883906 minutes. Next, running prices from 41...\n",
      "Bunch of records with price up to 51 uploaded and took 8.694287796815237 minutes. Next, running prices from 51...\n",
      "Bunch of records with price up to 61 uploaded and took 6.063190297285716 minutes. Next, running prices from 61...\n",
      "Bunch of records with price up to 71 uploaded and took 4.508887720108032 minutes. Next, running prices from 71...\n",
      "Bunch of records with price up to 81 uploaded and took 3.6940738519032794 minutes. Next, running prices from 81...\n",
      "Bunch of records with price up to 91 uploaded and took 3.0755734125773113 minutes. Next, running prices from 91...\n",
      "Bunch of records with price up to 101 uploaded and took 2.2138217528661093 minutes. Next, running prices from 101...\n",
      "Bunch of records with price up to 111 uploaded and took 1.7139221668243407 minutes. Next, running prices from 111...\n",
      "Bunch of records with price up to 121 uploaded and took 1.6577016671498617 minutes. Next, running prices from 121...\n",
      "Bunch of records with price up to 131 uploaded and took 1.3523912151654562 minutes. Next, running prices from 131...\n",
      "Bunch of records with price up to 141 uploaded and took 1.275500512123108 minutes. Next, running prices from 141...\n",
      "Bunch of records with price up to 151 uploaded and took 1.3477734843889873 minutes. Next, running prices from 151...\n",
      "Bunch of records with price up to 161 uploaded and took 1.104033851623535 minutes. Next, running prices from 161...\n",
      "Bunch of records with price up to 171 uploaded and took 1.0548813621203104 minutes. Next, running prices from 171...\n",
      "Bunch of records with price up to 181 uploaded and took 1.0391188820203145 minutes. Next, running prices from 181...\n",
      "Bunch of records with price up to 191 uploaded and took 1.0422785480817158 minutes. Next, running prices from 191...\n",
      "Bunch of records with price up to 201 uploaded and took 1.0706673860549927 minutes. Next, running prices from 201...\n",
      "Bunch of records with price up to 211 uploaded and took 0.8356870333353679 minutes. Next, running prices from 211...\n",
      "Bunch of records with price up to 221 uploaded and took 0.8500688950220744 minutes. Next, running prices from 221...\n",
      "Bunch of records with price up to 231 uploaded and took 0.820626950263977 minutes. Next, running prices from 231...\n",
      "Bunch of records with price up to 241 uploaded and took 0.7458882331848145 minutes. Next, running prices from 241...\n",
      "Bunch of records with price up to 251 uploaded and took 0.7175804336865743 minutes. Next, running prices from 251...\n",
      "Bunch of records with price up to 261 uploaded and took 0.6958152174949646 minutes. Next, running prices from 261...\n",
      "Bunch of records with price up to 271 uploaded and took 0.7089531342188518 minutes. Next, running prices from 271...\n",
      "Bunch of records with price up to 281 uploaded and took 0.6416402022043864 minutes. Next, running prices from 281...\n",
      "Bunch of records with price up to 291 uploaded and took 0.5558997352917989 minutes. Next, running prices from 291...\n",
      "Bunch of records with price up to 301 uploaded and took 0.7264484127362569 minutes. Next, running prices from 301...\n",
      "Bunch of records with price up to 311 uploaded and took 0.58289000193278 minutes. Next, running prices from 311...\n",
      "Bunch of records with price up to 321 uploaded and took 0.5920693516731262 minutes. Next, running prices from 321...\n",
      "Bunch of records with price up to 331 uploaded and took 0.6311270833015442 minutes. Next, running prices from 331...\n",
      "Bunch of records with price up to 341 uploaded and took 0.5663012504577637 minutes. Next, running prices from 341...\n",
      "Bunch of records with price up to 351 uploaded and took 0.6623897314071655 minutes. Next, running prices from 351...\n",
      "Bunch of records with price up to 361 uploaded and took 0.5760741313298543 minutes. Next, running prices from 361...\n",
      "Bunch of records with price up to 371 uploaded and took 0.5871102968851726 minutes. Next, running prices from 371...\n",
      "Bunch of records with price up to 381 uploaded and took 0.5402217507362366 minutes. Next, running prices from 381...\n",
      "Bunch of records with price up to 391 uploaded and took 0.5339644312858581 minutes. Next, running prices from 391...\n",
      "Program finished and successfully uploaded 55839 wine records with prices(need to check duplicates). The program took app. 117.7240712205569 minutes to run\n"
     ]
    }
   ],
   "source": [
    "full_df = pd.DataFrame()\n",
    "full_match_list = []\n",
    "\n",
    "page = 'https://www.vivino.com/api/explore/explore?country_code=GB&currency_code=GBP&grape_filter=varietal&\\\n",
    "min_rating=1&order_by=ratings_average&order=desc&page={}&price_range_max=400&price_range_min=1'\n",
    "\n",
    "records_total, _ = get_wine_json(page_new.format(1), headers_browser, full_match_list)\n",
    "iter_total = math.ceil(records_total/100)\n",
    "# # iter_total = 5\n",
    "print(f\"The program recognized app.{records_total} unique records and will run for app. {iter_total} iterations in total\")\n",
    "\n",
    "headers_browser = {\n",
    "    'Accept': 'application/json',\n",
    "    'Content-Type': 'application/json',\n",
    "#     'User-Agent': 'python/requests',\n",
    "    'Accept-Encoding': 'gzip, deflate, br',\n",
    "    'Accept-Language': 'en-GB,en-US;q=0.9,en;q=0.8',\n",
    "    'User-Agent': 'Mozilla/5.0 (Macintosh; Intel Mac OS X 10_15_7) AppleWebKit/537.36 (KHTML, like Gecko) Chrome/86.0.4240.183 Safari/537.36',\n",
    "#     'Cookie': 'first_time_visit=hS4ZPmom4T%2B8EVq37TqqHsTIJ79zRIt74blMfmiOLRrZSV%2FKl%2Btdl1LCq%2B%2Bpykg%2BUaEAQ18kFslfd1ZcYZHTz1Nn4SpvM0JrFg%3D%3D--qUx%2BZrxgAtAYUGLp--y6cajJQq6BpPk0nGFurazQ%3D%3D; eeny_meeny_test_checkout_login_v1=I%2FV0u9fALvvYvlXgTiDLvDJ7qTFF69POSotjBIVC8xggqMg6gSNg%2FRjGaTCnuNjzjXzMAC%2BdVUKS6DZa%2FI4D5Q%3D%3D; eeny_meeny_test_forced_merchant_filter_v1=nZoDv6SJ2FhC%2Fu%2Fc1WbAFi82MMN6VI5XI67vKEyf%2B2%2FIir%2BkNTg%2Bt8C2wvCm0BnuPyHcCYadh%2FhV9vl4%2BJqrIg%3D%3D; _ga=GA1.2.1380591255.1605016601; _gid=GA1.2.2136092280.1605016601; _fbp=fb.1.1605016601435.202579630; __auc=38ecb0ac175b271c5f4507ed27d; _hjTLDTest=1; _hjid=c884efdc-f057-45ed-b800-fff7a167c3fb; G_ENABLED_IDPS=google; client_cache_key=vBqztrSoTIt9R6jq3pVjVHtLshyIVnDvWq8H2cvl%2BAqMwnDtJstMI%2BRR5ueWvaSRlH%2FF%2F2sNGmzfjxNilGEN0NH7q89ohmdeRQ9Ig%2FtDdtSm%2Ftt3r0ZoBLOFGt%2FaVoP8OmSb7AcpOXPt--lFEik37GwoK%2FUF%2FO--wctHS4PJaaerWv%2BprunO2Q%3D%3D; __asc=e8c2fd05175bc1bec10ddf44c82; _hp2_ses_props.3503103446=%7B%22r%22%3A%22https%3A%2F%2Fwww.vivino.com%2Fvina-cobos-cobos-chanares-estate-malbec%2Fw%2F5354893%3Fyear%3D2015%22%2C%22ts%22%3A1605178747926%2C%22d%22%3A%22www.vivino.com%22%2C%22h%22%3A%22%2F%22%7D; _hjIncludedInSessionSample=1; _hjAbsoluteSessionInProgress=1; deal_merchant_context=TSOc--AFoK842%2BdYHklpcF--UyHGnHNX3xsq4Uhn1dI5ew%3D%3D; recently_viewed=JVgTKRd%2BGycVBS5P8Hz62dawNVVaKPAK4I6BaaDGqxA%2FXFBhvoW1385SOG%2Bk6EA%2FY0KAqW42jNHkzNlyMM%2Bhkfn0SYzRs3yW%2F4zeDi1u2Ncofmtk2kMHmMY4WM398kMQSoA4AB2j%2F1thGY%2B0nRqPW1KfUGQ0jruNn2IaZNF9wfslk3FLq8WJYCXRxa3br7%2BsM3K1I9C1Xn8Wtn3z0LbzAYij%2FFPboAq3isqHccNyetvmJ3bQF1sFU3TSnRKMnQ65ecaE2Qdj1NUceuMRS2o0cBQ3eYOfJVe%2FvfPBLwpLZXghG8Zl3NHNkQZikjskzsgKitLLzB6iSDSxrPGnURSgbwxAiVE1qR4jH6fEm0sZk45CSnk5tx9tr7X%2FNrIlQA6QtWaFDWCzZFRPdItVXJHxFgGk20X6dgwJVH0H7ZvTcAhVS4avtxkGDkwGv4fQ--iCtLq32wCUs7%2BP03--ypJsiJz4UNbEAjx9%2By5cEQ%3D%3D; _gat_vivinoTracker=1; _hp2_id.3503103446=%7B%22userId%22%3A%221928037028880653%22%2C%22pageviewId%22%3A%22769895479899750%22%2C%22sessionId%22%3A%226509757678601116%22%2C%22identity%22%3Anull%2C%22trackerVersion%22%3A%224.0%22%7D; _ruby-web_session=PUGxmp0Xk1PUxi%2B1FlSeTVni78H5g3D2NYGVPGrTiEzcYkoLmf2nALUjPXcT%2BCYSVROKA6bAocqcnGMyn8H28qHOhVw3RfihbeMkLbPte%2F2n2agXFmLMlae%2BKoHv8yv%2FsoJLCD2CUDmX3KKJ3msmUAhZYpN8O8IlXV7NmXy7SNlv2vghGR%2BfeOaF2gDctlbCzgnBlALy8vmUvwEmgSsGVGmmhN%2BuA7ovguyI2ZP%2FfT0iP0BcfCMaMlU3Lh2FNH9lgai2bElDAI2JlgICiCjc4zDHRIsQ96tJzzSlzV5Gdbyi%2BZrgI2eXygAv0mTkhpaCCwGlQS1GAFUXcgydlPVuVEf4Qg3FOisH0NNV%2FUDGEjAdw8nVb6IoG3Wat7tyTHiXe%2Fig9jxQpn7m1fzjv64RurUowOI1ixNMDPFvUPJCtm9ERqfr6ETgzICRFyuWse%2FAlCOzk61mBaqL%2FrpcUqzi6qb6F6oIbvmDo0I4Y5%2B%2Bi4dasCeBZ0n6dMbhDrzCNdHGObQtdXJBb3OS3kEtq9GTBv3mO6rhiCWvQEIohWo18kY2v2vMyZTf%2FPBFhjTR5ygPwZyuomQa6vXhGx%2BvYY5diho%3D--cMUu%2BKCwGqlFP7Wi--GfFzQ8ZKqG5M101xJ0GxFg%3D%3D',\n",
    "#     'Referer': 'https://www.vivino.com/explore?e=eJzLLbI11jNVy83MszVQy02ssDUxMFBLrrR1d1JLBhIBagW2hmrpabZliUWZqSWJOWr5SbZFiSWZeenF8YllqUWJ6alq-bYpqcXJauUl0bFAxWDKCADUkx0A',\n",
    "#     'If-None-Match': 'W/\"30be28a898a520515cb59cab425bd9a5\"',\n",
    "    'Set-Fetch-Dest': 'empty',\n",
    "    'Sec-Fetch-Mode': 'cors',\n",
    "    'Sec-Fetch-Site': 'same-origin',\n",
    "    'X-Requested-With': 'XMLHttpRequest'\n",
    "    \n",
    "}\n",
    "\n",
    "\n",
    "full_match_list = []\n",
    "\n",
    "timepoint_start = time.time()\n",
    "\n",
    "max_records_bunch = 0\n",
    "\n",
    "for i in range(400):\n",
    "# for i in range(81, 83):\n",
    "    if i == 0:\n",
    "        timepoint_iter = timepoint_start\n",
    "    \n",
    "    cur_price_records_num = records_num[i] \n",
    "    iterations_required = math.ceil(cur_price_records_num/100)\n",
    "    max_records = iterations_required * 100\n",
    "    max_records_bunch += max_records\n",
    "    for it in range(1, iterations_required + 1):\n",
    "        cur_page = f\"\"\"https://www.vivino.com/api/explore/explore?country_code=GB&currency_code=GBP&\n",
    "        grape_filter=varietal&min_rating=1&order_by=ratings_count&order=desc&page={it}&per_page=100&price_range_max={i+1}&price_range_min={i}\"\"\"\n",
    "\n",
    "        full_df = get_wine_df(cur_page, headers_browser, full_df)\n",
    "        _, full_match_list = get_wine_json(cur_page, headers_browser, full_match_list)\n",
    "\n",
    "        if i % 10 == 0 and it == iterations_required:\n",
    "            with open(f\"backup_data/match_list_{i-1}\", 'wb') as f:\n",
    "                pickle.dump(full_match_list[-max_records_bunch:], f)\n",
    "            max_records_bunch = 0\n",
    "            time_elapsed_bunch = time.time() - timepoint_iter\n",
    "            timepoint_iter = time.time()\n",
    "            print(f\"Bunch of records with price up to {i+1} uploaded and took {time_elapsed_bunch/60} minutes. Next, running prices from {i+1}...\")\n",
    "\n",
    "#     records, _ = get_wine_json(cur_page, headers_browser, full_match_list, records)\n",
    "with open(f\"backup_data/full_match_list\", 'wb') as f:\n",
    "    pickle.dump(full_match_list, f)\n",
    "timepoint_end = time.time()\n",
    "time_elapsed = timepoint_end - timepoint_start\n",
    "print(f\"Program finished and successfully uploaded {len(full_match_list)} wine records with prices(need to check duplicates). The program took app. {time_elapsed/60} minutes to run\")"
   ]
  },
  {
   "cell_type": "code",
   "execution_count": null,
   "metadata": {},
   "outputs": [],
   "source": [
    "full_match_list"
   ]
  },
  {
   "cell_type": "code",
   "execution_count": 424,
   "metadata": {},
   "outputs": [],
   "source": [
    "records_num = records"
   ]
  },
  {
   "cell_type": "code",
   "execution_count": 430,
   "metadata": {},
   "outputs": [
    {
     "data": {
      "text/plain": [
       "54799"
      ]
     },
     "execution_count": 430,
     "metadata": {},
     "output_type": "execute_result"
    }
   ],
   "source": [
    "# sum(records_num)"
   ]
  },
  {
   "cell_type": "code",
   "execution_count": 425,
   "metadata": {},
   "outputs": [],
   "source": [
    "# with open(f\"backup_data/records_num\", 'wb') as f:\n",
    "#     pickle.dump(records_num, f)"
   ]
  },
  {
   "cell_type": "code",
   "execution_count": 423,
   "metadata": {},
   "outputs": [
    {
     "data": {
      "text/plain": [
       "[6, 2, 8, 4, 18, 3, 7, 4, 10, 1501]"
      ]
     },
     "execution_count": 423,
     "metadata": {},
     "output_type": "execute_result"
    }
   ],
   "source": [
    "records[-10:]"
   ]
  },
  {
   "cell_type": "code",
   "execution_count": 421,
   "metadata": {},
   "outputs": [
    {
     "data": {
      "text/plain": [
       "0"
      ]
     },
     "execution_count": 421,
     "metadata": {},
     "output_type": "execute_result"
    }
   ],
   "source": [
    "min(records)"
   ]
  },
  {
   "cell_type": "code",
   "execution_count": 395,
   "metadata": {},
   "outputs": [],
   "source": [
    "records_list_full = records"
   ]
  },
  {
   "cell_type": "code",
   "execution_count": 418,
   "metadata": {},
   "outputs": [
    {
     "data": {
      "text/plain": [
       "1830"
      ]
     },
     "execution_count": 418,
     "metadata": {},
     "output_type": "execute_result"
    }
   ],
   "source": [
    "max(records[1:])"
   ]
  },
  {
   "cell_type": "code",
   "execution_count": 393,
   "metadata": {},
   "outputs": [
    {
     "data": {
      "text/plain": [
       "1"
      ]
     },
     "execution_count": 393,
     "metadata": {},
     "output_type": "execute_result"
    }
   ],
   "source": [
    "records.index(max(records[1:]))"
   ]
  },
  {
   "cell_type": "code",
   "execution_count": 394,
   "metadata": {},
   "outputs": [
    {
     "data": {
      "text/plain": [
       "41433"
      ]
     },
     "execution_count": 394,
     "metadata": {},
     "output_type": "execute_result"
    }
   ],
   "source": [
    "records[1]"
   ]
  },
  {
   "cell_type": "code",
   "execution_count": null,
   "metadata": {},
   "outputs": [],
   "source": [
    "# max per page = 100\n",
    "# max pages = 80"
   ]
  },
  {
   "cell_type": "code",
   "execution_count": 431,
   "metadata": {},
   "outputs": [
    {
     "data": {
      "text/plain": [
       "55838"
      ]
     },
     "execution_count": 431,
     "metadata": {},
     "output_type": "execute_result"
    }
   ],
   "source": [
    "len(full_df)"
   ]
  },
  {
   "cell_type": "code",
   "execution_count": 432,
   "metadata": {},
   "outputs": [
    {
     "data": {
      "text/plain": [
       "55819"
      ]
     },
     "execution_count": 432,
     "metadata": {},
     "output_type": "execute_result"
    }
   ],
   "source": [
    "full_df['id'].nunique()"
   ]
  },
  {
   "cell_type": "code",
   "execution_count": 341,
   "metadata": {},
   "outputs": [
    {
     "data": {
      "text/plain": [
       "'https://www.vivino.com/api/explore/explore?country_code=GB&currency_code=GBP&\\ngrape_filter=varietal&min_rating=1&order_by=ratings_average&order=desc&page=2240&\\nprice_range_max=400&price_range_min=1&wine_type_ids[]=1&wine_type_ids[]=1&\\nwine_type_ids[]=2&wine_type_ids[]=3&wine_type_ids[]=4&wine_type_ids[]=7&wine_type_ids[]=24'"
      ]
     },
     "execution_count": 341,
     "metadata": {},
     "output_type": "execute_result"
    }
   ],
   "source": [
    "f\"\"\"https://www.vivino.com/api/explore/explore?country_code=GB&currency_code=GBP&\n",
    "grape_filter=varietal&min_rating=1&order_by=ratings_average&order=desc&page={i}&\n",
    "price_range_max=400&price_range_min=1&wine_type_ids[]=1&wine_type_ids[]=1&\n",
    "wine_type_ids[]=2&wine_type_ids[]=3&wine_type_ids[]=4&wine_type_ids[]=7&wine_type_ids[]=24\"\"\""
   ]
  },
  {
   "cell_type": "code",
   "execution_count": 322,
   "metadata": {},
   "outputs": [
    {
     "data": {
      "text/plain": [
       "(56000, 10)"
      ]
     },
     "execution_count": 322,
     "metadata": {},
     "output_type": "execute_result"
    }
   ],
   "source": [
    "full_df.shape"
   ]
  },
  {
   "cell_type": "code",
   "execution_count": 334,
   "metadata": {},
   "outputs": [
    {
     "data": {
      "text/plain": [
       "grapes               56000\n",
       "has_valid_ratings        0\n",
       "id                       0\n",
       "image                    0\n",
       "name                     0\n",
       "seo_name                 0\n",
       "statistics               0\n",
       "wine                     0\n",
       "year                     0\n",
       "top_list_rankings    55842\n",
       "dtype: int64"
      ]
     },
     "execution_count": 334,
     "metadata": {},
     "output_type": "execute_result"
    }
   ],
   "source": [
    "full_df.isnull().sum()"
   ]
  },
  {
   "cell_type": "code",
   "execution_count": 337,
   "metadata": {},
   "outputs": [
    {
     "data": {
      "text/plain": [
       "157653484.0    2160\n",
       "74515331.0     2160\n",
       "151244828.0    2160\n",
       "3210749.0      2160\n",
       "23504873.0     2160\n",
       "               ... \n",
       "156173348.0       1\n",
       "2048421.0         1\n",
       "14290545.0        1\n",
       "1262033.0         1\n",
       "150998208.0       1\n",
       "Name: id, Length: 2028, dtype: int64"
      ]
     },
     "execution_count": 337,
     "metadata": {},
     "output_type": "execute_result"
    }
   ],
   "source": [
    "full_df['id'].value_counts()"
   ]
  },
  {
   "cell_type": "code",
   "execution_count": 338,
   "metadata": {},
   "outputs": [
    {
     "data": {
      "text/html": [
       "<div>\n",
       "<style scoped>\n",
       "    .dataframe tbody tr th:only-of-type {\n",
       "        vertical-align: middle;\n",
       "    }\n",
       "\n",
       "    .dataframe tbody tr th {\n",
       "        vertical-align: top;\n",
       "    }\n",
       "\n",
       "    .dataframe thead th {\n",
       "        text-align: right;\n",
       "    }\n",
       "</style>\n",
       "<table border=\"1\" class=\"dataframe\">\n",
       "  <thead>\n",
       "    <tr style=\"text-align: right;\">\n",
       "      <th></th>\n",
       "      <th>grapes</th>\n",
       "      <th>has_valid_ratings</th>\n",
       "      <th>id</th>\n",
       "      <th>image</th>\n",
       "      <th>name</th>\n",
       "      <th>seo_name</th>\n",
       "      <th>statistics</th>\n",
       "      <th>wine</th>\n",
       "      <th>year</th>\n",
       "      <th>top_list_rankings</th>\n",
       "    </tr>\n",
       "  </thead>\n",
       "  <tbody>\n",
       "    <tr>\n",
       "      <th>2007</th>\n",
       "      <td>None</td>\n",
       "      <td>1.0</td>\n",
       "      <td>157653484.0</td>\n",
       "      <td>{'location': '//images.vivino.com/thumbs/TiDhp...</td>\n",
       "      <td>Domaine Mouton Condrieu Côte Bonnette 2018</td>\n",
       "      <td>mouton-pere-et-fils-condrieu-cote-bonnette-2018</td>\n",
       "      <td>{'status': 'Normal', 'ratings_count': 40, 'rat...</td>\n",
       "      <td>{'id': 1532153, 'name': 'Condrieu Côte Bonnett...</td>\n",
       "      <td>2018</td>\n",
       "      <td>NaN</td>\n",
       "    </tr>\n",
       "    <tr>\n",
       "      <th>2032</th>\n",
       "      <td>None</td>\n",
       "      <td>1.0</td>\n",
       "      <td>157653484.0</td>\n",
       "      <td>{'location': '//images.vivino.com/thumbs/TiDhp...</td>\n",
       "      <td>Domaine Mouton Condrieu Côte Bonnette 2018</td>\n",
       "      <td>mouton-pere-et-fils-condrieu-cote-bonnette-2018</td>\n",
       "      <td>{'status': 'Normal', 'ratings_count': 40, 'rat...</td>\n",
       "      <td>{'id': 1532153, 'name': 'Condrieu Côte Bonnett...</td>\n",
       "      <td>2018</td>\n",
       "      <td>NaN</td>\n",
       "    </tr>\n",
       "    <tr>\n",
       "      <th>2057</th>\n",
       "      <td>None</td>\n",
       "      <td>1.0</td>\n",
       "      <td>157653484.0</td>\n",
       "      <td>{'location': '//images.vivino.com/thumbs/TiDhp...</td>\n",
       "      <td>Domaine Mouton Condrieu Côte Bonnette 2018</td>\n",
       "      <td>mouton-pere-et-fils-condrieu-cote-bonnette-2018</td>\n",
       "      <td>{'status': 'Normal', 'ratings_count': 40, 'rat...</td>\n",
       "      <td>{'id': 1532153, 'name': 'Condrieu Côte Bonnett...</td>\n",
       "      <td>2018</td>\n",
       "      <td>NaN</td>\n",
       "    </tr>\n",
       "    <tr>\n",
       "      <th>2082</th>\n",
       "      <td>None</td>\n",
       "      <td>1.0</td>\n",
       "      <td>157653484.0</td>\n",
       "      <td>{'location': '//images.vivino.com/thumbs/TiDhp...</td>\n",
       "      <td>Domaine Mouton Condrieu Côte Bonnette 2018</td>\n",
       "      <td>mouton-pere-et-fils-condrieu-cote-bonnette-2018</td>\n",
       "      <td>{'status': 'Normal', 'ratings_count': 40, 'rat...</td>\n",
       "      <td>{'id': 1532153, 'name': 'Condrieu Côte Bonnett...</td>\n",
       "      <td>2018</td>\n",
       "      <td>NaN</td>\n",
       "    </tr>\n",
       "    <tr>\n",
       "      <th>2107</th>\n",
       "      <td>None</td>\n",
       "      <td>1.0</td>\n",
       "      <td>157653484.0</td>\n",
       "      <td>{'location': '//images.vivino.com/thumbs/TiDhp...</td>\n",
       "      <td>Domaine Mouton Condrieu Côte Bonnette 2018</td>\n",
       "      <td>mouton-pere-et-fils-condrieu-cote-bonnette-2018</td>\n",
       "      <td>{'status': 'Normal', 'ratings_count': 40, 'rat...</td>\n",
       "      <td>{'id': 1532153, 'name': 'Condrieu Côte Bonnett...</td>\n",
       "      <td>2018</td>\n",
       "      <td>NaN</td>\n",
       "    </tr>\n",
       "    <tr>\n",
       "      <th>...</th>\n",
       "      <td>...</td>\n",
       "      <td>...</td>\n",
       "      <td>...</td>\n",
       "      <td>...</td>\n",
       "      <td>...</td>\n",
       "      <td>...</td>\n",
       "      <td>...</td>\n",
       "      <td>...</td>\n",
       "      <td>...</td>\n",
       "      <td>...</td>\n",
       "    </tr>\n",
       "    <tr>\n",
       "      <th>55884</th>\n",
       "      <td>None</td>\n",
       "      <td>1.0</td>\n",
       "      <td>157653484.0</td>\n",
       "      <td>{'location': '//images.vivino.com/thumbs/TiDhp...</td>\n",
       "      <td>Domaine Mouton Condrieu Côte Bonnette 2018</td>\n",
       "      <td>mouton-pere-et-fils-condrieu-cote-bonnette-2018</td>\n",
       "      <td>{'status': 'Normal', 'ratings_count': 40, 'rat...</td>\n",
       "      <td>{'id': 1532153, 'name': 'Condrieu Côte Bonnett...</td>\n",
       "      <td>2018</td>\n",
       "      <td>NaN</td>\n",
       "    </tr>\n",
       "    <tr>\n",
       "      <th>55909</th>\n",
       "      <td>None</td>\n",
       "      <td>1.0</td>\n",
       "      <td>157653484.0</td>\n",
       "      <td>{'location': '//images.vivino.com/thumbs/TiDhp...</td>\n",
       "      <td>Domaine Mouton Condrieu Côte Bonnette 2018</td>\n",
       "      <td>mouton-pere-et-fils-condrieu-cote-bonnette-2018</td>\n",
       "      <td>{'status': 'Normal', 'ratings_count': 40, 'rat...</td>\n",
       "      <td>{'id': 1532153, 'name': 'Condrieu Côte Bonnett...</td>\n",
       "      <td>2018</td>\n",
       "      <td>NaN</td>\n",
       "    </tr>\n",
       "    <tr>\n",
       "      <th>55934</th>\n",
       "      <td>None</td>\n",
       "      <td>1.0</td>\n",
       "      <td>157653484.0</td>\n",
       "      <td>{'location': '//images.vivino.com/thumbs/TiDhp...</td>\n",
       "      <td>Domaine Mouton Condrieu Côte Bonnette 2018</td>\n",
       "      <td>mouton-pere-et-fils-condrieu-cote-bonnette-2018</td>\n",
       "      <td>{'status': 'Normal', 'ratings_count': 40, 'rat...</td>\n",
       "      <td>{'id': 1532153, 'name': 'Condrieu Côte Bonnett...</td>\n",
       "      <td>2018</td>\n",
       "      <td>NaN</td>\n",
       "    </tr>\n",
       "    <tr>\n",
       "      <th>55959</th>\n",
       "      <td>None</td>\n",
       "      <td>1.0</td>\n",
       "      <td>157653484.0</td>\n",
       "      <td>{'location': '//images.vivino.com/thumbs/TiDhp...</td>\n",
       "      <td>Domaine Mouton Condrieu Côte Bonnette 2018</td>\n",
       "      <td>mouton-pere-et-fils-condrieu-cote-bonnette-2018</td>\n",
       "      <td>{'status': 'Normal', 'ratings_count': 40, 'rat...</td>\n",
       "      <td>{'id': 1532153, 'name': 'Condrieu Côte Bonnett...</td>\n",
       "      <td>2018</td>\n",
       "      <td>NaN</td>\n",
       "    </tr>\n",
       "    <tr>\n",
       "      <th>55984</th>\n",
       "      <td>None</td>\n",
       "      <td>1.0</td>\n",
       "      <td>157653484.0</td>\n",
       "      <td>{'location': '//images.vivino.com/thumbs/TiDhp...</td>\n",
       "      <td>Domaine Mouton Condrieu Côte Bonnette 2018</td>\n",
       "      <td>mouton-pere-et-fils-condrieu-cote-bonnette-2018</td>\n",
       "      <td>{'status': 'Normal', 'ratings_count': 40, 'rat...</td>\n",
       "      <td>{'id': 1532153, 'name': 'Condrieu Côte Bonnett...</td>\n",
       "      <td>2018</td>\n",
       "      <td>NaN</td>\n",
       "    </tr>\n",
       "  </tbody>\n",
       "</table>\n",
       "<p>2160 rows × 10 columns</p>\n",
       "</div>"
      ],
      "text/plain": [
       "      grapes  has_valid_ratings           id  \\\n",
       "2007    None                1.0  157653484.0   \n",
       "2032    None                1.0  157653484.0   \n",
       "2057    None                1.0  157653484.0   \n",
       "2082    None                1.0  157653484.0   \n",
       "2107    None                1.0  157653484.0   \n",
       "...      ...                ...          ...   \n",
       "55884   None                1.0  157653484.0   \n",
       "55909   None                1.0  157653484.0   \n",
       "55934   None                1.0  157653484.0   \n",
       "55959   None                1.0  157653484.0   \n",
       "55984   None                1.0  157653484.0   \n",
       "\n",
       "                                                   image  \\\n",
       "2007   {'location': '//images.vivino.com/thumbs/TiDhp...   \n",
       "2032   {'location': '//images.vivino.com/thumbs/TiDhp...   \n",
       "2057   {'location': '//images.vivino.com/thumbs/TiDhp...   \n",
       "2082   {'location': '//images.vivino.com/thumbs/TiDhp...   \n",
       "2107   {'location': '//images.vivino.com/thumbs/TiDhp...   \n",
       "...                                                  ...   \n",
       "55884  {'location': '//images.vivino.com/thumbs/TiDhp...   \n",
       "55909  {'location': '//images.vivino.com/thumbs/TiDhp...   \n",
       "55934  {'location': '//images.vivino.com/thumbs/TiDhp...   \n",
       "55959  {'location': '//images.vivino.com/thumbs/TiDhp...   \n",
       "55984  {'location': '//images.vivino.com/thumbs/TiDhp...   \n",
       "\n",
       "                                             name  \\\n",
       "2007   Domaine Mouton Condrieu Côte Bonnette 2018   \n",
       "2032   Domaine Mouton Condrieu Côte Bonnette 2018   \n",
       "2057   Domaine Mouton Condrieu Côte Bonnette 2018   \n",
       "2082   Domaine Mouton Condrieu Côte Bonnette 2018   \n",
       "2107   Domaine Mouton Condrieu Côte Bonnette 2018   \n",
       "...                                           ...   \n",
       "55884  Domaine Mouton Condrieu Côte Bonnette 2018   \n",
       "55909  Domaine Mouton Condrieu Côte Bonnette 2018   \n",
       "55934  Domaine Mouton Condrieu Côte Bonnette 2018   \n",
       "55959  Domaine Mouton Condrieu Côte Bonnette 2018   \n",
       "55984  Domaine Mouton Condrieu Côte Bonnette 2018   \n",
       "\n",
       "                                              seo_name  \\\n",
       "2007   mouton-pere-et-fils-condrieu-cote-bonnette-2018   \n",
       "2032   mouton-pere-et-fils-condrieu-cote-bonnette-2018   \n",
       "2057   mouton-pere-et-fils-condrieu-cote-bonnette-2018   \n",
       "2082   mouton-pere-et-fils-condrieu-cote-bonnette-2018   \n",
       "2107   mouton-pere-et-fils-condrieu-cote-bonnette-2018   \n",
       "...                                                ...   \n",
       "55884  mouton-pere-et-fils-condrieu-cote-bonnette-2018   \n",
       "55909  mouton-pere-et-fils-condrieu-cote-bonnette-2018   \n",
       "55934  mouton-pere-et-fils-condrieu-cote-bonnette-2018   \n",
       "55959  mouton-pere-et-fils-condrieu-cote-bonnette-2018   \n",
       "55984  mouton-pere-et-fils-condrieu-cote-bonnette-2018   \n",
       "\n",
       "                                              statistics  \\\n",
       "2007   {'status': 'Normal', 'ratings_count': 40, 'rat...   \n",
       "2032   {'status': 'Normal', 'ratings_count': 40, 'rat...   \n",
       "2057   {'status': 'Normal', 'ratings_count': 40, 'rat...   \n",
       "2082   {'status': 'Normal', 'ratings_count': 40, 'rat...   \n",
       "2107   {'status': 'Normal', 'ratings_count': 40, 'rat...   \n",
       "...                                                  ...   \n",
       "55884  {'status': 'Normal', 'ratings_count': 40, 'rat...   \n",
       "55909  {'status': 'Normal', 'ratings_count': 40, 'rat...   \n",
       "55934  {'status': 'Normal', 'ratings_count': 40, 'rat...   \n",
       "55959  {'status': 'Normal', 'ratings_count': 40, 'rat...   \n",
       "55984  {'status': 'Normal', 'ratings_count': 40, 'rat...   \n",
       "\n",
       "                                                    wine  year  \\\n",
       "2007   {'id': 1532153, 'name': 'Condrieu Côte Bonnett...  2018   \n",
       "2032   {'id': 1532153, 'name': 'Condrieu Côte Bonnett...  2018   \n",
       "2057   {'id': 1532153, 'name': 'Condrieu Côte Bonnett...  2018   \n",
       "2082   {'id': 1532153, 'name': 'Condrieu Côte Bonnett...  2018   \n",
       "2107   {'id': 1532153, 'name': 'Condrieu Côte Bonnett...  2018   \n",
       "...                                                  ...   ...   \n",
       "55884  {'id': 1532153, 'name': 'Condrieu Côte Bonnett...  2018   \n",
       "55909  {'id': 1532153, 'name': 'Condrieu Côte Bonnett...  2018   \n",
       "55934  {'id': 1532153, 'name': 'Condrieu Côte Bonnett...  2018   \n",
       "55959  {'id': 1532153, 'name': 'Condrieu Côte Bonnett...  2018   \n",
       "55984  {'id': 1532153, 'name': 'Condrieu Côte Bonnett...  2018   \n",
       "\n",
       "      top_list_rankings  \n",
       "2007                NaN  \n",
       "2032                NaN  \n",
       "2057                NaN  \n",
       "2082                NaN  \n",
       "2107                NaN  \n",
       "...                 ...  \n",
       "55884               NaN  \n",
       "55909               NaN  \n",
       "55934               NaN  \n",
       "55959               NaN  \n",
       "55984               NaN  \n",
       "\n",
       "[2160 rows x 10 columns]"
      ]
     },
     "execution_count": 338,
     "metadata": {},
     "output_type": "execute_result"
    }
   ],
   "source": [
    "full_df[full_df['id'] == 157653484]"
   ]
  },
  {
   "cell_type": "code",
   "execution_count": 252,
   "metadata": {},
   "outputs": [
    {
     "name": "stdout",
     "output_type": "stream",
     "text": [
      "Program finished and successfully uploaded 56025 wine records with prices. The program took app. 183.52663078308106 minutes to run\n"
     ]
    }
   ],
   "source": [
    "# timepoint_2 = time.time()\n",
    "# time_elapsed = timepoint_2 - timepoint_1\n",
    "# print(f\"Program finished and successfully uploaded {len(full_match_list)} wine records with prices. The program took app. {time_elapsed/60} minutes to run\")"
   ]
  },
  {
   "cell_type": "code",
   "execution_count": 259,
   "metadata": {},
   "outputs": [],
   "source": [
    "# with open(f\"backup_data/full_match_list\", 'wb') as f:\n",
    "#     pickle.dump(full_match_list, f)"
   ]
  },
  {
   "cell_type": "code",
   "execution_count": 433,
   "metadata": {},
   "outputs": [],
   "source": [
    "with open(f\"backup_data/full_match_list\", 'rb') as f:\n",
    "    recovered_data = pickle.load(f)"
   ]
  },
  {
   "cell_type": "code",
   "execution_count": 262,
   "metadata": {},
   "outputs": [],
   "source": [
    "# with open(f\"backup_data/full_match_df\", 'wb') as f:\n",
    "#     pickle.dump(full_df, f)"
   ]
  },
  {
   "cell_type": "code",
   "execution_count": 263,
   "metadata": {},
   "outputs": [],
   "source": [
    "# with open(f\"backup_data/full_match_df\", 'rb') as f:\n",
    "#     recovered_df = pickle.load(f)"
   ]
  },
  {
   "cell_type": "code",
   "execution_count": 270,
   "metadata": {},
   "outputs": [],
   "source": [
    "# recovered_data[-1]"
   ]
  },
  {
   "cell_type": "code",
   "execution_count": 434,
   "metadata": {},
   "outputs": [
    {
     "data": {
      "text/plain": [
       "55839"
      ]
     },
     "execution_count": 434,
     "metadata": {},
     "output_type": "execute_result"
    }
   ],
   "source": [
    "len(recovered_data)"
   ]
  },
  {
   "cell_type": "code",
   "execution_count": 439,
   "metadata": {},
   "outputs": [
    {
     "data": {
      "text/plain": [
       "111604237"
      ]
     },
     "execution_count": 439,
     "metadata": {},
     "output_type": "execute_result"
    }
   ],
   "source": [
    "recovered_data[0]['vintage']['id']"
   ]
  },
  {
   "cell_type": "code",
   "execution_count": 442,
   "metadata": {},
   "outputs": [
    {
     "data": {
      "text/plain": [
       "55819"
      ]
     },
     "execution_count": 442,
     "metadata": {},
     "output_type": "execute_result"
    }
   ],
   "source": [
    "distinct_dict = {entry['vintage']['id']: entry for entry in recovered_data}\n",
    "recovered_data_distinct = distinct_dict.values()\n",
    "len(recovered_data_distinct)"
   ]
  },
  {
   "cell_type": "code",
   "execution_count": 436,
   "metadata": {},
   "outputs": [
    {
     "data": {
      "text/plain": [
       "list"
      ]
     },
     "execution_count": 436,
     "metadata": {},
     "output_type": "execute_result"
    }
   ],
   "source": [
    "type(recovered_data)"
   ]
  },
  {
   "cell_type": "code",
   "execution_count": 435,
   "metadata": {},
   "outputs": [
    {
     "ename": "TypeError",
     "evalue": "unhashable type: 'dict'",
     "output_type": "error",
     "traceback": [
      "\u001b[0;31m---------------------------------------------------------------------------\u001b[0m",
      "\u001b[0;31mTypeError\u001b[0m                                 Traceback (most recent call last)",
      "\u001b[0;32m<ipython-input-435-f4e6ef4e2779>\u001b[0m in \u001b[0;36m<module>\u001b[0;34m\u001b[0m\n\u001b[0;32m----> 1\u001b[0;31m \u001b[0mlen\u001b[0m\u001b[0;34m(\u001b[0m\u001b[0mset\u001b[0m\u001b[0;34m(\u001b[0m\u001b[0mrecovered_data\u001b[0m\u001b[0;34m)\u001b[0m\u001b[0;34m)\u001b[0m\u001b[0;34m\u001b[0m\u001b[0;34m\u001b[0m\u001b[0m\n\u001b[0m",
      "\u001b[0;31mTypeError\u001b[0m: unhashable type: 'dict'"
     ]
    }
   ],
   "source": [
    "len(set(recovered_data))"
   ]
  },
  {
   "cell_type": "code",
   "execution_count": 253,
   "metadata": {},
   "outputs": [
    {
     "data": {
      "text/plain": [
       "56017"
      ]
     },
     "execution_count": 253,
     "metadata": {},
     "output_type": "execute_result"
    }
   ],
   "source": [
    "records"
   ]
  },
  {
   "cell_type": "code",
   "execution_count": 325,
   "metadata": {},
   "outputs": [
    {
     "data": {
      "text/plain": [
       "56000"
      ]
     },
     "execution_count": 325,
     "metadata": {},
     "output_type": "execute_result"
    }
   ],
   "source": [
    "len(full_match_list)"
   ]
  },
  {
   "cell_type": "code",
   "execution_count": 249,
   "metadata": {},
   "outputs": [
    {
     "data": {
      "text/plain": [
       "125"
      ]
     },
     "execution_count": 249,
     "metadata": {},
     "output_type": "execute_result"
    }
   ],
   "source": [
    "with open(f\"backup_data/full_match_list_5\", 'rb') as f:\n",
    "    backup_check = pickle.load(f)\n",
    "len(backup_check)"
   ]
  },
  {
   "cell_type": "code",
   "execution_count": 234,
   "metadata": {},
   "outputs": [
    {
     "data": {
      "text/plain": [
       "56011"
      ]
     },
     "execution_count": 234,
     "metadata": {},
     "output_type": "execute_result"
    }
   ],
   "source": [
    "records"
   ]
  },
  {
   "cell_type": "code",
   "execution_count": 237,
   "metadata": {},
   "outputs": [],
   "source": [
    "# test_price_list"
   ]
  },
  {
   "cell_type": "code",
   "execution_count": 205,
   "metadata": {},
   "outputs": [
    {
     "data": {
      "text/plain": [
       "25"
      ]
     },
     "execution_count": 205,
     "metadata": {},
     "output_type": "execute_result"
    }
   ],
   "source": [
    "len(test_price_list)"
   ]
  },
  {
   "cell_type": "code",
   "execution_count": 206,
   "metadata": {},
   "outputs": [
    {
     "data": {
      "text/plain": [
       "25"
      ]
     },
     "execution_count": 206,
     "metadata": {},
     "output_type": "execute_result"
    }
   ],
   "source": [
    "len(test_vintage_list)"
   ]
  },
  {
   "cell_type": "code",
   "execution_count": null,
   "metadata": {},
   "outputs": [],
   "source": [
    "# subset_red_list[0]"
   ]
  },
  {
   "cell_type": "code",
   "execution_count": null,
   "metadata": {},
   "outputs": [],
   "source": [
    "# response = requests.get(\"https://www.vivino.com/api/explore/explore?country_code=GB&currency_code=GBP&grape_filter=varietal&min_rating=1&order_by=ratings_average&order=desc&\\\n",
    "# page=1&price_range_max=400&price_range_min=0&wine_type_ids[]=1\", headers=headers_api)\n",
    "# json_str = response.content\n",
    "# json_obj = json.loads(json_str)\n",
    "# matches = json_obj['explore_vintage']['matches']"
   ]
  },
  {
   "cell_type": "code",
   "execution_count": null,
   "metadata": {},
   "outputs": [],
   "source": [
    "# subset_red_list = []\n",
    "\n",
    "# for i in range(1, 60):\n",
    "#     page = \"https://www.vivino.com/api/explore/explore?country_code=GB&currency_code=GBP&grape_filter=varietal&min_rating=1&order_by=ratings_average&order=desc&\\\n",
    "# page={}&price_range_max=400&price_range_min=0&wine_type_ids[]=1\".format(i)\n",
    "#     subset_red_list = get_wine_json(page, headers_api, subset_red_list)"
   ]
  },
  {
   "cell_type": "code",
   "execution_count": null,
   "metadata": {},
   "outputs": [],
   "source": [
    "# matches[0]['vintage']['wine']['region']"
   ]
  },
  {
   "cell_type": "code",
   "execution_count": 55,
   "metadata": {},
   "outputs": [],
   "source": [
    "import pickle\n",
    "with open(\"subset_red_list\", 'wb') as f:\n",
    "    pickle.dump(subset_red_list, f)"
   ]
  },
  {
   "cell_type": "code",
   "execution_count": 56,
   "metadata": {},
   "outputs": [],
   "source": [
    "# import pickle\n",
    "with open(\"subset_red_list\", 'rb') as f:\n",
    "    subset_red_list_backup = pickle.load(f)"
   ]
  },
  {
   "cell_type": "code",
   "execution_count": 60,
   "metadata": {},
   "outputs": [],
   "source": [
    "# subset_red_df.shape"
   ]
  },
  {
   "cell_type": "code",
   "execution_count": 57,
   "metadata": {},
   "outputs": [
    {
     "data": {
      "text/plain": [
       "Index(['grapes', 'has_valid_ratings', 'id', 'image', 'name', 'seo_name',\n",
       "       'statistics', 'wine', 'year', 'top_list_rankings'],\n",
       "      dtype='object')"
      ]
     },
     "execution_count": 57,
     "metadata": {},
     "output_type": "execute_result"
    }
   ],
   "source": [
    "subset_red_df.columns"
   ]
  },
  {
   "cell_type": "code",
   "execution_count": 58,
   "metadata": {},
   "outputs": [
    {
     "data": {
      "text/html": [
       "<div>\n",
       "<style scoped>\n",
       "    .dataframe tbody tr th:only-of-type {\n",
       "        vertical-align: middle;\n",
       "    }\n",
       "\n",
       "    .dataframe tbody tr th {\n",
       "        vertical-align: top;\n",
       "    }\n",
       "\n",
       "    .dataframe thead th {\n",
       "        text-align: right;\n",
       "    }\n",
       "</style>\n",
       "<table border=\"1\" class=\"dataframe\">\n",
       "  <thead>\n",
       "    <tr style=\"text-align: right;\">\n",
       "      <th></th>\n",
       "      <th>grapes</th>\n",
       "      <th>has_valid_ratings</th>\n",
       "      <th>id</th>\n",
       "      <th>image</th>\n",
       "      <th>name</th>\n",
       "      <th>seo_name</th>\n",
       "      <th>statistics</th>\n",
       "      <th>wine</th>\n",
       "      <th>year</th>\n",
       "      <th>top_list_rankings</th>\n",
       "    </tr>\n",
       "  </thead>\n",
       "  <tbody>\n",
       "    <tr>\n",
       "      <th>0</th>\n",
       "      <td>None</td>\n",
       "      <td>1.0</td>\n",
       "      <td>155452769.0</td>\n",
       "      <td>{'location': '//images.vivino.com/labels/bDEH9...</td>\n",
       "      <td>Marion Raro Cabernet Sauvignon Selezione 2007</td>\n",
       "      <td>marion-raro-cabernet-sauvignon-selezione-2007</td>\n",
       "      <td>{'status': 'Normal', 'ratings_count': 83, 'rat...</td>\n",
       "      <td>{'id': 5926791, 'name': 'Raro Cabernet Sauvign...</td>\n",
       "      <td>2007.0</td>\n",
       "      <td>NaN</td>\n",
       "    </tr>\n",
       "    <tr>\n",
       "      <th>1</th>\n",
       "      <td>None</td>\n",
       "      <td>1.0</td>\n",
       "      <td>142749808.0</td>\n",
       "      <td>{'location': '//images.vivino.com/thumbs/BFAcH...</td>\n",
       "      <td>Frank Family Patriarch 2012</td>\n",
       "      <td>frank-family-patriarch-rutherford-red-wine-2012</td>\n",
       "      <td>{'status': 'Normal', 'ratings_count': 80, 'rat...</td>\n",
       "      <td>{'id': 4382344, 'name': 'Patriarch', 'seo_name...</td>\n",
       "      <td>2012.0</td>\n",
       "      <td>NaN</td>\n",
       "    </tr>\n",
       "    <tr>\n",
       "      <th>2</th>\n",
       "      <td>None</td>\n",
       "      <td>1.0</td>\n",
       "      <td>57646109.0</td>\n",
       "      <td>{'location': '//images.vivino.com/labels/V5JCH...</td>\n",
       "      <td>Chateau D Yguene 2001</td>\n",
       "      <td>chateau-d-yguene-red-wine-v-jdmvq-2001</td>\n",
       "      <td>{'status': 'Normal', 'ratings_count': 74, 'rat...</td>\n",
       "      <td>{'id': 3474900, 'name': 'Chateau D Yguene', 's...</td>\n",
       "      <td>2001.0</td>\n",
       "      <td>NaN</td>\n",
       "    </tr>\n",
       "    <tr>\n",
       "      <th>3</th>\n",
       "      <td>None</td>\n",
       "      <td>1.0</td>\n",
       "      <td>3208609.0</td>\n",
       "      <td>{'location': '//images.vivino.com/thumbs/easjT...</td>\n",
       "      <td>Del Dotto The Beast Cabernet Sauvignon 2012</td>\n",
       "      <td>del-dotto-the-beast-cabernet-sauvignon-2012</td>\n",
       "      <td>{'status': 'Normal', 'ratings_count': 69, 'rat...</td>\n",
       "      <td>{'id': 1403662, 'name': 'The Beast Cabernet Sa...</td>\n",
       "      <td>2012.0</td>\n",
       "      <td>NaN</td>\n",
       "    </tr>\n",
       "    <tr>\n",
       "      <th>4</th>\n",
       "      <td>None</td>\n",
       "      <td>1.0</td>\n",
       "      <td>126346084.0</td>\n",
       "      <td>{'location': '//images.vivino.com/thumbs/4BpJn...</td>\n",
       "      <td>Hundred Acre Few and Far Between Cabernet Sauv...</td>\n",
       "      <td>hundred-acre-few-and-far-between-cabernet-sauv...</td>\n",
       "      <td>{'status': 'Normal', 'ratings_count': 60, 'rat...</td>\n",
       "      <td>{'id': 4110288, 'name': 'Few and Far Between C...</td>\n",
       "      <td>2013.0</td>\n",
       "      <td>NaN</td>\n",
       "    </tr>\n",
       "  </tbody>\n",
       "</table>\n",
       "</div>"
      ],
      "text/plain": [
       "  grapes  has_valid_ratings           id  \\\n",
       "0   None                1.0  155452769.0   \n",
       "1   None                1.0  142749808.0   \n",
       "2   None                1.0   57646109.0   \n",
       "3   None                1.0    3208609.0   \n",
       "4   None                1.0  126346084.0   \n",
       "\n",
       "                                               image  \\\n",
       "0  {'location': '//images.vivino.com/labels/bDEH9...   \n",
       "1  {'location': '//images.vivino.com/thumbs/BFAcH...   \n",
       "2  {'location': '//images.vivino.com/labels/V5JCH...   \n",
       "3  {'location': '//images.vivino.com/thumbs/easjT...   \n",
       "4  {'location': '//images.vivino.com/thumbs/4BpJn...   \n",
       "\n",
       "                                                name  \\\n",
       "0      Marion Raro Cabernet Sauvignon Selezione 2007   \n",
       "1                        Frank Family Patriarch 2012   \n",
       "2                              Chateau D Yguene 2001   \n",
       "3        Del Dotto The Beast Cabernet Sauvignon 2012   \n",
       "4  Hundred Acre Few and Far Between Cabernet Sauv...   \n",
       "\n",
       "                                            seo_name  \\\n",
       "0      marion-raro-cabernet-sauvignon-selezione-2007   \n",
       "1    frank-family-patriarch-rutherford-red-wine-2012   \n",
       "2             chateau-d-yguene-red-wine-v-jdmvq-2001   \n",
       "3        del-dotto-the-beast-cabernet-sauvignon-2012   \n",
       "4  hundred-acre-few-and-far-between-cabernet-sauv...   \n",
       "\n",
       "                                          statistics  \\\n",
       "0  {'status': 'Normal', 'ratings_count': 83, 'rat...   \n",
       "1  {'status': 'Normal', 'ratings_count': 80, 'rat...   \n",
       "2  {'status': 'Normal', 'ratings_count': 74, 'rat...   \n",
       "3  {'status': 'Normal', 'ratings_count': 69, 'rat...   \n",
       "4  {'status': 'Normal', 'ratings_count': 60, 'rat...   \n",
       "\n",
       "                                                wine    year top_list_rankings  \n",
       "0  {'id': 5926791, 'name': 'Raro Cabernet Sauvign...  2007.0               NaN  \n",
       "1  {'id': 4382344, 'name': 'Patriarch', 'seo_name...  2012.0               NaN  \n",
       "2  {'id': 3474900, 'name': 'Chateau D Yguene', 's...  2001.0               NaN  \n",
       "3  {'id': 1403662, 'name': 'The Beast Cabernet Sa...  2012.0               NaN  \n",
       "4  {'id': 4110288, 'name': 'Few and Far Between C...  2013.0               NaN  "
      ]
     },
     "execution_count": 58,
     "metadata": {},
     "output_type": "execute_result"
    }
   ],
   "source": [
    "subset_red_df.head()"
   ]
  },
  {
   "cell_type": "code",
   "execution_count": 59,
   "metadata": {},
   "outputs": [],
   "source": [
    "subset_red_df.columns = ['vintage_' + str(col) for col in subset_red_df.columns]"
   ]
  },
  {
   "cell_type": "code",
   "execution_count": 60,
   "metadata": {},
   "outputs": [
    {
     "data": {
      "text/plain": [
       "Index(['vintage_grapes', 'vintage_has_valid_ratings', 'vintage_id',\n",
       "       'vintage_image', 'vintage_name', 'vintage_seo_name',\n",
       "       'vintage_statistics', 'vintage_wine', 'vintage_year',\n",
       "       'vintage_top_list_rankings'],\n",
       "      dtype='object')"
      ]
     },
     "execution_count": 60,
     "metadata": {},
     "output_type": "execute_result"
    }
   ],
   "source": [
    "subset_red_df.columns"
   ]
  },
  {
   "cell_type": "code",
   "execution_count": 61,
   "metadata": {},
   "outputs": [
    {
     "data": {
      "text/html": [
       "<div>\n",
       "<style scoped>\n",
       "    .dataframe tbody tr th:only-of-type {\n",
       "        vertical-align: middle;\n",
       "    }\n",
       "\n",
       "    .dataframe tbody tr th {\n",
       "        vertical-align: top;\n",
       "    }\n",
       "\n",
       "    .dataframe thead th {\n",
       "        text-align: right;\n",
       "    }\n",
       "</style>\n",
       "<table border=\"1\" class=\"dataframe\">\n",
       "  <thead>\n",
       "    <tr style=\"text-align: right;\">\n",
       "      <th></th>\n",
       "      <th>status</th>\n",
       "      <th>ratings_count</th>\n",
       "      <th>ratings_average</th>\n",
       "      <th>labels_count</th>\n",
       "    </tr>\n",
       "  </thead>\n",
       "  <tbody>\n",
       "    <tr>\n",
       "      <th>0</th>\n",
       "      <td>Normal</td>\n",
       "      <td>83</td>\n",
       "      <td>4.9</td>\n",
       "      <td>316</td>\n",
       "    </tr>\n",
       "    <tr>\n",
       "      <th>1</th>\n",
       "      <td>Normal</td>\n",
       "      <td>80</td>\n",
       "      <td>4.9</td>\n",
       "      <td>341</td>\n",
       "    </tr>\n",
       "    <tr>\n",
       "      <th>2</th>\n",
       "      <td>Normal</td>\n",
       "      <td>74</td>\n",
       "      <td>4.9</td>\n",
       "      <td>624</td>\n",
       "    </tr>\n",
       "    <tr>\n",
       "      <th>3</th>\n",
       "      <td>Normal</td>\n",
       "      <td>69</td>\n",
       "      <td>4.9</td>\n",
       "      <td>357</td>\n",
       "    </tr>\n",
       "    <tr>\n",
       "      <th>4</th>\n",
       "      <td>Normal</td>\n",
       "      <td>60</td>\n",
       "      <td>4.9</td>\n",
       "      <td>312</td>\n",
       "    </tr>\n",
       "  </tbody>\n",
       "</table>\n",
       "</div>"
      ],
      "text/plain": [
       "   status  ratings_count  ratings_average  labels_count\n",
       "0  Normal             83              4.9           316\n",
       "1  Normal             80              4.9           341\n",
       "2  Normal             74              4.9           624\n",
       "3  Normal             69              4.9           357\n",
       "4  Normal             60              4.9           312"
      ]
     },
     "execution_count": 61,
     "metadata": {},
     "output_type": "execute_result"
    }
   ],
   "source": [
    "subset_red_stat = pd.json_normalize(subset_red_df['vintage_statistics'])\n",
    "subset_red_stat.head(5)"
   ]
  },
  {
   "cell_type": "code",
   "execution_count": 62,
   "metadata": {},
   "outputs": [
    {
     "data": {
      "text/html": [
       "<div>\n",
       "<style scoped>\n",
       "    .dataframe tbody tr th:only-of-type {\n",
       "        vertical-align: middle;\n",
       "    }\n",
       "\n",
       "    .dataframe tbody tr th {\n",
       "        vertical-align: top;\n",
       "    }\n",
       "\n",
       "    .dataframe thead th {\n",
       "        text-align: right;\n",
       "    }\n",
       "</style>\n",
       "<table border=\"1\" class=\"dataframe\">\n",
       "  <thead>\n",
       "    <tr style=\"text-align: right;\">\n",
       "      <th></th>\n",
       "      <th>id</th>\n",
       "      <th>name</th>\n",
       "      <th>seo_name</th>\n",
       "      <th>type_id</th>\n",
       "      <th>vintage_type</th>\n",
       "      <th>is_natural</th>\n",
       "      <th>has_valid_ratings</th>\n",
       "      <th>region.id</th>\n",
       "      <th>region.name</th>\n",
       "      <th>region.name_en</th>\n",
       "      <th>...</th>\n",
       "      <th>style.region.background_image.location</th>\n",
       "      <th>style.region.background_image.variations.large</th>\n",
       "      <th>style.region.background_image.variations.medium</th>\n",
       "      <th>region</th>\n",
       "      <th>winery</th>\n",
       "      <th>style</th>\n",
       "      <th>taste.structure</th>\n",
       "      <th>region.background_image</th>\n",
       "      <th>style.background_image</th>\n",
       "      <th>style.region.background_image</th>\n",
       "    </tr>\n",
       "  </thead>\n",
       "  <tbody>\n",
       "    <tr>\n",
       "      <th>0</th>\n",
       "      <td>5926791</td>\n",
       "      <td>Raro Cabernet Sauvignon Selezione</td>\n",
       "      <td>raro-cabernet-sauvignon-selezione</td>\n",
       "      <td>1</td>\n",
       "      <td>0</td>\n",
       "      <td>False</td>\n",
       "      <td>True</td>\n",
       "      <td>460.0</td>\n",
       "      <td>Veneto</td>\n",
       "      <td></td>\n",
       "      <td>...</td>\n",
       "      <td>NaN</td>\n",
       "      <td>NaN</td>\n",
       "      <td>NaN</td>\n",
       "      <td>NaN</td>\n",
       "      <td>NaN</td>\n",
       "      <td>NaN</td>\n",
       "      <td>NaN</td>\n",
       "      <td>NaN</td>\n",
       "      <td>NaN</td>\n",
       "      <td>NaN</td>\n",
       "    </tr>\n",
       "    <tr>\n",
       "      <th>1</th>\n",
       "      <td>4382344</td>\n",
       "      <td>Patriarch</td>\n",
       "      <td>patriarch-rutherford-red-wine</td>\n",
       "      <td>1</td>\n",
       "      <td>0</td>\n",
       "      <td>False</td>\n",
       "      <td>True</td>\n",
       "      <td>105.0</td>\n",
       "      <td>Rutherford</td>\n",
       "      <td></td>\n",
       "      <td>...</td>\n",
       "      <td>//images.vivino.com/regions/backgrounds/cP8NlY...</td>\n",
       "      <td>//thumbs.vivino.com/region_backgrounds/cP8NlYV...</td>\n",
       "      <td>//thumbs.vivino.com/region_backgrounds/cP8NlYV...</td>\n",
       "      <td>NaN</td>\n",
       "      <td>NaN</td>\n",
       "      <td>NaN</td>\n",
       "      <td>NaN</td>\n",
       "      <td>NaN</td>\n",
       "      <td>NaN</td>\n",
       "      <td>NaN</td>\n",
       "    </tr>\n",
       "    <tr>\n",
       "      <th>2</th>\n",
       "      <td>3474900</td>\n",
       "      <td>Chateau D Yguene</td>\n",
       "      <td>chateau-d-yguene-red-wine-v-jdmvq</td>\n",
       "      <td>1</td>\n",
       "      <td>0</td>\n",
       "      <td>False</td>\n",
       "      <td>True</td>\n",
       "      <td>NaN</td>\n",
       "      <td>NaN</td>\n",
       "      <td>NaN</td>\n",
       "      <td>...</td>\n",
       "      <td>NaN</td>\n",
       "      <td>NaN</td>\n",
       "      <td>NaN</td>\n",
       "      <td>NaN</td>\n",
       "      <td>NaN</td>\n",
       "      <td>NaN</td>\n",
       "      <td>NaN</td>\n",
       "      <td>NaN</td>\n",
       "      <td>NaN</td>\n",
       "      <td>NaN</td>\n",
       "    </tr>\n",
       "    <tr>\n",
       "      <th>3</th>\n",
       "      <td>1403662</td>\n",
       "      <td>The Beast Cabernet Sauvignon</td>\n",
       "      <td>the-beast-cabernet-sauvignon</td>\n",
       "      <td>1</td>\n",
       "      <td>0</td>\n",
       "      <td>False</td>\n",
       "      <td>True</td>\n",
       "      <td>105.0</td>\n",
       "      <td>Rutherford</td>\n",
       "      <td></td>\n",
       "      <td>...</td>\n",
       "      <td>//images.vivino.com/regions/backgrounds/cP8NlY...</td>\n",
       "      <td>//thumbs.vivino.com/region_backgrounds/cP8NlYV...</td>\n",
       "      <td>//thumbs.vivino.com/region_backgrounds/cP8NlYV...</td>\n",
       "      <td>NaN</td>\n",
       "      <td>NaN</td>\n",
       "      <td>NaN</td>\n",
       "      <td>NaN</td>\n",
       "      <td>NaN</td>\n",
       "      <td>NaN</td>\n",
       "      <td>NaN</td>\n",
       "    </tr>\n",
       "    <tr>\n",
       "      <th>4</th>\n",
       "      <td>4110288</td>\n",
       "      <td>Few and Far Between Cabernet Sauvignon</td>\n",
       "      <td>few-and-far-between-cabernet-sauvignon</td>\n",
       "      <td>1</td>\n",
       "      <td>0</td>\n",
       "      <td>False</td>\n",
       "      <td>True</td>\n",
       "      <td>25.0</td>\n",
       "      <td>Napa Valley</td>\n",
       "      <td></td>\n",
       "      <td>...</td>\n",
       "      <td>//images.vivino.com/regions/backgrounds/cP8NlY...</td>\n",
       "      <td>//thumbs.vivino.com/region_backgrounds/cP8NlYV...</td>\n",
       "      <td>//thumbs.vivino.com/region_backgrounds/cP8NlYV...</td>\n",
       "      <td>NaN</td>\n",
       "      <td>NaN</td>\n",
       "      <td>NaN</td>\n",
       "      <td>NaN</td>\n",
       "      <td>NaN</td>\n",
       "      <td>NaN</td>\n",
       "      <td>NaN</td>\n",
       "    </tr>\n",
       "  </tbody>\n",
       "</table>\n",
       "<p>5 rows × 103 columns</p>\n",
       "</div>"
      ],
      "text/plain": [
       "        id                                    name  \\\n",
       "0  5926791       Raro Cabernet Sauvignon Selezione   \n",
       "1  4382344                               Patriarch   \n",
       "2  3474900                        Chateau D Yguene   \n",
       "3  1403662            The Beast Cabernet Sauvignon   \n",
       "4  4110288  Few and Far Between Cabernet Sauvignon   \n",
       "\n",
       "                                 seo_name  type_id  vintage_type  is_natural  \\\n",
       "0       raro-cabernet-sauvignon-selezione        1             0       False   \n",
       "1           patriarch-rutherford-red-wine        1             0       False   \n",
       "2       chateau-d-yguene-red-wine-v-jdmvq        1             0       False   \n",
       "3            the-beast-cabernet-sauvignon        1             0       False   \n",
       "4  few-and-far-between-cabernet-sauvignon        1             0       False   \n",
       "\n",
       "   has_valid_ratings  region.id  region.name region.name_en  ...  \\\n",
       "0               True      460.0       Veneto                 ...   \n",
       "1               True      105.0   Rutherford                 ...   \n",
       "2               True        NaN          NaN            NaN  ...   \n",
       "3               True      105.0   Rutherford                 ...   \n",
       "4               True       25.0  Napa Valley                 ...   \n",
       "\n",
       "              style.region.background_image.location  \\\n",
       "0                                                NaN   \n",
       "1  //images.vivino.com/regions/backgrounds/cP8NlY...   \n",
       "2                                                NaN   \n",
       "3  //images.vivino.com/regions/backgrounds/cP8NlY...   \n",
       "4  //images.vivino.com/regions/backgrounds/cP8NlY...   \n",
       "\n",
       "      style.region.background_image.variations.large  \\\n",
       "0                                                NaN   \n",
       "1  //thumbs.vivino.com/region_backgrounds/cP8NlYV...   \n",
       "2                                                NaN   \n",
       "3  //thumbs.vivino.com/region_backgrounds/cP8NlYV...   \n",
       "4  //thumbs.vivino.com/region_backgrounds/cP8NlYV...   \n",
       "\n",
       "     style.region.background_image.variations.medium region winery style  \\\n",
       "0                                                NaN    NaN    NaN   NaN   \n",
       "1  //thumbs.vivino.com/region_backgrounds/cP8NlYV...    NaN    NaN   NaN   \n",
       "2                                                NaN    NaN    NaN   NaN   \n",
       "3  //thumbs.vivino.com/region_backgrounds/cP8NlYV...    NaN    NaN   NaN   \n",
       "4  //thumbs.vivino.com/region_backgrounds/cP8NlYV...    NaN    NaN   NaN   \n",
       "\n",
       "  taste.structure region.background_image style.background_image  \\\n",
       "0             NaN                     NaN                    NaN   \n",
       "1             NaN                     NaN                    NaN   \n",
       "2             NaN                     NaN                    NaN   \n",
       "3             NaN                     NaN                    NaN   \n",
       "4             NaN                     NaN                    NaN   \n",
       "\n",
       "   style.region.background_image  \n",
       "0                            NaN  \n",
       "1                            NaN  \n",
       "2                            NaN  \n",
       "3                            NaN  \n",
       "4                            NaN  \n",
       "\n",
       "[5 rows x 103 columns]"
      ]
     },
     "execution_count": 62,
     "metadata": {},
     "output_type": "execute_result"
    }
   ],
   "source": [
    "subset_red_wine = pd.json_normalize(subset_red_df['vintage_wine'])\n",
    "subset_red_wine.head(5)"
   ]
  },
  {
   "cell_type": "code",
   "execution_count": 63,
   "metadata": {},
   "outputs": [],
   "source": [
    "subset_red_flattened = pd.concat([subset_red_df, subset_red_stat, subset_red_wine], axis=1)"
   ]
  },
  {
   "cell_type": "code",
   "execution_count": 64,
   "metadata": {},
   "outputs": [
    {
     "data": {
      "text/html": [
       "<div>\n",
       "<style scoped>\n",
       "    .dataframe tbody tr th:only-of-type {\n",
       "        vertical-align: middle;\n",
       "    }\n",
       "\n",
       "    .dataframe tbody tr th {\n",
       "        vertical-align: top;\n",
       "    }\n",
       "\n",
       "    .dataframe thead th {\n",
       "        text-align: right;\n",
       "    }\n",
       "</style>\n",
       "<table border=\"1\" class=\"dataframe\">\n",
       "  <thead>\n",
       "    <tr style=\"text-align: right;\">\n",
       "      <th></th>\n",
       "      <th>vintage_grapes</th>\n",
       "      <th>vintage_has_valid_ratings</th>\n",
       "      <th>vintage_id</th>\n",
       "      <th>vintage_image</th>\n",
       "      <th>vintage_name</th>\n",
       "      <th>vintage_seo_name</th>\n",
       "      <th>vintage_statistics</th>\n",
       "      <th>vintage_wine</th>\n",
       "      <th>vintage_year</th>\n",
       "      <th>vintage_top_list_rankings</th>\n",
       "      <th>...</th>\n",
       "      <th>style.region.background_image.location</th>\n",
       "      <th>style.region.background_image.variations.large</th>\n",
       "      <th>style.region.background_image.variations.medium</th>\n",
       "      <th>region</th>\n",
       "      <th>winery</th>\n",
       "      <th>style</th>\n",
       "      <th>taste.structure</th>\n",
       "      <th>region.background_image</th>\n",
       "      <th>style.background_image</th>\n",
       "      <th>style.region.background_image</th>\n",
       "    </tr>\n",
       "  </thead>\n",
       "  <tbody>\n",
       "    <tr>\n",
       "      <th>0</th>\n",
       "      <td>True</td>\n",
       "      <td>False</td>\n",
       "      <td>False</td>\n",
       "      <td>False</td>\n",
       "      <td>False</td>\n",
       "      <td>False</td>\n",
       "      <td>False</td>\n",
       "      <td>False</td>\n",
       "      <td>False</td>\n",
       "      <td>True</td>\n",
       "      <td>...</td>\n",
       "      <td>True</td>\n",
       "      <td>True</td>\n",
       "      <td>True</td>\n",
       "      <td>True</td>\n",
       "      <td>True</td>\n",
       "      <td>True</td>\n",
       "      <td>True</td>\n",
       "      <td>True</td>\n",
       "      <td>True</td>\n",
       "      <td>True</td>\n",
       "    </tr>\n",
       "    <tr>\n",
       "      <th>1</th>\n",
       "      <td>True</td>\n",
       "      <td>False</td>\n",
       "      <td>False</td>\n",
       "      <td>False</td>\n",
       "      <td>False</td>\n",
       "      <td>False</td>\n",
       "      <td>False</td>\n",
       "      <td>False</td>\n",
       "      <td>False</td>\n",
       "      <td>True</td>\n",
       "      <td>...</td>\n",
       "      <td>False</td>\n",
       "      <td>False</td>\n",
       "      <td>False</td>\n",
       "      <td>True</td>\n",
       "      <td>True</td>\n",
       "      <td>True</td>\n",
       "      <td>True</td>\n",
       "      <td>True</td>\n",
       "      <td>True</td>\n",
       "      <td>True</td>\n",
       "    </tr>\n",
       "    <tr>\n",
       "      <th>2</th>\n",
       "      <td>True</td>\n",
       "      <td>False</td>\n",
       "      <td>False</td>\n",
       "      <td>False</td>\n",
       "      <td>False</td>\n",
       "      <td>False</td>\n",
       "      <td>False</td>\n",
       "      <td>False</td>\n",
       "      <td>False</td>\n",
       "      <td>True</td>\n",
       "      <td>...</td>\n",
       "      <td>True</td>\n",
       "      <td>True</td>\n",
       "      <td>True</td>\n",
       "      <td>True</td>\n",
       "      <td>True</td>\n",
       "      <td>True</td>\n",
       "      <td>True</td>\n",
       "      <td>True</td>\n",
       "      <td>True</td>\n",
       "      <td>True</td>\n",
       "    </tr>\n",
       "    <tr>\n",
       "      <th>3</th>\n",
       "      <td>True</td>\n",
       "      <td>False</td>\n",
       "      <td>False</td>\n",
       "      <td>False</td>\n",
       "      <td>False</td>\n",
       "      <td>False</td>\n",
       "      <td>False</td>\n",
       "      <td>False</td>\n",
       "      <td>False</td>\n",
       "      <td>True</td>\n",
       "      <td>...</td>\n",
       "      <td>False</td>\n",
       "      <td>False</td>\n",
       "      <td>False</td>\n",
       "      <td>True</td>\n",
       "      <td>True</td>\n",
       "      <td>True</td>\n",
       "      <td>True</td>\n",
       "      <td>True</td>\n",
       "      <td>True</td>\n",
       "      <td>True</td>\n",
       "    </tr>\n",
       "    <tr>\n",
       "      <th>4</th>\n",
       "      <td>True</td>\n",
       "      <td>False</td>\n",
       "      <td>False</td>\n",
       "      <td>False</td>\n",
       "      <td>False</td>\n",
       "      <td>False</td>\n",
       "      <td>False</td>\n",
       "      <td>False</td>\n",
       "      <td>False</td>\n",
       "      <td>True</td>\n",
       "      <td>...</td>\n",
       "      <td>False</td>\n",
       "      <td>False</td>\n",
       "      <td>False</td>\n",
       "      <td>True</td>\n",
       "      <td>True</td>\n",
       "      <td>True</td>\n",
       "      <td>True</td>\n",
       "      <td>True</td>\n",
       "      <td>True</td>\n",
       "      <td>True</td>\n",
       "    </tr>\n",
       "  </tbody>\n",
       "</table>\n",
       "<p>5 rows × 117 columns</p>\n",
       "</div>"
      ],
      "text/plain": [
       "   vintage_grapes  vintage_has_valid_ratings  vintage_id  vintage_image  \\\n",
       "0            True                      False       False          False   \n",
       "1            True                      False       False          False   \n",
       "2            True                      False       False          False   \n",
       "3            True                      False       False          False   \n",
       "4            True                      False       False          False   \n",
       "\n",
       "   vintage_name  vintage_seo_name  vintage_statistics  vintage_wine  \\\n",
       "0         False             False               False         False   \n",
       "1         False             False               False         False   \n",
       "2         False             False               False         False   \n",
       "3         False             False               False         False   \n",
       "4         False             False               False         False   \n",
       "\n",
       "   vintage_year  vintage_top_list_rankings  ...  \\\n",
       "0         False                       True  ...   \n",
       "1         False                       True  ...   \n",
       "2         False                       True  ...   \n",
       "3         False                       True  ...   \n",
       "4         False                       True  ...   \n",
       "\n",
       "   style.region.background_image.location  \\\n",
       "0                                    True   \n",
       "1                                   False   \n",
       "2                                    True   \n",
       "3                                   False   \n",
       "4                                   False   \n",
       "\n",
       "   style.region.background_image.variations.large  \\\n",
       "0                                            True   \n",
       "1                                           False   \n",
       "2                                            True   \n",
       "3                                           False   \n",
       "4                                           False   \n",
       "\n",
       "   style.region.background_image.variations.medium  region  winery  style  \\\n",
       "0                                             True    True    True   True   \n",
       "1                                            False    True    True   True   \n",
       "2                                             True    True    True   True   \n",
       "3                                            False    True    True   True   \n",
       "4                                            False    True    True   True   \n",
       "\n",
       "   taste.structure  region.background_image  style.background_image  \\\n",
       "0             True                     True                    True   \n",
       "1             True                     True                    True   \n",
       "2             True                     True                    True   \n",
       "3             True                     True                    True   \n",
       "4             True                     True                    True   \n",
       "\n",
       "   style.region.background_image  \n",
       "0                           True  \n",
       "1                           True  \n",
       "2                           True  \n",
       "3                           True  \n",
       "4                           True  \n",
       "\n",
       "[5 rows x 117 columns]"
      ]
     },
     "execution_count": 64,
     "metadata": {},
     "output_type": "execute_result"
    }
   ],
   "source": [
    "subset_red_flattened.isnull().head(5)"
   ]
  },
  {
   "cell_type": "code",
   "execution_count": 65,
   "metadata": {},
   "outputs": [
    {
     "data": {
      "text/plain": [
       "Index(['vintage_grapes', 'vintage_has_valid_ratings', 'vintage_id',\n",
       "       'vintage_image', 'vintage_name', 'vintage_seo_name',\n",
       "       'vintage_statistics', 'vintage_wine', 'vintage_year',\n",
       "       'vintage_top_list_rankings', 'status', 'ratings_count',\n",
       "       'ratings_average', 'labels_count', 'id', 'name', 'seo_name', 'type_id',\n",
       "       'vintage_type', 'is_natural', 'has_valid_ratings', 'region.id',\n",
       "       'region.name', 'region.name_en', 'region.seo_name',\n",
       "       'region.country.code', 'region.country.name',\n",
       "       'region.country.native_name', 'region.country.seo_name',\n",
       "       'region.country.currency.code', 'region.country.currency.name',\n",
       "       'region.country.currency.prefix', 'region.country.currency.suffix',\n",
       "       'region.country.regions_count', 'region.country.users_count',\n",
       "       'region.country.wines_count', 'region.country.wineries_count',\n",
       "       'region.country.most_used_grapes', 'region.background_image.location',\n",
       "       'region.background_image.variations.large',\n",
       "       'region.background_image.variations.medium', 'winery.id', 'winery.name',\n",
       "       'winery.seo_name', 'winery.status', 'taste.structure.acidity',\n",
       "       'taste.structure.fizziness', 'taste.structure.intensity',\n",
       "       'taste.structure.sweetness', 'taste.structure.tannin'],\n",
       "      dtype='object')"
      ]
     },
     "execution_count": 65,
     "metadata": {},
     "output_type": "execute_result"
    }
   ],
   "source": [
    "subset_red_flattened.iloc[:, :50].columns"
   ]
  },
  {
   "cell_type": "code",
   "execution_count": 66,
   "metadata": {},
   "outputs": [
    {
     "data": {
      "text/plain": [
       "Index(['taste.structure.user_structure_count',\n",
       "       'taste.structure.calculated_structure_count', 'taste.flavor',\n",
       "       'statistics.status', 'statistics.ratings_count',\n",
       "       'statistics.ratings_average', 'statistics.labels_count',\n",
       "       'statistics.vintages_count', 'style.id', 'style.seo_name',\n",
       "       'style.regional_name', 'style.varietal_name', 'style.name',\n",
       "       'style.image', 'style.background_image.location',\n",
       "       'style.background_image.variations.small', 'style.description',\n",
       "       'style.blurb', 'style.interesting_facts', 'style.body',\n",
       "       'style.body_description', 'style.acidity', 'style.acidity_description',\n",
       "       'style.country.code', 'style.country.name', 'style.country.native_name',\n",
       "       'style.country.seo_name', 'style.country.currency.code',\n",
       "       'style.country.currency.name', 'style.country.currency.prefix',\n",
       "       'style.country.currency.suffix', 'style.country.regions_count',\n",
       "       'style.country.users_count', 'style.country.wines_count',\n",
       "       'style.country.wineries_count', 'style.country.most_used_grapes',\n",
       "       'style.wine_type_id', 'style.food', 'style.grapes', 'style.region',\n",
       "       'style.region.id', 'style.region.name', 'style.region.name_en',\n",
       "       'style.region.seo_name', 'style.region.country.code',\n",
       "       'style.region.country.name', 'style.region.country.native_name',\n",
       "       'style.region.country.seo_name', 'style.region.country.currency.code',\n",
       "       'style.region.country.currency.name',\n",
       "       'style.region.country.currency.prefix',\n",
       "       'style.region.country.currency.suffix',\n",
       "       'style.region.country.regions_count',\n",
       "       'style.region.country.users_count', 'style.region.country.wines_count',\n",
       "       'style.region.country.wineries_count',\n",
       "       'style.region.country.most_used_grapes',\n",
       "       'style.region.background_image.location',\n",
       "       'style.region.background_image.variations.large',\n",
       "       'style.region.background_image.variations.medium', 'region', 'winery',\n",
       "       'style', 'taste.structure', 'region.background_image',\n",
       "       'style.background_image', 'style.region.background_image'],\n",
       "      dtype='object')"
      ]
     },
     "execution_count": 66,
     "metadata": {},
     "output_type": "execute_result"
    }
   ],
   "source": [
    "subset_red_flattened.iloc[:, 50:].columns"
   ]
  },
  {
   "cell_type": "code",
   "execution_count": 67,
   "metadata": {},
   "outputs": [
    {
     "data": {
      "text/plain": [
       "(1475, 117)"
      ]
     },
     "execution_count": 67,
     "metadata": {},
     "output_type": "execute_result"
    }
   ],
   "source": [
    "subset_red_flattened.shape"
   ]
  },
  {
   "cell_type": "code",
   "execution_count": 68,
   "metadata": {},
   "outputs": [],
   "source": [
    "# import pickle\n",
    "# with open(\"subset_red_flattened\", 'wb') as f:\n",
    "#     pickle.dump(subset_red_flattened, f)"
   ]
  },
  {
   "cell_type": "code",
   "execution_count": 69,
   "metadata": {},
   "outputs": [],
   "source": [
    "# %%capture\n",
    "# %load_ext sql\n",
    "# %sql sqlite:///vivino.db"
   ]
  },
  {
   "cell_type": "code",
   "execution_count": 70,
   "metadata": {},
   "outputs": [],
   "source": [
    "# %sql SELECT * FROM wine"
   ]
  },
  {
   "cell_type": "code",
   "execution_count": 71,
   "metadata": {},
   "outputs": [],
   "source": [
    "# %sql CREATE TABLE test_table (code text, name text);"
   ]
  },
  {
   "cell_type": "code",
   "execution_count": 72,
   "metadata": {},
   "outputs": [],
   "source": [
    "# data = [{\"country_code\": \"UK\", \"name\": \"UK\"}, {\"country_code\": \"IT\", \"name\": \"Italy\"}]\n",
    "\n",
    "# for entry in data:\n",
    "#     code = entry[\"country_code\"]\n",
    "#     name = entry[\"name\"]\n",
    "#     %sql INSERT INTO test_table(code, name) VALUES (:code, :name);"
   ]
  },
  {
   "cell_type": "code",
   "execution_count": 73,
   "metadata": {},
   "outputs": [],
   "source": [
    "# %sql SELECT * FROM test_table"
   ]
  },
  {
   "cell_type": "code",
   "execution_count": 74,
   "metadata": {},
   "outputs": [],
   "source": [
    "import sqlite3"
   ]
  },
  {
   "cell_type": "code",
   "execution_count": 75,
   "metadata": {},
   "outputs": [],
   "source": [
    "# test_query = 'SELECT * FROM test_table'\n",
    "# print(conn.execute(test_query).fetchall())"
   ]
  },
  {
   "cell_type": "code",
   "execution_count": 76,
   "metadata": {},
   "outputs": [],
   "source": [
    "# subset_red_flattened['winery.id']"
   ]
  },
  {
   "cell_type": "markdown",
   "metadata": {},
   "source": [
    "Insertion to the database should be done in the following order (in order to avoid problems with foreign keys):\n",
    "* winery\n",
    "* country\n",
    "* type\n",
    "* region\n",
    "* style\n",
    "* food\n",
    "* facts\n",
    "* style_food\n",
    "* grape\n",
    "* style_grape\n",
    "* grape_country\n",
    "* wine\n",
    "* vintage\n",
    "* toplist\n",
    "* vintage_toplist\n",
    "* keyword\n",
    "* wine_keyword\n",
    "* wine_flavor_group"
   ]
  },
  {
   "cell_type": "code",
   "execution_count": 77,
   "metadata": {},
   "outputs": [],
   "source": [
    "# subset_red_flattened.shape"
   ]
  },
  {
   "cell_type": "code",
   "execution_count": 78,
   "metadata": {},
   "outputs": [],
   "source": [
    "#insert wineries\n",
    "# conn = sqlite3.connect('vivino.db')\n",
    "\n",
    "# timepoint_1 = time.time()\n",
    "# for index, entry in subset_red_flattened.iterrows():\n",
    "#     if pd.isnull(entry['winery.id']):\n",
    "#         continue\n",
    "#     else:\n",
    "# #         print(entry['winery.id'])\n",
    "#         query = \"INSERT INTO winery (id, name, seo_name, status) SELECT ?, ?, ?, ?\\\n",
    "#         WHERE NOT EXISTS (SELECT * FROM winery WHERE id = ?);\"\n",
    "#         args = (entry['winery.id'], entry['winery.name'], entry['winery.seo_name'], entry['winery.status'], entry['winery.id'])\n",
    "#         conn.execute(query, args)\n",
    "        \n",
    "# timepoint_2 = time.time()\n",
    "# print('Insertion complete and took {} s.'.format(timepoint_2 - timepoint_1))\n",
    "\n",
    "# conn.commit()\n",
    "\n",
    "# if subset_red_flattened['winery.id'].nunique() == conn.execute('SELECT COUNT(*) FROM winery').fetchall()[0][0]:\n",
    "#     print('Number of unique records is accurate')\n",
    "# else:\n",
    "#     print('Something went wrong')\n",
    "\n",
    "# conn.close()"
   ]
  },
  {
   "cell_type": "code",
   "execution_count": 79,
   "metadata": {},
   "outputs": [],
   "source": [
    "#insert countries\n",
    "# conn = sqlite3.connect('vivino.db')\n",
    "\n",
    "# timepoint_1 = time.time()\n",
    "# for index, entry in subset_red_flattened.iterrows():\n",
    "#     if pd.isnull(entry['region.country.code']):\n",
    "#         continue\n",
    "#     else:\n",
    "# #         print(entry['winery.id'])\n",
    "#         query = \"INSERT INTO country \\\n",
    "#         SELECT ?, ?, ?, ?, ?, ?, ?, ?, ? \\\n",
    "#         WHERE NOT EXISTS (SELECT * FROM country WHERE code = ?);\"\n",
    "#         args = (entry['region.country.code'], \\\n",
    "#                 entry['region.country.name'], \\\n",
    "#                 entry['region.country.native_name'], \\\n",
    "#                 entry['region.country.seo_name'], \\\n",
    "#                 entry['region.country.currency.code'],\\\n",
    "#                 entry['region.country.regions_count'],\\\n",
    "#                 entry['region.country.users_count'],\\\n",
    "#                 entry['region.country.wines_count'],\\\n",
    "#                 entry['region.country.wineries_count'],\\\n",
    "#                 entry['region.country.code']\n",
    "#                )\n",
    "#         conn.execute(query, args)\n",
    "        \n",
    "# timepoint_2 = time.time()\n",
    "# print('Insertion complete and took {} s.'.format(timepoint_2 - timepoint_1))\n",
    "\n",
    "# conn.commit()\n",
    "\n",
    "# if subset_red_flattened['region.country.code'].nunique() == conn.execute('SELECT COUNT(*) FROM country').fetchall()[0][0]:\n",
    "#     print('Number of unique records is accurate')\n",
    "# else:\n",
    "#     print('Something went wrong')\n",
    "\n",
    "# conn.close()"
   ]
  },
  {
   "cell_type": "code",
   "execution_count": 80,
   "metadata": {},
   "outputs": [],
   "source": [
    "# insert wine types manually\n",
    "# conn = sqlite3.connect('vivino.db')\n",
    "# conn.execute(\"INSERT INTO type VALUES (1, 'Red'), (2, 'White'), (3, 'Sparkling'), (4, 'Rose'), (7, 'Dessert'), (24, 'Fortified');\")\n",
    "# conn.commit()\n",
    "# conn.close()"
   ]
  },
  {
   "cell_type": "code",
   "execution_count": 81,
   "metadata": {},
   "outputs": [],
   "source": [
    "# conn = sqlite3.connect('vivino.db')\n",
    "# print(conn.execute(\"SELECT rootpage FROM sqlite_master WHERE name = 'grape_country';\").fetchall()[0][0])\n",
    "# conn.close()"
   ]
  },
  {
   "cell_type": "code",
   "execution_count": 82,
   "metadata": {},
   "outputs": [],
   "source": [
    "# conn = sqlite3.connect('vivino.db')\n",
    "# print(conn.execute(\"SELECT rootpage FROM sqlite_master WHERE name = 'grape_country';\").fetchall()[0][0])\n",
    "# conn.close()"
   ]
  },
  {
   "cell_type": "code",
   "execution_count": 83,
   "metadata": {},
   "outputs": [],
   "source": [
    "# subset_red_flattened['type_id'].value_counts()"
   ]
  },
  {
   "cell_type": "code",
   "execution_count": 84,
   "metadata": {},
   "outputs": [],
   "source": [
    "# subset_red_flattened.iloc[5][['type_id']].isnull().all()"
   ]
  },
  {
   "cell_type": "code",
   "execution_count": 85,
   "metadata": {},
   "outputs": [],
   "source": [
    "# print(\", \".join('?' * 5))"
   ]
  },
  {
   "cell_type": "code",
   "execution_count": 86,
   "metadata": {},
   "outputs": [],
   "source": [
    "# tuple_built = tuple([char for char in 'Hello'])\n",
    "# print(tuple_built)"
   ]
  },
  {
   "cell_type": "code",
   "execution_count": 87,
   "metadata": {},
   "outputs": [],
   "source": [
    "# print([1,2,3] + [4,5,6])"
   ]
  },
  {
   "cell_type": "code",
   "execution_count": 88,
   "metadata": {},
   "outputs": [],
   "source": [
    "# args list - names of desired columns in the dataframe, primary key list (names of columns considered as primary keys, may be one or more), name of the table"
   ]
  },
  {
   "cell_type": "code",
   "execution_count": 272,
   "metadata": {},
   "outputs": [],
   "source": [
    "# recovered_data[0]['vintage']"
   ]
  },
  {
   "cell_type": "code",
   "execution_count": 162,
   "metadata": {},
   "outputs": [],
   "source": [
    "def get_value(match_entry, path0):\n",
    "#     print(match_entry)\n",
    "    path = path0.split('/')\n",
    "    current_el = match_entry\n",
    "#     print(current_el)\n",
    "    for p in path:\n",
    "        if current_el is None:\n",
    "            break\n",
    "        current_el = current_el.get(p)\n",
    "    return current_el\n",
    "\n",
    "# columns_df = ['vintage/wine/region/id', 'vintage/wine/region/name', 'vintage/wine/region/name_en', 'vintage/wine/region/seo_name','vintage/wine/region/country/code']\n",
    "# match_entry = matches[0]\n",
    "# values_entry = [get_value(match_entry, col) for col in columns_df]"
   ]
  },
  {
   "cell_type": "code",
   "execution_count": 90,
   "metadata": {},
   "outputs": [],
   "source": [
    "# subset_red_list[0]"
   ]
  },
  {
   "cell_type": "code",
   "execution_count": 91,
   "metadata": {},
   "outputs": [],
   "source": [
    "# any([True])"
   ]
  },
  {
   "cell_type": "code",
   "execution_count": 443,
   "metadata": {},
   "outputs": [],
   "source": [
    "vintage_list = [record['vintage'] for record in recovered_data_distinct]"
   ]
  },
  {
   "cell_type": "code",
   "execution_count": 275,
   "metadata": {},
   "outputs": [],
   "source": [
    "# vintage_list[0]"
   ]
  },
  {
   "cell_type": "code",
   "execution_count": 276,
   "metadata": {},
   "outputs": [],
   "source": [
    "#insert anything\n",
    "\n",
    "def extract_json_to_sql(matches_list, table, paths, pk_sql, conn):\n",
    "\n",
    "    # pk_cols_df = [columns_df[i] for i in range(len(pk_sql))]\n",
    "    # if len(pk_sql) == 1: # only one primary key\n",
    "    #     conditional_statement = \"WHERE {} = ?);\".format(pk_sql[0])\n",
    "    # elif len(pk_sql) == 2: # two primary keys\n",
    "    #     conditional_statement = \"WHERE {} = ? AND {} = ?);\".format(pk_sql[0], pk_sql[1])\n",
    "    # else:\n",
    "    #     raise ValueException\n",
    "    conditional_statement = \"WHERE \" + \" AND \".join([\"{} = ?\"] * len(pk_sql)).format(*pk_sql)\n",
    "\n",
    "    timepoint_1 = time.time()\n",
    "    \n",
    "    pk_paths = [paths[i] for i in range(len(pk_sql))]\n",
    "#     print(pk_paths)\n",
    "    # for index, entry in df.iterrows():\n",
    "    for entry in matches_list:\n",
    "        \n",
    "        if any([get_value(entry, path) is None for path in pk_paths]):\n",
    "#         if entry[pk_cols_df].isnull().any():\n",
    "            continue\n",
    "        else:\n",
    "            query = f\"\"\"\n",
    "              INSERT INTO {table} SELECT {', '.join('?' * len(paths))}\n",
    "              WHERE NOT EXISTS (SELECT * FROM {table} {conditional_statement})\n",
    "            \"\"\"\n",
    "\n",
    "    #         values_entry = [entry[col] for col in columns_df]\n",
    "            values_entry = [get_value(entry, path) for path in paths]\n",
    "#             print(get_value(entry, 'statistics/status'))\n",
    "            args = tuple(values_entry + values_entry[:len(pk_sql)])\n",
    "    #         print(args)\n",
    "    #         print(query)\n",
    "            conn.execute(query, args)\n",
    "        \n",
    "    timepoint_2 = time.time()\n",
    "    print('Insertion complete and took {} s.'.format(timepoint_2 - timepoint_1))\n",
    "\n",
    "    conn.commit()\n",
    "\n",
    "    # print(df[pk_cols_df].nunique()[0])\n",
    "    # print(conn.execute('SELECT COUNT(*) FROM {}'.format(table)).fetchall()[0][0])\n",
    "    # if df[pk_cols_df].nunique()[0] == conn.execute('SELECT COUNT(*) FROM {}'.format(table)).fetchall()[0][0]:\n",
    "    unique_keys = set()\n",
    "    for entry in matches_list:\n",
    "        unique_key = []\n",
    "        for path in pk_paths:\n",
    "            unique_key.append(get_value(entry, path))\n",
    "        if None in unique_key:\n",
    "            # do nothing\n",
    "            pass\n",
    "        else:\n",
    "            unique_keys.add(tuple(unique_key))\n",
    "    unique_pk_original = len(unique_keys)\n",
    "    \n",
    "#     [get_value(entry, path) for path in pk_paths]\n",
    "#     unique_pk_original = len(set([tuple([get_value(entry, path) for path in pk_paths]) for entry in matches_list]))\n",
    "#     print(set([tuple([get_value(entry, path) for path in pk_paths]) for entry in matches_list]))\n",
    "#     print(unique_pk_original)\n",
    "    \n",
    "    if unique_pk_original == conn.execute('SELECT COUNT(*) FROM {}'.format(table)).fetchall()[0][0]:\n",
    "        print('Number of unique records is accurate')\n",
    "    else:\n",
    "        print('Something went wrong')"
   ]
  },
  {
   "cell_type": "code",
   "execution_count": 463,
   "metadata": {},
   "outputs": [
    {
     "name": "stdout",
     "output_type": "stream",
     "text": [
      "Insertion complete and took 0.9713551998138428 s.\n",
      "Number of unique records is accurate\n"
     ]
    }
   ],
   "source": [
    "#data that should be passed to the function:\n",
    "# df = subset_red_flattened\n",
    "table = 'region'\n",
    "paths = ['wine/region/id', 'wine/region/name', 'wine/region/name_en', 'wine/region/seo_name','wine/region/country/code']\n",
    "pk_sql = ['id']\n",
    "matches_list = vintage_list\n",
    "db = 'vivino.db'\n",
    "\n",
    "conn = sqlite3.connect(db)\n",
    "extract_json_to_sql(matches_list, table, paths, pk_sql, conn)\n",
    "conn.close()"
   ]
  },
  {
   "cell_type": "code",
   "execution_count": 280,
   "metadata": {},
   "outputs": [
    {
     "data": {
      "text/plain": [
       "['wine/region/id']"
      ]
     },
     "execution_count": 280,
     "metadata": {},
     "output_type": "execute_result"
    }
   ],
   "source": [
    "paths = ['wine/region/id', 'wine/region/name', 'wine/region/name_en', 'wine/region/seo_name','wine/region/country/code']\n",
    "pk_sql = ['id']\n",
    "pk_paths = [paths[i] for i in range(len(pk_sql))]\n",
    "pk_paths"
   ]
  },
  {
   "cell_type": "code",
   "execution_count": 445,
   "metadata": {},
   "outputs": [
    {
     "data": {
      "text/plain": [
       "55819"
      ]
     },
     "execution_count": 445,
     "metadata": {},
     "output_type": "execute_result"
    }
   ],
   "source": [
    "len(vintage_list)"
   ]
  },
  {
   "cell_type": "code",
   "execution_count": 311,
   "metadata": {},
   "outputs": [],
   "source": [
    "# vintage_list[0]"
   ]
  },
  {
   "cell_type": "code",
   "execution_count": 446,
   "metadata": {},
   "outputs": [
    {
     "data": {
      "text/plain": [
       "55819"
      ]
     },
     "execution_count": 446,
     "metadata": {},
     "output_type": "execute_result"
    }
   ],
   "source": [
    "# unique_keys = set()\n",
    "unique_id = []\n",
    "\n",
    "for entry in vintage_list:\n",
    "#     print(entry['id'])\n",
    "    unique_id.append(entry['id'])\n",
    "    \n",
    "# unique_key\n",
    "len(set(unique_id))"
   ]
  },
  {
   "cell_type": "code",
   "execution_count": 460,
   "metadata": {},
   "outputs": [
    {
     "data": {
      "text/plain": [
       "1663"
      ]
     },
     "execution_count": 460,
     "metadata": {},
     "output_type": "execute_result"
    }
   ],
   "source": [
    "full_df['wine'].apply(lambda x: x['region']).apply(lambda x: x['id'] if x is not None else 0).nunique()"
   ]
  },
  {
   "cell_type": "code",
   "execution_count": null,
   "metadata": {},
   "outputs": [],
   "source": []
  },
  {
   "cell_type": "code",
   "execution_count": 452,
   "metadata": {},
   "outputs": [
    {
     "data": {
      "text/plain": [
       "0    {'id': 1105374, 'name': 'Alandra Tinto', 'seo_...\n",
       "1    {'id': 1706071, 'name': 'Alentejano Monte das ...\n",
       "2    {'id': 4269600, 'name': 'Vinea Tinto', 'seo_na...\n",
       "3    {'id': 1200770, 'name': 'Lisboa Tinto', 'seo_n...\n",
       "4    {'id': 4269602, 'name': 'Vinea Branco', 'seo_n...\n",
       "Name: wine, dtype: object"
      ]
     },
     "execution_count": 452,
     "metadata": {},
     "output_type": "execute_result"
    }
   ],
   "source": [
    "full_df['wine'].head(5)"
   ]
  },
  {
   "cell_type": "code",
   "execution_count": 296,
   "metadata": {},
   "outputs": [],
   "source": [
    "# full_df.to_excel('backup_file.xls')"
   ]
  },
  {
   "cell_type": "code",
   "execution_count": 464,
   "metadata": {},
   "outputs": [
    {
     "name": "stdout",
     "output_type": "stream",
     "text": [
      "[(1662,)]\n"
     ]
    }
   ],
   "source": [
    "conn = sqlite3.connect('vivino.db')\n",
    "print(conn.execute('SELECT COUNT(*) FROM region').fetchall())\n",
    "# conn.execute('DELETE FROM region')\n",
    "# conn.commit()\n",
    "conn.close()"
   ]
  },
  {
   "cell_type": "markdown",
   "metadata": {},
   "source": [
    "Insertion to the database should be done in the following order (in order to avoid problems with foreign keys):\n",
    "* winery - done\n",
    "* country - done\n",
    "* type - done\n",
    "* region - done\n",
    "* style - done\n",
    "* food - done\n",
    "* facts - done\n",
    "* style_food - done\n",
    "* grape - done\n",
    "* style_grape - done\n",
    "* grape_country - done\n",
    "* wine - done\n",
    "* vintage - done\n",
    "* toplist - done\n",
    "* vintage_toplist - done\n",
    "* keyword\n",
    "* wine_keyword\n",
    "* wine_flavor_group"
   ]
  },
  {
   "cell_type": "code",
   "execution_count": 98,
   "metadata": {},
   "outputs": [
    {
     "data": {
      "text/plain": [
       "Index(['vintage_grapes', 'vintage_has_valid_ratings', 'vintage_id',\n",
       "       'vintage_image', 'vintage_name', 'vintage_seo_name',\n",
       "       'vintage_statistics', 'vintage_wine', 'vintage_year',\n",
       "       'vintage_top_list_rankings', 'status', 'ratings_count',\n",
       "       'ratings_average', 'labels_count', 'id', 'name', 'seo_name', 'type_id',\n",
       "       'vintage_type', 'is_natural', 'has_valid_ratings', 'region.id',\n",
       "       'region.name', 'region.name_en', 'region.seo_name',\n",
       "       'region.country.code', 'region.country.name',\n",
       "       'region.country.native_name', 'region.country.seo_name',\n",
       "       'region.country.currency.code', 'region.country.currency.name',\n",
       "       'region.country.currency.prefix', 'region.country.currency.suffix',\n",
       "       'region.country.regions_count', 'region.country.users_count',\n",
       "       'region.country.wines_count', 'region.country.wineries_count',\n",
       "       'region.country.most_used_grapes', 'region.background_image.location',\n",
       "       'region.background_image.variations.large',\n",
       "       'region.background_image.variations.medium', 'winery.id', 'winery.name',\n",
       "       'winery.seo_name', 'winery.status', 'taste.structure.acidity',\n",
       "       'taste.structure.fizziness', 'taste.structure.intensity',\n",
       "       'taste.structure.sweetness', 'taste.structure.tannin'],\n",
       "      dtype='object')"
      ]
     },
     "execution_count": 98,
     "metadata": {},
     "output_type": "execute_result"
    }
   ],
   "source": [
    "subset_red_flattened.iloc[:, :50].columns"
   ]
  },
  {
   "cell_type": "code",
   "execution_count": 99,
   "metadata": {},
   "outputs": [
    {
     "data": {
      "text/plain": [
       "Index(['taste.structure.user_structure_count',\n",
       "       'taste.structure.calculated_structure_count', 'taste.flavor',\n",
       "       'statistics.status', 'statistics.ratings_count',\n",
       "       'statistics.ratings_average', 'statistics.labels_count',\n",
       "       'statistics.vintages_count', 'style.id', 'style.seo_name',\n",
       "       'style.regional_name', 'style.varietal_name', 'style.name',\n",
       "       'style.image', 'style.background_image.location',\n",
       "       'style.background_image.variations.small', 'style.description',\n",
       "       'style.blurb', 'style.interesting_facts', 'style.body',\n",
       "       'style.body_description', 'style.acidity', 'style.acidity_description',\n",
       "       'style.country.code', 'style.country.name', 'style.country.native_name',\n",
       "       'style.country.seo_name', 'style.country.currency.code',\n",
       "       'style.country.currency.name', 'style.country.currency.prefix',\n",
       "       'style.country.currency.suffix', 'style.country.regions_count',\n",
       "       'style.country.users_count', 'style.country.wines_count',\n",
       "       'style.country.wineries_count', 'style.country.most_used_grapes',\n",
       "       'style.wine_type_id', 'style.food', 'style.grapes', 'style.region',\n",
       "       'style.region.id', 'style.region.name', 'style.region.name_en',\n",
       "       'style.region.seo_name', 'style.region.country.code',\n",
       "       'style.region.country.name', 'style.region.country.native_name',\n",
       "       'style.region.country.seo_name', 'style.region.country.currency.code',\n",
       "       'style.region.country.currency.name',\n",
       "       'style.region.country.currency.prefix',\n",
       "       'style.region.country.currency.suffix',\n",
       "       'style.region.country.regions_count',\n",
       "       'style.region.country.users_count', 'style.region.country.wines_count',\n",
       "       'style.region.country.wineries_count',\n",
       "       'style.region.country.most_used_grapes',\n",
       "       'style.region.background_image.location',\n",
       "       'style.region.background_image.variations.large',\n",
       "       'style.region.background_image.variations.medium', 'region', 'winery',\n",
       "       'style', 'taste.structure', 'region.background_image',\n",
       "       'style.background_image', 'style.region.background_image'],\n",
       "      dtype='object')"
      ]
     },
     "execution_count": 99,
     "metadata": {},
     "output_type": "execute_result"
    }
   ],
   "source": [
    "subset_red_flattened.iloc[:, 50:].columns"
   ]
  },
  {
   "cell_type": "code",
   "execution_count": 103,
   "metadata": {},
   "outputs": [
    {
     "data": {
      "text/plain": [
       "[{'id': 4,\n",
       "  'name': 'Beef',\n",
       "  'background_image': {'location': '//images.vivino.com/backgrounds/foods/4_beef.png',\n",
       "   'variations': {'small': '//images.vivino.com/backgrounds/foods/thumbs/4_beef_932x810.png'}},\n",
       "  'seo_name': 'beef'},\n",
       " {'id': 5,\n",
       "  'name': 'Pasta',\n",
       "  'background_image': {'location': '//images.vivino.com/backgrounds/foods/5_pasta.png',\n",
       "   'variations': {'small': '//images.vivino.com/backgrounds/foods/thumbs/5_pasta_932x810.png'}},\n",
       "  'seo_name': None},\n",
       " {'id': 8,\n",
       "  'name': 'Lamb',\n",
       "  'background_image': {'location': '//images.vivino.com/backgrounds/foods/8_lamb.png',\n",
       "   'variations': {'small': '//images.vivino.com/backgrounds/foods/thumbs/8_lamb_932x810.png'}},\n",
       "  'seo_name': 'lamb'},\n",
       " {'id': 11,\n",
       "  'name': 'Game (deer, venison)',\n",
       "  'background_image': {'location': '//images.vivino.com/backgrounds/foods/11_venison.png',\n",
       "   'variations': {'small': '//images.vivino.com/backgrounds/foods/thumbs/11_venison_932x810.png'}},\n",
       "  'seo_name': 'game'}]"
      ]
     },
     "execution_count": 103,
     "metadata": {},
     "output_type": "execute_result"
    }
   ],
   "source": [
    "subset_red_flattened.iloc[0]['style.food']"
   ]
  },
  {
   "cell_type": "code",
   "execution_count": 465,
   "metadata": {},
   "outputs": [
    {
     "name": "stdout",
     "output_type": "stream",
     "text": [
      "Insertion complete and took 2.5976459980010986 s.\n",
      "Number of unique records is accurate\n"
     ]
    }
   ],
   "source": [
    "table = 'style'\n",
    "paths = ['wine/style/id', 'wine/style/seo_name', 'wine/style/regional_name', 'wine/style/varietal_name','wine/style/name',\\\n",
    "        'wine/style/description', 'wine/style/blurb', 'wine/style/body', 'wine/style/body_description', 'wine/style/acidity',\\\n",
    "        'wine/style/acidity_description', 'wine/style/country/code', 'wine/style/wine_type_id']\n",
    "pk_sql = ['id']\n",
    "matches_list = vintage_list\n",
    "db = 'vivino.db'\n",
    "\n",
    "conn = sqlite3.connect(db)\n",
    "extract_json_to_sql(matches_list, table, paths, pk_sql, conn)\n",
    "conn.close()"
   ]
  },
  {
   "cell_type": "code",
   "execution_count": 466,
   "metadata": {},
   "outputs": [
    {
     "name": "stdout",
     "output_type": "stream",
     "text": [
      "283\n"
     ]
    }
   ],
   "source": [
    "conn = sqlite3.connect('vivino.db')\n",
    "print(conn.execute('SELECT COUNT(*) FROM style').fetchall()[0][0])\n",
    "# conn.execute('DELETE FROM region')\n",
    "# conn.commit()\n",
    "conn.close()"
   ]
  },
  {
   "cell_type": "code",
   "execution_count": 467,
   "metadata": {},
   "outputs": [
    {
     "data": {
      "text/plain": [
       "284"
      ]
     },
     "execution_count": 467,
     "metadata": {},
     "output_type": "execute_result"
    }
   ],
   "source": [
    "full_df['wine'].apply(lambda x: x['style']).apply(lambda x: x['id'] if x is not None else 0).nunique()"
   ]
  },
  {
   "cell_type": "code",
   "execution_count": 470,
   "metadata": {},
   "outputs": [
    {
     "name": "stdout",
     "output_type": "stream",
     "text": [
      "Insertion complete and took 3.128354072570801 s.\n",
      "Number of unique records is accurate\n"
     ]
    }
   ],
   "source": [
    "table = 'food'\n",
    "food_list = []\n",
    "for entry in vintage_list:\n",
    "    if get_value(entry, 'wine/style/food') is not None:\n",
    "        for food_element in get_value(entry, 'wine/style/food'):\n",
    "            food_list.append(food_element)\n",
    "# print(food_list)\n",
    "paths = ['id', 'name', 'seo_name']\n",
    "pk_sql = ['id']\n",
    "matches_list = food_list\n",
    "db = 'vivino.db'\n",
    "\n",
    "conn = sqlite3.connect(db)\n",
    "extract_json_to_sql(matches_list, table, paths, pk_sql, conn)\n",
    "conn.close()"
   ]
  },
  {
   "cell_type": "code",
   "execution_count": 469,
   "metadata": {},
   "outputs": [
    {
     "name": "stdout",
     "output_type": "stream",
     "text": [
      "10\n"
     ]
    }
   ],
   "source": [
    "conn = sqlite3.connect('vivino.db')\n",
    "print(conn.execute('SELECT COUNT(*) FROM food').fetchall()[0][0])\n",
    "# conn.execute('DELETE FROM region')\n",
    "# conn.commit()\n",
    "conn.close()"
   ]
  },
  {
   "cell_type": "code",
   "execution_count": 111,
   "metadata": {},
   "outputs": [
    {
     "data": {
      "text/plain": [
       "['Until the last 20 years, Barbera was the most widely planted red variety in all of Italy.',\n",
       " 'Many varieties of wine from Northern Italy are now being planted in California.',\n",
       " 'Italy produces more wine than any country in the world accounting for nearly 1/3 of global production.']"
      ]
     },
     "execution_count": 111,
     "metadata": {},
     "output_type": "execute_result"
    }
   ],
   "source": [
    "subset_red_flattened.iloc[0]['style.interesting_facts']"
   ]
  },
  {
   "cell_type": "code",
   "execution_count": 471,
   "metadata": {},
   "outputs": [
    {
     "name": "stdout",
     "output_type": "stream",
     "text": [
      "497\n"
     ]
    }
   ],
   "source": [
    "table = 'facts'\n",
    "paths = ['wine/style/id', 'wine/style/interesting_facts']\n",
    "pk_sql = ['style_id', 'fact']\n",
    "db = 'vivino.db'\n",
    "\n",
    "conn = sqlite3.connect(db)\n",
    "\n",
    "facts = []\n",
    "for entry in vintage_list:\n",
    "    style_id = get_value(entry, 'wine/style/id')\n",
    "    if get_value(entry, 'wine/style/interesting_facts') is not None:\n",
    "        fact_list = get_value(entry, 'wine/style/interesting_facts')\n",
    "        for fact in fact_list:\n",
    "            facts.append(fact)\n",
    "            conditional_statement = \"WHERE \" + \" AND \".join([\"{} = ?\"] * len(pk_sql)).format(*pk_sql)\n",
    "\n",
    "            query = f\"\"\"\n",
    "                  INSERT INTO {table} SELECT {', '.join('?' * len(paths))}\n",
    "                  WHERE NOT EXISTS (SELECT * FROM {table} {conditional_statement})\n",
    "                \"\"\"\n",
    "            values_entry = [style_id, fact]\n",
    "            args = tuple(values_entry + values_entry)\n",
    "    #         print(args)\n",
    "    #         print(query)\n",
    "            conn.execute(query, args)\n",
    "        \n",
    "print(len(set(facts)))\n",
    "conn.commit()\n",
    "conn.close()"
   ]
  },
  {
   "cell_type": "code",
   "execution_count": 472,
   "metadata": {},
   "outputs": [
    {
     "name": "stdout",
     "output_type": "stream",
     "text": [
      "[(497,)]\n"
     ]
    }
   ],
   "source": [
    "conn = sqlite3.connect('vivino.db')\n",
    "print(conn.execute('SELECT COUNT(DISTINCT(fact)) FROM facts').fetchall())\n",
    "# conn.execute('DELETE FROM region')\n",
    "# conn.commit()\n",
    "conn.close()"
   ]
  },
  {
   "cell_type": "code",
   "execution_count": 473,
   "metadata": {},
   "outputs": [
    {
     "name": "stdout",
     "output_type": "stream",
     "text": [
      "1063\n"
     ]
    }
   ],
   "source": [
    "table = 'style_food'\n",
    "paths = ['wine/style/id', 'wine/style/food']\n",
    "pk_sql = ['style_id', 'food_id']\n",
    "db = 'vivino.db'\n",
    "\n",
    "conn = sqlite3.connect(db)\n",
    "pairs = []\n",
    "\n",
    "for entry in vintage_list:\n",
    "    style_id = get_value(entry, 'wine/style/id')\n",
    "    if get_value(entry, 'wine/style/food') is not None:\n",
    "        food_list = get_value(entry, 'wine/style/food')\n",
    "        for food in food_list:\n",
    "            conditional_statement = \"WHERE \" + \" AND \".join([\"{} = ?\"] * len(pk_sql)).format(*pk_sql)\n",
    "            style_food_pair = (style_id, food['id'])\n",
    "            pairs.append(style_food_pair)\n",
    "            query = f\"\"\"\n",
    "                  INSERT INTO {table} SELECT {', '.join('?' * len(paths))}\n",
    "                  WHERE NOT EXISTS (SELECT * FROM {table} {conditional_statement})\n",
    "                \"\"\"\n",
    "            values_entry = [style_id, food['id']]\n",
    "            args = tuple(values_entry + values_entry)\n",
    "    #         print(args)\n",
    "    #         print(query)\n",
    "            conn.execute(query, args)\n",
    "        \n",
    "print(len(set(pairs)))\n",
    "conn.commit()\n",
    "conn.close()"
   ]
  },
  {
   "cell_type": "code",
   "execution_count": 474,
   "metadata": {},
   "outputs": [
    {
     "name": "stdout",
     "output_type": "stream",
     "text": [
      "[(1063,)]\n"
     ]
    }
   ],
   "source": [
    "conn = sqlite3.connect('vivino.db')\n",
    "print(conn.execute('SELECT COUNT(*) FROM style_food').fetchall())\n",
    "# conn.execute('DELETE FROM region')\n",
    "# conn.commit()\n",
    "conn.close()"
   ]
  },
  {
   "cell_type": "code",
   "execution_count": 130,
   "metadata": {},
   "outputs": [
    {
     "data": {
      "text/plain": [
       "[{'id': 12,\n",
       "  'name': 'Nebbiolo',\n",
       "  'seo_name': 'nebbiolo',\n",
       "  'has_detailed_info': True,\n",
       "  'wines_count': 48240},\n",
       " {'id': 31,\n",
       "  'name': 'Barbera',\n",
       "  'seo_name': 'barbera',\n",
       "  'has_detailed_info': True,\n",
       "  'wines_count': 43392},\n",
       " {'id': 37,\n",
       "  'name': 'Dolcetto',\n",
       "  'seo_name': 'dolcetto',\n",
       "  'has_detailed_info': False,\n",
       "  'wines_count': 10131}]"
      ]
     },
     "execution_count": 130,
     "metadata": {},
     "output_type": "execute_result"
    }
   ],
   "source": [
    "subset_red_flattened.iloc[0]['style.grapes']"
   ]
  },
  {
   "cell_type": "code",
   "execution_count": 475,
   "metadata": {},
   "outputs": [
    {
     "name": "stdout",
     "output_type": "stream",
     "text": [
      "Insertion complete and took 2.480923891067505 s.\n",
      "Number of unique records is accurate\n"
     ]
    }
   ],
   "source": [
    "table = 'grape'\n",
    "grape_list = []\n",
    "for entry in vintage_list:\n",
    "    if get_value(entry, 'wine/style/grapes') is not None:\n",
    "        for grape in get_value(entry, 'wine/style/grapes'):\n",
    "            grape_list.append(grape)\n",
    "# print(food_list)\n",
    "paths = ['id', 'name', 'seo_name', 'has_detailed_info', 'wines_count']\n",
    "pk_sql = ['id']\n",
    "matches_list = grape_list\n",
    "db = 'vivino.db'\n",
    "\n",
    "conn = sqlite3.connect(db)\n",
    "extract_json_to_sql(matches_list, table, paths, pk_sql, conn)\n",
    "conn.close()"
   ]
  },
  {
   "cell_type": "code",
   "execution_count": 476,
   "metadata": {},
   "outputs": [
    {
     "name": "stdout",
     "output_type": "stream",
     "text": [
      "128\n"
     ]
    }
   ],
   "source": [
    "conn = sqlite3.connect('vivino.db')\n",
    "print(conn.execute('SELECT COUNT(*) FROM grape').fetchall()[0][0])\n",
    "# conn.execute('DELETE FROM region')\n",
    "# conn.commit()\n",
    "conn.close()"
   ]
  },
  {
   "cell_type": "code",
   "execution_count": 477,
   "metadata": {},
   "outputs": [
    {
     "name": "stdout",
     "output_type": "stream",
     "text": [
      "551\n"
     ]
    }
   ],
   "source": [
    "table = 'style_grape'\n",
    "paths = ['wine/style/id', 'wine/style/grapes']\n",
    "pk_sql = ['style_id', 'grape_id']\n",
    "db = 'vivino.db'\n",
    "\n",
    "conn = sqlite3.connect(db)\n",
    "pairs = []\n",
    "\n",
    "for entry in vintage_list:\n",
    "    style_id = get_value(entry, 'wine/style/id')\n",
    "    if get_value(entry, 'wine/style/grapes') is not None:\n",
    "        grape_list = get_value(entry, 'wine/style/grapes')\n",
    "        for grape in grape_list:\n",
    "            conditional_statement = \"WHERE \" + \" AND \".join([\"{} = ?\"] * len(pk_sql)).format(*pk_sql)\n",
    "            style_grape_pair = (style_id, grape['id'])\n",
    "            pairs.append(style_grape_pair)\n",
    "            query = f\"\"\"\n",
    "                  INSERT INTO {table} SELECT {', '.join('?' * len(paths))}\n",
    "                  WHERE NOT EXISTS (SELECT * FROM {table} {conditional_statement})\n",
    "                \"\"\"\n",
    "            values_entry = [style_id, grape['id']]\n",
    "            args = tuple(values_entry + values_entry)\n",
    "    #         print(args)\n",
    "    #         print(query)\n",
    "            conn.execute(query, args)\n",
    "        \n",
    "print(len(set(pairs)))\n",
    "conn.commit()\n",
    "conn.close()"
   ]
  },
  {
   "cell_type": "code",
   "execution_count": 478,
   "metadata": {},
   "outputs": [
    {
     "name": "stdout",
     "output_type": "stream",
     "text": [
      "[(551,)]\n"
     ]
    }
   ],
   "source": [
    "conn = sqlite3.connect('vivino.db')\n",
    "print(conn.execute('SELECT COUNT(*) FROM style_grape').fetchall())\n",
    "# conn.execute('DELETE FROM region')\n",
    "# conn.commit()\n",
    "conn.close()"
   ]
  },
  {
   "cell_type": "code",
   "execution_count": 479,
   "metadata": {},
   "outputs": [
    {
     "name": "stdout",
     "output_type": "stream",
     "text": [
      "283\n"
     ]
    }
   ],
   "source": [
    "table = 'grape_country'\n",
    "paths = ['wine/style/grapes', 'wine/style/country/code']\n",
    "pk_sql = ['grape_id', 'country_code']\n",
    "db = 'vivino.db'\n",
    "\n",
    "conn = sqlite3.connect(db)\n",
    "pairs = []\n",
    "\n",
    "for entry in vintage_list:\n",
    "    country_code = get_value(entry, 'wine/style/country/code')\n",
    "    if get_value(entry, 'wine/style/grapes') is not None:\n",
    "        grape_list = get_value(entry, 'wine/style/grapes')\n",
    "        for grape in grape_list:\n",
    "            conditional_statement = \"WHERE \" + \" AND \".join([\"{} = ?\"] * len(pk_sql)).format(*pk_sql)\n",
    "            grape_country_pair = (grape['id'], country_code)\n",
    "            pairs.append(grape_country_pair)\n",
    "            query = f\"\"\"\n",
    "                  INSERT INTO {table} SELECT {', '.join('?' * len(paths))}\n",
    "                  WHERE NOT EXISTS (SELECT * FROM {table} {conditional_statement})\n",
    "                \"\"\"\n",
    "            values_entry = [grape['id'], country_code]\n",
    "            args = tuple(values_entry + values_entry)\n",
    "    #         print(args)\n",
    "    #         print(query)\n",
    "            conn.execute(query, args)\n",
    "        \n",
    "print(len(set(pairs)))\n",
    "conn.commit()\n",
    "conn.close()"
   ]
  },
  {
   "cell_type": "code",
   "execution_count": 480,
   "metadata": {},
   "outputs": [
    {
     "name": "stdout",
     "output_type": "stream",
     "text": [
      "[(283,)]\n"
     ]
    }
   ],
   "source": [
    "conn = sqlite3.connect('vivino.db')\n",
    "print(conn.execute('SELECT COUNT(*) FROM grape_country').fetchall())\n",
    "# conn.execute('DELETE FROM region')\n",
    "# conn.commit()\n",
    "conn.close()"
   ]
  },
  {
   "cell_type": "code",
   "execution_count": 485,
   "metadata": {},
   "outputs": [
    {
     "name": "stdout",
     "output_type": "stream",
     "text": [
      "Insertion complete and took 2.162302255630493 s.\n",
      "Number of unique records is accurate\n"
     ]
    }
   ],
   "source": [
    "table = 'wine'\n",
    "paths = ['wine/id', 'wine/name', 'wine/seo_name', 'wine/type_id', 'wine/vintage_type', 'wine/is_natural', 'wine/region/id', \\\n",
    "        'wine/winery/id', 'wine/taste/structure/acidity', 'wine/taste/structure/fizziness', 'wine/taste/structure/intensity',\\\n",
    "        'wine/taste/structure/sweetness', 'wine/taste/structure/tannin', 'wine/taste/structure/user_structure_count',\\\n",
    "        'wine/taste/structure/calculated_structure_count', 'wine/style/id', 'wine/statistics/status', 'wine/statistics/ratings_count',\\\n",
    "        'wine/statistics/ratings_average', 'wine/statistics/labels_count', 'wine/statistics/vintages_count', 'wine/has_valid_ratings']\n",
    "pk_sql = ['id']\n",
    "matches_list = vintage_list\n",
    "db = 'vivino.db'\n",
    "\n",
    "conn = sqlite3.connect(db)\n",
    "extract_json_to_sql(matches_list, table, paths, pk_sql, conn)\n",
    "conn.close()"
   ]
  },
  {
   "cell_type": "code",
   "execution_count": 486,
   "metadata": {},
   "outputs": [
    {
     "name": "stdout",
     "output_type": "stream",
     "text": [
      "[(29811,)]\n"
     ]
    }
   ],
   "source": [
    "conn = sqlite3.connect('vivino.db')\n",
    "print(conn.execute('SELECT COUNT(*) FROM wine').fetchall())\n",
    "# conn.execute('DELETE FROM wine')\n",
    "# conn.commit()\n",
    "conn.close()"
   ]
  },
  {
   "cell_type": "code",
   "execution_count": 488,
   "metadata": {},
   "outputs": [
    {
     "name": "stdout",
     "output_type": "stream",
     "text": [
      "Insertion complete and took 1.528074026107788 s.\n",
      "Number of unique records is accurate\n"
     ]
    }
   ],
   "source": [
    "table = 'vintage'\n",
    "paths = ['id', 'seo_name', 'name', 'wine/id', 'year', 'has_valid_ratings', \\\n",
    "         'statistics/status', 'statistics/ratings_count', 'statistics/ratings_average', 'statistics/labels_count']\n",
    "pk_sql = ['id']\n",
    "matches_list = vintage_list\n",
    "db = 'vivino.db'\n",
    "\n",
    "conn = sqlite3.connect(db)\n",
    "extract_json_to_sql(matches_list, table, paths, pk_sql, conn)\n",
    "conn.close()"
   ]
  },
  {
   "cell_type": "code",
   "execution_count": 489,
   "metadata": {},
   "outputs": [
    {
     "name": "stdout",
     "output_type": "stream",
     "text": [
      "[(55819,)]\n"
     ]
    }
   ],
   "source": [
    "conn = sqlite3.connect('vivino.db')\n",
    "print(conn.execute('SELECT COUNT(*) FROM vintage').fetchall())\n",
    "# conn.execute('DELETE FROM vintage')\n",
    "# conn.commit()\n",
    "conn.close()"
   ]
  },
  {
   "cell_type": "code",
   "execution_count": 493,
   "metadata": {},
   "outputs": [
    {
     "name": "stdout",
     "output_type": "stream",
     "text": [
      "Insertion complete and took 0.055648088455200195 s.\n",
      "Number of unique records is accurate\n"
     ]
    }
   ],
   "source": [
    "table = 'toplist'\n",
    "toplist_list = []\n",
    "for entry in vintage_list:\n",
    "    if get_value(entry, 'top_list_rankings') is not None:\n",
    "        for top_list in get_value(entry, 'top_list_rankings'):\n",
    "            toplist_list.append(top_list)\n",
    "paths = ['top_list/id', 'top_list/location', 'top_list/name', 'top_list/seo_name', 'top_list/type', 'top_list/year']\n",
    "pk_sql = ['id']\n",
    "matches_list = toplist_list\n",
    "# print(matches_list)\n",
    "db = 'vivino.db'\n",
    "\n",
    "conn = sqlite3.connect(db)\n",
    "extract_json_to_sql(matches_list, table, paths, pk_sql, conn)\n",
    "conn.close()"
   ]
  },
  {
   "cell_type": "code",
   "execution_count": 494,
   "metadata": {},
   "outputs": [
    {
     "name": "stdout",
     "output_type": "stream",
     "text": [
      "[(533,)]\n"
     ]
    }
   ],
   "source": [
    "conn = sqlite3.connect('vivino.db')\n",
    "print(conn.execute('SELECT COUNT(*) FROM toplist').fetchall())\n",
    "# conn.execute('DELETE FROM toplist')\n",
    "# conn.commit()\n",
    "conn.close()"
   ]
  },
  {
   "cell_type": "code",
   "execution_count": 498,
   "metadata": {},
   "outputs": [
    {
     "name": "stdout",
     "output_type": "stream",
     "text": [
      "1900\n"
     ]
    }
   ],
   "source": [
    "table = 'vintage_toplist'\n",
    "paths = ['id', 'top_list_rankings/top_list/id', 'top_list_rankings/rank', 'top_list_rankings/previous_rank',\\\n",
    "'top_list_rankings/description']\n",
    "pk_sql = ['vintage_id', 'toplist_id']\n",
    "db = 'vivino.db'\n",
    "\n",
    "conn = sqlite3.connect(db)\n",
    "pairs = []\n",
    "\n",
    "for entry in vintage_list:\n",
    "    vintage_id = get_value(entry, 'id')\n",
    "    if get_value(entry, 'top_list_rankings') is not None:\n",
    "        toplist_list = get_value(entry, 'top_list_rankings')\n",
    "        if toplist_list is not None: \n",
    "            for toplist in toplist_list:\n",
    "                conditional_statement = \"WHERE \" + \" AND \".join([\"{} = ?\"] * len(pk_sql)).format(*pk_sql)\n",
    "#                 print(toplist)\n",
    "                vintage_toplist_pair = (vintage_id, toplist['top_list']['id'])\n",
    "                pairs.append(vintage_toplist_pair)\n",
    "                query = f\"\"\"\n",
    "                      INSERT INTO {table} SELECT {', '.join('?' * len(paths))}\n",
    "                      WHERE NOT EXISTS (SELECT * FROM {table} {conditional_statement})\n",
    "                    \"\"\"\n",
    "                values_entry = [vintage_id, toplist['top_list']['id'], toplist['rank'], toplist['previous_rank'], toplist['description']]\n",
    "                args = tuple(values_entry + [vintage_id, toplist['top_list']['id']])\n",
    "        #         print(args)\n",
    "        #         print(query)\n",
    "                conn.execute(query, args)\n",
    "        \n",
    "print(len(set(pairs)))\n",
    "conn.commit()\n",
    "conn.close()"
   ]
  },
  {
   "cell_type": "code",
   "execution_count": 499,
   "metadata": {},
   "outputs": [
    {
     "name": "stdout",
     "output_type": "stream",
     "text": [
      "[(1900,)]\n"
     ]
    }
   ],
   "source": [
    "conn = sqlite3.connect('vivino.db')\n",
    "print(conn.execute('SELECT COUNT(*) FROM vintage_toplist').fetchall())\n",
    "# conn.execute('DELETE FROM vintage_toplist')\n",
    "# conn.commit()\n",
    "conn.close()"
   ]
  },
  {
   "cell_type": "code",
   "execution_count": 500,
   "metadata": {},
   "outputs": [],
   "source": [
    "with open('subset_red_list', 'rb') as f:\n",
    "    recovered_subset = pickle.load(f)"
   ]
  },
  {
   "cell_type": "code",
   "execution_count": 501,
   "metadata": {},
   "outputs": [
    {
     "data": {
      "text/plain": [
       "{'id': 155452769,\n",
       " 'seo_name': 'marion-raro-cabernet-sauvignon-selezione-2007',\n",
       " 'name': 'Marion Raro Cabernet Sauvignon Selezione 2007',\n",
       " 'statistics': {'status': 'Normal',\n",
       "  'ratings_count': 83,\n",
       "  'ratings_average': 4.9,\n",
       "  'labels_count': 316},\n",
       " 'image': {'location': '//images.vivino.com/labels/bDEH99ARSpCwFbDf3bct3w.jpg',\n",
       "  'variations': {'large': '//images.vivino.com/thumbs/bDEH99ARSpCwFbDf3bct3w_375x500.jpg',\n",
       "   'medium': '//images.vivino.com/thumbs/bDEH99ARSpCwFbDf3bct3w_150x200.jpg',\n",
       "   'medium_square': '//images.vivino.com/thumbs/bDEH99ARSpCwFbDf3bct3w_150x150.jpg',\n",
       "   'small_square': '//images.vivino.com/thumbs/bDEH99ARSpCwFbDf3bct3w_80x80.jpg'}},\n",
       " 'wine': {'id': 5926791,\n",
       "  'name': 'Raro Cabernet Sauvignon Selezione',\n",
       "  'seo_name': 'raro-cabernet-sauvignon-selezione',\n",
       "  'type_id': 1,\n",
       "  'vintage_type': 0,\n",
       "  'is_natural': False,\n",
       "  'region': {'id': 460,\n",
       "   'name': 'Veneto',\n",
       "   'name_en': '',\n",
       "   'seo_name': 'veneto',\n",
       "   'country': {'code': 'it',\n",
       "    'name': 'Italy',\n",
       "    'native_name': 'Italia',\n",
       "    'seo_name': 'italy',\n",
       "    'currency': {'code': 'EUR',\n",
       "     'name': 'Euros',\n",
       "     'prefix': '€',\n",
       "     'suffix': None},\n",
       "    'regions_count': 554,\n",
       "    'users_count': 3395333,\n",
       "    'wines_count': 324753,\n",
       "    'wineries_count': 39341,\n",
       "    'most_used_grapes': [{'id': 16,\n",
       "      'name': 'Sangiovese',\n",
       "      'seo_name': 'sangiovese',\n",
       "      'has_detailed_info': True,\n",
       "      'wines_count': 107431},\n",
       "     {'id': 10,\n",
       "      'name': 'Merlot',\n",
       "      'seo_name': 'merlot',\n",
       "      'has_detailed_info': True,\n",
       "      'wines_count': 479495},\n",
       "     {'id': 5,\n",
       "      'name': 'Chardonnay',\n",
       "      'seo_name': 'chardonnay',\n",
       "      'has_detailed_info': True,\n",
       "      'wines_count': 507090}]},\n",
       "   'class': {'typecast_map': {'background_image': {}, 'class': {}}},\n",
       "   'background_image': {'location': '//images.vivino.com/regions/backgrounds/WCIaSSA0QMaX1Pjfe2SxEg.jpg',\n",
       "    'variations': {'large': '//thumbs.vivino.com/region_backgrounds/WCIaSSA0QMaX1Pjfe2SxEg_1280x760.jpg',\n",
       "     'medium': '//thumbs.vivino.com/region_backgrounds/WCIaSSA0QMaX1Pjfe2SxEg_600x356.jpg'}}},\n",
       "  'winery': {'id': 9734, 'name': 'Marion', 'seo_name': 'marion', 'status': 0},\n",
       "  'taste': {'structure': {'acidity': 2.1250002,\n",
       "    'fizziness': None,\n",
       "    'intensity': 4.2583337,\n",
       "    'sweetness': 2.0916667,\n",
       "    'tannin': 2.9083333,\n",
       "    'user_structure_count': 11,\n",
       "    'calculated_structure_count': 2},\n",
       "   'flavor': [{'group': 'black_fruit', 'stats': {'count': 3, 'score': 300}},\n",
       "    {'group': 'dried_fruit', 'stats': {'count': 3, 'score': 300}},\n",
       "    {'group': 'spices', 'stats': {'count': 1, 'score': 6}},\n",
       "    {'group': 'microbio', 'stats': {'count': 1, 'score': 100}},\n",
       "    {'group': 'non_oak', 'stats': {'count': 1, 'score': 9}},\n",
       "    {'group': 'oak', 'stats': {'count': 1, 'score': 185}}]},\n",
       "  'statistics': {'status': 'Normal',\n",
       "   'ratings_count': 90,\n",
       "   'ratings_average': 4.8,\n",
       "   'labels_count': 321,\n",
       "   'vintages_count': 12},\n",
       "  'style': {'id': 130,\n",
       "   'seo_name': 'northern-italy-red',\n",
       "   'regional_name': 'Northern Italy',\n",
       "   'varietal_name': 'Red',\n",
       "   'name': 'Northern Italy Red',\n",
       "   'image': None,\n",
       "   'background_image': {'location': '//images.vivino.com/backgrounds/styles/KhR_c_ZwS7uL-COwrSLXjA.jpg',\n",
       "    'variations': {'small': '//images.vivino.com/backgrounds/styles/thumbs/KhR_c_ZwS7uL-COwrSLXjA_932x810.jpg'}},\n",
       "   'description': 'The wines of Northern Italy include some of the most well known red wines in the country including Nebbiolo, Barbera, Dolcetto, Amarone and Valpolicella.\\n\\nArguably, the two most important regions in Northern Italy are Piedmont in the northwest, and Veneto in the northeast. Red wines from these regions range from some of the most expensive and sought after in all of Italy to great value red wines.\\n\\nNebbiolo produces some of the most exclusive and expensive red wines in Italy, including Barolo and Barbaresco. However, these sought after wines come with a hefty price tag.\\n\\nDolcetto and Barbera from Piedmont offer relative value. Dolcetto is planted on less desirable vineyard sites, and produces fruit-forward, great value wines that are meant to be consumed within 1-2 years of bottling. Barbera is a high yield variety with low tannins and high acidity.\\n\\nIn Veneto, Valpolicella reigns supreme as its own distinct viticultural zone. There are five different tiers within this wine category ranging from inexpensive and light-bodied Valpolicella Classico, to pricey Amarone.\\n\\nRed wines from Valpolicella are typically based on Corvina, with Rondinella, and Molinara rounding out these blended wines.',\n",
       "   'blurb': None,\n",
       "   'interesting_facts': ['Until the last 20 years, Barbera was the most widely planted red variety in all of Italy.',\n",
       "    'Many varieties of wine from Northern Italy are now being planted in California.',\n",
       "    'Italy produces more wine than any country in the world accounting for nearly 1/3 of global production.'],\n",
       "   'body': 4,\n",
       "   'body_description': 'Full-bodied',\n",
       "   'acidity': 3,\n",
       "   'acidity_description': 'High',\n",
       "   'country': {'code': 'it',\n",
       "    'name': 'Italy',\n",
       "    'native_name': 'Italia',\n",
       "    'seo_name': 'italy',\n",
       "    'currency': {'code': 'EUR',\n",
       "     'name': 'Euros',\n",
       "     'prefix': '€',\n",
       "     'suffix': None},\n",
       "    'regions_count': 554,\n",
       "    'users_count': 3395333,\n",
       "    'wines_count': 324753,\n",
       "    'wineries_count': 39341,\n",
       "    'most_used_grapes': [{'id': 16,\n",
       "      'name': 'Sangiovese',\n",
       "      'seo_name': 'sangiovese',\n",
       "      'has_detailed_info': True,\n",
       "      'wines_count': 107431},\n",
       "     {'id': 10,\n",
       "      'name': 'Merlot',\n",
       "      'seo_name': 'merlot',\n",
       "      'has_detailed_info': True,\n",
       "      'wines_count': 479495},\n",
       "     {'id': 5,\n",
       "      'name': 'Chardonnay',\n",
       "      'seo_name': 'chardonnay',\n",
       "      'has_detailed_info': True,\n",
       "      'wines_count': 507090}]},\n",
       "   'wine_type_id': 1,\n",
       "   'food': [{'id': 4,\n",
       "     'name': 'Beef',\n",
       "     'background_image': {'location': '//images.vivino.com/backgrounds/foods/4_beef.png',\n",
       "      'variations': {'small': '//images.vivino.com/backgrounds/foods/thumbs/4_beef_932x810.png'}},\n",
       "     'seo_name': 'beef'},\n",
       "    {'id': 5,\n",
       "     'name': 'Pasta',\n",
       "     'background_image': {'location': '//images.vivino.com/backgrounds/foods/5_pasta.png',\n",
       "      'variations': {'small': '//images.vivino.com/backgrounds/foods/thumbs/5_pasta_932x810.png'}},\n",
       "     'seo_name': None},\n",
       "    {'id': 8,\n",
       "     'name': 'Lamb',\n",
       "     'background_image': {'location': '//images.vivino.com/backgrounds/foods/8_lamb.png',\n",
       "      'variations': {'small': '//images.vivino.com/backgrounds/foods/thumbs/8_lamb_932x810.png'}},\n",
       "     'seo_name': 'lamb'},\n",
       "    {'id': 11,\n",
       "     'name': 'Game (deer, venison)',\n",
       "     'background_image': {'location': '//images.vivino.com/backgrounds/foods/11_venison.png',\n",
       "      'variations': {'small': '//images.vivino.com/backgrounds/foods/thumbs/11_venison_932x810.png'}},\n",
       "     'seo_name': 'game'}],\n",
       "   'grapes': [{'id': 12,\n",
       "     'name': 'Nebbiolo',\n",
       "     'seo_name': 'nebbiolo',\n",
       "     'has_detailed_info': True,\n",
       "     'wines_count': 48240},\n",
       "    {'id': 31,\n",
       "     'name': 'Barbera',\n",
       "     'seo_name': 'barbera',\n",
       "     'has_detailed_info': True,\n",
       "     'wines_count': 43392},\n",
       "    {'id': 37,\n",
       "     'name': 'Dolcetto',\n",
       "     'seo_name': 'dolcetto',\n",
       "     'has_detailed_info': False,\n",
       "     'wines_count': 10131}],\n",
       "   'region': None},\n",
       "  'has_valid_ratings': True},\n",
       " 'year': 2007,\n",
       " 'grapes': None,\n",
       " 'has_valid_ratings': True}"
      ]
     },
     "execution_count": 501,
     "metadata": {},
     "output_type": "execute_result"
    }
   ],
   "source": [
    "recovered_subset[0]"
   ]
  },
  {
   "cell_type": "code",
   "execution_count": null,
   "metadata": {},
   "outputs": [],
   "source": [
    "# %%sql\n",
    "\n",
    "# SELECT * FROM winery LIMIT 5"
   ]
  },
  {
   "cell_type": "code",
   "execution_count": null,
   "metadata": {},
   "outputs": [],
   "source": [
    "# %%sql\n",
    "\n",
    "# INSERT INTO winery (id, name, seo_name, status) VALUES (1, 'bla', 'bla', 'bla');"
   ]
  },
  {
   "cell_type": "code",
   "execution_count": null,
   "metadata": {},
   "outputs": [],
   "source": [
    "# test_test = pd.json_normalize(json_obj['reviews'])"
   ]
  },
  {
   "cell_type": "code",
   "execution_count": null,
   "metadata": {},
   "outputs": [],
   "source": [
    "# test_test.head()"
   ]
  },
  {
   "cell_type": "markdown",
   "metadata": {},
   "source": [
    "### Eugene comments \n",
    "\n",
    "Идеи по гипотезам\n",
    "* Чем меньше популяция, относительно которой мы хотим делать выводы, тем проще нам будет собрать репрезентативную выборку. Поэтому вместо того, чтобы пытаться сделать вывод относительно всего рынка вин по миру, проще (и реалестичнее) пытаться делать выводы о более локальных популяциях- по странам, континентам.\n",
    "* Например, может быть интересно посравнивать вина америки и европы, как два основных континента-поставщика.\n",
    "    * Есть ли разница по оценкам между сортами? (некоторые сорта растут лучше в одном регионе, некоторые в другом)\n",
    "    * Есть ли разница по сочетаниям? (гипотеза, что в европе больше сыра, в америке мяска)\n",
    "    * Раазница по описаниям (какие слова используют для описания)\n",
    "    * Сделать что-нибудь вроде описания прототипичного американского и европейского вин (взять средние вкусы/сорта/оценки, вывести средние, найти самое близкое из существующих к этому среднему - у нас есть прототипичные вина континетов! Можно разбить еще по сортам/ белому-красному/ еще чему-нибудь)\n",
    "* Отедьно, конечно, интересно посмотреть выборку дешевых и дорогих вин.\n",
    "    * Возможно, это будет сложно, но у меня есть фантазия взять данные по температурам в разные годы в регионах, где делается вино, и покоррелировать температуру и оценку/цену на вина. Можно ли предсказать цену на вино в винодельне по температуре?\n",
    "    * Посмотреть облако слов для дешевых-средниих-супердорогих вин. Гипотеза, что описания дорогих вин будут более пафосными)\n",
    "    * Посравнивать описания хороших оценок и плохих оценок для дешевых-средних-супер дорогих вин. Гипотеза - в дорогих винах людей неустраивают другие штуки, в сравнении с дешевыми (например, я посмотрел, что часто единички к дорогим винам ставят с пометкой crooked, плохо хранилось. Может еще будут инсайты)"
   ]
  },
  {
   "cell_type": "markdown",
   "metadata": {},
   "source": [
    "### Касательно реперезентативности выборки\n",
    "В зависимости от того, что мы в итоге будем хотеть проверять, намн ужно будет нагенерить репрезентативную выборку относительно именно той популяции, которой мы исследуем. Условно, если мы сравниваем америку и европу, нам нужны репрезентативные выборки по этим двум континентам. Мне кажется, что можно ограничиться следующими парааметрами:\n",
    "* Страна\n",
    "* Регион\n",
    "* Год изготовления\n",
    "* Тип (белое/красное/розовое/пузырики)\n",
    "* Сорта\n",
    "* Цена \n",
    "\n",
    "Нам нужно посмотреть распределение вин по этим переменным, и постараться заиметь похожее соотношение в нашей выборке. У нас есть информация по распределению по этим факторам по пупуляции? (например, по континентаам, странам, или по миру)."
   ]
  },
  {
   "cell_type": "markdown",
   "metadata": {},
   "source": [
    "### One more thing...\n",
    "Все эти идеи родились у меня в голове, а я про вино знаю чуть больше, чем ничего) Мне кажется, что по-настоящему клевые и интересные гипотезы у нас могут родиться, если мы почитаем про винаа чуть больше. Мне кжется, это вообще важный этап такой работы. Как в науке - делаешь литературный обрзор, потом формируешь гипотезы, потом думаешь о том, какие даанные тебе нужны, потом проверяешь гипотезы) Возможно, это overkill, хотя если цель - поупражняться в аналитике, то предварительный анализ - это важная ее часть. Тогда мы сможем оформить проектик почти как настоящую статью - с интродакшеном, референсами и прочим)\n",
    "\n",
    "\n",
    "В общем скажи, что думаешь. Можно созвониться и обсудить. Может ты про вино знаешь больше меня и у тебя будут более интересные гипотезы)"
   ]
  },
  {
   "cell_type": "code",
   "execution_count": null,
   "metadata": {},
   "outputs": [],
   "source": []
  }
 ],
 "metadata": {
  "kernelspec": {
   "display_name": "Python 3",
   "language": "python",
   "name": "python3"
  },
  "language_info": {
   "codemirror_mode": {
    "name": "ipython",
    "version": 3
   },
   "file_extension": ".py",
   "mimetype": "text/x-python",
   "name": "python",
   "nbconvert_exporter": "python",
   "pygments_lexer": "ipython3",
   "version": "3.7.7"
  }
 },
 "nbformat": 4,
 "nbformat_minor": 4
}
