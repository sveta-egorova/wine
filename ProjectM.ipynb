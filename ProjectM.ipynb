{
 "cells": [
  {
   "cell_type": "markdown",
   "metadata": {},
   "source": [
    "# Project: Mystery"
   ]
  },
  {
   "cell_type": "markdown",
   "metadata": {},
   "source": [
    "Some useful resources with data (unstructured): \n",
    "\n",
    "*  [Data.gov](https://www.data.gov/)  - A directory of government data downloads\n",
    "*  [/r/datasets](https://reddit.com/r/datasets)  - A subreddit that has hundreds of interesting data sets\n",
    "*  [Awesome datasets](https://github.com/caesar0301/awesome-public-datasets)  - A list of data sets hosted on GitHub\n",
    "*  [rs.io](http://rs.io/100-interesting-data-sets-for-statistics/)  - A great blog post with hundreds of interesting data sets\n",
    "\n",
    "[FiveThirtyEight · GitHub](https://github.com/fivethirtyeight)\n",
    "\n",
    "\n",
    "Here are a few of Dataquest.io favorites:\n",
    "* [Data Portals](http://dataportals.org/)  - a massive list of 551 (as of this writing) open data portals from all over the world, each of which has its own library of data sets to offer. You can browse geographically (or alphabetically) and you can also search by keyword. Most portals here are government-run open data portals.\n",
    "* [Data.gov](http://data.gov/)  - the home of virtually all US government data, with nearly a quarter-million data sets on topics that range from industry to public health to finance.\n",
    "* [AWS Open Data](https://registry.opendata.aws/)  - Amazon’s portal has all sorts of interesting and unexpected things, from web-crawling data to satellite monitoring data from space.\n",
    "* [Data.world](https://data.world/)  - Kind of like GitHub for data. You’ll find all kinds of datasets here, although some of them will include common and popular data sets like the Titanic passenger data, and since they’re user-uploaded they may not always be accurate or reliable.\n",
    "* [/r/datasets](https://www.reddit.com/r/datasets/)  - A subreddit for sharing datasets. Years of history to browse through, new stuff every day, and you can even make requests!\n",
    "* [AcademicTorrents](http://academictorrents.com/)  - A site where scientists can upload datasets from their research and publications.\n",
    "\n",
    "\n",
    "[Free Data Sets for Data Science Projects – Dataquest](https://www.dataquest.io/blog/free-datasets-for-projects)\n",
    "\n",
    "\n",
    "* Popular open data repositories\n",
    "    *  [UC Irvine Machine Learning Repository](http://archive.ics.uci.edu/ml/) \n",
    "    *  [Kaggle datasets](https://www.kaggle.com/datasets) \n",
    "    *  [Amazon’s AWS datasets](https://registry.opendata.aws/) \n",
    "* Meta portals (they list open data repositories)\n",
    "    *  [Data Portals](http://dataportals.org/) \n",
    "    *  [OpenDataMonitor](http://opendatamonitor.eu/) \n",
    "    *  [Quandl](http://quandl.com/) \n",
    "* Other pages listing many popular open data repositories\n",
    "    *  [Wikipedia’s list of Machine Learning datasets](https://homl.info/9) \n",
    "    *  [Quora.com](https://homl.info/10) \n",
    "    *  [The datasets subreddit](https://www.reddit.com/r/datasets) "
   ]
  },
  {
   "cell_type": "code",
   "execution_count": null,
   "metadata": {},
   "outputs": [],
   "source": []
  }
 ],
 "metadata": {
  "kernelspec": {
   "display_name": "Python 3",
   "language": "python",
   "name": "python3"
  },
  "language_info": {
   "codemirror_mode": {
    "name": "ipython",
    "version": 3
   },
   "file_extension": ".py",
   "mimetype": "text/x-python",
   "name": "python",
   "nbconvert_exporter": "python",
   "pygments_lexer": "ipython3",
   "version": "3.8.5"
  }
 },
 "nbformat": 4,
 "nbformat_minor": 4
}
