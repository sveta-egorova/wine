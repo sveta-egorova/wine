{
 "cells": [
  {
   "cell_type": "markdown",
   "metadata": {},
   "source": [
    "# Project: Mystery"
   ]
  },
  {
   "cell_type": "markdown",
   "metadata": {},
   "source": [
    "Some useful resources with data (unstructured): \n",
    "\n",
    "*  [Data.gov](https://www.data.gov/)  - A directory of government data downloads\n",
    "*  [/r/datasets](https://reddit.com/r/datasets)  - A subreddit that has hundreds of interesting data sets\n",
    "*  [Awesome datasets](https://github.com/caesar0301/awesome-public-datasets)  - A list of data sets hosted on GitHub\n",
    "*  [rs.io](http://rs.io/100-interesting-data-sets-for-statistics/)  - A great blog post with hundreds of interesting data sets\n",
    "\n",
    "[FiveThirtyEight · GitHub](https://github.com/fivethirtyeight)\n",
    "\n",
    "\n",
    "Here are a few of Dataquest.io favorites:\n",
    "* [Data Portals](http://dataportals.org/)  - a massive list of 551 (as of this writing) open data portals from all over the world, each of which has its own library of data sets to offer. You can browse geographically (or alphabetically) and you can also search by keyword. Most portals here are government-run open data portals.\n",
    "* [Data.gov](http://data.gov/)  - the home of virtually all US government data, with nearly a quarter-million data sets on topics that range from industry to public health to finance.\n",
    "* [AWS Open Data](https://registry.opendata.aws/)  - Amazon’s portal has all sorts of interesting and unexpected things, from web-crawling data to satellite monitoring data from space.\n",
    "* [Data.world](https://data.world/)  - Kind of like GitHub for data. You’ll find all kinds of datasets here, although some of them will include common and popular data sets like the Titanic passenger data, and since they’re user-uploaded they may not always be accurate or reliable.\n",
    "* [/r/datasets](https://www.reddit.com/r/datasets/)  - A subreddit for sharing datasets. Years of history to browse through, new stuff every day, and you can even make requests!\n",
    "* [AcademicTorrents](http://academictorrents.com/)  - A site where scientists can upload datasets from their research and publications.\n",
    "\n",
    "\n",
    "[Free Data Sets for Data Science Projects – Dataquest](https://www.dataquest.io/blog/free-datasets-for-projects)\n",
    "\n",
    "\n",
    "* Popular open data repositories\n",
    "    *  [UC Irvine Machine Learning Repository](http://archive.ics.uci.edu/ml/) \n",
    "    *  [Kaggle datasets](https://www.kaggle.com/datasets) \n",
    "    *  [Amazon’s AWS datasets](https://registry.opendata.aws/) \n",
    "* Meta portals (they list open data repositories)\n",
    "    *  [Data Portals](http://dataportals.org/) \n",
    "    *  [OpenDataMonitor](http://opendatamonitor.eu/) \n",
    "    *  [Quandl](http://quandl.com/) \n",
    "* Other pages listing many popular open data repositories\n",
    "    *  [Wikipedia’s list of Machine Learning datasets](https://homl.info/9) \n",
    "    *  [Quora.com](https://homl.info/10) \n",
    "    *  [The datasets subreddit](https://www.reddit.com/r/datasets) - комментарий"
   ]
  },
  {
   "cell_type": "markdown",
   "metadata": {},
   "source": [
    "## Some text data sources to check\n",
    "\n",
    "Resource | Status | Result\n",
    "-- | --| --\n",
    "Amazon | checked | Nothing promising\n",
    "iMDB | checked | some data can be obtained, see below\n",
    "Netflix | |\n",
    "Twitter | |\n",
    "Linkedin | |\n",
    "Reddit | |\n",
    "Wiki | |\n",
    "\n"
   ]
  },
  {
   "cell_type": "markdown",
   "metadata": {},
   "source": [
    "### Amazon\n",
    "\n",
    " похоже, ничего бесплатного и легко доступного про продукты и ревью на них, вот кое-какая инфа [отсюда:](https://medium.com/@Sammy.Hager/need-your-amazon-data-here-are-the-amazon-apis-currently-available-8570fed521ae)\n",
    " \n",
    " * **Marketing Web Services**\n",
    " You must have an Amazon Professional Selling Account on Amazon’s Seller Central platform to gain access to the MWS API. You do not necessarily have to sell products on Amazon, but you have to pay the $39.99 monthly fee to maintain a Seller account with access to the MWS API.\n",
    " * **Amazon Advertising API** \n",
    " Who can access the Amazon Advertising API: Only those granted access by Amazon can utilize the Amazon Advertising API.\n",
    " * **Vendor Central EDI + NEW June 2020 Vendor Central Selling Partners API** Who can access the Vendor Central EDI: Only those with a valid Amazon Vendor Central account can access the EDI and its related capabilities.\n",
    " * **Product Advertising for Amazon Associates (Affiliates)** Who can access the Product Advertising API: Amazon Associates who have been accepted into the program.\n",
    " * несколько платных вариантов: [раз](https://rainforestapi.com/?gclid=Cj0KCQjw59n8BRD2ARIsAAmgPmIa8qoNCj-LJoxt11q9uCTXYVvk8lRXX1YrPsLx9pJXdkPr7lj4JuAaAm7GEALw_wcB), [два](http://api-doc.axesso.de/#api-Amazon-GetProductInformation), [три](https://rapidapi.com/collection/amazon-products)"
   ]
  },
  {
   "cell_type": "markdown",
   "metadata": {},
   "source": [
    "### iMDB API\n",
    "\n",
    "Есть своя бесплатная база данных [здесь](https://aws.amazon.com/marketplace/search/results?page=1&filters=FulfillmentOptionType,vendor_id&FulfillmentOptionType=AWSDataExchange&vendor_id=0af153a3-339f-48c2-8b42-3b9fa26d3367), а документацию можно посмотреть [тут](https://developer.imdb.com/documentation/developer.imdb.pdf)\n",
    "\n",
    "У официальной базы есть несколько версий, но везде только небольшая выборка фильмов:\n",
    "1. **IMDb Movie/TV/OTT Data (SAMPLE)** - сюда я отправила заявку на получение доступа, жду их ответа\\\n",
    "Limited sample of IMDb's essential data for every movie, TV and OTT series, and video game title as well as performers and creators. Includes IMDb's 1-10 star rating, a daily-computed average of votes from IMDb's global audience of 250 million visitors.\n",
    "2. **IMDb Ratings for Movies and TV/OTT Shows (SAMPLE)**\\\n",
    "Limited sample of IMDb's world-renowned 1-10 star rating, a daily-computed average of votes from IMDb's global audience of 250 million visitors. Data set includes the title, release year or first air date, any known alternative titles, as well as the number of votes.\n",
    "3. **IMDb and Box Office Mojo Movie/TV/OTT Data (SAMPLE)**\\\n",
    "Limited free sample of IMDb's essential metadata for every movie, TV and OTT series, and video game title as well as performers and creators, along with daily, weekend, weekly, and lifetime box office grosses from IMDbPro's Box Office Mojo. Includes IMDb's 1-10 star rating, a daily-computed average of votes from IMDb's global audience of 250 million visitors.\n",
    "\n",
    "Еще, [тут](http://www.omdbapi.com) есть неофициальная база с данными по всем фильмам, но можно отправлять только 1000 запросов в день бесплатно. Вот пример ответа по нескольким фильмам (в запросе надо указать **imdb id**, например tt1285016, или **title**).\n",
    "\n",
    "Думаю можем сгенерировать список названий (например, [отсюда](https://www.imdb.com/chart/moviemeter/?ref_=nv_mv_mpm) 100 самых популярных фильмов или [вот](https://www.imdb.com/chart/top/?ref_=nv_mv_250) топ-250), и по отдельности скачать инфу по каждому фильму из списка"
   ]
  },
  {
   "cell_type": "code",
   "execution_count": 6,
   "metadata": {},
   "outputs": [],
   "source": [
    "movie_example_1 = {\"Title\":\"Borat Subsequent Moviefilm\",\"Year\":\"2020\",\"Rated\":\"R\",\"Released\":\"23 Oct 2020\",\"Runtime\":\"N/A\",\"Genre\":\"Comedy\",\\\n",
    "              \"Director\":\"Jason Woliner\",\"Writer\":\"Peter Baynham (screenplay), Sacha Baron Cohen (screenplay), Jena Friedman (screenplay), \\\n",
    "              Anthony Hines (screenplay), Lee Kern (screenplay), Dan Mazer (screenplay), Erica Rivinoja (screenplay), Dan Swimer (screenplay), \\\n",
    "              Anthony Hines (story), Nina Pedrad (story), Dan Swimer (story), Sacha Baron Cohen (based on character created by), \\\n",
    "              Nick Corirossi (additional writing)\",\"Actors\":\"Sacha Baron Cohen, Maria Bakalova, Mike Pence, Rudy Giuliani\",\\\n",
    "              \"Plot\":\"Follow-up film to the 2006 comedy centering on the real-life adventures of a fictional Kazakh television journalist named Borat.\",\\\n",
    "              \"Language\":\"English\",\"Country\":\"UK, USA\",\"Awards\":\"N/A\",\\\n",
    "              \"Poster\":\"https://m.media-amazon.com/images/M/MV5BMTg4NDgxMmEtZWI1ZC00MDg3LTgyMDEtNTgwODU2YTVhN2RmXkEyXkFqcGdeQXVyMTkxNjUyNQ@@._V1_SX300.jpg\",\\\n",
    "              \"Ratings\":[],\"Metascore\":\"N/A\",\"imdbRating\":\"N/A\",\"imdbVotes\":\"N/A\",\"imdbID\":\"tt13143964\",\"Type\":\"movie\",\"DVD\":\"N/A\",\"BoxOffice\":\"N/A\",\\\n",
    "              \"Production\":\"N/A\",\"Website\":\"N/A\",\"Response\":\"True\"}"
   ]
  },
  {
   "cell_type": "code",
   "execution_count": 7,
   "metadata": {},
   "outputs": [],
   "source": [
    "movie_example_2 = {\"Title\":\"Borat: Cultural Learnings of America for Make Benefit Glorious Nation of Kazakhstan\",\"Year\":\"2006\",\"Rated\":\"R\",\\\n",
    "                   \"Released\":\"03 Nov 2006\",\"Runtime\":\"84 min\",\"Genre\":\"Comedy\",\"Director\":\"Larry Charles\",\\\n",
    "                   \"Writer\":\"Sacha Baron Cohen (screenplay), Anthony Hines (screenplay), Peter Baynham (screenplay), Dan Mazer (screenplay), \\\n",
    "                   Sacha Baron Cohen (story), Peter Baynham (story), Anthony Hines (story), Todd Phillips (story), \\\n",
    "                   Sacha Baron Cohen (based on a character created by)\",\"Actors\":\"Sacha Baron Cohen, Ken Davitian, Luenell, Chester\",\\\n",
    "                   \"Plot\":\"Borat Sagdiyev is a TV reporter of a popular show in Kazakhstan as Kazakhstan's sixth most famous man and a \\\n",
    "                   leading journalist. He is sent from his home to America by his government to make a documentary about American society and culture. \\\n",
    "                   Borat takes a course in New York City to understand American humor. While watching Baywatch on TV, Borat discovers how beautiful their \\\n",
    "                   women are in the form of C. J. Parker, who was played by actress Pamela Anderson who hails from Malibu, California. He decides to go on \\\n",
    "                   a cross-country road trip to California in a quest to make her his wife and take her back to his country. On his journey Borat and his \\\n",
    "                   producer encounter a country full of strange and wonderful Americans, real people in real chaotic situations with hysterical consequences.\",\\\n",
    "                   \"Language\":\"English, Romanian, Hebrew, Polish, Armenian\",\"Country\":\"USA, UK\",\"Awards\":\"Nominated for 1 Oscar. Another 20 wins & 33 nominations.\",\\\n",
    "                   \"Poster\":\"https://m.media-amazon.com/images/M/MV5BMTk0MTQ3NDQ4Ml5BMl5BanBnXkFtZTcwOTQ3OTQzMw@@._V1_SX300.jpg\",\\\n",
    "                   \"Ratings\":[{\"Source\":\"Internet Movie Database\",\"Value\":\"7.3/10\"},{\"Source\":\"Rotten Tomatoes\",\"Value\":\"91%\"},{\"Source\":\"Metacritic\",\"Value\":\"89/100\"}],\\\n",
    "                   \"Metascore\":\"89\",\"imdbRating\":\"7.3\",\"imdbVotes\":\"353,502\",\"imdbID\":\"tt0443453\",\"Type\":\"movie\",\"DVD\":\"N/A\",\"BoxOffice\":\"N/A\",\\\n",
    "                   \"Production\":\"Gold/Miller Productions\",\"Website\":\"N/A\",\"Response\":\"True\"}"
   ]
  },
  {
   "cell_type": "code",
   "execution_count": 11,
   "metadata": {},
   "outputs": [
    {
     "data": {
      "text/html": [
       "<div>\n",
       "<style scoped>\n",
       "    .dataframe tbody tr th:only-of-type {\n",
       "        vertical-align: middle;\n",
       "    }\n",
       "\n",
       "    .dataframe tbody tr th {\n",
       "        vertical-align: top;\n",
       "    }\n",
       "\n",
       "    .dataframe thead th {\n",
       "        text-align: right;\n",
       "    }\n",
       "</style>\n",
       "<table border=\"1\" class=\"dataframe\">\n",
       "  <thead>\n",
       "    <tr style=\"text-align: right;\">\n",
       "      <th></th>\n",
       "      <th>Title</th>\n",
       "      <th>Year</th>\n",
       "      <th>Rated</th>\n",
       "      <th>Released</th>\n",
       "      <th>Runtime</th>\n",
       "      <th>Genre</th>\n",
       "      <th>Director</th>\n",
       "      <th>Writer</th>\n",
       "      <th>Actors</th>\n",
       "      <th>Plot</th>\n",
       "      <th>...</th>\n",
       "      <th>Metascore</th>\n",
       "      <th>imdbRating</th>\n",
       "      <th>imdbVotes</th>\n",
       "      <th>imdbID</th>\n",
       "      <th>Type</th>\n",
       "      <th>DVD</th>\n",
       "      <th>BoxOffice</th>\n",
       "      <th>Production</th>\n",
       "      <th>Website</th>\n",
       "      <th>Response</th>\n",
       "    </tr>\n",
       "  </thead>\n",
       "  <tbody>\n",
       "    <tr>\n",
       "      <th>0</th>\n",
       "      <td>Borat Subsequent Moviefilm</td>\n",
       "      <td>2020</td>\n",
       "      <td>R</td>\n",
       "      <td>23 Oct 2020</td>\n",
       "      <td>N/A</td>\n",
       "      <td>Comedy</td>\n",
       "      <td>Jason Woliner</td>\n",
       "      <td>Peter Baynham (screenplay), Sacha Baron Cohen ...</td>\n",
       "      <td>Sacha Baron Cohen, Maria Bakalova, Mike Pence,...</td>\n",
       "      <td>Follow-up film to the 2006 comedy centering on...</td>\n",
       "      <td>...</td>\n",
       "      <td>N/A</td>\n",
       "      <td>N/A</td>\n",
       "      <td>N/A</td>\n",
       "      <td>tt13143964</td>\n",
       "      <td>movie</td>\n",
       "      <td>N/A</td>\n",
       "      <td>N/A</td>\n",
       "      <td>N/A</td>\n",
       "      <td>N/A</td>\n",
       "      <td>True</td>\n",
       "    </tr>\n",
       "    <tr>\n",
       "      <th>1</th>\n",
       "      <td>Borat: Cultural Learnings of America for Make ...</td>\n",
       "      <td>2006</td>\n",
       "      <td>R</td>\n",
       "      <td>03 Nov 2006</td>\n",
       "      <td>84 min</td>\n",
       "      <td>Comedy</td>\n",
       "      <td>Larry Charles</td>\n",
       "      <td>Sacha Baron Cohen (screenplay), Anthony Hines ...</td>\n",
       "      <td>Sacha Baron Cohen, Ken Davitian, Luenell, Chester</td>\n",
       "      <td>Borat Sagdiyev is a TV reporter of a popular s...</td>\n",
       "      <td>...</td>\n",
       "      <td>89</td>\n",
       "      <td>7.3</td>\n",
       "      <td>353,502</td>\n",
       "      <td>tt0443453</td>\n",
       "      <td>movie</td>\n",
       "      <td>N/A</td>\n",
       "      <td>N/A</td>\n",
       "      <td>Gold/Miller Productions</td>\n",
       "      <td>N/A</td>\n",
       "      <td>True</td>\n",
       "    </tr>\n",
       "  </tbody>\n",
       "</table>\n",
       "<p>2 rows × 25 columns</p>\n",
       "</div>"
      ],
      "text/plain": [
       "                                               Title  Year Rated     Released  \\\n",
       "0                         Borat Subsequent Moviefilm  2020     R  23 Oct 2020   \n",
       "1  Borat: Cultural Learnings of America for Make ...  2006     R  03 Nov 2006   \n",
       "\n",
       "  Runtime   Genre       Director  \\\n",
       "0     N/A  Comedy  Jason Woliner   \n",
       "1  84 min  Comedy  Larry Charles   \n",
       "\n",
       "                                              Writer  \\\n",
       "0  Peter Baynham (screenplay), Sacha Baron Cohen ...   \n",
       "1  Sacha Baron Cohen (screenplay), Anthony Hines ...   \n",
       "\n",
       "                                              Actors  \\\n",
       "0  Sacha Baron Cohen, Maria Bakalova, Mike Pence,...   \n",
       "1  Sacha Baron Cohen, Ken Davitian, Luenell, Chester   \n",
       "\n",
       "                                                Plot  ... Metascore  \\\n",
       "0  Follow-up film to the 2006 comedy centering on...  ...       N/A   \n",
       "1  Borat Sagdiyev is a TV reporter of a popular s...  ...        89   \n",
       "\n",
       "  imdbRating imdbVotes      imdbID   Type  DVD BoxOffice  \\\n",
       "0        N/A       N/A  tt13143964  movie  N/A       N/A   \n",
       "1        7.3   353,502   tt0443453  movie  N/A       N/A   \n",
       "\n",
       "                Production Website Response  \n",
       "0                      N/A     N/A     True  \n",
       "1  Gold/Miller Productions     N/A     True  \n",
       "\n",
       "[2 rows x 25 columns]"
      ]
     },
     "execution_count": 11,
     "metadata": {},
     "output_type": "execute_result"
    }
   ],
   "source": [
    "# вот пример получившейся таблицы\n",
    "\n",
    "import pandas as pd\n",
    "movies_ex = pd.DataFrame([movie_example_1, movie_example_2])\n",
    "movies_ex"
   ]
  },
  {
   "cell_type": "code",
   "execution_count": 13,
   "metadata": {},
   "outputs": [
    {
     "data": {
      "text/plain": [
       "Index(['Title', 'Year', 'Rated', 'Released', 'Runtime', 'Genre', 'Director',\n",
       "       'Writer', 'Actors', 'Plot', 'Language', 'Country', 'Awards', 'Poster',\n",
       "       'Ratings', 'Metascore', 'imdbRating', 'imdbVotes', 'imdbID', 'Type',\n",
       "       'DVD', 'BoxOffice', 'Production', 'Website', 'Response'],\n",
       "      dtype='object')"
      ]
     },
     "execution_count": 13,
     "metadata": {},
     "output_type": "execute_result"
    }
   ],
   "source": [
    "# вот список всех колонок\n",
    "\n",
    "movies_ex.columns"
   ]
  },
  {
   "cell_type": "code",
   "execution_count": 15,
   "metadata": {},
   "outputs": [
    {
     "data": {
      "text/plain": [
       "0                                                   []\n",
       "1    [{'Source': 'Internet Movie Database', 'Value'...\n",
       "Name: Ratings, dtype: object"
      ]
     },
     "execution_count": 15,
     "metadata": {},
     "output_type": "execute_result"
    }
   ],
   "source": [
    "movies_ex.Ratings"
   ]
  },
  {
   "cell_type": "code",
   "execution_count": null,
   "metadata": {},
   "outputs": [],
   "source": []
  }
 ],
 "metadata": {
  "kernelspec": {
   "display_name": "Python 3",
   "language": "python",
   "name": "python3"
  },
  "language_info": {
   "codemirror_mode": {
    "name": "ipython",
    "version": 3
   },
   "file_extension": ".py",
   "mimetype": "text/x-python",
   "name": "python",
   "nbconvert_exporter": "python",
   "pygments_lexer": "ipython3",
   "version": "3.8.5"
  }
 },
 "nbformat": 4,
 "nbformat_minor": 4
}
